{
 "cells": [
  {
   "cell_type": "code",
   "execution_count": 1,
   "id": "7d1efd9a",
   "metadata": {},
   "outputs": [],
   "source": [
    "# Scipy 라이브러리 사용.."
   ]
  },
  {
   "cell_type": "markdown",
   "id": "a538a9d3",
   "metadata": {},
   "source": [
    "### 1. T-검정 : 한 집단 평균 검정\n",
    "### ...- 단일 집단 검정(one sample t-test)"
   ]
  },
  {
   "cell_type": "code",
   "execution_count": 3,
   "id": "9b1d8a8a",
   "metadata": {},
   "outputs": [],
   "source": [
    "# 하나의 데이터 집단의 평균과 비교하고자 하는 관측 평균값을 통해\n",
    "# 차이를 검정하는 방법\n",
    "\n",
    "# 데이터 집단의 평균과 거리가 가까울 수록 귀무가설 체택(평균 차이가 없다)\n",
    "#   - p-value 유의수준의 값이 높아진다 (p-value >= 0.05)\n",
    "\n",
    "# 데이터 집단의 평균과 거리가 멀 수록 대립가설 체택(평균 차이가 있다)\n",
    "#   - p-value 유의수준의 값이 낮아진다 (p-value < 0.05)\n",
    "\n",
    "# 사용 함수 : stats.ttest_1samp(x, y) , 한 집단(x), 관측평균값(y)"
   ]
  },
  {
   "cell_type": "markdown",
   "id": "8f427445",
   "metadata": {},
   "source": [
    "### exe-1) 학생 키에 대한 평균 차이 검정"
   ]
  },
  {
   "cell_type": "code",
   "execution_count": 6,
   "id": "a953a402",
   "metadata": {},
   "outputs": [],
   "source": [
    "# 랜덤한 데이터 생성에 사용\n",
    "import numpy\n",
    "\n",
    "# T-검정에 사용되는 라이브러리 stats\n",
    "from scipy import stats"
   ]
  },
  {
   "cell_type": "code",
   "execution_count": 8,
   "id": "f93d1947",
   "metadata": {},
   "outputs": [
    {
     "name": "stdout",
     "output_type": "stream",
     "text": [
      "평균 =  170.65\n"
     ]
    }
   ],
   "source": [
    "### 데이터 생성하기\n",
    "height_list = numpy.array([169, 167, 175, 166, 162, 180, 172,\n",
    "                           162, 173, 162, 181, 175, 181, 181,\n",
    "                           162, 165, 172, 176, 167, 165])\n",
    "height_list\n",
    "print(\"평균 = \", height_list.mean())"
   ]
  },
  {
   "cell_type": "code",
   "execution_count": 13,
   "id": "69fa1f78",
   "metadata": {},
   "outputs": [
    {
     "name": "stdout",
     "output_type": "stream",
     "text": [
      "한 집단 평균 검정 (단일 표본검정) =  Ttest_1sampResult(statistic=0.0, pvalue=1.0)\n",
      "t-검정 통계량 = 0.000,   p-value = 1.000\n"
     ]
    }
   ],
   "source": [
    "# 한집단 검증하기\n",
    "# 관측 평균값 정의\n",
    "pmean = 170.65\n",
    "\n",
    "# 검증하기\n",
    "tTestResult = stats.ttest_1samp(height_list, popmean = pmean)\n",
    "print(\"한 집단 평균 검정 (단일 표본검정) = \", tTestResult)\n",
    "print(\"t-검정 통계량 = %.3f,   p-value = %.3f\" %(tTestResult))\n",
    "\n",
    "# (해석)\n",
    "#  1. p-value=0.002 < 0.05 이므로, 귀무가설 기각\n",
    "#  2. 대립가설 체택 : 한개의 집단과 관측값의 평균은 서로 같지 않다."
   ]
  },
  {
   "cell_type": "markdown",
   "id": "f5ad3fec",
   "metadata": {},
   "source": [
    "### exe-2) 어느 남성 집단의 평균 키 검정\n",
    "##### - 귀무가설 : 남성 집단의 평균 키가 177이다. 샘플의 평균과 모집단의 평균은 같다\n",
    "##### - 대립가설 : 남성 집단의 평균 키가 177아니다. 샘플의 평균과 모집단의 평균은 다르다"
   ]
  },
  {
   "cell_type": "code",
   "execution_count": 14,
   "id": "ea685151",
   "metadata": {},
   "outputs": [],
   "source": [
    "import numpy as np\n",
    "import pandas as pd\n",
    "import matplotlib.pyplot as plt\n",
    "import scipy.stats as stats"
   ]
  },
  {
   "cell_type": "code",
   "execution_count": 20,
   "id": "fe4c583b",
   "metadata": {},
   "outputs": [
    {
     "name": "stdout",
     "output_type": "stream",
     "text": [
      "one_sample 평균 =  177.21999999999997\n",
      "one_sample2 평균 =  169.21999999999997\n"
     ]
    }
   ],
   "source": [
    "### 데이터 생성하기\n",
    "one_sample = [177.0, 182.7, 169.6, 176.8, 180.0]\n",
    "print(\"one_sample 평균 = \", np.array(one_sample).mean())\n",
    "\n",
    "one_sample2 = [167.0, 162.7, 169.6, 176.8, 170.0]\n",
    "print(\"one_sample2 평균 = \", np.array(one_sample2).mean())"
   ]
  },
  {
   "cell_type": "code",
   "execution_count": 22,
   "id": "a4f301e1",
   "metadata": {},
   "outputs": [
    {
     "name": "stdout",
     "output_type": "stream",
     "text": [
      "한 집단 평균 검정 (단일 표본검정) =  Ttest_1sampResult(statistic=0.10039070766877535, pvalue=0.9248646407498543)\n",
      "t-검정 통계량 = 0.100,   p-value = 0.925\n"
     ]
    }
   ],
   "source": [
    "# one_sample 평균차이 검증하기...\n",
    "result1 = stats.ttest_1samp(one_sample, popmean=177)\n",
    "print(\"한 집단 평균 검정 (단일 표본검정) = \", result1)\n",
    "print(\"t-검정 통계량 = %.3f,   p-value = %.3f\" %(result1))\n",
    "\n",
    "# (해석)\n",
    "#  1. p-value=0.925 >= 0.05 이므로, 귀무가설 체택\n",
    "#  2. 귀무가설 체택 : 한개의 집단과 관측값의 평균은 서로 같다."
   ]
  },
  {
   "cell_type": "code",
   "execution_count": 24,
   "id": "372f6f66",
   "metadata": {},
   "outputs": [
    {
     "name": "stdout",
     "output_type": "stream",
     "text": [
      "한 집단 평균 검정 (단일 표본검정) =  Ttest_1sampResult(statistic=-3.3850411682038235, pvalue=0.02765632703927135)\n",
      "t-검정 통계량 = -3.385,   p-value = 0.028\n"
     ]
    }
   ],
   "source": [
    "# one_sample2 평균차이 검증하기...\n",
    "\n",
    "result2 = stats.ttest_1samp(one_sample2, popmean=177)\n",
    "print(\"한 집단 평균 검정 (단일 표본검정) = \", result2)\n",
    "print(\"t-검정 통계량 = %.3f,   p-value = %.3f\" %(result2))\n",
    "\n",
    "# (해석)\n",
    "#  1. p-value=0.028 < 0.05 이므로, 귀무가설 기각\n",
    "#  2. 대립가설 체택 : 한개의 집단과 관측값의 평균은 서로 같지 않다."
   ]
  },
  {
   "cell_type": "code",
   "execution_count": 27,
   "id": "f6bbe024",
   "metadata": {},
   "outputs": [
    {
     "name": "stdout",
     "output_type": "stream",
     "text": [
      "한 집단 평균 검정 (단일 표본검정) =  Ttest_1sampResult(statistic=5.576247489602712, pvalue=0.00506954215945913)\n",
      "t-검정 통계량 = 5.576,   p-value = 0.005\n"
     ]
    }
   ],
   "source": [
    "# one_sample 평균차이 검증하기...\n",
    "\n",
    "result3 = stats.ttest_1samp(one_sample, popmean=165)\n",
    "print(\"한 집단 평균 검정 (단일 표본검정) = \", result3)\n",
    "print(\"t-검정 통계량 = %.3f,   p-value = %.3f\" %(result3))\n",
    "\n",
    "# (해석)\n",
    "#  1. p-value=0.005 < 0.05 이므로, 귀무가설 기각\n",
    "#  2. 대립가설 체택 : 한개의 집단과 관측값의 평균은 서로 같지 않다."
   ]
  },
  {
   "cell_type": "markdown",
   "id": "1ee08d4e",
   "metadata": {},
   "source": [
    "### exe-3) 어느 집단 자료 평균 검정\n",
    "##### - 귀무가설 : 자료들의 평균은 0이다.\n",
    "##### - 대립가설 : 자료들의 평균은 0이 아니다."
   ]
  },
  {
   "cell_type": "code",
   "execution_count": 29,
   "id": "12c7b7cc",
   "metadata": {},
   "outputs": [
    {
     "name": "stdout",
     "output_type": "stream",
     "text": [
      "생성된 난수 =  [-1.0856306   0.99734545  0.2829785  -1.50629471 -0.57860025  1.65143654\n",
      " -2.42667924 -0.42891263  1.26593626 -0.8667404 ]\n",
      "10개 평균 =  -0.26951611032632805\n"
     ]
    }
   ],
   "source": [
    "# 데이터 생성하기\n",
    "np.random.seed(123)\n",
    "\n",
    "# 난수 평균 변수\n",
    "nCnt = 0\n",
    "\n",
    "# 생성할 난수의 갯수 변수\n",
    "mValue = 10\n",
    "\n",
    "# 평균dl 0인 정규분포를 따르는 난수 10개 생성\n",
    "x = stats.norm(nCnt).rvs(mValue)\n",
    "print(\"생성된 난수 = \", x)\n",
    "print(\"10개 평균 = \", np.mean(x))"
   ]
  },
  {
   "cell_type": "code",
   "execution_count": 30,
   "id": "82f99981",
   "metadata": {},
   "outputs": [
    {
     "name": "stdout",
     "output_type": "stream",
     "text": [
      "정규성 검정 결과 =  ShapiroResult(statistic=0.9674148559570312, pvalue=0.8658965229988098)\n",
      "검정 통계량 = 0.967,   p-value = 0.866\n"
     ]
    }
   ],
   "source": [
    "# 정규성 검정 (stats.shapiro())\n",
    "# 검증 시 대부분의 집단은 정규분포를 따른다는 가정하에 진행하는 것이 일반적..\n",
    "# p-value의 값이 커질 수록, 평균의 분포는 정규분포를 띈다..\n",
    "\n",
    "resultSh = stats.shapiro(x)\n",
    "print(\"정규성 검정 결과 = \", resultSh)\n",
    "print(\"검정 통계량 = %.3f,   p-value = %.3f\" %(resultSh))\n",
    "\n",
    "# (해석)\n",
    "# - p-value = 0.866 > 0.05 이므로, 정규성을 만족한다"
   ]
  },
  {
   "cell_type": "code",
   "execution_count": 31,
   "id": "7238a750",
   "metadata": {},
   "outputs": [
    {
     "name": "stderr",
     "output_type": "stream",
     "text": [
      "C:\\ProgramData\\Anaconda3\\lib\\site-packages\\seaborn\\distributions.py:2619: FutureWarning: `distplot` is a deprecated function and will be removed in a future version. Please adapt your code to use either `displot` (a figure-level function with similar flexibility) or `histplot` (an axes-level function for histograms).\n",
      "  warnings.warn(msg, FutureWarning)\n",
      "findfont: Font family ['Malgun Gothioc'] not found. Falling back to DejaVu Sans.\n"
     ]
    },
    {
     "data": {
      "image/png": "[encoded data removed]",
      "text/plain": [
       "<Figure size 432x288 with 1 Axes>"
      ]
     },
     "metadata": {
      "needs_background": "light"
     },
     "output_type": "display_data"
    }
   ],
   "source": [
    "# 정규분포 시각화\n",
    "import seaborn as sns\n",
    "\n",
    "# 한글 처리\n",
    "plt.rc(\"font\", family = \"Malgun Gothioc\")\n",
    "# x : 데이터 집합\n",
    "# stats.norm : 정규 분포 표시\n",
    "sns.distplot(x, fit=stats.norm)\n",
    "plt.show()"
   ]
  },
  {
   "cell_type": "code",
   "execution_count": 32,
   "id": "088ff996",
   "metadata": {},
   "outputs": [
    {
     "name": "stdout",
     "output_type": "stream",
     "text": [
      "한 집단 평균 검정 (단일 표본검정) =  Ttest_1sampResult(statistic=-0.6540040368674593, pvalue=0.5294637946339893)\n",
      "t-검정 통계량 = -0.654,   p-value = 0.529\n"
     ]
    }
   ],
   "source": [
    "# 검증하기...\n",
    "result4 = stats.ttest_1samp(x, popmean = 0)\n",
    "print(\"한 집단 평균 검정 (단일 표본검정) = \", result4)\n",
    "print(\"t-검정 통계량 = %.3f,   p-value = %.3f\" %(result4))\n",
    "\n",
    "# (해석)\n",
    "#  1. p-value=0.529 >= 0.05 이므로, 귀무가설 체택\n",
    "#  2. 귀무가설 체택 : 한개의 집단과 관측값의 평균은 서로 같다."
   ]
  },
  {
   "cell_type": "code",
   "execution_count": 33,
   "id": "b05200ff",
   "metadata": {},
   "outputs": [
    {
     "name": "stdout",
     "output_type": "stream",
     "text": [
      "한 집단 평균 검정 (단일 표본검정) =  Ttest_1sampResult(statistic=-2.595272886660806, pvalue=0.028961904737220684)\n",
      "t-검정 통계량 = -2.595,   p-value = 0.029\n"
     ]
    }
   ],
   "source": [
    "# 검증하기...\n",
    "result4 = stats.ttest_1samp(x, popmean = 0.8)\n",
    "print(\"한 집단 평균 검정 (단일 표본검정) = \", result4)\n",
    "print(\"t-검정 통계량 = %.3f,   p-value = %.3f\" %(result4))\n",
    "\n",
    "# (해석)\n",
    "#  1. p-value=0.029 < 0.05 이므로, 귀무가설 기각\n",
    "#  2. 대립가설 체택 : 한개의 집단과 관측값의 평균은 서로 같지 않다."
   ]
  },
  {
   "cell_type": "markdown",
   "id": "2de1d591",
   "metadata": {},
   "source": [
    "### exe-4) 중학교 1개반 학생들의 시험결과가 담긴 student.csv 사용\n",
    "#### 귀무가설 : 학생들의 국어점수의 평균은 80이다\n",
    "#### 대립가설 : 학생들의 국어점수의 평균은 80이 아니다"
   ]
  },
  {
   "cell_type": "code",
   "execution_count": 37,
   "id": "0fd05a0d",
   "metadata": {},
   "outputs": [],
   "source": [
    "# 데이터 생성 : student.csv 사용///\n",
    "import pandas as pd\n",
    "import scipy.stats as stats\n",
    "import numpy as np"
   ]
  },
  {
   "cell_type": "code",
   "execution_count": 40,
   "id": "56262652",
   "metadata": {},
   "outputs": [
    {
     "data": {
      "text/html": [
       "<div>\n",
       "<style scoped>\n",
       "    .dataframe tbody tr th:only-of-type {\n",
       "        vertical-align: middle;\n",
       "    }\n",
       "\n",
       "    .dataframe tbody tr th {\n",
       "        vertical-align: top;\n",
       "    }\n",
       "\n",
       "    .dataframe thead th {\n",
       "        text-align: right;\n",
       "    }\n",
       "</style>\n",
       "<table border=\"1\" class=\"dataframe\">\n",
       "  <thead>\n",
       "    <tr style=\"text-align: right;\">\n",
       "      <th></th>\n",
       "      <th>이름</th>\n",
       "      <th>국어</th>\n",
       "      <th>영어</th>\n",
       "      <th>수학</th>\n",
       "    </tr>\n",
       "  </thead>\n",
       "  <tbody>\n",
       "    <tr>\n",
       "      <th>0</th>\n",
       "      <td>홍길동1</td>\n",
       "      <td>90</td>\n",
       "      <td>45</td>\n",
       "      <td>56</td>\n",
       "    </tr>\n",
       "    <tr>\n",
       "      <th>1</th>\n",
       "      <td>홍길동2</td>\n",
       "      <td>80</td>\n",
       "      <td>65</td>\n",
       "      <td>77</td>\n",
       "    </tr>\n",
       "    <tr>\n",
       "      <th>2</th>\n",
       "      <td>홍길동3</td>\n",
       "      <td>87</td>\n",
       "      <td>67</td>\n",
       "      <td>54</td>\n",
       "    </tr>\n",
       "    <tr>\n",
       "      <th>3</th>\n",
       "      <td>홍길동4</td>\n",
       "      <td>55</td>\n",
       "      <td>88</td>\n",
       "      <td>65</td>\n",
       "    </tr>\n",
       "    <tr>\n",
       "      <th>4</th>\n",
       "      <td>홍길동5</td>\n",
       "      <td>66</td>\n",
       "      <td>90</td>\n",
       "      <td>33</td>\n",
       "    </tr>\n",
       "    <tr>\n",
       "      <th>5</th>\n",
       "      <td>홍길동6</td>\n",
       "      <td>78</td>\n",
       "      <td>44</td>\n",
       "      <td>45</td>\n",
       "    </tr>\n",
       "    <tr>\n",
       "      <th>6</th>\n",
       "      <td>홍길동7</td>\n",
       "      <td>45</td>\n",
       "      <td>55</td>\n",
       "      <td>76</td>\n",
       "    </tr>\n",
       "    <tr>\n",
       "      <th>7</th>\n",
       "      <td>홍길동8</td>\n",
       "      <td>78</td>\n",
       "      <td>66</td>\n",
       "      <td>87</td>\n",
       "    </tr>\n",
       "    <tr>\n",
       "      <th>8</th>\n",
       "      <td>홍길동9</td>\n",
       "      <td>95</td>\n",
       "      <td>77</td>\n",
       "      <td>65</td>\n",
       "    </tr>\n",
       "    <tr>\n",
       "      <th>9</th>\n",
       "      <td>홍길동10</td>\n",
       "      <td>78</td>\n",
       "      <td>67</td>\n",
       "      <td>90</td>\n",
       "    </tr>\n",
       "    <tr>\n",
       "      <th>10</th>\n",
       "      <td>홍길동11</td>\n",
       "      <td>55</td>\n",
       "      <td>57</td>\n",
       "      <td>96</td>\n",
       "    </tr>\n",
       "    <tr>\n",
       "      <th>11</th>\n",
       "      <td>홍길동12</td>\n",
       "      <td>99</td>\n",
       "      <td>87</td>\n",
       "      <td>67</td>\n",
       "    </tr>\n",
       "    <tr>\n",
       "      <th>12</th>\n",
       "      <td>홍길동13</td>\n",
       "      <td>88</td>\n",
       "      <td>82</td>\n",
       "      <td>45</td>\n",
       "    </tr>\n",
       "    <tr>\n",
       "      <th>13</th>\n",
       "      <td>홍길동14</td>\n",
       "      <td>78</td>\n",
       "      <td>65</td>\n",
       "      <td>45</td>\n",
       "    </tr>\n",
       "    <tr>\n",
       "      <th>14</th>\n",
       "      <td>홍길동15</td>\n",
       "      <td>67</td>\n",
       "      <td>98</td>\n",
       "      <td>76</td>\n",
       "    </tr>\n",
       "    <tr>\n",
       "      <th>15</th>\n",
       "      <td>홍길동16</td>\n",
       "      <td>73</td>\n",
       "      <td>45</td>\n",
       "      <td>45</td>\n",
       "    </tr>\n",
       "    <tr>\n",
       "      <th>16</th>\n",
       "      <td>홍길동17</td>\n",
       "      <td>92</td>\n",
       "      <td>67</td>\n",
       "      <td>67</td>\n",
       "    </tr>\n",
       "    <tr>\n",
       "      <th>17</th>\n",
       "      <td>홍길동18</td>\n",
       "      <td>91</td>\n",
       "      <td>33</td>\n",
       "      <td>45</td>\n",
       "    </tr>\n",
       "    <tr>\n",
       "      <th>18</th>\n",
       "      <td>홍길동19</td>\n",
       "      <td>98</td>\n",
       "      <td>90</td>\n",
       "      <td>67</td>\n",
       "    </tr>\n",
       "  </tbody>\n",
       "</table>\n",
       "</div>"
      ],
      "text/plain": [
       "       이름  국어  영어  수학\n",
       "0    홍길동1  90  45  56\n",
       "1    홍길동2  80  65  77\n",
       "2    홍길동3  87  67  54\n",
       "3    홍길동4  55  88  65\n",
       "4    홍길동5  66  90  33\n",
       "5    홍길동6  78  44  45\n",
       "6    홍길동7  45  55  76\n",
       "7    홍길동8  78  66  87\n",
       "8    홍길동9  95  77  65\n",
       "9   홍길동10  78  67  90\n",
       "10  홍길동11  55  57  96\n",
       "11  홍길동12  99  87  67\n",
       "12  홍길동13  88  82  45\n",
       "13  홍길동14  78  65  45\n",
       "14  홍길동15  67  98  76\n",
       "15  홍길동16  73  45  45\n",
       "16  홍길동17  92  67  67\n",
       "17  홍길동18  91  33  45\n",
       "18  홍길동19  98  90  67"
      ]
     },
     "execution_count": 40,
     "metadata": {},
     "output_type": "execute_result"
    }
   ],
   "source": [
    "data = pd.read_csv(\"./data/student.csv\")\n",
    "data"
   ]
  },
  {
   "cell_type": "code",
   "execution_count": 42,
   "id": "a1ebaabc",
   "metadata": {},
   "outputs": [
    {
     "name": "stdout",
     "output_type": "stream",
     "text": [
      "정규성 검정 결과 =  ShapiroResult(statistic=0.9356319904327393, pvalue=0.21971704065799713)\n",
      "검정 통계량 = 0.936,   p-value = 0.220\n"
     ]
    }
   ],
   "source": [
    "# 정규성 검정 (stats.shapiro())\n",
    "# 검증 시 대부분의 집단은 정규분포를 따른다는 가정하에 진행하는 것이 일반적..\n",
    "# p-value의 값이 커질 수록, 평균의 분포는 정규분포를 띈다..\n",
    "\n",
    "resultSh = stats.shapiro(data[\"국어\"])\n",
    "print(\"정규성 검정 결과 = \", resultSh)\n",
    "print(\"검정 통계량 = %.3f,   p-value = %.3f\" %(resultSh))\n",
    "\n",
    "# (해석)\n",
    "# - p-value = 0.220 > 0.05 이므로, 정규성을 만족한다"
   ]
  },
  {
   "cell_type": "code",
   "execution_count": 43,
   "id": "4b3c8967",
   "metadata": {},
   "outputs": [
    {
     "name": "stderr",
     "output_type": "stream",
     "text": [
      "C:\\ProgramData\\Anaconda3\\lib\\site-packages\\seaborn\\distributions.py:2619: FutureWarning: `distplot` is a deprecated function and will be removed in a future version. Please adapt your code to use either `displot` (a figure-level function with similar flexibility) or `histplot` (an axes-level function for histograms).\n",
      "  warnings.warn(msg, FutureWarning)\n",
      "C:\\ProgramData\\Anaconda3\\lib\\site-packages\\IPython\\core\\pylabtools.py:151: UserWarning: Glyph 44397 (\\N{HANGUL SYLLABLE GUG}) missing from current font.\n",
      "  fig.canvas.print_figure(bytes_io, **kw)\n",
      "C:\\ProgramData\\Anaconda3\\lib\\site-packages\\IPython\\core\\pylabtools.py:151: UserWarning: Glyph 50612 (\\N{HANGUL SYLLABLE EO}) missing from current font.\n",
      "  fig.canvas.print_figure(bytes_io, **kw)\n"
     ]
    },
    {
     "data": {
      "image/png": "[encoded data removed]",
      "text/plain": [
       "<Figure size 432x288 with 1 Axes>"
      ]
     },
     "metadata": {
      "needs_background": "light"
     },
     "output_type": "display_data"
    }
   ],
   "source": [
    "# 정규분포 시각화\n",
    "import seaborn as sns\n",
    "\n",
    "# 한글 처리\n",
    "plt.rc(\"font\", family = \"Malgun Gothioc\")\n",
    "# x : 데이터 집합\n",
    "# stats.norm : 정규 분포 표시\n",
    "sns.distplot(data[\"국어\"], fit=stats.norm)\n",
    "plt.show()"
   ]
  },
  {
   "cell_type": "code",
   "execution_count": 44,
   "id": "72301168",
   "metadata": {},
   "outputs": [
    {
     "name": "stdout",
     "output_type": "stream",
     "text": [
      "한 집단 평균 검정 (단일 표본검정) =  Ttest_1sampResult(statistic=-0.40289533293226004, pvalue=0.6917702523394662)\n",
      "t-검정 통계량 = -0.403,   p-value = 0.692\n"
     ]
    }
   ],
   "source": [
    "# 평균차이 검정\n",
    "# 검증하기...\n",
    "result5 = stats.ttest_1samp(data[\"국어\"], popmean = 80)\n",
    "print(\"한 집단 평균 검정 (단일 표본검정) = \", result5)\n",
    "print(\"t-검정 통계량 = %.3f,   p-value = %.3f\" %(result5))\n",
    "\n",
    "# (해석)\n",
    "#  1. p-value=0.692 > 0.05 이므로, 귀무가설 체택\n",
    "#  2. 귀무가설 체택 : 한개의 집단과 관측값의 평균은 서로 같다.\n",
    "#                   : 국어점수의 평균은 80에 가깝다.."
   ]
  },
  {
   "cell_type": "code",
   "execution_count": 45,
   "id": "1536fb91",
   "metadata": {},
   "outputs": [
    {
     "name": "stdout",
     "output_type": "stream",
     "text": [
      "한 집단 평균 검정 (단일 표본검정) =  Ttest_1sampResult(statistic=5.2674834268551125, pvalue=5.222868685761389e-05)\n",
      "t-검정 통계량 = 5.267,   p-value = 0.000\n"
     ]
    }
   ],
   "source": [
    "# 평균차이 검정\n",
    "# 검증하기...\n",
    "result5 = stats.ttest_1samp(data[\"국어\"], popmean = 60)\n",
    "print(\"한 집단 평균 검정 (단일 표본검정) = \", result5)\n",
    "print(\"t-검정 통계량 = %.3f,   p-value = %.3f\" %(result5))\n",
    "\n",
    "# (해석)\n",
    "#  1. p-value=0.000 < 0.05 이므로, 귀무가설 기각\n",
    "#  2. 데립가설 체택 : 한개의 집단과 관측값의 평균은 서로 같지 않다.\n",
    "#                   : 국어점수의 평균은 80에 가깝지 않다.."
   ]
  },
  {
   "cell_type": "markdown",
   "id": "ad1e580b",
   "metadata": {},
   "source": [
    "### exe-5) 여아 신생아 몸무게의 평균 검정\n",
    "#### 분석 근거 \n",
    "##### : 일반적으로 여아 신생아의 몸무게의 평균은 2800g으로 알려져 왔다. 일부에서는 이보다 크다고 주장하고 있다..누가 맞을까?"
   ]
  },
  {
   "cell_type": "code",
   "execution_count": 50,
   "id": "2e33bedc",
   "metadata": {},
   "outputs": [
    {
     "data": {
      "text/html": [
       "<div>\n",
       "<style scoped>\n",
       "    .dataframe tbody tr th:only-of-type {\n",
       "        vertical-align: middle;\n",
       "    }\n",
       "\n",
       "    .dataframe tbody tr th {\n",
       "        vertical-align: top;\n",
       "    }\n",
       "\n",
       "    .dataframe thead th {\n",
       "        text-align: right;\n",
       "    }\n",
       "</style>\n",
       "<table border=\"1\" class=\"dataframe\">\n",
       "  <thead>\n",
       "    <tr style=\"text-align: right;\">\n",
       "      <th></th>\n",
       "      <th>time</th>\n",
       "      <th>gender</th>\n",
       "      <th>weight</th>\n",
       "      <th>minutes</th>\n",
       "    </tr>\n",
       "  </thead>\n",
       "  <tbody>\n",
       "    <tr>\n",
       "      <th>0</th>\n",
       "      <td>5</td>\n",
       "      <td>1</td>\n",
       "      <td>3837</td>\n",
       "      <td>5</td>\n",
       "    </tr>\n",
       "    <tr>\n",
       "      <th>1</th>\n",
       "      <td>104</td>\n",
       "      <td>1</td>\n",
       "      <td>3334</td>\n",
       "      <td>64</td>\n",
       "    </tr>\n",
       "    <tr>\n",
       "      <th>5</th>\n",
       "      <td>405</td>\n",
       "      <td>1</td>\n",
       "      <td>2208</td>\n",
       "      <td>245</td>\n",
       "    </tr>\n",
       "    <tr>\n",
       "      <th>6</th>\n",
       "      <td>407</td>\n",
       "      <td>1</td>\n",
       "      <td>1745</td>\n",
       "      <td>247</td>\n",
       "    </tr>\n",
       "    <tr>\n",
       "      <th>12</th>\n",
       "      <td>814</td>\n",
       "      <td>1</td>\n",
       "      <td>2576</td>\n",
       "      <td>494</td>\n",
       "    </tr>\n",
       "    <tr>\n",
       "      <th>13</th>\n",
       "      <td>909</td>\n",
       "      <td>1</td>\n",
       "      <td>3208</td>\n",
       "      <td>549</td>\n",
       "    </tr>\n",
       "    <tr>\n",
       "      <th>15</th>\n",
       "      <td>1049</td>\n",
       "      <td>1</td>\n",
       "      <td>3746</td>\n",
       "      <td>649</td>\n",
       "    </tr>\n",
       "    <tr>\n",
       "      <th>16</th>\n",
       "      <td>1053</td>\n",
       "      <td>1</td>\n",
       "      <td>3523</td>\n",
       "      <td>653</td>\n",
       "    </tr>\n",
       "    <tr>\n",
       "      <th>21</th>\n",
       "      <td>1406</td>\n",
       "      <td>1</td>\n",
       "      <td>3430</td>\n",
       "      <td>846</td>\n",
       "    </tr>\n",
       "    <tr>\n",
       "      <th>22</th>\n",
       "      <td>1407</td>\n",
       "      <td>1</td>\n",
       "      <td>3480</td>\n",
       "      <td>847</td>\n",
       "    </tr>\n",
       "    <tr>\n",
       "      <th>23</th>\n",
       "      <td>1433</td>\n",
       "      <td>1</td>\n",
       "      <td>3116</td>\n",
       "      <td>873</td>\n",
       "    </tr>\n",
       "    <tr>\n",
       "      <th>24</th>\n",
       "      <td>1446</td>\n",
       "      <td>1</td>\n",
       "      <td>3428</td>\n",
       "      <td>886</td>\n",
       "    </tr>\n",
       "    <tr>\n",
       "      <th>28</th>\n",
       "      <td>1742</td>\n",
       "      <td>1</td>\n",
       "      <td>2184</td>\n",
       "      <td>1062</td>\n",
       "    </tr>\n",
       "    <tr>\n",
       "      <th>30</th>\n",
       "      <td>1825</td>\n",
       "      <td>1</td>\n",
       "      <td>2383</td>\n",
       "      <td>1105</td>\n",
       "    </tr>\n",
       "    <tr>\n",
       "      <th>36</th>\n",
       "      <td>2010</td>\n",
       "      <td>1</td>\n",
       "      <td>3500</td>\n",
       "      <td>1210</td>\n",
       "    </tr>\n",
       "    <tr>\n",
       "      <th>41</th>\n",
       "      <td>2217</td>\n",
       "      <td>1</td>\n",
       "      <td>3866</td>\n",
       "      <td>1337</td>\n",
       "    </tr>\n",
       "    <tr>\n",
       "      <th>42</th>\n",
       "      <td>2327</td>\n",
       "      <td>1</td>\n",
       "      <td>3542</td>\n",
       "      <td>1407</td>\n",
       "    </tr>\n",
       "    <tr>\n",
       "      <th>43</th>\n",
       "      <td>2355</td>\n",
       "      <td>1</td>\n",
       "      <td>3278</td>\n",
       "      <td>1435</td>\n",
       "    </tr>\n",
       "  </tbody>\n",
       "</table>\n",
       "</div>"
      ],
      "text/plain": [
       "    time  gender  weight  minutes\n",
       "0      5       1    3837        5\n",
       "1    104       1    3334       64\n",
       "5    405       1    2208      245\n",
       "6    407       1    1745      247\n",
       "12   814       1    2576      494\n",
       "13   909       1    3208      549\n",
       "15  1049       1    3746      649\n",
       "16  1053       1    3523      653\n",
       "21  1406       1    3430      846\n",
       "22  1407       1    3480      847\n",
       "23  1433       1    3116      873\n",
       "24  1446       1    3428      886\n",
       "28  1742       1    2184     1062\n",
       "30  1825       1    2383     1105\n",
       "36  2010       1    3500     1210\n",
       "41  2217       1    3866     1337\n",
       "42  2327       1    3542     1407\n",
       "43  2355       1    3278     1435"
      ]
     },
     "execution_count": 50,
     "metadata": {},
     "output_type": "execute_result"
    }
   ],
   "source": [
    "# 사용 데이터 : babyboom.csv(성별: 1-여아, 2-남아)\n",
    "data = pd.read_csv(\"./data/babyboom.csv\")\n",
    "data\n",
    "\n",
    "fdata = data[data[\"gender\"] == 1]\n",
    "fdata"
   ]
  },
  {
   "cell_type": "code",
   "execution_count": 52,
   "id": "4f29c311",
   "metadata": {},
   "outputs": [
    {
     "name": "stdout",
     "output_type": "stream",
     "text": [
      "정규성 검정 결과 =  ShapiroResult(statistic=0.8702831864356995, pvalue=0.017984945327043533)\n",
      "검정 통계량 = 0.870,   p-value = 0.018\n"
     ]
    }
   ],
   "source": [
    "# 정규성 검정 (stats.shapiro())\n",
    "# 검증 시 대부분의 집단은 정규분포를 따른다는 가정하에 진행하는 것이 일반적..\n",
    "# p-value의 값이 커질 수록, 평균의 분포는 정규분포를 띈다..\n",
    "\n",
    "resultSh = stats.shapiro(fdata[\"weight\"])\n",
    "print(\"정규성 검정 결과 = \", resultSh)\n",
    "print(\"검정 통계량 = %.3f,   p-value = %.3f\" %(resultSh))\n",
    "\n",
    "# (해석)\n",
    "# - p-value = 0.018 <= 0.05 이므로, 정규성을 만족하지 않는다"
   ]
  },
  {
   "cell_type": "code",
   "execution_count": 53,
   "id": "96fcf22e",
   "metadata": {},
   "outputs": [
    {
     "name": "stderr",
     "output_type": "stream",
     "text": [
      "C:\\ProgramData\\Anaconda3\\lib\\site-packages\\seaborn\\distributions.py:2619: FutureWarning: `distplot` is a deprecated function and will be removed in a future version. Please adapt your code to use either `displot` (a figure-level function with similar flexibility) or `histplot` (an axes-level function for histograms).\n",
      "  warnings.warn(msg, FutureWarning)\n"
     ]
    },
    {
     "data": {
      "image/png": "[encoded data removed]",
      "text/plain": [
       "<Figure size 432x288 with 1 Axes>"
      ]
     },
     "metadata": {
      "needs_background": "light"
     },
     "output_type": "display_data"
    }
   ],
   "source": [
    "# 정규분포 시각화\n",
    "import seaborn as sns\n",
    "\n",
    "# 한글 처리\n",
    "plt.rc(\"font\", family = \"Malgun Gothioc\")\n",
    "# x : 데이터 집합\n",
    "# stats.norm : 정규 분포 표시\n",
    "sns.distplot(fdata[\"weight\"], fit=stats.norm)\n",
    "plt.show()"
   ]
  },
  {
   "cell_type": "code",
   "execution_count": 55,
   "id": "002cfbe5",
   "metadata": {},
   "outputs": [
    {
     "name": "stdout",
     "output_type": "stream",
     "text": [
      "한 집단 평균 검정 (단일 표본검정) =  Ttest_1sampResult(statistic=2.233187669387536, pvalue=0.03926844173060218)\n",
      "t-검정 통계량 = 2.233,   p-value = 0.039\n"
     ]
    },
    {
     "data": {
      "text/plain": [
       "3132.4444444444443"
      ]
     },
     "execution_count": 55,
     "metadata": {},
     "output_type": "execute_result"
    }
   ],
   "source": [
    "# 평균차이 검정\n",
    "# 검증하기...\n",
    "result6 = stats.ttest_1samp(fdata[\"weight\"], popmean = 2800)\n",
    "print(\"한 집단 평균 검정 (단일 표본검정) = \", result6)\n",
    "print(\"t-검정 통계량 = %.3f,   p-value = %.3f\" %(result6))\n",
    "\n",
    "# (해석)\n",
    "#  1. p-value=0.039 < 0.05 이므로, 귀무가설 기각\n",
    "#  2. 대립가설 체택 : 한개의 집단과 관측값의 평균은 서로 같지 않다.\n",
    "#                   : 여아 평균 몸무게는 2800이 아니다...\n",
    "\n",
    "np.mean(fdata[\"weight\"])"
   ]
  },
  {
   "cell_type": "code",
   "execution_count": null,
   "id": "63f7c50b",
   "metadata": {},
   "outputs": [],
   "source": []
  }
 ],
 "metadata": {
  "kernelspec": {
   "display_name": "Python 3 (ipykernel)",
   "language": "python",
   "name": "python3"
  },
  "language_info": {
   "codemirror_mode": {
    "name": "ipython",
    "version": 3
   },
   "file_extension": ".py",
   "mimetype": "text/x-python",
   "name": "python",
   "nbconvert_exporter": "python",
   "pygments_lexer": "ipython3",
   "version": "3.9.12"
  }
 },
 "nbformat": 4,
 "nbformat_minor": 5
}
