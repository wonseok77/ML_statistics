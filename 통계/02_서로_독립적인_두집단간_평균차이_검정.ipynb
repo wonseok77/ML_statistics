{
 "cells": [
  {
   "cell_type": "markdown",
   "id": "58de96f3",
   "metadata": {},
   "source": [
    "### exe-1) 학생 키에 대한 두 집단 비교"
   ]
  },
  {
   "cell_type": "code",
   "execution_count": 1,
   "id": "a3da71db",
   "metadata": {},
   "outputs": [],
   "source": [
    "import numpy as np\n",
    "from scipy import stats"
   ]
  },
  {
   "cell_type": "code",
   "execution_count": 2,
   "id": "5829a3a1",
   "metadata": {},
   "outputs": [
    {
     "name": "stdout",
     "output_type": "stream",
     "text": [
      "group1Heights =  [158 167 162 171 174 168 174 158 171 174 168 163 176 160 163 161 177 170\n",
      " 173 177]\n",
      "group2Heights =  [172 176 162 177 171 162 170 164 166 172 177 174 170 166 169 178 173 180\n",
      " 181 170]\n"
     ]
    }
   ],
   "source": [
    "### 데이터 생성하기\n",
    "# 최소값 157~최대값 178까지의 범위 중에 size 20개 생성\n",
    "group1Heights = np.random.randint(low=157, high=178, size=20)\n",
    "print(\"group1Heights = \", group1Heights)\n",
    "\n",
    "group2Heights = np.random.randint(low=162, high=182, size=20)\n",
    "print(\"group2Heights = \", group2Heights)"
   ]
  },
  {
   "cell_type": "code",
   "execution_count": 3,
   "id": "45696eb5",
   "metadata": {},
   "outputs": [
    {
     "name": "stdout",
     "output_type": "stream",
     "text": [
      "한 집단 평균 검정 (단일 표본검정) =  Ttest_indResult(statistic=-1.7025092194093039, pvalue=0.09682811591605456)\n",
      "t-검정 통계량 = -1.703,   p-value = 0.097\n"
     ]
    }
   ],
   "source": [
    "# 검증하기 (Independent Samples t-test)\n",
    "# 첫번째 : 기준집단, \n",
    "# 두번째 : 관측집단\n",
    "tResult = stats.ttest_ind(group1Heights, group2Heights)\n",
    "\n",
    "print(\"한 집단 평균 검정 (단일 표본검정) = \", tResult)\n",
    "print(\"t-검정 통계량 = %.3f,   p-value = %.3f\" %(tResult))\n",
    "\n",
    "# (해석)\n",
    "#  1. p-value=0.097 > 0.05 이므로, 귀무가설 체택\n",
    "#  2. 귀무가설 체택 : 두 집단간 평균의 차이는 없다."
   ]
  },
  {
   "cell_type": "markdown",
   "id": "5d3aa169",
   "metadata": {},
   "source": [
    "### exe-2) 남녀 두 집단 간 파이썬 시험의 평균차이 검정\n",
    "##### - 귀무가설 : 남녀 두 집단 간 파이썬 시험의 평균에 차이가 없다.\n",
    "##### - 대립가설 : 남녀 두 집단 간 파이썬 시험의 평균에 차이가 있다."
   ]
  },
  {
   "cell_type": "code",
   "execution_count": 4,
   "id": "4d725e9e",
   "metadata": {},
   "outputs": [],
   "source": [
    "import numpy as np\n",
    "import scipy.stats as stats"
   ]
  },
  {
   "cell_type": "code",
   "execution_count": 5,
   "id": "a42db4fa",
   "metadata": {},
   "outputs": [],
   "source": [
    "### 데이터 생성\n",
    "male = [75, 85, 100, 72.5, 86.5]\n",
    "female = [63.2, 76, 52, 100, 70]"
   ]
  },
  {
   "cell_type": "code",
   "execution_count": 6,
   "id": "6d861eac",
   "metadata": {},
   "outputs": [
    {
     "name": "stdout",
     "output_type": "stream",
     "text": [
      "한 집단 평균 검정 (단일 표본검정) =  Ttest_indResult(statistic=1.233193127514512, pvalue=0.2525076844853278)\n",
      "t-검정 통계량 = 1.233,   p-value = 0.253\n"
     ]
    }
   ],
   "source": [
    "# 검증하기 (Independent Samples t-test)\n",
    "# 첫번째 : 기준집단, \n",
    "# 두번째 : 관측집단\n",
    "result1 = stats.ttest_ind(male, female)\n",
    "\n",
    "print(\"한 집단 평균 검정 (단일 표본검정) = \", result1)\n",
    "print(\"t-검정 통계량 = %.3f,   p-value = %.3f\" %(result1))\n",
    "\n",
    "# (해석)\n",
    "#  1. p-value=0.253 > 0.05 이므로, 귀무가설 체택\n",
    "#  2. 귀무가설 체택 : 두 집단간 평균의 차이는 없다."
   ]
  },
  {
   "cell_type": "markdown",
   "id": "324a5d61",
   "metadata": {},
   "source": [
    "### exe3) 두가지 교육방법에 따른 평균학점에 대한 차이 검정수행\n",
    "##### - 귀무가설 : 두 교육방법에 따른 평균학점에는 차이가 없다\n",
    "##### - 대립가설 : 두 교육방법에 따른 평균학점에는 차이가 있다"
   ]
  },
  {
   "cell_type": "code",
   "execution_count": 18,
   "id": "278e54b9",
   "metadata": {},
   "outputs": [
    {
     "data": {
      "text/plain": [
       "0    4.200000\n",
       "1    4.100000\n",
       "2    4.077778\n",
       "3    3.900000\n",
       "4    4.200000\n",
       "5    4.100000\n",
       "6    4.300000\n",
       "7    3.800000\n",
       "8    4.200000\n",
       "9    3.900000\n",
       "Name: 학점, dtype: float64"
      ]
     },
     "execution_count": 18,
     "metadata": {},
     "output_type": "execute_result"
    }
   ],
   "source": [
    "# 데이터 가지고 오기 : two_sample.csv 사용\n",
    "import pandas as pd\n",
    "\n",
    "data = pd.read_csv(\"./data/two_sample.csv\")\n",
    "data\n",
    "# 교육방법 1과 2를 추출해 주세요.\n",
    "# 교육방법1에 대한 데이터 변수 : m1 변수에 저장\n",
    "m1 = data[data[\"교육방법\"] == 1]\n",
    "m1\n",
    "# 교육방법2에 대한 데이터 변수 : m2 변수에 저장\n",
    "m2 = data[data[\"교육방법\"] == 2].reset_index(drop=True)\n",
    "m2\n",
    "# 교육방법1에 대한 학점만 추출한 데이터 변수 : scor1 변수에 저장\n",
    "scor1 = m1[\"학점\"]\n",
    "scor1\n",
    "# 교육방법2에 대한 학점만 추출한 데이터 변수 : scor2 변수에 저장\n",
    "scor2 = m2[\"학점\"]\n",
    "scor2\n",
    "# 결측치 처리까지 : 결측치는 평균으로 처리\n",
    "# 결측치 처리 후 -> 자기 변수에 저장(scor1, scor2)\n",
    "scor1 = scor1.fillna(scor1.mean())\n",
    "scor1\n",
    "\n",
    "scor2 = scor2.fillna(scor2.mean())\n",
    "scor2"
   ]
  },
  {
   "cell_type": "code",
   "execution_count": 21,
   "id": "bcefe022",
   "metadata": {},
   "outputs": [
    {
     "name": "stdout",
     "output_type": "stream",
     "text": [
      "정규성 검정 결과 =  ShapiroResult(statistic=0.9615016579627991, pvalue=0.8028513789176941)\n",
      "검정 통계량 = 0.962,   p-value = 0.803\n",
      "정규성 검정 결과 =  ShapiroResult(statistic=0.9173869490623474, pvalue=0.3356756865978241)\n",
      "검정 통계량 = 0.917,   p-value = 0.336\n"
     ]
    }
   ],
   "source": [
    "# 정규성 검정 (stats.shapiro())\n",
    "# 검증 시 대부분의 집단은 정규분포를 따른다는 가정하에 진행하는 것이 일반적..\n",
    "# p-value의 값이 커질 수록, 평균의 분포는 정규분포를 띈다..\n",
    "\n",
    "resultSh = stats.shapiro(scor1)\n",
    "print(\"정규성 검정 결과 = \", resultSh)\n",
    "print(\"검정 통계량 = %.3f,   p-value = %.3f\" %(resultSh))\n",
    "\n",
    "# (해석)\n",
    "# - p-value = 0.803 > 0.05 이므로, 정규성을 만족\n",
    "\n",
    "resultSh = stats.shapiro(scor2)\n",
    "print(\"정규성 검정 결과 = \", resultSh)\n",
    "print(\"검정 통계량 = %.3f,   p-value = %.3f\" %(resultSh))\n",
    "\n",
    "# (해석)\n",
    "# - p-value = 0.336 > 0.05 이므로, 정규성을 만족"
   ]
  },
  {
   "cell_type": "code",
   "execution_count": 26,
   "id": "ee4deb55",
   "metadata": {},
   "outputs": [
    {
     "name": "stderr",
     "output_type": "stream",
     "text": [
      "C:\\ProgramData\\Anaconda3\\lib\\site-packages\\seaborn\\distributions.py:2619: FutureWarning: `distplot` is a deprecated function and will be removed in a future version. Please adapt your code to use either `displot` (a figure-level function with similar flexibility) or `histplot` (an axes-level function for histograms).\n",
      "  warnings.warn(msg, FutureWarning)\n",
      "C:\\ProgramData\\Anaconda3\\lib\\site-packages\\seaborn\\distributions.py:2619: FutureWarning: `distplot` is a deprecated function and will be removed in a future version. Please adapt your code to use either `displot` (a figure-level function with similar flexibility) or `histplot` (an axes-level function for histograms).\n",
      "  warnings.warn(msg, FutureWarning)\n"
     ]
    },
    {
     "data": {
      "image/png": "[encoded data removed]",
      "text/plain": [
       "<Figure size 432x288 with 1 Axes>"
      ]
     },
     "metadata": {
      "needs_background": "light"
     },
     "output_type": "display_data"
    }
   ],
   "source": [
    "# 정규분포 시각화\n",
    "import seaborn as sns\n",
    "import matplotlib.pyplot as plt\n",
    "\n",
    "# 한글 처리\n",
    "plt.rc(\"font\", family = \"Malgun Gothic\")\n",
    "# x : 데이터 집합\n",
    "# stats.norm : 정규 분포 표시\n",
    "sns.distplot(scor1, fit=stats.norm)\n",
    "sns.distplot(scor2, fit=stats.norm)\n",
    "plt.show()"
   ]
  },
  {
   "cell_type": "code",
   "execution_count": 31,
   "id": "e0c78242",
   "metadata": {},
   "outputs": [
    {
     "name": "stdout",
     "output_type": "stream",
     "text": [
      "등분산성 levene 검증결과 =  LeveneResult(statistic=0.11149825783972156, pvalue=0.7423035272233627)\n",
      "t-검정 통계량 = 0.111,   p-value = 0.742\n",
      "\n",
      "등분산성 fligner 검증결과 =  FlignerResult(statistic=0.009351524793910174, pvalue=0.9229620332079382)\n",
      "t-검정 통계량 = 0.009,   p-value = 0.923\n",
      "\n",
      "등분산성 bartlett 검증결과 =  BartlettResult(statistic=0.38065029633127184, pvalue=0.5372554141124455)\n",
      "t-검정 통계량 = 0.381,   p-value = 0.537\n"
     ]
    }
   ],
   "source": [
    "### 등분산성 검증\n",
    "# - 귀무가설 : 두 집단간 분산이 동일하다. (p-value > 0.05)\n",
    "# - 대립가설 : 두 집단간 분산이 동일하지 않다\n",
    "\n",
    "# 등분산성 검증은 3가지 방법으로 진행됩니다.\n",
    "# 1. levene(레빈) 방법\n",
    "# 2. fligner(플리그너) 방법\n",
    "# 3. bartlett(바틀렛) 방법\n",
    "\n",
    "sLevene = stats.levene(scor1, scor2)\n",
    "print(\"등분산성 levene 검증결과 = \", sLevene)\n",
    "print(\"t-검정 통계량 = %.3f,   p-value = %.3f\" %(sLevene))\n",
    "# (해석)\n",
    "#  1. p-value=0.742 > 0.05 이므로, 귀무가설 체택\n",
    "#  2. 귀무가설 체택 : 두 집단간 등분산성 만족\n",
    "print()\n",
    "\n",
    "sFligner = stats.fligner(scor1, scor2)\n",
    "print(\"등분산성 fligner 검증결과 = \", sFligner)\n",
    "print(\"t-검정 통계량 = %.3f,   p-value = %.3f\" %(sFligner))\n",
    "# (해석)\n",
    "#  1. p-value=0.923 > 0.05 이므로, 귀무가설 체택\n",
    "#  2. 귀무가설 체택 : 두 집단간 등분산성 만족\n",
    "print()\n",
    "\n",
    "sBartlett = stats.bartlett(scor1, scor2)\n",
    "print(\"등분산성 bartlett 검증결과 = \", sBartlett)\n",
    "print(\"t-검정 통계량 = %.3f,   p-value = %.3f\" %(sBartlett))\n",
    "# (해석)\n",
    "#  1. p-value=0.537 > 0.05 이므로, 귀무가설 체택\n",
    "#  2. 귀무가설 체택 : 두 집단간 등분산성 만족"
   ]
  },
  {
   "cell_type": "code",
   "execution_count": 32,
   "id": "39ad544e",
   "metadata": {},
   "outputs": [
    {
     "name": "stdout",
     "output_type": "stream",
     "text": [
      "한 집단 평균 검정 (단일 표본검정) =  Ttest_indResult(statistic=-0.9561271382392642, pvalue=0.3516741458629946)\n",
      "t-검정 통계량 = -0.956,   p-value = 0.352\n"
     ]
    }
   ],
   "source": [
    "# 검증하기 (Independent Samples t-test)\n",
    "# 첫번째 : 기준집단, \n",
    "# 두번째 : 관측집단\n",
    "result = stats.ttest_ind(scor1, scor2)\n",
    "\n",
    "print(\"한 집단 평균 검정 (단일 표본검정) = \", result)\n",
    "print(\"t-검정 통계량 = %.3f,   p-value = %.3f\" %(result))\n",
    "\n",
    "# (해석)\n",
    "#  1. p-value=0.352 > 0.05 이므로, 귀무가설 체택\n",
    "#  2. 귀무가설 체택 : 두 집단간 평균의 차이는 없다."
   ]
  },
  {
   "cell_type": "code",
   "execution_count": 33,
   "id": "4bceef1e",
   "metadata": {},
   "outputs": [
    {
     "name": "stdout",
     "output_type": "stream",
     "text": [
      "한 집단 평균 검정 (단일 표본검정) =  Ttest_indResult(statistic=-0.9561271382392642, pvalue=0.3516741458629946)\n",
      "t-검정 통계량 = -0.956,   p-value = 0.352\n"
     ]
    }
   ],
   "source": [
    "# 검증하기 (Independent Samples t-test)\n",
    "# 첫번째 : 기준집단, \n",
    "# 두번째 : 관측집단\n",
    "\n",
    "# equal_var : 정규성과 등분산성 모두를 만족하는 경우 작성\n",
    "result = stats.ttest_ind(scor1, scor2, equal_var=True)\n",
    "\n",
    "print(\"한 집단 평균 검정 (단일 표본검정) = \", result)\n",
    "print(\"t-검정 통계량 = %.3f,   p-value = %.3f\" %(result))\n",
    "\n",
    "# (해석 - 검증결과)\n",
    "#  1. p-value=0.352 > 0.05 이므로, 귀무가설 채택\n",
    "#  2. 귀무가설 채택 : 두 집단간 평균의 차이는 없다."
   ]
  },
  {
   "cell_type": "markdown",
   "id": "367ce804",
   "metadata": {},
   "source": [
    "### exe-4) 어느 음식점의 매출자료와 날씨자료를 이용하여\n",
    "### ......... 강수 여부에 따른 매출의 차이에 대하여 분석..\n",
    "##### 집단 1 : 비가 올때의 매출\n",
    "##### 집단 2 : 비가 안올때의 매출\n",
    "##### - 귀무가설 : 강수여부에 따른 매출액 평균에 차이가 없다\n",
    "##### - 대립가설 : 강수여부에 따른 매출액 평균에 차이가 있다"
   ]
  },
  {
   "cell_type": "code",
   "execution_count": 34,
   "id": "aa25d9c5",
   "metadata": {},
   "outputs": [],
   "source": [
    "# 사용 라이브러리\n",
    "import numpy as np\n",
    "import scipy.stats as stats\n",
    "import pandas as pd\n",
    "import matplotlib.pyplot as plt"
   ]
  },
  {
   "cell_type": "code",
   "execution_count": 35,
   "id": "04d5f8b7",
   "metadata": {},
   "outputs": [],
   "source": [
    "# 매출 데이터 : tsales.csv\n",
    "#  - YMD : 날짜,  AMT : 매출\n",
    "\n",
    "# 날씨 데이터 : tweather.csv\n",
    "#  - tm : 날짜,  sumRn : 강수량"
   ]
  },
  {
   "cell_type": "code",
   "execution_count": 42,
   "id": "d331ab28",
   "metadata": {},
   "outputs": [
    {
     "name": "stdout",
     "output_type": "stream",
     "text": [
      "<class 'pandas.core.frame.DataFrame'>\n",
      "RangeIndex: 328 entries, 0 to 327\n",
      "Data columns (total 3 columns):\n",
      " #   Column  Non-Null Count  Dtype \n",
      "---  ------  --------------  ----- \n",
      " 0   YMD     328 non-null    object\n",
      " 1   AMT     328 non-null    int64 \n",
      " 2   CNT     328 non-null    int64 \n",
      "dtypes: int64(2), object(1)\n",
      "memory usage: 7.8+ KB\n"
     ]
    },
    {
     "data": {
      "text/html": [
       "<div>\n",
       "<style scoped>\n",
       "    .dataframe tbody tr th:only-of-type {\n",
       "        vertical-align: middle;\n",
       "    }\n",
       "\n",
       "    .dataframe tbody tr th {\n",
       "        vertical-align: top;\n",
       "    }\n",
       "\n",
       "    .dataframe thead th {\n",
       "        text-align: right;\n",
       "    }\n",
       "</style>\n",
       "<table border=\"1\" class=\"dataframe\">\n",
       "  <thead>\n",
       "    <tr style=\"text-align: right;\">\n",
       "      <th></th>\n",
       "      <th>YMD</th>\n",
       "      <th>AMT</th>\n",
       "    </tr>\n",
       "  </thead>\n",
       "  <tbody>\n",
       "    <tr>\n",
       "      <th>0</th>\n",
       "      <td>20190514</td>\n",
       "      <td>0</td>\n",
       "    </tr>\n",
       "    <tr>\n",
       "      <th>1</th>\n",
       "      <td>20190519</td>\n",
       "      <td>18000</td>\n",
       "    </tr>\n",
       "    <tr>\n",
       "      <th>2</th>\n",
       "      <td>20190521</td>\n",
       "      <td>50000</td>\n",
       "    </tr>\n",
       "    <tr>\n",
       "      <th>3</th>\n",
       "      <td>20190522</td>\n",
       "      <td>125000</td>\n",
       "    </tr>\n",
       "    <tr>\n",
       "      <th>4</th>\n",
       "      <td>20190523</td>\n",
       "      <td>222500</td>\n",
       "    </tr>\n",
       "    <tr>\n",
       "      <th>...</th>\n",
       "      <td>...</td>\n",
       "      <td>...</td>\n",
       "    </tr>\n",
       "    <tr>\n",
       "      <th>323</th>\n",
       "      <td>20200424</td>\n",
       "      <td>1092500</td>\n",
       "    </tr>\n",
       "    <tr>\n",
       "      <th>324</th>\n",
       "      <td>20200425</td>\n",
       "      <td>672500</td>\n",
       "    </tr>\n",
       "    <tr>\n",
       "      <th>325</th>\n",
       "      <td>20200426</td>\n",
       "      <td>1123500</td>\n",
       "    </tr>\n",
       "    <tr>\n",
       "      <th>326</th>\n",
       "      <td>20200427</td>\n",
       "      <td>819500</td>\n",
       "    </tr>\n",
       "    <tr>\n",
       "      <th>327</th>\n",
       "      <td>20200428</td>\n",
       "      <td>950500</td>\n",
       "    </tr>\n",
       "  </tbody>\n",
       "</table>\n",
       "<p>328 rows × 2 columns</p>\n",
       "</div>"
      ],
      "text/plain": [
       "          YMD      AMT\n",
       "0    20190514        0\n",
       "1    20190519    18000\n",
       "2    20190521    50000\n",
       "3    20190522   125000\n",
       "4    20190523   222500\n",
       "..        ...      ...\n",
       "323  20200424  1092500\n",
       "324  20200425   672500\n",
       "325  20200426  1123500\n",
       "326  20200427   819500\n",
       "327  20200428   950500\n",
       "\n",
       "[328 rows x 2 columns]"
      ]
     },
     "execution_count": 42,
     "metadata": {},
     "output_type": "execute_result"
    }
   ],
   "source": [
    "# 매출 데이터 : tsales.csv\n",
    "sales_data = pd.read_csv(\"./data/tsales.csv\", dtype={\"YMD\" : \"object\"})\n",
    "sales_data.info()\n",
    "\n",
    "# 날짜, 매출액 추출\n",
    "sales_temp = sales_data[[\"YMD\", \"AMT\"]]\n",
    "sales_temp"
   ]
  },
  {
   "cell_type": "code",
   "execution_count": 43,
   "id": "714c2369",
   "metadata": {},
   "outputs": [
    {
     "name": "stdout",
     "output_type": "stream",
     "text": [
      "<class 'pandas.core.frame.DataFrame'>\n",
      "RangeIndex: 702 entries, 0 to 701\n",
      "Data columns (total 9 columns):\n",
      " #   Column  Non-Null Count  Dtype  \n",
      "---  ------  --------------  -----  \n",
      " 0   stnId   702 non-null    int64  \n",
      " 1   tm      702 non-null    object \n",
      " 2   avgTa   702 non-null    float64\n",
      " 3   minTa   702 non-null    float64\n",
      " 4   maxTa   702 non-null    float64\n",
      " 5   sumRn   702 non-null    float64\n",
      " 6   maxWs   702 non-null    float64\n",
      " 7   avgWs   702 non-null    float64\n",
      " 8   ddMes   702 non-null    float64\n",
      "dtypes: float64(7), int64(1), object(1)\n",
      "memory usage: 49.5+ KB\n"
     ]
    },
    {
     "data": {
      "text/html": [
       "<div>\n",
       "<style scoped>\n",
       "    .dataframe tbody tr th:only-of-type {\n",
       "        vertical-align: middle;\n",
       "    }\n",
       "\n",
       "    .dataframe tbody tr th {\n",
       "        vertical-align: top;\n",
       "    }\n",
       "\n",
       "    .dataframe thead th {\n",
       "        text-align: right;\n",
       "    }\n",
       "</style>\n",
       "<table border=\"1\" class=\"dataframe\">\n",
       "  <thead>\n",
       "    <tr style=\"text-align: right;\">\n",
       "      <th></th>\n",
       "      <th>stnId</th>\n",
       "      <th>tm</th>\n",
       "      <th>avgTa</th>\n",
       "      <th>minTa</th>\n",
       "      <th>maxTa</th>\n",
       "      <th>sumRn</th>\n",
       "      <th>maxWs</th>\n",
       "      <th>avgWs</th>\n",
       "      <th>ddMes</th>\n",
       "    </tr>\n",
       "  </thead>\n",
       "  <tbody>\n",
       "    <tr>\n",
       "      <th>0</th>\n",
       "      <td>108</td>\n",
       "      <td>2018-06-01</td>\n",
       "      <td>23.8</td>\n",
       "      <td>17.5</td>\n",
       "      <td>30.2</td>\n",
       "      <td>0.0</td>\n",
       "      <td>4.3</td>\n",
       "      <td>1.9</td>\n",
       "      <td>0.0</td>\n",
       "    </tr>\n",
       "    <tr>\n",
       "      <th>1</th>\n",
       "      <td>108</td>\n",
       "      <td>2018-06-02</td>\n",
       "      <td>23.4</td>\n",
       "      <td>17.6</td>\n",
       "      <td>30.1</td>\n",
       "      <td>0.0</td>\n",
       "      <td>4.5</td>\n",
       "      <td>2.0</td>\n",
       "      <td>0.0</td>\n",
       "    </tr>\n",
       "    <tr>\n",
       "      <th>2</th>\n",
       "      <td>108</td>\n",
       "      <td>2018-06-03</td>\n",
       "      <td>24.0</td>\n",
       "      <td>16.9</td>\n",
       "      <td>30.8</td>\n",
       "      <td>0.0</td>\n",
       "      <td>4.2</td>\n",
       "      <td>1.6</td>\n",
       "      <td>0.0</td>\n",
       "    </tr>\n",
       "    <tr>\n",
       "      <th>3</th>\n",
       "      <td>108</td>\n",
       "      <td>2018-06-04</td>\n",
       "      <td>22.6</td>\n",
       "      <td>18.9</td>\n",
       "      <td>27.5</td>\n",
       "      <td>0.0</td>\n",
       "      <td>4.4</td>\n",
       "      <td>1.9</td>\n",
       "      <td>0.0</td>\n",
       "    </tr>\n",
       "    <tr>\n",
       "      <th>4</th>\n",
       "      <td>108</td>\n",
       "      <td>2018-06-05</td>\n",
       "      <td>23.7</td>\n",
       "      <td>17.7</td>\n",
       "      <td>29.2</td>\n",
       "      <td>0.0</td>\n",
       "      <td>4.0</td>\n",
       "      <td>1.7</td>\n",
       "      <td>0.0</td>\n",
       "    </tr>\n",
       "    <tr>\n",
       "      <th>...</th>\n",
       "      <td>...</td>\n",
       "      <td>...</td>\n",
       "      <td>...</td>\n",
       "      <td>...</td>\n",
       "      <td>...</td>\n",
       "      <td>...</td>\n",
       "      <td>...</td>\n",
       "      <td>...</td>\n",
       "      <td>...</td>\n",
       "    </tr>\n",
       "    <tr>\n",
       "      <th>697</th>\n",
       "      <td>108</td>\n",
       "      <td>2020-04-28</td>\n",
       "      <td>13.9</td>\n",
       "      <td>7.8</td>\n",
       "      <td>19.9</td>\n",
       "      <td>0.0</td>\n",
       "      <td>5.5</td>\n",
       "      <td>3.0</td>\n",
       "      <td>0.0</td>\n",
       "    </tr>\n",
       "    <tr>\n",
       "      <th>698</th>\n",
       "      <td>108</td>\n",
       "      <td>2020-04-29</td>\n",
       "      <td>14.9</td>\n",
       "      <td>9.3</td>\n",
       "      <td>21.0</td>\n",
       "      <td>0.0</td>\n",
       "      <td>5.2</td>\n",
       "      <td>2.6</td>\n",
       "      <td>0.0</td>\n",
       "    </tr>\n",
       "    <tr>\n",
       "      <th>699</th>\n",
       "      <td>108</td>\n",
       "      <td>2020-04-30</td>\n",
       "      <td>17.1</td>\n",
       "      <td>9.3</td>\n",
       "      <td>23.4</td>\n",
       "      <td>0.0</td>\n",
       "      <td>5.9</td>\n",
       "      <td>2.7</td>\n",
       "      <td>0.0</td>\n",
       "    </tr>\n",
       "    <tr>\n",
       "      <th>700</th>\n",
       "      <td>108</td>\n",
       "      <td>2020-05-01</td>\n",
       "      <td>20.2</td>\n",
       "      <td>16.4</td>\n",
       "      <td>26.2</td>\n",
       "      <td>0.0</td>\n",
       "      <td>5.5</td>\n",
       "      <td>2.7</td>\n",
       "      <td>0.0</td>\n",
       "    </tr>\n",
       "    <tr>\n",
       "      <th>701</th>\n",
       "      <td>108</td>\n",
       "      <td>2020-05-02</td>\n",
       "      <td>20.3</td>\n",
       "      <td>18.0</td>\n",
       "      <td>23.9</td>\n",
       "      <td>0.0</td>\n",
       "      <td>4.6</td>\n",
       "      <td>2.3</td>\n",
       "      <td>0.0</td>\n",
       "    </tr>\n",
       "  </tbody>\n",
       "</table>\n",
       "<p>702 rows × 9 columns</p>\n",
       "</div>"
      ],
      "text/plain": [
       "     stnId          tm  avgTa  minTa  maxTa  sumRn  maxWs  avgWs  ddMes\n",
       "0      108  2018-06-01   23.8   17.5   30.2    0.0    4.3    1.9    0.0\n",
       "1      108  2018-06-02   23.4   17.6   30.1    0.0    4.5    2.0    0.0\n",
       "2      108  2018-06-03   24.0   16.9   30.8    0.0    4.2    1.6    0.0\n",
       "3      108  2018-06-04   22.6   18.9   27.5    0.0    4.4    1.9    0.0\n",
       "4      108  2018-06-05   23.7   17.7   29.2    0.0    4.0    1.7    0.0\n",
       "..     ...         ...    ...    ...    ...    ...    ...    ...    ...\n",
       "697    108  2020-04-28   13.9    7.8   19.9    0.0    5.5    3.0    0.0\n",
       "698    108  2020-04-29   14.9    9.3   21.0    0.0    5.2    2.6    0.0\n",
       "699    108  2020-04-30   17.1    9.3   23.4    0.0    5.9    2.7    0.0\n",
       "700    108  2020-05-01   20.2   16.4   26.2    0.0    5.5    2.7    0.0\n",
       "701    108  2020-05-02   20.3   18.0   23.9    0.0    4.6    2.3    0.0\n",
       "\n",
       "[702 rows x 9 columns]"
      ]
     },
     "execution_count": 43,
     "metadata": {},
     "output_type": "execute_result"
    }
   ],
   "source": [
    "# 날씨 데이터 : tweather.csv\n",
    "wt_data = pd.read_csv(\"./data/tweather.csv\")\n",
    "wt_data.info()\n",
    "wt_data"
   ]
  },
  {
   "cell_type": "code",
   "execution_count": 46,
   "id": "aa31bd02",
   "metadata": {},
   "outputs": [
    {
     "data": {
      "text/html": [
       "<div>\n",
       "<style scoped>\n",
       "    .dataframe tbody tr th:only-of-type {\n",
       "        vertical-align: middle;\n",
       "    }\n",
       "\n",
       "    .dataframe tbody tr th {\n",
       "        vertical-align: top;\n",
       "    }\n",
       "\n",
       "    .dataframe thead th {\n",
       "        text-align: right;\n",
       "    }\n",
       "</style>\n",
       "<table border=\"1\" class=\"dataframe\">\n",
       "  <thead>\n",
       "    <tr style=\"text-align: right;\">\n",
       "      <th></th>\n",
       "      <th>tm</th>\n",
       "      <th>sumRn</th>\n",
       "    </tr>\n",
       "  </thead>\n",
       "  <tbody>\n",
       "    <tr>\n",
       "      <th>0</th>\n",
       "      <td>20180601</td>\n",
       "      <td>0.0</td>\n",
       "    </tr>\n",
       "    <tr>\n",
       "      <th>1</th>\n",
       "      <td>20180602</td>\n",
       "      <td>0.0</td>\n",
       "    </tr>\n",
       "    <tr>\n",
       "      <th>2</th>\n",
       "      <td>20180603</td>\n",
       "      <td>0.0</td>\n",
       "    </tr>\n",
       "    <tr>\n",
       "      <th>3</th>\n",
       "      <td>20180604</td>\n",
       "      <td>0.0</td>\n",
       "    </tr>\n",
       "    <tr>\n",
       "      <th>4</th>\n",
       "      <td>20180605</td>\n",
       "      <td>0.0</td>\n",
       "    </tr>\n",
       "    <tr>\n",
       "      <th>...</th>\n",
       "      <td>...</td>\n",
       "      <td>...</td>\n",
       "    </tr>\n",
       "    <tr>\n",
       "      <th>697</th>\n",
       "      <td>20200428</td>\n",
       "      <td>0.0</td>\n",
       "    </tr>\n",
       "    <tr>\n",
       "      <th>698</th>\n",
       "      <td>20200429</td>\n",
       "      <td>0.0</td>\n",
       "    </tr>\n",
       "    <tr>\n",
       "      <th>699</th>\n",
       "      <td>20200430</td>\n",
       "      <td>0.0</td>\n",
       "    </tr>\n",
       "    <tr>\n",
       "      <th>700</th>\n",
       "      <td>20200501</td>\n",
       "      <td>0.0</td>\n",
       "    </tr>\n",
       "    <tr>\n",
       "      <th>701</th>\n",
       "      <td>20200502</td>\n",
       "      <td>0.0</td>\n",
       "    </tr>\n",
       "  </tbody>\n",
       "</table>\n",
       "<p>702 rows × 2 columns</p>\n",
       "</div>"
      ],
      "text/plain": [
       "           tm  sumRn\n",
       "0    20180601    0.0\n",
       "1    20180602    0.0\n",
       "2    20180603    0.0\n",
       "3    20180604    0.0\n",
       "4    20180605    0.0\n",
       "..        ...    ...\n",
       "697  20200428    0.0\n",
       "698  20200429    0.0\n",
       "699  20200430    0.0\n",
       "700  20200501    0.0\n",
       "701  20200502    0.0\n",
       "\n",
       "[702 rows x 2 columns]"
      ]
     },
     "execution_count": 46,
     "metadata": {},
     "output_type": "execute_result"
    }
   ],
   "source": [
    "wt_data[\"tm\"] = wt_data[\"tm\"].str.replace(\"-\", \"\")\n",
    "wt_data\n",
    "\n",
    "wt_temp = wt_data[[\"tm\", \"sumRn\"]]\n",
    "wt_temp"
   ]
  },
  {
   "cell_type": "code",
   "execution_count": 48,
   "id": "f91a28c0",
   "metadata": {},
   "outputs": [
    {
     "data": {
      "text/html": [
       "<div>\n",
       "<style scoped>\n",
       "    .dataframe tbody tr th:only-of-type {\n",
       "        vertical-align: middle;\n",
       "    }\n",
       "\n",
       "    .dataframe tbody tr th {\n",
       "        vertical-align: top;\n",
       "    }\n",
       "\n",
       "    .dataframe thead th {\n",
       "        text-align: right;\n",
       "    }\n",
       "</style>\n",
       "<table border=\"1\" class=\"dataframe\">\n",
       "  <thead>\n",
       "    <tr style=\"text-align: right;\">\n",
       "      <th></th>\n",
       "      <th>YMD</th>\n",
       "      <th>AMT</th>\n",
       "      <th>tm</th>\n",
       "      <th>sumRn</th>\n",
       "    </tr>\n",
       "  </thead>\n",
       "  <tbody>\n",
       "    <tr>\n",
       "      <th>0</th>\n",
       "      <td>20190514</td>\n",
       "      <td>0</td>\n",
       "      <td>20190514</td>\n",
       "      <td>0.0</td>\n",
       "    </tr>\n",
       "    <tr>\n",
       "      <th>1</th>\n",
       "      <td>20190519</td>\n",
       "      <td>18000</td>\n",
       "      <td>20190519</td>\n",
       "      <td>22.0</td>\n",
       "    </tr>\n",
       "    <tr>\n",
       "      <th>2</th>\n",
       "      <td>20190521</td>\n",
       "      <td>50000</td>\n",
       "      <td>20190521</td>\n",
       "      <td>0.0</td>\n",
       "    </tr>\n",
       "    <tr>\n",
       "      <th>3</th>\n",
       "      <td>20190522</td>\n",
       "      <td>125000</td>\n",
       "      <td>20190522</td>\n",
       "      <td>0.0</td>\n",
       "    </tr>\n",
       "    <tr>\n",
       "      <th>4</th>\n",
       "      <td>20190523</td>\n",
       "      <td>222500</td>\n",
       "      <td>20190523</td>\n",
       "      <td>0.0</td>\n",
       "    </tr>\n",
       "    <tr>\n",
       "      <th>...</th>\n",
       "      <td>...</td>\n",
       "      <td>...</td>\n",
       "      <td>...</td>\n",
       "      <td>...</td>\n",
       "    </tr>\n",
       "    <tr>\n",
       "      <th>323</th>\n",
       "      <td>20200424</td>\n",
       "      <td>1092500</td>\n",
       "      <td>20200424</td>\n",
       "      <td>0.0</td>\n",
       "    </tr>\n",
       "    <tr>\n",
       "      <th>324</th>\n",
       "      <td>20200425</td>\n",
       "      <td>672500</td>\n",
       "      <td>20200425</td>\n",
       "      <td>0.0</td>\n",
       "    </tr>\n",
       "    <tr>\n",
       "      <th>325</th>\n",
       "      <td>20200426</td>\n",
       "      <td>1123500</td>\n",
       "      <td>20200426</td>\n",
       "      <td>0.0</td>\n",
       "    </tr>\n",
       "    <tr>\n",
       "      <th>326</th>\n",
       "      <td>20200427</td>\n",
       "      <td>819500</td>\n",
       "      <td>20200427</td>\n",
       "      <td>0.0</td>\n",
       "    </tr>\n",
       "    <tr>\n",
       "      <th>327</th>\n",
       "      <td>20200428</td>\n",
       "      <td>950500</td>\n",
       "      <td>20200428</td>\n",
       "      <td>0.0</td>\n",
       "    </tr>\n",
       "  </tbody>\n",
       "</table>\n",
       "<p>328 rows × 4 columns</p>\n",
       "</div>"
      ],
      "text/plain": [
       "          YMD      AMT        tm  sumRn\n",
       "0    20190514        0  20190514    0.0\n",
       "1    20190519    18000  20190519   22.0\n",
       "2    20190521    50000  20190521    0.0\n",
       "3    20190522   125000  20190522    0.0\n",
       "4    20190523   222500  20190523    0.0\n",
       "..        ...      ...       ...    ...\n",
       "323  20200424  1092500  20200424    0.0\n",
       "324  20200425   672500  20200425    0.0\n",
       "325  20200426  1123500  20200426    0.0\n",
       "326  20200427   819500  20200427    0.0\n",
       "327  20200428   950500  20200428    0.0\n",
       "\n",
       "[328 rows x 4 columns]"
      ]
     },
     "execution_count": 48,
     "metadata": {},
     "output_type": "execute_result"
    }
   ],
   "source": [
    "# 매출데이터와 날씨데이터 합치기\n",
    "data = sales_temp.merge(wt_temp, how=\"left\", left_on=\"YMD\", right_on=\"tm\")\n",
    "data"
   ]
  },
  {
   "cell_type": "code",
   "execution_count": 51,
   "id": "902a8e64",
   "metadata": {},
   "outputs": [
    {
     "data": {
      "text/html": [
       "<div>\n",
       "<style scoped>\n",
       "    .dataframe tbody tr th:only-of-type {\n",
       "        vertical-align: middle;\n",
       "    }\n",
       "\n",
       "    .dataframe tbody tr th {\n",
       "        vertical-align: top;\n",
       "    }\n",
       "\n",
       "    .dataframe thead th {\n",
       "        text-align: right;\n",
       "    }\n",
       "</style>\n",
       "<table border=\"1\" class=\"dataframe\">\n",
       "  <thead>\n",
       "    <tr style=\"text-align: right;\">\n",
       "      <th></th>\n",
       "      <th>YMD</th>\n",
       "      <th>AMT</th>\n",
       "      <th>tm</th>\n",
       "      <th>sumRn</th>\n",
       "      <th>rain_yn</th>\n",
       "    </tr>\n",
       "  </thead>\n",
       "  <tbody>\n",
       "    <tr>\n",
       "      <th>0</th>\n",
       "      <td>20190514</td>\n",
       "      <td>0</td>\n",
       "      <td>20190514</td>\n",
       "      <td>0.0</td>\n",
       "      <td>0</td>\n",
       "    </tr>\n",
       "    <tr>\n",
       "      <th>1</th>\n",
       "      <td>20190519</td>\n",
       "      <td>18000</td>\n",
       "      <td>20190519</td>\n",
       "      <td>22.0</td>\n",
       "      <td>1</td>\n",
       "    </tr>\n",
       "    <tr>\n",
       "      <th>2</th>\n",
       "      <td>20190521</td>\n",
       "      <td>50000</td>\n",
       "      <td>20190521</td>\n",
       "      <td>0.0</td>\n",
       "      <td>0</td>\n",
       "    </tr>\n",
       "    <tr>\n",
       "      <th>3</th>\n",
       "      <td>20190522</td>\n",
       "      <td>125000</td>\n",
       "      <td>20190522</td>\n",
       "      <td>0.0</td>\n",
       "      <td>0</td>\n",
       "    </tr>\n",
       "    <tr>\n",
       "      <th>4</th>\n",
       "      <td>20190523</td>\n",
       "      <td>222500</td>\n",
       "      <td>20190523</td>\n",
       "      <td>0.0</td>\n",
       "      <td>0</td>\n",
       "    </tr>\n",
       "    <tr>\n",
       "      <th>...</th>\n",
       "      <td>...</td>\n",
       "      <td>...</td>\n",
       "      <td>...</td>\n",
       "      <td>...</td>\n",
       "      <td>...</td>\n",
       "    </tr>\n",
       "    <tr>\n",
       "      <th>323</th>\n",
       "      <td>20200424</td>\n",
       "      <td>1092500</td>\n",
       "      <td>20200424</td>\n",
       "      <td>0.0</td>\n",
       "      <td>0</td>\n",
       "    </tr>\n",
       "    <tr>\n",
       "      <th>324</th>\n",
       "      <td>20200425</td>\n",
       "      <td>672500</td>\n",
       "      <td>20200425</td>\n",
       "      <td>0.0</td>\n",
       "      <td>0</td>\n",
       "    </tr>\n",
       "    <tr>\n",
       "      <th>325</th>\n",
       "      <td>20200426</td>\n",
       "      <td>1123500</td>\n",
       "      <td>20200426</td>\n",
       "      <td>0.0</td>\n",
       "      <td>0</td>\n",
       "    </tr>\n",
       "    <tr>\n",
       "      <th>326</th>\n",
       "      <td>20200427</td>\n",
       "      <td>819500</td>\n",
       "      <td>20200427</td>\n",
       "      <td>0.0</td>\n",
       "      <td>0</td>\n",
       "    </tr>\n",
       "    <tr>\n",
       "      <th>327</th>\n",
       "      <td>20200428</td>\n",
       "      <td>950500</td>\n",
       "      <td>20200428</td>\n",
       "      <td>0.0</td>\n",
       "      <td>0</td>\n",
       "    </tr>\n",
       "  </tbody>\n",
       "</table>\n",
       "<p>328 rows × 5 columns</p>\n",
       "</div>"
      ],
      "text/plain": [
       "          YMD      AMT        tm  sumRn  rain_yn\n",
       "0    20190514        0  20190514    0.0        0\n",
       "1    20190519    18000  20190519   22.0        1\n",
       "2    20190521    50000  20190521    0.0        0\n",
       "3    20190522   125000  20190522    0.0        0\n",
       "4    20190523   222500  20190523    0.0        0\n",
       "..        ...      ...       ...    ...      ...\n",
       "323  20200424  1092500  20200424    0.0        0\n",
       "324  20200425   672500  20200425    0.0        0\n",
       "325  20200426  1123500  20200426    0.0        0\n",
       "326  20200427   819500  20200427    0.0        0\n",
       "327  20200428   950500  20200428    0.0        0\n",
       "\n",
       "[328 rows x 5 columns]"
      ]
     },
     "execution_count": 51,
     "metadata": {},
     "output_type": "execute_result"
    }
   ],
   "source": [
    "data[\"rain_yn\"] = (data[\"sumRn\"] > 0).astype(int)\n",
    "data"
   ]
  },
  {
   "cell_type": "code",
   "execution_count": 56,
   "id": "5fe89826",
   "metadata": {},
   "outputs": [
    {
     "data": {
      "text/plain": [
       "0      18000\n",
       "1     274000\n",
       "2     318000\n",
       "3     139500\n",
       "4     482500\n",
       "       ...  \n",
       "87    933000\n",
       "88    700000\n",
       "89    760500\n",
       "90    908000\n",
       "91    741000\n",
       "Name: AMT, Length: 92, dtype: int64"
      ]
     },
     "execution_count": 56,
     "metadata": {},
     "output_type": "execute_result"
    }
   ],
   "source": [
    "# 비가 안올때 매출값 추출하기\n",
    "rainNamt = data[(data[\"rain_yn\"] == 0)][\"AMT\"]\n",
    "rainNamt = rainNamt.reset_index(drop=True)\n",
    "rainNamt\n",
    "\n",
    "# 비가 올때 매출값 추출하기\n",
    "rainYamt = data[(data[\"rain_yn\"] == 1)][\"AMT\"]\n",
    "rainYamt = rainYamt.reset_index(drop=True)\n",
    "rainYamt"
   ]
  },
  {
   "cell_type": "code",
   "execution_count": 59,
   "id": "9addef86",
   "metadata": {},
   "outputs": [
    {
     "data": {
      "image/png": "[encoded data removed]",
      "text/plain": [
       "<Figure size 432x288 with 1 Axes>"
      ]
     },
     "metadata": {
      "needs_background": "light"
     },
     "output_type": "display_data"
    },
    {
     "data": {
      "image/png": "[encoded data removed]",
      "text/plain": [
       "<Figure size 432x288 with 1 Axes>"
      ]
     },
     "metadata": {
      "needs_background": "light"
     },
     "output_type": "display_data"
    }
   ],
   "source": [
    "# 비가 안올때 매출액 추이 시각화\n",
    "plt.plot(rainNamt)\n",
    "plt.title(\"비가 안올때 매출액 추이\")\n",
    "plt.xlabel(\"index 번호\")\n",
    "plt.ylabel(\"매출액\")\n",
    "plt.show()\n",
    "\n",
    "# 비가 올때 매출액 추이 시각화\n",
    "plt.plot(rainYamt)\n",
    "plt.title(\"비가 올때 매출액 추이\")\n",
    "plt.xlabel(\"index 번호\")\n",
    "plt.ylabel(\"매출액\")\n",
    "plt.show()"
   ]
  },
  {
   "cell_type": "code",
   "execution_count": 60,
   "id": "e9115ff1",
   "metadata": {},
   "outputs": [
    {
     "data": {
      "image/png": "[encoded data removed]",
      "text/plain": [
       "<Figure size 432x288 with 1 Axes>"
      ]
     },
     "metadata": {
      "needs_background": "light"
     },
     "output_type": "display_data"
    }
   ],
   "source": [
    "# 평균(중앙점) 추이 분석 - 박스플롯 이용\n",
    "plt.boxplot([rainNamt, rainYamt],\n",
    "            meanline = True,\n",
    "            showmeans= True,\n",
    "            notch = True)\n",
    "plt.show()"
   ]
  },
  {
   "cell_type": "code",
   "execution_count": 62,
   "id": "c726e292",
   "metadata": {},
   "outputs": [
    {
     "name": "stdout",
     "output_type": "stream",
     "text": [
      "정규성 검정 결과 =  ShapiroResult(statistic=0.9884955883026123, pvalue=0.056049469858407974)\n",
      "검정 통계량 = 0.988,   p-value = 0.056\n",
      "\n",
      "정규성 검정 결과 =  ShapiroResult(statistic=0.9924222826957703, pvalue=0.882739782333374)\n",
      "검정 통계량 = 0.992,   p-value = 0.883\n"
     ]
    }
   ],
   "source": [
    "# 정규성 검정 (stats.shapiro())\n",
    "# 검증 시 대부분의 집단은 정규분포를 따른다는 가정하에 진행하는 것이 일반적..\n",
    "# p-value의 값이 커질 수록, 평균의 분포는 정규분포를 띈다..\n",
    "\n",
    "resultSh = stats.shapiro(rainNamt)\n",
    "print(\"정규성 검정 결과 = \", resultSh)\n",
    "print(\"검정 통계량 = %.3f,   p-value = %.3f\" %(resultSh))\n",
    "\n",
    "# (해석)\n",
    "# - p-value = 0.056 > 0.05 이므로, 정규성을 만족\n",
    "\n",
    "print()\n",
    "\n",
    "resultSh = stats.shapiro(rainYamt)\n",
    "print(\"정규성 검정 결과 = \", resultSh)\n",
    "print(\"검정 통계량 = %.3f,   p-value = %.3f\" %(resultSh))\n",
    "\n",
    "# (해석)\n",
    "# - p-value = 0.883 > 0.05 이므로, 정규성을 만족"
   ]
  },
  {
   "cell_type": "code",
   "execution_count": 64,
   "id": "2b1763c6",
   "metadata": {},
   "outputs": [
    {
     "name": "stderr",
     "output_type": "stream",
     "text": [
      "C:\\ProgramData\\Anaconda3\\lib\\site-packages\\seaborn\\distributions.py:2619: FutureWarning: `distplot` is a deprecated function and will be removed in a future version. Please adapt your code to use either `displot` (a figure-level function with similar flexibility) or `histplot` (an axes-level function for histograms).\n",
      "  warnings.warn(msg, FutureWarning)\n",
      "C:\\ProgramData\\Anaconda3\\lib\\site-packages\\seaborn\\distributions.py:2619: FutureWarning: `distplot` is a deprecated function and will be removed in a future version. Please adapt your code to use either `displot` (a figure-level function with similar flexibility) or `histplot` (an axes-level function for histograms).\n",
      "  warnings.warn(msg, FutureWarning)\n",
      "C:\\ProgramData\\Anaconda3\\lib\\site-packages\\IPython\\core\\pylabtools.py:151: UserWarning: Glyph 8722 (\\N{MINUS SIGN}) missing from current font.\n",
      "  fig.canvas.print_figure(bytes_io, **kw)\n"
     ]
    },
    {
     "data": {
      "image/png": "[encoded data removed]",
      "text/plain": [
       "<Figure size 432x288 with 1 Axes>"
      ]
     },
     "metadata": {
      "needs_background": "light"
     },
     "output_type": "display_data"
    }
   ],
   "source": [
    "# 정규분포 시각화\n",
    "import seaborn as sns\n",
    "import matplotlib.pyplot as plt\n",
    "\n",
    "# 한글 처리\n",
    "plt.rc(\"font\", family = \"Malgun Gothic\")\n",
    "# x : 데이터 집합\n",
    "# stats.norm : 정규 분포 표시\n",
    "sns.distplot(rainNamt, fit=stats.norm)\n",
    "sns.distplot(rainYamt, fit=stats.norm)\n",
    "plt.show()"
   ]
  },
  {
   "cell_type": "code",
   "execution_count": 65,
   "id": "d47c7e74",
   "metadata": {},
   "outputs": [
    {
     "name": "stdout",
     "output_type": "stream",
     "text": [
      "등분산성 levene 검증결과 =  LeveneResult(statistic=0.13618283405945808, pvalue=0.7123452333011173)\n",
      "t-검정 통계량 = 0.136,   p-value = 0.712\n",
      "\n",
      "등분산성 fligner 검증결과 =  FlignerResult(statistic=0.14330809936064023, pvalue=0.705014212806607)\n",
      "t-검정 통계량 = 0.143,   p-value = 0.705\n",
      "\n",
      "등분산성 bartlett 검증결과 =  BartlettResult(statistic=0.2688957613342281, pvalue=0.6040734684690022)\n",
      "t-검정 통계량 = 0.269,   p-value = 0.604\n"
     ]
    }
   ],
   "source": [
    "### 등분산성 검증\n",
    "# - 귀무가설 : 두 집단간 분산이 동일하다. (p-value > 0.05)\n",
    "# - 대립가설 : 두 집단간 분산이 동일하지 않다\n",
    "\n",
    "# 등분산성 검증은 3가지 방법으로 진행됩니다.\n",
    "# 1. levene(레빈) 방법\n",
    "# 2. fligner(플리그너) 방법\n",
    "# 3. bartlett(바틀렛) 방법\n",
    "\n",
    "sLevene = stats.levene(rainNamt, rainYamt)\n",
    "print(\"등분산성 levene 검증결과 = \", sLevene)\n",
    "print(\"t-검정 통계량 = %.3f,   p-value = %.3f\" %(sLevene))\n",
    "# (해석)\n",
    "#  1. p-value=0.712 > 0.05 이므로, 귀무가설 체택\n",
    "#  2. 귀무가설 체택 : 두 집단간 등분산성 만족\n",
    "print()\n",
    "\n",
    "sFligner = stats.fligner(rainNamt, rainYamt)\n",
    "print(\"등분산성 fligner 검증결과 = \", sFligner)\n",
    "print(\"t-검정 통계량 = %.3f,   p-value = %.3f\" %(sFligner))\n",
    "# (해석)\n",
    "#  1. p-value=0.705 > 0.05 이므로, 귀무가설 체택\n",
    "#  2. 귀무가설 체택 : 두 집단간 등분산성 만족\n",
    "print()\n",
    "\n",
    "sBartlett = stats.bartlett(rainNamt, rainYamt)\n",
    "print(\"등분산성 bartlett 검증결과 = \", sBartlett)\n",
    "print(\"t-검정 통계량 = %.3f,   p-value = %.3f\" %(sBartlett))\n",
    "# (해석)\n",
    "#  1. p-value=0.604 > 0.05 이므로, 귀무가설 체택\n",
    "#  2. 귀무가설 체택 : 두 집단간 등분산성 만족"
   ]
  },
  {
   "cell_type": "code",
   "execution_count": 66,
   "id": "7c5938a1",
   "metadata": {},
   "outputs": [
    {
     "name": "stdout",
     "output_type": "stream",
     "text": [
      "한 집단 평균 검정 (단일 표본검정) =  Ttest_indResult(statistic=0.10109828602924716, pvalue=0.919534587722196)\n",
      "t-검정 통계량 = 0.101,   p-value = 0.920\n"
     ]
    }
   ],
   "source": [
    "# 검증하기 (Independent Samples t-test)\n",
    "# 첫번째 : 기준집단, \n",
    "# 두번째 : 관측집단\n",
    "\n",
    "# equal_var : 정규성과 등분산성 모두를 만족하는 경우 작성\n",
    "result = stats.ttest_ind(rainNamt, rainYamt, equal_var=True)\n",
    "\n",
    "print(\"한 집단 평균 검정 (단일 표본검정) = \", result)\n",
    "print(\"t-검정 통계량 = %.3f,   p-value = %.3f\" %(result))\n",
    "\n",
    "# (해석 - 검증결과)\n",
    "#  1. p-value=0.920 > 0.05 이므로, 귀무가설 채택\n",
    "#  2. 귀무가설 채택 : 두 집단간 평균의 차이는 없다.\n",
    "#                   : 비가 올때와 안올때에 무관하게 매출에는 영향을 미치지 않음"
   ]
  },
  {
   "cell_type": "code",
   "execution_count": null,
   "id": "8e2375c3",
   "metadata": {},
   "outputs": [],
   "source": []
  }
 ],
 "metadata": {
  "kernelspec": {
   "display_name": "Python 3 (ipykernel)",
   "language": "python",
   "name": "python3"
  },
  "language_info": {
   "codemirror_mode": {
    "name": "ipython",
    "version": 3
   },
   "file_extension": ".py",
   "mimetype": "text/x-python",
   "name": "python",
   "nbconvert_exporter": "python",
   "pygments_lexer": "ipython3",
   "version": "3.9.12"
  }
 },
 "nbformat": 4,
 "nbformat_minor": 5
}
