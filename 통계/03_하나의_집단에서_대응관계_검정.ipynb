{
 "cells": [
  {
   "cell_type": "code",
   "execution_count": 1,
   "id": "c2917de1",
   "metadata": {},
   "outputs": [],
   "source": [
    "### Paired Samples t-test\n",
    "# 하나의 집단에서 보통 전(before)/후(after)의 관계를 확인할 때 사용\n",
    "# 사용되는 함수 : ttest_rel(x, y) \n",
    "#   x = before, y = after\n",
    "# - 검증 : p-value > 0.05 (전후 상관없음 = 차이없음)\n",
    "#        : p-value <= 0.05 (전후 상관있음 = 차이있음)"
   ]
  },
  {
   "cell_type": "markdown",
   "id": "c5d9525f",
   "metadata": {},
   "source": [
    "### exe-1) 야식을 먹기전과 먹은후의 몸무게 차이 검점\n",
    "##### - 귀무가설 : 야식을 먹기전과 먹은후의 몸무게에 차이가 없다\n",
    "##### - 대립가설 : 야식을 먹기전과 먹은후의 몸무게에 차이가 있다"
   ]
  },
  {
   "cell_type": "code",
   "execution_count": 11,
   "id": "ece80a93",
   "metadata": {},
   "outputs": [
    {
     "name": "stdout",
     "output_type": "stream",
     "text": [
      "beforeWeights =  [68 42 80 71 61 66 61 86 79 88 89 78 58 74 63 57 69 62 40 55]\n",
      "\n",
      "afterWeights =  [66.92120492 42.16457371 76.42874219 69.98693442 62.58063328 66.16643356\n",
      " 59.92777352 86.03896319 78.9193953  85.05159687 87.35919335 73.60016016\n",
      " 56.73952168 75.49528784 62.17410334 56.55155074 68.86370215 60.37578\n",
      " 40.44607082 54.52285703]\n",
      "\n",
      "검정 결과 =  Ttest_relResult(statistic=2.4723495822754376, pvalue=0.02304289814209633)\n",
      "검정 통계량 = 2.472,  p-value = 0.023\n"
     ]
    }
   ],
   "source": [
    "import numpy\n",
    "from scipy import stats\n",
    "\n",
    "# 야식 복용 전 몸무게 랜덤 생성\n",
    "beforeWeights = numpy.random.randint(low=40, high=90, size=20)\n",
    "print(\"beforeWeights = \", beforeWeights)\n",
    "print()\n",
    "\n",
    "# 야식 복용 후 몸무게 랜덤 생성\n",
    "tmp_list = []\n",
    "for weight in beforeWeights :\n",
    "    # 0.99-0.02 ~ 0.99+0.02\n",
    "    tmp_list.append(weight * numpy.random.normal(0.99, 0.02))\n",
    "    \n",
    "afterWeights = numpy.array(tmp_list)\n",
    "print(\"afterWeights = \", afterWeights)\n",
    "\n",
    "print()\n",
    "# 전/후 검증하기\n",
    "result = stats.ttest_rel(beforeWeights, afterWeights)\n",
    "print(\"검정 결과 = \", result)\n",
    "print(\"검정 통계량 = %.3f,  p-value = %.3f\" % (result))\n",
    "\n",
    "# (해석 - 검증결과)\n",
    "#  1. p-value=0.023 < 0.05 이므로, 귀무가설 기각\n",
    "#  2. 대립가설 채택 : 전/후 데이터의 차이는 있다.\n",
    "#                   : 야식을 먹기전과 먹은후는 몸무게에 차이가 발생한다."
   ]
  },
  {
   "cell_type": "markdown",
   "id": "ffd65565",
   "metadata": {},
   "source": [
    "### exe-2) 특강 전/후 시험점수의 차이 검정\n",
    "##### - 귀무가설 : 특강 전/후 시험점수의 차이가 없다\n",
    "##### - 대립가설 : 특강 전/후 시험점수의 차이가 있다"
   ]
  },
  {
   "cell_type": "code",
   "execution_count": 12,
   "id": "1f42285e",
   "metadata": {},
   "outputs": [],
   "source": [
    "import numpy as np\n",
    "import scipy.stats as stats\n",
    "from seaborn.distributions import distplot"
   ]
  },
  {
   "cell_type": "code",
   "execution_count": null,
   "id": "ac4787ed",
   "metadata": {},
   "outputs": [],
   "source": [
    "# 데이터 생성하기\n",
    "# 랜덤값 시드(seed) 임의로 설정\n",
    "\n",
    "# 특강전 데이터 : 랜덤하게 80을 기준으로 +- 10, 100개 생성\n",
    "\n",
    "# 특강후 데이터 : 랜덤하게 77을 기준으로 +- 10, 100개 생성\n",
    "\n",
    "# 정규성 검사\n",
    "\n",
    "# 정규성 시각화 (한글처리 포함)\n",
    "\n",
    "# 전/후 검정\n",
    "\n",
    "# 해석."
   ]
  },
  {
   "cell_type": "code",
   "execution_count": 14,
   "id": "047511bb",
   "metadata": {},
   "outputs": [
    {
     "name": "stdout",
     "output_type": "stream",
     "text": [
      "특강전 x1 =  [ 84.72985831  73.18574121  82.42439497  62.99264366  87.53142834\n",
      "  64.6527866   80.05127078  78.7977233   71.93018121 108.71819395\n",
      "  74.02177081  84.72456994  90.95956118  67.84831199  93.42356371\n",
      "  78.77850212  90.12515477  70.86130853  69.70469793  92.0979645\n",
      "  85.01872304  81.38846177  86.40761113  85.27332665  68.45639765\n",
      "  57.86666521  63.1824349   62.11905749  57.81465055  73.5256922\n",
      "  74.71595679  79.60790825  82.14975948  76.15641197  77.46095922\n",
      "  80.73252075  70.02796163  72.86143712  80.35416346  73.22054635\n",
      "  74.28118938  78.94137685  93.35831339  83.18665288  76.6240475\n",
      "  74.14731722  78.85080059 102.41817794  48.52583478  85.35135893\n",
      "  82.32490439  88.67611951  68.51787286 101.14344241  90.00942761\n",
      "  79.48585005  81.59787698  72.83736414  80.50522827  78.56662585\n",
      "  89.43575391  83.57644225  79.16550797  86.77806103  85.56060374\n",
      "  82.22719461  64.71014521  90.29211176  68.33741241  69.90438348\n",
      "  78.94732011  85.12022158  94.07727764  63.12303669  94.71233993\n",
      "  96.36462907  75.38605064  77.9863773   74.2818327   73.96700885\n",
      "  66.60610779  63.1034708   78.00672661  82.57772585  98.28820715\n",
      "  69.98998455  59.08308787  81.46559706  75.33648898  83.56223007\n",
      "  76.02120267  67.40776484  73.11121308  88.0263045   82.72391041\n",
      "  70.30823501  88.71968122  65.53640557  74.63518736  81.97920516]\n",
      "\n",
      "특강후 x2 =  [ 63.34360186  65.05555617  77.15934543  76.19956538  74.49197287\n",
      "  71.34857106  65.9732806   69.17717559 107.41686206  70.73918779\n",
      "  92.05900913  71.12663913  90.65852914  89.32044874  81.50889233\n",
      "  70.58590182  63.22403967  86.65746348  64.1599654   64.254279\n",
      "  92.22841762  91.61882431  77.37655963  74.53802801  70.35702426\n",
      "  80.51335538  72.15968568  61.8691274   69.36469513  79.4920321\n",
      "  61.10191392  67.20474078  78.22761629  93.89292094  78.77749865\n",
      "  77.32006021  96.33215564  66.37905289  69.67370901  85.42741393\n",
      "  87.76739987  81.57690538  50.80506677  84.39046342  83.67501058\n",
      "  77.46402636  83.66077597  91.07948484  77.51149186  67.64025139\n",
      "  58.60890692  77.63778728  69.86031903  71.38115337  65.67531149\n",
      "  79.74291003  84.35912111  81.34318749  65.79958895  85.8909461\n",
      "  80.14506945  52.11995536  82.9590861   56.64137964  65.61718347\n",
      "  87.57642286  83.5276854   70.55533149  68.16537909  80.45692373\n",
      "  59.0317254   81.10709619  74.08176551  84.34147649  75.74504335\n",
      "  66.11482585  79.02230925  73.50165599  62.78723101  65.36411664\n",
      "  66.93323713  77.5002176   84.65430135  76.71485122  64.943544\n",
      "  73.18455158  82.66843638  87.77336746  67.59641277  79.83607122\n",
      "  73.09679519  55.45875559  64.05316251  71.33779305  71.8229079\n",
      "  73.04121692  70.96304755  80.67392891  67.40988186  61.04703278]\n"
     ]
    }
   ],
   "source": [
    "### 데이터 생성하기\n",
    "np.random.seed(12)\n",
    "\n",
    "# 특강전\n",
    "x1 = np.random.normal(80, 10, 100)\n",
    "print(\"특강전 x1 = \", x1)\n",
    "print()\n",
    "\n",
    "x2 = np.random.normal(77, 10, 100)\n",
    "print(\"특강후 x2 = \", x2)"
   ]
  },
  {
   "cell_type": "code",
   "execution_count": 15,
   "id": "deba236e",
   "metadata": {},
   "outputs": [
    {
     "name": "stdout",
     "output_type": "stream",
     "text": [
      "정규성 검정 결과 =  ShapiroResult(statistic=0.9961193799972534, pvalue=0.9942135810852051)\n",
      "검정 통계량 = 0.996,   p-value = 0.994\n",
      "정규성 검정 결과 =  ShapiroResult(statistic=0.9916926622390747, pvalue=0.7985416054725647)\n",
      "검정 통계량 = 0.992,   p-value = 0.799\n"
     ]
    }
   ],
   "source": [
    "# 정규성 검정 (stats.shapiro())\n",
    "# 검증 시 대부분의 집단은 정규분포를 따른다는 가정하에 진행하는 것이 일반적..\n",
    "# p-value의 값이 커질 수록, 평균의 분포는 정규분포를 띈다..\n",
    "\n",
    "resultSh = stats.shapiro(x1)\n",
    "print(\"정규성 검정 결과 = \", resultSh)\n",
    "print(\"검정 통계량 = %.3f,   p-value = %.3f\" %(resultSh))\n",
    "\n",
    "# (해석)\n",
    "# - p-value = 0.994 > 0.05 이므로, 정규성을 만족\n",
    "\n",
    "resultSh = stats.shapiro(x2)\n",
    "print(\"정규성 검정 결과 = \", resultSh)\n",
    "print(\"검정 통계량 = %.3f,   p-value = %.3f\" %(resultSh))\n",
    "\n",
    "# (해석)\n",
    "# - p-value = 0.799 > 0.05 이므로, 정규성을 만족"
   ]
  },
  {
   "cell_type": "code",
   "execution_count": 18,
   "id": "206ba214",
   "metadata": {},
   "outputs": [
    {
     "name": "stderr",
     "output_type": "stream",
     "text": [
      "C:\\ProgramData\\Anaconda3\\lib\\site-packages\\seaborn\\distributions.py:2619: FutureWarning: `distplot` is a deprecated function and will be removed in a future version. Please adapt your code to use either `displot` (a figure-level function with similar flexibility) or `histplot` (an axes-level function for histograms).\n",
      "  warnings.warn(msg, FutureWarning)\n",
      "C:\\ProgramData\\Anaconda3\\lib\\site-packages\\seaborn\\distributions.py:2619: FutureWarning: `distplot` is a deprecated function and will be removed in a future version. Please adapt your code to use either `displot` (a figure-level function with similar flexibility) or `histplot` (an axes-level function for histograms).\n",
      "  warnings.warn(msg, FutureWarning)\n"
     ]
    },
    {
     "data": {
      "image/png": "[encoded data removed]",
      "text/plain": [
       "<Figure size 432x288 with 1 Axes>"
      ]
     },
     "metadata": {
      "needs_background": "light"
     },
     "output_type": "display_data"
    }
   ],
   "source": [
    "# 정규분포 시각화\n",
    "import seaborn as sns\n",
    "import matplotlib.pyplot as plt\n",
    "\n",
    "# 한글 처리\n",
    "plt.rc(\"font\", family = \"Malgun Gothic\")\n",
    "# x : 데이터 집합\n",
    "# stats.norm : 정규 분포 표시\n",
    "sns.distplot(x1, fit=stats.norm)\n",
    "sns.distplot(x2, fit=stats.norm)\n",
    "plt.show()"
   ]
  },
  {
   "cell_type": "code",
   "execution_count": 19,
   "id": "02e1bb23",
   "metadata": {},
   "outputs": [
    {
     "name": "stdout",
     "output_type": "stream",
     "text": [
      "등분산성 levene 검증결과 =  LeveneResult(statistic=0.06929364834301127, pvalue=0.7926417456653776)\n",
      "t-검정 통계량 = 0.069,   p-value = 0.793\n",
      "\n",
      "등분산성 fligner 검증결과 =  FlignerResult(statistic=0.09634841717764164, pvalue=0.7562564791467304)\n",
      "t-검정 통계량 = 0.096,   p-value = 0.756\n",
      "\n",
      "등분산성 bartlett 검증결과 =  BartlettResult(statistic=0.03510344807544348, pvalue=0.8513790552865215)\n",
      "t-검정 통계량 = 0.035,   p-value = 0.851\n"
     ]
    }
   ],
   "source": [
    "### 등분산성 검증 : 하나의 집단은 안함....\n",
    "\n",
    "# - 귀무가설 : 두 집단간 분산이 동일하다. (p-value > 0.05)\n",
    "# - 대립가설 : 두 집단간 분산이 동일하지 않다\n",
    "\n",
    "# 등분산성 검증은 3가지 방법으로 진행됩니다.\n",
    "# 1. levene(레빈) 방법\n",
    "# 2. fligner(플리그너) 방법\n",
    "# 3. bartlett(바틀렛) 방법\n",
    "\n",
    "sLevene = stats.levene(x1, x2)\n",
    "print(\"등분산성 levene 검증결과 = \", sLevene)\n",
    "print(\"t-검정 통계량 = %.3f,   p-value = %.3f\" %(sLevene))\n",
    "# (해석)\n",
    "#  1. p-value=0.742 > 0.05 이므로, 귀무가설 체택\n",
    "#  2. 귀무가설 체택 : 두 집단간 등분산성 만족\n",
    "print()\n",
    "\n",
    "sFligner = stats.fligner(x1, x2)\n",
    "print(\"등분산성 fligner 검증결과 = \", sFligner)\n",
    "print(\"t-검정 통계량 = %.3f,   p-value = %.3f\" %(sFligner))\n",
    "# (해석)\n",
    "#  1. p-value=0.923 > 0.05 이므로, 귀무가설 체택\n",
    "#  2. 귀무가설 체택 : 두 집단간 등분산성 만족\n",
    "print()\n",
    "\n",
    "sBartlett = stats.bartlett(x1, x2)\n",
    "print(\"등분산성 bartlett 검증결과 = \", sBartlett)\n",
    "print(\"t-검정 통계량 = %.3f,   p-value = %.3f\" %(sBartlett))\n",
    "# (해석)\n",
    "#  1. p-value=0.537 > 0.05 이므로, 귀무가설 체택\n",
    "#  2. 귀무가설 체택 : 두 집단간 등분산성 만족"
   ]
  },
  {
   "cell_type": "code",
   "execution_count": 20,
   "id": "65c437c2",
   "metadata": {},
   "outputs": [
    {
     "name": "stdout",
     "output_type": "stream",
     "text": [
      "검정 결과 =  Ttest_relResult(statistic=2.388932926547383, pvalue=0.018792247355705678)\n",
      "검정 통계량 = 2.389,  p-value = 0.019\n"
     ]
    }
   ],
   "source": [
    "# 전/후 검증하기\n",
    "result = stats.ttest_rel(x1, x2)\n",
    "print(\"검정 결과 = \", result)\n",
    "print(\"검정 통계량 = %.3f,  p-value = %.3f\" % (result))\n",
    "\n",
    "# (해석 - 검증결과)\n",
    "#  1. p-value=0.019 < 0.05 이므로, 귀무가설 기각\n",
    "#  2. 대립가설 채택 : 전/후 데이터의 차이는 있다.\n",
    "#                   : 특강 전과 후는 시험점수 차이가 발생한다."
   ]
  },
  {
   "cell_type": "markdown",
   "id": "0e60b707",
   "metadata": {},
   "source": [
    "### exe-3) 환자 9명의 복부 수술전/후 몸무게 변화에 대한 차이 검정\n",
    "##### - 귀무가설 : 복부 수술 전/후 몸무게 변화가 없다\n",
    "##### - 대립가설 : 복부 수술 전/후 몸무게 변화가 있다"
   ]
  },
  {
   "cell_type": "code",
   "execution_count": 21,
   "id": "0cdd10b7",
   "metadata": {},
   "outputs": [],
   "source": [
    "# 데이터 생성\n",
    "# 정규성 검정\n",
    "# 정규성 시각화\n",
    "# 전/후 검정\n",
    "# 해석"
   ]
  },
  {
   "cell_type": "code",
   "execution_count": 23,
   "id": "83ccb16c",
   "metadata": {},
   "outputs": [],
   "source": [
    "import numpy as np\n",
    "import scipy.stats as stats\n",
    "from seaborn.distributions import distplot"
   ]
  },
  {
   "cell_type": "code",
   "execution_count": 26,
   "id": "ea8cdde7",
   "metadata": {},
   "outputs": [],
   "source": [
    "### 데이터 생성하기\n",
    "# 수술전\n",
    "x1 = [67.2, 67.4, 71.5, 77.6, 86.0, 89.1, 59.5, 81.9, 105.5]\n",
    "\n",
    "# 수술후\n",
    "x2 = [62.4, 64.6, 70.4, 62.6, 80.1, 73.2, 58.2, 71.0, 101.0]"
   ]
  },
  {
   "cell_type": "code",
   "execution_count": 27,
   "id": "030b13a9",
   "metadata": {},
   "outputs": [
    {
     "name": "stdout",
     "output_type": "stream",
     "text": [
      "정규성 검정 결과 =  ShapiroResult(statistic=0.9611198306083679, pvalue=0.809967577457428)\n",
      "검정 통계량 = 0.961,   p-value = 0.810\n",
      "정규성 검정 결과 =  ShapiroResult(statistic=0.8478229641914368, pvalue=0.0705145075917244)\n",
      "검정 통계량 = 0.848,   p-value = 0.071\n"
     ]
    }
   ],
   "source": [
    "# 정규성 검정 (stats.shapiro())\n",
    "# 검증 시 대부분의 집단은 정규분포를 따른다는 가정하에 진행하는 것이 일반적..\n",
    "# p-value의 값이 커질 수록, 평균의 분포는 정규분포를 띈다..\n",
    "\n",
    "resultSh = stats.shapiro(x1)\n",
    "print(\"정규성 검정 결과 = \", resultSh)\n",
    "print(\"검정 통계량 = %.3f,   p-value = %.3f\" %(resultSh))\n",
    "\n",
    "# (해석)\n",
    "# - p-value = 0.810 > 0.05 이므로, 정규성을 만족\n",
    "\n",
    "resultSh = stats.shapiro(x2)\n",
    "print(\"정규성 검정 결과 = \", resultSh)\n",
    "print(\"검정 통계량 = %.3f,   p-value = %.3f\" %(resultSh))\n",
    "\n",
    "# (해석)\n",
    "# - p-value = 0.071 > 0.05 이므로, 정규성을 만족"
   ]
  },
  {
   "cell_type": "code",
   "execution_count": 28,
   "id": "d94653bc",
   "metadata": {},
   "outputs": [
    {
     "name": "stderr",
     "output_type": "stream",
     "text": [
      "C:\\ProgramData\\Anaconda3\\lib\\site-packages\\seaborn\\distributions.py:2619: FutureWarning: `distplot` is a deprecated function and will be removed in a future version. Please adapt your code to use either `displot` (a figure-level function with similar flexibility) or `histplot` (an axes-level function for histograms).\n",
      "  warnings.warn(msg, FutureWarning)\n",
      "C:\\ProgramData\\Anaconda3\\lib\\site-packages\\seaborn\\distributions.py:2619: FutureWarning: `distplot` is a deprecated function and will be removed in a future version. Please adapt your code to use either `displot` (a figure-level function with similar flexibility) or `histplot` (an axes-level function for histograms).\n",
      "  warnings.warn(msg, FutureWarning)\n"
     ]
    },
    {
     "data": {
      "image/png": "[encoded data removed]",
      "text/plain": [
       "<Figure size 432x288 with 1 Axes>"
      ]
     },
     "metadata": {
      "needs_background": "light"
     },
     "output_type": "display_data"
    }
   ],
   "source": [
    "# 정규분포 시각화\n",
    "import seaborn as sns\n",
    "import matplotlib.pyplot as plt\n",
    "\n",
    "# 한글 처리\n",
    "plt.rc(\"font\", family = \"Malgun Gothic\")\n",
    "# x : 데이터 집합\n",
    "# stats.norm : 정규 분포 표시\n",
    "sns.distplot(x1, fit=stats.norm)\n",
    "sns.distplot(x2, fit=stats.norm)\n",
    "plt.show()"
   ]
  },
  {
   "cell_type": "code",
   "execution_count": 29,
   "id": "b2891c09",
   "metadata": {},
   "outputs": [
    {
     "name": "stdout",
     "output_type": "stream",
     "text": [
      "검정 결과 =  Ttest_relResult(statistic=3.6681166519351103, pvalue=0.006326650855933662)\n",
      "검정 통계량 = 3.668,  p-value = 0.006\n"
     ]
    }
   ],
   "source": [
    "# 전/후 검증하기\n",
    "result = stats.ttest_rel(x1, x2)\n",
    "print(\"검정 결과 = \", result)\n",
    "print(\"검정 통계량 = %.3f,  p-value = %.3f\" % (result))\n",
    "\n",
    "# (해석 - 검증결과)\n",
    "#  1. p-value=0.006 < 0.05 이므로, 귀무가설 기각\n",
    "#  2. 대립가설 채택 : 전/후 데이터의 차이는 있다.\n",
    "#                   : 수술 전과 후는 몸무게 차이가 발생한다."
   ]
  },
  {
   "cell_type": "code",
   "execution_count": null,
   "id": "00180a6c",
   "metadata": {},
   "outputs": [],
   "source": []
  }
 ],
 "metadata": {
  "kernelspec": {
   "display_name": "Python 3 (ipykernel)",
   "language": "python",
   "name": "python3"
  },
  "language_info": {
   "codemirror_mode": {
    "name": "ipython",
    "version": 3
   },
   "file_extension": ".py",
   "mimetype": "text/x-python",
   "name": "python",
   "nbconvert_exporter": "python",
   "pygments_lexer": "ipython3",
   "version": "3.9.12"
  }
 },
 "nbformat": 4,
 "nbformat_minor": 5
}
