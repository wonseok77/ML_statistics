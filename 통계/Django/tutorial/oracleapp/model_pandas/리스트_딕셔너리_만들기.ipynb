{
 "cells": [
  {
   "cell_type": "code",
   "execution_count": 3,
   "id": "f37ed64c",
   "metadata": {},
   "outputs": [
    {
     "data": {
      "text/plain": [
       "[(1, 2, 3), (4, 5, 6)]"
      ]
     },
     "execution_count": 3,
     "metadata": {},
     "output_type": "execute_result"
    }
   ],
   "source": [
    "# [(1, 2, 3), (4, 5, 6)]\n",
    "# 첫번째 for문 : 리스트에서 튜플 가지고 오기\n",
    "# 두번째 for문 : 튜플에서 각각의 값을 가지고 오기\n",
    "row = [(1, 2, 3), (4, 5, 6)]\n",
    "row"
   ]
  },
  {
   "cell_type": "code",
   "execution_count": 4,
   "id": "7ee5bba7",
   "metadata": {},
   "outputs": [
    {
     "data": {
      "text/plain": [
       "['no1', 'no2', 'no3']"
      ]
     },
     "execution_count": 4,
     "metadata": {},
     "output_type": "execute_result"
    }
   ],
   "source": [
    "col_name = ['no1', 'no2', 'no3']\n",
    "col_name"
   ]
  },
  {
   "cell_type": "code",
   "execution_count": 12,
   "id": "37c70576",
   "metadata": {
    "scrolled": true
   },
   "outputs": [
    {
     "name": "stdout",
     "output_type": "stream",
     "text": [
      "(1, 2, 3)\n",
      "1\n",
      "2\n",
      "3\n",
      "{'no1': 1, 'no2': 2, 'no3': 3}\n",
      "(4, 5, 6)\n",
      "4\n",
      "5\n",
      "6\n",
      "{'no1': 4, 'no2': 5, 'no3': 6}\n"
     ]
    },
    {
     "data": {
      "text/plain": [
       "[{'no1': 1, 'no2': 2, 'no3': 3}, {'no1': 4, 'no2': 5, 'no3': 6}]"
      ]
     },
     "execution_count": 12,
     "metadata": {},
     "output_type": "execute_result"
    }
   ],
   "source": [
    "# 딕셔너리 전체를 담을 리스트 변수\n",
    "list_row = []\n",
    "\n",
    "for tup in row :\n",
    "    print(tup)\n",
    "    dict_row = {}\n",
    "    \n",
    "    for i in range(0, len(tup), 1) :\n",
    "        print(tup[i])\n",
    "        dict_row[col_name[i]] = tup[i]\n",
    "        \n",
    "    print(dict_row)\n",
    "    list_row.append(dict_row)\n",
    "\n",
    "list_row"
   ]
  },
  {
   "cell_type": "code",
   "execution_count": null,
   "id": "34e3e004",
   "metadata": {},
   "outputs": [],
   "source": []
  },
  {
   "cell_type": "code",
   "execution_count": null,
   "id": "f5c47f26",
   "metadata": {},
   "outputs": [],
   "source": []
  },
  {
   "cell_type": "code",
   "execution_count": null,
   "id": "525bc7bd",
   "metadata": {},
   "outputs": [],
   "source": []
  }
 ],
 "metadata": {
  "kernelspec": {
   "display_name": "Python 3 (ipykernel)",
   "language": "python",
   "name": "python3"
  },
  "language_info": {
   "codemirror_mode": {
    "name": "ipython",
    "version": 3
   },
   "file_extension": ".py",
   "mimetype": "text/x-python",
   "name": "python",
   "nbconvert_exporter": "python",
   "pygments_lexer": "ipython3",
   "version": "3.9.7"
  }
 },
 "nbformat": 4,
 "nbformat_minor": 5
}
