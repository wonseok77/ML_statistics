{
 "cells": [
  {
   "cell_type": "markdown",
   "id": "98831a13-d9a1-4277-9680-7c68d0857fbe",
   "metadata": {},
   "source": [
    "## 데이터 불러오기"
   ]
  },
  {
   "cell_type": "code",
   "execution_count": 1,
   "id": "43ccc1fb-6220-4fca-a1f2-9b1c2d7f43ab",
   "metadata": {},
   "outputs": [],
   "source": [
    "### 와인 데이터 사용\n",
    "# - 08_wind.csv 읽어 들이기"
   ]
  },
  {
   "cell_type": "code",
   "execution_count": 2,
   "id": "4d1bddae-3e2f-4fdd-bada-aaed58adfce2",
   "metadata": {},
   "outputs": [],
   "source": [
    "import pandas as pd\n",
    "import numpy as np"
   ]
  },
  {
   "cell_type": "code",
   "execution_count": 3,
   "id": "b8067c0b-173c-4c65-b981-153880de850a",
   "metadata": {},
   "outputs": [],
   "source": [
    "wine = pd.read_csv('./data/08_wine.csv',encoding='utf-8-sig')"
   ]
  },
  {
   "cell_type": "code",
   "execution_count": 4,
   "id": "54bc9ac5-6e01-4045-acad-faa961ff73ff",
   "metadata": {},
   "outputs": [
    {
     "name": "stdout",
     "output_type": "stream",
     "text": [
      "<class 'pandas.core.frame.DataFrame'>\n",
      "RangeIndex: 6497 entries, 0 to 6496\n",
      "Data columns (total 4 columns):\n",
      " #   Column   Non-Null Count  Dtype  \n",
      "---  ------   --------------  -----  \n",
      " 0   alcohol  6497 non-null   float64\n",
      " 1   sugar    6497 non-null   float64\n",
      " 2   pH       6497 non-null   float64\n",
      " 3   class    6497 non-null   float64\n",
      "dtypes: float64(4)\n",
      "memory usage: 203.2 KB\n"
     ]
    }
   ],
   "source": [
    "wine.info()"
   ]
  },
  {
   "cell_type": "code",
   "execution_count": 5,
   "id": "de5097a4-fec0-4ba7-a3b8-adcaf04eb7f5",
   "metadata": {},
   "outputs": [
    {
     "data": {
      "text/html": [
       "<div>\n",
       "<style scoped>\n",
       "    .dataframe tbody tr th:only-of-type {\n",
       "        vertical-align: middle;\n",
       "    }\n",
       "\n",
       "    .dataframe tbody tr th {\n",
       "        vertical-align: top;\n",
       "    }\n",
       "\n",
       "    .dataframe thead th {\n",
       "        text-align: right;\n",
       "    }\n",
       "</style>\n",
       "<table border=\"1\" class=\"dataframe\">\n",
       "  <thead>\n",
       "    <tr style=\"text-align: right;\">\n",
       "      <th></th>\n",
       "      <th>alcohol</th>\n",
       "      <th>sugar</th>\n",
       "      <th>pH</th>\n",
       "      <th>class</th>\n",
       "    </tr>\n",
       "  </thead>\n",
       "  <tbody>\n",
       "    <tr>\n",
       "      <th>0</th>\n",
       "      <td>9.4</td>\n",
       "      <td>1.9</td>\n",
       "      <td>3.51</td>\n",
       "      <td>0.0</td>\n",
       "    </tr>\n",
       "    <tr>\n",
       "      <th>1</th>\n",
       "      <td>9.8</td>\n",
       "      <td>2.6</td>\n",
       "      <td>3.20</td>\n",
       "      <td>0.0</td>\n",
       "    </tr>\n",
       "    <tr>\n",
       "      <th>2</th>\n",
       "      <td>9.8</td>\n",
       "      <td>2.3</td>\n",
       "      <td>3.26</td>\n",
       "      <td>0.0</td>\n",
       "    </tr>\n",
       "    <tr>\n",
       "      <th>3</th>\n",
       "      <td>9.8</td>\n",
       "      <td>1.9</td>\n",
       "      <td>3.16</td>\n",
       "      <td>0.0</td>\n",
       "    </tr>\n",
       "    <tr>\n",
       "      <th>4</th>\n",
       "      <td>9.4</td>\n",
       "      <td>1.9</td>\n",
       "      <td>3.51</td>\n",
       "      <td>0.0</td>\n",
       "    </tr>\n",
       "    <tr>\n",
       "      <th>...</th>\n",
       "      <td>...</td>\n",
       "      <td>...</td>\n",
       "      <td>...</td>\n",
       "      <td>...</td>\n",
       "    </tr>\n",
       "    <tr>\n",
       "      <th>6492</th>\n",
       "      <td>11.2</td>\n",
       "      <td>1.6</td>\n",
       "      <td>3.27</td>\n",
       "      <td>1.0</td>\n",
       "    </tr>\n",
       "    <tr>\n",
       "      <th>6493</th>\n",
       "      <td>9.6</td>\n",
       "      <td>8.0</td>\n",
       "      <td>3.15</td>\n",
       "      <td>1.0</td>\n",
       "    </tr>\n",
       "    <tr>\n",
       "      <th>6494</th>\n",
       "      <td>9.4</td>\n",
       "      <td>1.2</td>\n",
       "      <td>2.99</td>\n",
       "      <td>1.0</td>\n",
       "    </tr>\n",
       "    <tr>\n",
       "      <th>6495</th>\n",
       "      <td>12.8</td>\n",
       "      <td>1.1</td>\n",
       "      <td>3.34</td>\n",
       "      <td>1.0</td>\n",
       "    </tr>\n",
       "    <tr>\n",
       "      <th>6496</th>\n",
       "      <td>11.8</td>\n",
       "      <td>0.8</td>\n",
       "      <td>3.26</td>\n",
       "      <td>1.0</td>\n",
       "    </tr>\n",
       "  </tbody>\n",
       "</table>\n",
       "<p>6497 rows × 4 columns</p>\n",
       "</div>"
      ],
      "text/plain": [
       "      alcohol  sugar    pH  class\n",
       "0         9.4    1.9  3.51    0.0\n",
       "1         9.8    2.6  3.20    0.0\n",
       "2         9.8    2.3  3.26    0.0\n",
       "3         9.8    1.9  3.16    0.0\n",
       "4         9.4    1.9  3.51    0.0\n",
       "...       ...    ...   ...    ...\n",
       "6492     11.2    1.6  3.27    1.0\n",
       "6493      9.6    8.0  3.15    1.0\n",
       "6494      9.4    1.2  2.99    1.0\n",
       "6495     12.8    1.1  3.34    1.0\n",
       "6496     11.8    0.8  3.26    1.0\n",
       "\n",
       "[6497 rows x 4 columns]"
      ]
     },
     "execution_count": 5,
     "metadata": {},
     "output_type": "execute_result"
    }
   ],
   "source": [
    "wine"
   ]
  },
  {
   "cell_type": "code",
   "execution_count": 6,
   "id": "f16befa0-1f33-4cb9-a020-8820a1f82fd7",
   "metadata": {},
   "outputs": [],
   "source": [
    "# pH : 수소이온농도(pH)는 물질의 산성과 알칼리성 정도\n",
    "# alcohol sugar   pH    class\n",
    "# 알콜도수 당도  농도  와인종류\n",
    "\n",
    "### 범주 : 와인종류(0=레드와인, 1=화이트와인)\n",
    "# - 범주가 2개인 경우\n",
    "# -"
   ]
  },
  {
   "cell_type": "code",
   "execution_count": 7,
   "id": "2b6a0317-f832-4cd3-9b4f-3f442e383598",
   "metadata": {},
   "outputs": [
    {
     "data": {
      "text/html": [
       "<div>\n",
       "<style scoped>\n",
       "    .dataframe tbody tr th:only-of-type {\n",
       "        vertical-align: middle;\n",
       "    }\n",
       "\n",
       "    .dataframe tbody tr th {\n",
       "        vertical-align: top;\n",
       "    }\n",
       "\n",
       "    .dataframe thead th {\n",
       "        text-align: right;\n",
       "    }\n",
       "</style>\n",
       "<table border=\"1\" class=\"dataframe\">\n",
       "  <thead>\n",
       "    <tr style=\"text-align: right;\">\n",
       "      <th></th>\n",
       "      <th>alcohol</th>\n",
       "      <th>sugar</th>\n",
       "      <th>pH</th>\n",
       "      <th>class</th>\n",
       "    </tr>\n",
       "  </thead>\n",
       "  <tbody>\n",
       "    <tr>\n",
       "      <th>alcohol</th>\n",
       "      <td>1.000000</td>\n",
       "      <td>-0.359415</td>\n",
       "      <td>0.121248</td>\n",
       "      <td>0.032970</td>\n",
       "    </tr>\n",
       "    <tr>\n",
       "      <th>sugar</th>\n",
       "      <td>-0.359415</td>\n",
       "      <td>1.000000</td>\n",
       "      <td>-0.267320</td>\n",
       "      <td>0.348821</td>\n",
       "    </tr>\n",
       "    <tr>\n",
       "      <th>pH</th>\n",
       "      <td>0.121248</td>\n",
       "      <td>-0.267320</td>\n",
       "      <td>1.000000</td>\n",
       "      <td>-0.329129</td>\n",
       "    </tr>\n",
       "    <tr>\n",
       "      <th>class</th>\n",
       "      <td>0.032970</td>\n",
       "      <td>0.348821</td>\n",
       "      <td>-0.329129</td>\n",
       "      <td>1.000000</td>\n",
       "    </tr>\n",
       "  </tbody>\n",
       "</table>\n",
       "</div>"
      ],
      "text/plain": [
       "          alcohol     sugar        pH     class\n",
       "alcohol  1.000000 -0.359415  0.121248  0.032970\n",
       "sugar   -0.359415  1.000000 -0.267320  0.348821\n",
       "pH       0.121248 -0.267320  1.000000 -0.329129\n",
       "class    0.032970  0.348821 -0.329129  1.000000"
      ]
     },
     "execution_count": 7,
     "metadata": {},
     "output_type": "execute_result"
    }
   ],
   "source": [
    "wine.corr()"
   ]
  },
  {
   "cell_type": "markdown",
   "id": "f17c736e-9460-47c3-bd36-74bc23be23cb",
   "metadata": {},
   "source": [
    "## 전처리"
   ]
  },
  {
   "cell_type": "code",
   "execution_count": 8,
   "id": "9ab429d2-6a2f-4866-9627-c146c3023146",
   "metadata": {},
   "outputs": [],
   "source": [
    "# 독립변수, 종속변수 데이터 추출하기\n",
    "wine_x = wine[['alcohol','sugar','pH']]\n",
    "wine_y = wine['class']"
   ]
  },
  {
   "cell_type": "code",
   "execution_count": 9,
   "id": "9f1529bb-fb55-4be8-885d-0ba68aa52b71",
   "metadata": {},
   "outputs": [],
   "source": [
    "# 훈련데이터, 테스트데이터 분리하기\n",
    "from sklearn.model_selection import train_test_split\n",
    "train_input, test_input, train_target, test_target = train_test_split(wine_x, wine_y, test_size=0.25, random_state = 42)"
   ]
  },
  {
   "cell_type": "code",
   "execution_count": 10,
   "id": "24031fa4-e784-4189-890b-0ff66e5afe60",
   "metadata": {},
   "outputs": [],
   "source": [
    "# 스케일 정규화(표준화)\n",
    "from sklearn.preprocessing import StandardScaler\n",
    "\n",
    "# 표준화 객체 생성하기\n",
    "ss = StandardScaler()\n",
    "\n",
    "# 스스로 표준점수 생성\n",
    "ss.fit(train_input)\n",
    "\n",
    "# 훈련 및 테스트 입력 데이터 표준점수로 변환하기\n",
    "# - 타겟 데이터는 절대 변경하면 안됩니다(정답입니다)\n",
    "train_scaled = ss.transform(train_input)\n",
    "test_scaled = ss.transform(test_input)"
   ]
  },
  {
   "cell_type": "code",
   "execution_count": 11,
   "id": "3ef9e6b9-e498-4565-8f54-4349a53c465d",
   "metadata": {},
   "outputs": [
    {
     "data": {
      "text/plain": [
       "array([[ 1.43086676,  1.53491803,  0.27112975],\n",
       "       [-0.49421772, -0.68112804,  0.3336863 ],\n",
       "       [ 1.26346811,  0.4059889 , -0.22932266],\n",
       "       ...,\n",
       "       [-0.66161637,  0.44780109,  1.45970424],\n",
       "       [-1.16381232,  1.03317175,  0.64646906],\n",
       "       [ 0.25907621,  0.53142547, -0.98000128]])"
      ]
     },
     "execution_count": 11,
     "metadata": {},
     "output_type": "execute_result"
    }
   ],
   "source": [
    "test_scaled"
   ]
  },
  {
   "cell_type": "markdown",
   "id": "6ff886cf-3730-4a4c-ad15-719dcd8906b4",
   "metadata": {},
   "source": [
    "## 우선, 로지스틱회귀 분류로 해보기"
   ]
  },
  {
   "cell_type": "code",
   "execution_count": 12,
   "id": "ea7e07fa-f785-4a73-8851-863d275489c7",
   "metadata": {},
   "outputs": [
    {
     "name": "stdout",
     "output_type": "stream",
     "text": [
      "훈련 =  0.7859195402298851\n",
      "테스트 =  0.7655384615384615\n",
      "계수 = [[ 0.53273869  1.67940585 -0.7090217 ]]  y절편=  [1.84713933]\n"
     ]
    }
   ],
   "source": [
    "# 훈련/테스트 데이터 검증, 계수 및 y절편까지 출력 ...\n",
    "from sklearn.linear_model import LogisticRegression\n",
    "\n",
    "lr = LogisticRegression()\n",
    "lr.fit(train_scaled, train_target)\n",
    "print('훈련 = ', lr.score(train_scaled, train_target))\n",
    "print('테스트 = ' , lr.score(test_scaled , test_target))\n",
    "\n",
    "\n",
    "### coef : 계수, intercept_ : y절편\n",
    "print('계수 =',lr.coef_, ' y절편= ', lr.intercept_)\n",
    "\n",
    "\n",
    "### (해석)\n",
    "# - 훈련 및 테스트 모두 매우 낮은 정확도를 나타내며,\n",
    "# - 모두 과소적합을 보이고 있다."
   ]
  },
  {
   "cell_type": "code",
   "execution_count": 13,
   "id": "d465ff40-e4c5-456b-aab2-22380ce21dd5",
   "metadata": {},
   "outputs": [],
   "source": [
    "#### <출력 결과>\n",
    "# - class_pred가 추가된 데이터프레임 출력\n",
    "# - (출력결과) 데이터프레임의 5개 컬럼 모두 출력\n",
    "# alcohol, sugar, pH, class, class_pred\n",
    "\n",
    "# - 정답을 맞춘 갯수와 틀린 갯수 출력하기\n",
    "# (출력 예시) 총 갯수 [6457]건 중에, 정답갯수 [5061]건, 오답 갯수 [1436]건\n",
    "\n",
    "# - 정답률과 오답률 출력하기\n",
    "# (출력 예시) 총 100.0% 중 정답률[77.9%], 오답률 [22.1%]\n",
    "wind_scaled = ss.transform(wine_x)\n",
    "pred = lr.predict(wind_scaled)"
   ]
  },
  {
   "cell_type": "code",
   "execution_count": 14,
   "id": "261c370b-864d-4b41-bda8-96473532eede",
   "metadata": {},
   "outputs": [
    {
     "data": {
      "text/html": [
       "<div>\n",
       "<style scoped>\n",
       "    .dataframe tbody tr th:only-of-type {\n",
       "        vertical-align: middle;\n",
       "    }\n",
       "\n",
       "    .dataframe tbody tr th {\n",
       "        vertical-align: top;\n",
       "    }\n",
       "\n",
       "    .dataframe thead th {\n",
       "        text-align: right;\n",
       "    }\n",
       "</style>\n",
       "<table border=\"1\" class=\"dataframe\">\n",
       "  <thead>\n",
       "    <tr style=\"text-align: right;\">\n",
       "      <th></th>\n",
       "      <th>alcohol</th>\n",
       "      <th>sugar</th>\n",
       "      <th>pH</th>\n",
       "      <th>class</th>\n",
       "      <th>class_pred</th>\n",
       "    </tr>\n",
       "  </thead>\n",
       "  <tbody>\n",
       "    <tr>\n",
       "      <th>0</th>\n",
       "      <td>9.4</td>\n",
       "      <td>1.9</td>\n",
       "      <td>3.51</td>\n",
       "      <td>0.0</td>\n",
       "      <td>0.0</td>\n",
       "    </tr>\n",
       "    <tr>\n",
       "      <th>1</th>\n",
       "      <td>9.8</td>\n",
       "      <td>2.6</td>\n",
       "      <td>3.20</td>\n",
       "      <td>0.0</td>\n",
       "      <td>1.0</td>\n",
       "    </tr>\n",
       "    <tr>\n",
       "      <th>2</th>\n",
       "      <td>9.8</td>\n",
       "      <td>2.3</td>\n",
       "      <td>3.26</td>\n",
       "      <td>0.0</td>\n",
       "      <td>1.0</td>\n",
       "    </tr>\n",
       "    <tr>\n",
       "      <th>3</th>\n",
       "      <td>9.8</td>\n",
       "      <td>1.9</td>\n",
       "      <td>3.16</td>\n",
       "      <td>0.0</td>\n",
       "      <td>1.0</td>\n",
       "    </tr>\n",
       "    <tr>\n",
       "      <th>4</th>\n",
       "      <td>9.4</td>\n",
       "      <td>1.9</td>\n",
       "      <td>3.51</td>\n",
       "      <td>0.0</td>\n",
       "      <td>0.0</td>\n",
       "    </tr>\n",
       "    <tr>\n",
       "      <th>...</th>\n",
       "      <td>...</td>\n",
       "      <td>...</td>\n",
       "      <td>...</td>\n",
       "      <td>...</td>\n",
       "      <td>...</td>\n",
       "    </tr>\n",
       "    <tr>\n",
       "      <th>6492</th>\n",
       "      <td>11.2</td>\n",
       "      <td>1.6</td>\n",
       "      <td>3.27</td>\n",
       "      <td>1.0</td>\n",
       "      <td>1.0</td>\n",
       "    </tr>\n",
       "    <tr>\n",
       "      <th>6493</th>\n",
       "      <td>9.6</td>\n",
       "      <td>8.0</td>\n",
       "      <td>3.15</td>\n",
       "      <td>1.0</td>\n",
       "      <td>1.0</td>\n",
       "    </tr>\n",
       "    <tr>\n",
       "      <th>6494</th>\n",
       "      <td>9.4</td>\n",
       "      <td>1.2</td>\n",
       "      <td>2.99</td>\n",
       "      <td>1.0</td>\n",
       "      <td>1.0</td>\n",
       "    </tr>\n",
       "    <tr>\n",
       "      <th>6495</th>\n",
       "      <td>12.8</td>\n",
       "      <td>1.1</td>\n",
       "      <td>3.34</td>\n",
       "      <td>1.0</td>\n",
       "      <td>1.0</td>\n",
       "    </tr>\n",
       "    <tr>\n",
       "      <th>6496</th>\n",
       "      <td>11.8</td>\n",
       "      <td>0.8</td>\n",
       "      <td>3.26</td>\n",
       "      <td>1.0</td>\n",
       "      <td>1.0</td>\n",
       "    </tr>\n",
       "  </tbody>\n",
       "</table>\n",
       "<p>6497 rows × 5 columns</p>\n",
       "</div>"
      ],
      "text/plain": [
       "      alcohol  sugar    pH  class  class_pred\n",
       "0         9.4    1.9  3.51    0.0         0.0\n",
       "1         9.8    2.6  3.20    0.0         1.0\n",
       "2         9.8    2.3  3.26    0.0         1.0\n",
       "3         9.8    1.9  3.16    0.0         1.0\n",
       "4         9.4    1.9  3.51    0.0         0.0\n",
       "...       ...    ...   ...    ...         ...\n",
       "6492     11.2    1.6  3.27    1.0         1.0\n",
       "6493      9.6    8.0  3.15    1.0         1.0\n",
       "6494      9.4    1.2  2.99    1.0         1.0\n",
       "6495     12.8    1.1  3.34    1.0         1.0\n",
       "6496     11.8    0.8  3.26    1.0         1.0\n",
       "\n",
       "[6497 rows x 5 columns]"
      ]
     },
     "execution_count": 14,
     "metadata": {},
     "output_type": "execute_result"
    }
   ],
   "source": [
    "wine['class_pred'] = pred\n",
    "wine"
   ]
  },
  {
   "cell_type": "code",
   "execution_count": 15,
   "id": "739a431e-ca26-4004-bfa6-eafb3a172ee6",
   "metadata": {},
   "outputs": [
    {
     "name": "stdout",
     "output_type": "stream",
     "text": [
      "총 개수[ 6497 ]건 중에, 정답갯수[ 5073 ]건, 오답 갯수[ 1424 ]건\n",
      "총( 100.0 %)건 중에, 정답률[ 78.08 %], 오답률[ 21.92 %]\n"
     ]
    }
   ],
   "source": [
    "ok = sum(wine['class'] == wine['class_pred'])\n",
    "nok = sum(wine['class'] != wine['class_pred'])\n",
    "# 정답을 맞춘 갯수와 틀린 갯수 출력하기\n",
    "# (출력 예시) 총 개수[159]건 중에, 정답갯수[149]건, 오답 갯수[10]건\n",
    "print('총 개수[',len(wine),']건 중에, 정답갯수[',ok,']건, 오답 갯수[',nok,']건')\n",
    "\n",
    "# - 정답률과 오답률 출력하기\n",
    "# (출력 예시) 총 100.0% 중 정답률(93.71%), 오답률(6.29%)\n",
    "print('총(',len(wine)/len(wine)*100,'%)건 중에, 정답률[',round(ok/len(wine)*100,2),'%], 오답률[',round(nok/len(wine)*100,2),'%]')"
   ]
  },
  {
   "cell_type": "markdown",
   "id": "4370761b-7eb5-461d-811d-c12ceb12aee5",
   "metadata": {},
   "source": [
    "## 결정 트리(Decision Tree)\n",
    "##### - 질문(조건)을 통해서 트리(Tree와 False) 2개씩으로 가지를 치면서 분류를 한다.\n",
    "##### - 질문을 스스로 찾아서, 계속해서 질문(조건)을 만들어 나가면서 분류(트리)함\n",
    "##### - 더 이상 질문이 없으면 결정(Decision)하게 된다.\n",
    "##### - 분류 정확도가 높다\n",
    "##### - 질문(조건)을 통해 분류해 나가는 절차를 시각화 가능하다.(장점)\n",
    "##### - 시각화 함수 : 사이킷런 패키지의 plot_tree(모델변수)"
   ]
  },
  {
   "cell_type": "code",
   "execution_count": 16,
   "id": "0cf158f0-ed51-490d-99e9-5a03ffc5d5be",
   "metadata": {},
   "outputs": [
    {
     "name": "stdout",
     "output_type": "stream",
     "text": [
      "훈련 =   0.9973316912972086\n",
      "테스트 =  0.8516923076923076\n"
     ]
    }
   ],
   "source": [
    "### 사용하는 패키지 : sklearn.tree\n",
    "### 사용하는 클래스 : DecisionTreeClassifier\n",
    "from sklearn.tree import DecisionTreeClassifier\n",
    "dt = DecisionTreeClassifier(random_state=42)\n",
    "dt.fit(train_scaled,train_target)\n",
    "print('훈련 =  ', dt.score(train_scaled, train_target))\n",
    "print('테스트 = ' , dt.score(test_scaled, test_target))"
   ]
  },
  {
   "cell_type": "code",
   "execution_count": 17,
   "id": "f50ee851-c44e-41ae-8f9b-b0cd104ed550",
   "metadata": {
    "tags": []
   },
   "outputs": [
    {
     "data": {
      "image/png": "[encoded data removed]",
      "text/plain": [
       "<Figure size 1440x1440 with 1 Axes>"
      ]
     },
     "metadata": {
      "needs_background": "light"
     },
     "output_type": "display_data"
    }
   ],
   "source": [
    "## (해석)\n",
    "## 트리시각화\n",
    "## 과대적합이 나왔다\n",
    "\n",
    "import matplotlib.pyplot as plt\n",
    "from sklearn.tree import plot_tree\n",
    "\n",
    "# max_depth : 트리의 깊이(첫번재를 제외하고 2개까지 만들기)\n",
    "# filled : 독립변수별로 색으로 구분\n",
    "# feature_names : 사용된 독립변수 이름\n",
    "plt.figure(figsize=(20,20))\n",
    "plot_tree(dt, max_depth=2, filled=True, \n",
    "         feature_names = ['alcohol','sugar','pH'])\n",
    "plt.show()\n",
    "\n",
    "# - gini : 불순도\n",
    "# - samples : 훈련에 사용된 총 데이터수\n",
    "# - value : 범주별로 사용된(구분된) 데이터수\n",
    "\n",
    "# - 가장 첫번째 트리 : 루트노드(root node)\n",
    "# - 가장 아래 트리 : 리프노드(leaf node)\n"
   ]
  },
  {
   "cell_type": "markdown",
   "id": "39060d46-e130-487a-9967-e0371abc2b67",
   "metadata": {},
   "source": [
    "## 가지치기\n",
    "##### - max-depth : 트리의 갯수로 제한\n",
    "##### - 트리가 너무 뻣어 나가도 정확도가 떨어집니다.\n",
    "##### - 제한 없이 뻣어나가는 것을 max_depth로 제어"
   ]
  },
  {
   "cell_type": "code",
   "execution_count": 18,
   "id": "18bac2a8-9e1b-4a7d-8bfa-6813ffa95ad3",
   "metadata": {},
   "outputs": [],
   "source": [
    "### max_depth를 3으로 해서 다시 훈련을 시켜주세요...\n",
    "# - 훈련\\테스트 정확도 확인까지 ...\n",
    "# - 트리 시각화까지 ..."
   ]
  },
  {
   "cell_type": "code",
   "execution_count": 31,
   "id": "f0c5e4e4-e505-4d56-aff2-782909b4e12b",
   "metadata": {},
   "outputs": [
    {
     "name": "stdout",
     "output_type": "stream",
     "text": [
      "0.8499589490968801\n",
      "0.8363076923076923\n"
     ]
    },
    {
     "data": {
      "image/png": "[encoded data removed]",
      "text/plain": [
       "<Figure size 1440x1440 with 1 Axes>"
      ]
     },
     "metadata": {
      "needs_background": "light"
     },
     "output_type": "display_data"
    }
   ],
   "source": [
    "### 결정트리 패키지 불러오기\n",
    "from sklearn.tree import DecisionTreeClassifier\n",
    "\n",
    "### 클래스 생성하기\n",
    "dt = DecisionTreeClassifier(max_depth = 3, random_state = 42)\n",
    "\n",
    "### 훈련모델 생성하기\n",
    "dt.fit(train_scaled, train_target)\n",
    "\n",
    "### 훈련 및 테스트 데이터 정확도 확인하기\n",
    "print(dt.score(train_scaled, train_target))\n",
    "print(dt.score(test_scaled, test_target))\n",
    "\n",
    "import matplotlib.pyplot as plt\n",
    "from sklearn.tree import plot_tree\n",
    "\n",
    "# max_depth : 트리의 깊이(첫번재를 제외하고 2개까지 만들기)\n",
    "# filled : 독립변수별로 색으로 구분\n",
    "# feature_names : 사용된 독립변수 이름\n",
    "plt.figure(figsize=(20,20))\n",
    "plot_tree(dt, max_depth=4, filled=True, \n",
    "         feature_names = ['alcohol','sugar','pH'])\n",
    "plt.show()"
   ]
  },
  {
   "cell_type": "markdown",
   "id": "004e7496-529f-490e-89ae-6d0c59fd3130",
   "metadata": {},
   "source": [
    "##### - 처음에 sugar로 시작한 이유 sugar가 양의상관관계가 가장 높기 때문"
   ]
  },
  {
   "cell_type": "markdown",
   "id": "a24a4edc-5958-406b-b167-d2db95dc6824",
   "metadata": {
    "tags": []
   },
   "source": [
    "## 특성중요도"
   ]
  },
  {
   "cell_type": "code",
   "execution_count": 20,
   "id": "77120242-6ea2-469f-ae61-2379a9c80c6c",
   "metadata": {},
   "outputs": [],
   "source": [
    "### 트리 훈련에 사용된 독립변수(특성=퓨처)들의 정확도 확인\n",
    "#- 정확도가 가장 높은 독립변수가 훈련에 영향을 가장 많이 미쳤다고 판단"
   ]
  },
  {
   "cell_type": "code",
   "execution_count": 21,
   "id": "3cf03df8-d230-41cb-9317-b4da4376a720",
   "metadata": {},
   "outputs": [
    {
     "name": "stdout",
     "output_type": "stream",
     "text": [
      "[0. 1. 0.]\n"
     ]
    }
   ],
   "source": [
    "print(dt.feature_importances_)"
   ]
  },
  {
   "cell_type": "markdown",
   "id": "aa5b4f89-9e40-473b-a728-250ce439b858",
   "metadata": {},
   "source": [
    "### - 변수 순차적으로 제거하면서 확인"
   ]
  },
  {
   "cell_type": "code",
   "execution_count": 22,
   "id": "514f6485-38de-4859-94f1-45d3b9c3a5bf",
   "metadata": {},
   "outputs": [
    {
     "data": {
      "text/html": [
       "<div>\n",
       "<style scoped>\n",
       "    .dataframe tbody tr th:only-of-type {\n",
       "        vertical-align: middle;\n",
       "    }\n",
       "\n",
       "    .dataframe tbody tr th {\n",
       "        vertical-align: top;\n",
       "    }\n",
       "\n",
       "    .dataframe thead th {\n",
       "        text-align: right;\n",
       "    }\n",
       "</style>\n",
       "<table border=\"1\" class=\"dataframe\">\n",
       "  <thead>\n",
       "    <tr style=\"text-align: right;\">\n",
       "      <th></th>\n",
       "      <th>alcohol</th>\n",
       "      <th>sugar</th>\n",
       "    </tr>\n",
       "  </thead>\n",
       "  <tbody>\n",
       "    <tr>\n",
       "      <th>0</th>\n",
       "      <td>9.4</td>\n",
       "      <td>1.9</td>\n",
       "    </tr>\n",
       "    <tr>\n",
       "      <th>1</th>\n",
       "      <td>9.8</td>\n",
       "      <td>2.6</td>\n",
       "    </tr>\n",
       "    <tr>\n",
       "      <th>2</th>\n",
       "      <td>9.8</td>\n",
       "      <td>2.3</td>\n",
       "    </tr>\n",
       "    <tr>\n",
       "      <th>3</th>\n",
       "      <td>9.8</td>\n",
       "      <td>1.9</td>\n",
       "    </tr>\n",
       "    <tr>\n",
       "      <th>4</th>\n",
       "      <td>9.4</td>\n",
       "      <td>1.9</td>\n",
       "    </tr>\n",
       "    <tr>\n",
       "      <th>...</th>\n",
       "      <td>...</td>\n",
       "      <td>...</td>\n",
       "    </tr>\n",
       "    <tr>\n",
       "      <th>6492</th>\n",
       "      <td>11.2</td>\n",
       "      <td>1.6</td>\n",
       "    </tr>\n",
       "    <tr>\n",
       "      <th>6493</th>\n",
       "      <td>9.6</td>\n",
       "      <td>8.0</td>\n",
       "    </tr>\n",
       "    <tr>\n",
       "      <th>6494</th>\n",
       "      <td>9.4</td>\n",
       "      <td>1.2</td>\n",
       "    </tr>\n",
       "    <tr>\n",
       "      <th>6495</th>\n",
       "      <td>12.8</td>\n",
       "      <td>1.1</td>\n",
       "    </tr>\n",
       "    <tr>\n",
       "      <th>6496</th>\n",
       "      <td>11.8</td>\n",
       "      <td>0.8</td>\n",
       "    </tr>\n",
       "  </tbody>\n",
       "</table>\n",
       "<p>6497 rows × 2 columns</p>\n",
       "</div>"
      ],
      "text/plain": [
       "      alcohol  sugar\n",
       "0         9.4    1.9\n",
       "1         9.8    2.6\n",
       "2         9.8    2.3\n",
       "3         9.8    1.9\n",
       "4         9.4    1.9\n",
       "...       ...    ...\n",
       "6492     11.2    1.6\n",
       "6493      9.6    8.0\n",
       "6494      9.4    1.2\n",
       "6495     12.8    1.1\n",
       "6496     11.8    0.8\n",
       "\n",
       "[6497 rows x 2 columns]"
      ]
     },
     "execution_count": 22,
     "metadata": {},
     "output_type": "execute_result"
    }
   ],
   "source": [
    "wine_xx = wine_x[['alcohol','sugar']]\n",
    "wine_xx"
   ]
  },
  {
   "cell_type": "code",
   "execution_count": 23,
   "id": "aa27aaa3-7545-4314-b8b3-470ea327a614",
   "metadata": {},
   "outputs": [],
   "source": [
    "ss.fit(wine_xx,wine_y)\n",
    "wine_xx_scaled = ss.transform(wine_xx)"
   ]
  },
  {
   "cell_type": "code",
   "execution_count": 24,
   "id": "6c706998-c40f-45c0-9a13-f7ca583c381f",
   "metadata": {},
   "outputs": [
    {
     "name": "stdout",
     "output_type": "stream",
     "text": [
      "훈련 =   0.8466984762197938\n"
     ]
    }
   ],
   "source": [
    "from sklearn.tree import DecisionTreeClassifier\n",
    "dt = DecisionTreeClassifier(max_depth = 3,random_state=42)\n",
    "dt.fit(wine_xx_scaled,wine_y)\n",
    "print('훈련 =  ', dt.score(wine_xx_scaled, wine_y))\n",
    "# print('테스트 = ' , dt.score(test_scaled, test_target))"
   ]
  },
  {
   "cell_type": "code",
   "execution_count": 25,
   "id": "0b37bbe9-9258-4a30-b92a-8f1d6e64c9b4",
   "metadata": {},
   "outputs": [
    {
     "name": "stdout",
     "output_type": "stream",
     "text": [
      "[0.12812366 0.87187634]\n"
     ]
    }
   ],
   "source": [
    "print(dt.feature_importances_)"
   ]
  },
  {
   "cell_type": "markdown",
   "id": "a6fdab82-d708-4148-8bf5-e96ac7f84b4b",
   "metadata": {},
   "source": [
    "##### 변수 한개 바꾸기"
   ]
  },
  {
   "cell_type": "code",
   "execution_count": 26,
   "id": "fc7a338b-bc11-4a2d-82aa-776fc01013b6",
   "metadata": {},
   "outputs": [],
   "source": [
    "wine_xxx = wine[['alcohol','pH']]\n",
    "wine_xxx = wine_xxx.to_numpy()"
   ]
  },
  {
   "cell_type": "code",
   "execution_count": 27,
   "id": "a99fc2bd-1281-4e7e-b600-c7f25a6c33f3",
   "metadata": {},
   "outputs": [],
   "source": [
    "ss.fit(wine_xxx,wine_y)\n",
    "wine_xxx_scaled = ss.transform(wine_xxx)"
   ]
  },
  {
   "cell_type": "code",
   "execution_count": 28,
   "id": "0a0edf9e-bade-405e-845d-c97819ef1537",
   "metadata": {},
   "outputs": [
    {
     "name": "stdout",
     "output_type": "stream",
     "text": [
      "훈련 =   0.7621979375096198\n"
     ]
    }
   ],
   "source": [
    "from sklearn.tree import DecisionTreeClassifier\n",
    "dt = DecisionTreeClassifier(max_depth = 3, random_state=42)\n",
    "dt.fit(wine_xxx_scaled , wine_y)\n",
    "print('훈련 =  ', dt.score(wine_xxx_scaled, wine_y))\n",
    "# print('테스트 = ' , dt.score(test_scaled, test_target))"
   ]
  },
  {
   "cell_type": "code",
   "execution_count": 29,
   "id": "09157467-2fe8-4caa-9d12-285f18a45134",
   "metadata": {},
   "outputs": [
    {
     "name": "stdout",
     "output_type": "stream",
     "text": [
      "[0.09539857 0.90460143]\n"
     ]
    }
   ],
   "source": [
    "print(dt.feature_importances_)"
   ]
  },
  {
   "cell_type": "code",
   "execution_count": 41,
   "id": "9df54e13-0b1d-400f-a8d3-22cca57b1ae1",
   "metadata": {},
   "outputs": [],
   "source": [
    "# - class_pred가 추가된 데이터프레임 출력\n",
    "# (출력결과) 데이터프레임 5개 칼럼 모두 출력\n",
    "# alchohol, sugar, pH, class, class_pred\n",
    "\n",
    "# - 정답을 맞춘 갯수와 틀린 갯수 출력하기\n",
    "# (출력 예시) 총 갯수 [6497]건 중에, 정답갯수[5488]건, 오답 갯수[1009]건\n",
    "\n",
    "# - 정답률과 오답률  출력하기\n",
    "# (출력 예시) 총 100.0% 중 정답률[84.47%], 오답률[15.53%]"
   ]
  },
  {
   "cell_type": "code",
   "execution_count": 42,
   "id": "0f60905c-6b55-49a4-8e7c-0ead59a61d19",
   "metadata": {},
   "outputs": [],
   "source": [
    "ss.fit(wine_x,wine_y)\n",
    "wine_scaled=ss.transform(wine_x)"
   ]
  },
  {
   "cell_type": "code",
   "execution_count": 47,
   "id": "897ce7ea-8bf3-4c82-8606-4630105d2c27",
   "metadata": {},
   "outputs": [
    {
     "data": {
      "text/plain": [
       "6497"
      ]
     },
     "execution_count": 47,
     "metadata": {},
     "output_type": "execute_result"
    }
   ],
   "source": [
    "len(wine_y)"
   ]
  },
  {
   "cell_type": "code",
   "execution_count": 49,
   "id": "cf952508-8069-4e09-84c1-d59629719bdf",
   "metadata": {},
   "outputs": [
    {
     "name": "stdout",
     "output_type": "stream",
     "text": [
      "훈련 =   0.9967677389564414\n"
     ]
    }
   ],
   "source": [
    "### 사용하는 패키지 : sklearn.tree\n",
    "### 사용하는 클래스 : DecisionTreeClassifier\n",
    "from sklearn.tree import DecisionTreeClassifier\n",
    "dt = DecisionTreeClassifier(random_state=42)\n",
    "dt.fit(wine_scaled,wine_y)\n",
    "print('훈련 =  ', dt.score(wine_scaled, wine_y))\n",
    "# print('테스트 = ' , dt.score(wine_scaled, test_target))"
   ]
  },
  {
   "cell_type": "code",
   "execution_count": 50,
   "id": "fe70ae61-0a80-4bd2-9bbe-7fdf68e97624",
   "metadata": {},
   "outputs": [],
   "source": [
    "pred = dt.predict(wine_scaled)"
   ]
  },
  {
   "cell_type": "code",
   "execution_count": 53,
   "id": "53157b8f-4b8e-4ddb-9021-d3712bbd597a",
   "metadata": {},
   "outputs": [
    {
     "data": {
      "text/html": [
       "<div>\n",
       "<style scoped>\n",
       "    .dataframe tbody tr th:only-of-type {\n",
       "        vertical-align: middle;\n",
       "    }\n",
       "\n",
       "    .dataframe tbody tr th {\n",
       "        vertical-align: top;\n",
       "    }\n",
       "\n",
       "    .dataframe thead th {\n",
       "        text-align: right;\n",
       "    }\n",
       "</style>\n",
       "<table border=\"1\" class=\"dataframe\">\n",
       "  <thead>\n",
       "    <tr style=\"text-align: right;\">\n",
       "      <th></th>\n",
       "      <th>alcohol</th>\n",
       "      <th>sugar</th>\n",
       "      <th>pH</th>\n",
       "      <th>class</th>\n",
       "      <th>class_pred</th>\n",
       "    </tr>\n",
       "  </thead>\n",
       "  <tbody>\n",
       "    <tr>\n",
       "      <th>0</th>\n",
       "      <td>9.4</td>\n",
       "      <td>1.9</td>\n",
       "      <td>3.51</td>\n",
       "      <td>0.0</td>\n",
       "      <td>0.0</td>\n",
       "    </tr>\n",
       "    <tr>\n",
       "      <th>1</th>\n",
       "      <td>9.8</td>\n",
       "      <td>2.6</td>\n",
       "      <td>3.20</td>\n",
       "      <td>0.0</td>\n",
       "      <td>0.0</td>\n",
       "    </tr>\n",
       "    <tr>\n",
       "      <th>2</th>\n",
       "      <td>9.8</td>\n",
       "      <td>2.3</td>\n",
       "      <td>3.26</td>\n",
       "      <td>0.0</td>\n",
       "      <td>0.0</td>\n",
       "    </tr>\n",
       "    <tr>\n",
       "      <th>3</th>\n",
       "      <td>9.8</td>\n",
       "      <td>1.9</td>\n",
       "      <td>3.16</td>\n",
       "      <td>0.0</td>\n",
       "      <td>0.0</td>\n",
       "    </tr>\n",
       "    <tr>\n",
       "      <th>4</th>\n",
       "      <td>9.4</td>\n",
       "      <td>1.9</td>\n",
       "      <td>3.51</td>\n",
       "      <td>0.0</td>\n",
       "      <td>0.0</td>\n",
       "    </tr>\n",
       "    <tr>\n",
       "      <th>...</th>\n",
       "      <td>...</td>\n",
       "      <td>...</td>\n",
       "      <td>...</td>\n",
       "      <td>...</td>\n",
       "      <td>...</td>\n",
       "    </tr>\n",
       "    <tr>\n",
       "      <th>6492</th>\n",
       "      <td>11.2</td>\n",
       "      <td>1.6</td>\n",
       "      <td>3.27</td>\n",
       "      <td>1.0</td>\n",
       "      <td>1.0</td>\n",
       "    </tr>\n",
       "    <tr>\n",
       "      <th>6493</th>\n",
       "      <td>9.6</td>\n",
       "      <td>8.0</td>\n",
       "      <td>3.15</td>\n",
       "      <td>1.0</td>\n",
       "      <td>1.0</td>\n",
       "    </tr>\n",
       "    <tr>\n",
       "      <th>6494</th>\n",
       "      <td>9.4</td>\n",
       "      <td>1.2</td>\n",
       "      <td>2.99</td>\n",
       "      <td>1.0</td>\n",
       "      <td>1.0</td>\n",
       "    </tr>\n",
       "    <tr>\n",
       "      <th>6495</th>\n",
       "      <td>12.8</td>\n",
       "      <td>1.1</td>\n",
       "      <td>3.34</td>\n",
       "      <td>1.0</td>\n",
       "      <td>1.0</td>\n",
       "    </tr>\n",
       "    <tr>\n",
       "      <th>6496</th>\n",
       "      <td>11.8</td>\n",
       "      <td>0.8</td>\n",
       "      <td>3.26</td>\n",
       "      <td>1.0</td>\n",
       "      <td>1.0</td>\n",
       "    </tr>\n",
       "  </tbody>\n",
       "</table>\n",
       "<p>6497 rows × 5 columns</p>\n",
       "</div>"
      ],
      "text/plain": [
       "      alcohol  sugar    pH  class  class_pred\n",
       "0         9.4    1.9  3.51    0.0         0.0\n",
       "1         9.8    2.6  3.20    0.0         0.0\n",
       "2         9.8    2.3  3.26    0.0         0.0\n",
       "3         9.8    1.9  3.16    0.0         0.0\n",
       "4         9.4    1.9  3.51    0.0         0.0\n",
       "...       ...    ...   ...    ...         ...\n",
       "6492     11.2    1.6  3.27    1.0         1.0\n",
       "6493      9.6    8.0  3.15    1.0         1.0\n",
       "6494      9.4    1.2  2.99    1.0         1.0\n",
       "6495     12.8    1.1  3.34    1.0         1.0\n",
       "6496     11.8    0.8  3.26    1.0         1.0\n",
       "\n",
       "[6497 rows x 5 columns]"
      ]
     },
     "execution_count": 53,
     "metadata": {},
     "output_type": "execute_result"
    }
   ],
   "source": [
    "wine['class_pred'] = pred\n",
    "wine"
   ]
  },
  {
   "cell_type": "code",
   "execution_count": 58,
   "id": "4ac8eefb-fec1-4bc6-a733-831c3d70a60e",
   "metadata": {},
   "outputs": [
    {
     "name": "stdout",
     "output_type": "stream",
     "text": [
      "총 개수[ 6497 ]건 중에, 정답갯수[ 6476 ]건, 오답 갯수[ 21 ]건\n",
      "총( 100.0 %)건 중에, 정답률[ 99.68 %], 오답률[ 0.32 %]\n"
     ]
    }
   ],
   "source": [
    "ok = sum(wine['class'] == wine['class_pred'])\n",
    "nok = sum(wine['class'] != wine['class_pred'])\n",
    "# 정답을 맞춘 갯수와 틀린 갯수 출력하기\n",
    "# (출력 예시) 총 개수[159]건 중에, 정답갯수[149]건, 오답 갯수[10]건\n",
    "print('총 개수[',len(wine),']건 중에, 정답갯수[',ok,']건, 오답 갯수[',nok,']건')\n",
    "\n",
    "# - 정답률과 오답률 출력하기\n",
    "# (출력 예시) 총 100.0% 중 정답률(93.71%), 오답률(6.29%)\n",
    "print('총(',len(wine)/len(wine)*100,'%)건 중에, 정답률[',round(ok/len(wine)*100,2),'%], 오답률[',round(nok/len(wine)*100,2),'%]')"
   ]
  },
  {
   "cell_type": "markdown",
   "id": "85d3324e-ee4e-40d9-869f-b79e2853bb59",
   "metadata": {
    "tags": []
   },
   "source": [
    "## 문제 : 와인데이터 전체\n",
    "##### [지금까지 배운 분류모델] 적용해보기\n",
    "##### - 독립변수 : 특성을 자유롭게 조합해 가면서 검증해 보기\n",
    "##### ........(특성을 자유롭게 조합하여 적용해 가면서 정확도 차이 확인)\n",
    "##### ........(전체 특성을 모두 적용도 해보세요)\n",
    "##### - 사용한 모델별로, 예측(predict) 을 통한 결과를, 데이터 프레임에 col_predict 컬럼명으로 추가"
   ]
  },
  {
   "cell_type": "code",
   "execution_count": null,
   "id": "4bc2b93e-4a5d-4de5-9cd9-48289b619252",
   "metadata": {},
   "outputs": [],
   "source": [
    "## [문제] 와인 데이터 사용\n",
    "# 와인의 화학 조성을 사용하여 와인의 종류 예측(자유롭게)..\n",
    "\n",
    "# ** 특성 이름을 담고 있는 key 값 = feature_names\n",
    "# ** 특성 데이터를 담고 있는 key 값 = data\n",
    "# ** 범주 와인의 종류를 담고 있는 key값 = target_names\n",
    "#       - 범주는 'class_0'과 'class_1' 만 사용 (0과 1로 변경하여 사용)\n",
    "#       - (0=레드와인, 1= 화이트와인)\n",
    "\n",
    "\n",
    "# 알콜 (Alcohol)\n",
    "# 말산 (Malic acid)\n",
    "# 회분 (Ash)\n",
    "# 회분의 알칼리도(Alcalinity of ash)\n",
    "# 마그네슘(Magnesium)\n",
    "# 총 폴리페놀(Total phenois)\n",
    "# 플라보노이드 폴리페놀(Flavanoids)\n",
    "# 비 플라보노이드 폴리페놀(Nonfiavanoid phenois)\n",
    "# 프로안토시아닌(Proanthocyanins)\n",
    "# 색상의 강도(Color intensity)\n",
    "# 색상(Hue)\n",
    "# 희석 와인의 00280/00315 비율 (00280/00315 of diluted wines)\n",
    "# 프롤린(Proline)"
   ]
  },
  {
   "cell_type": "code",
   "execution_count": null,
   "id": "f38368c0-0870-44d6-a590-3d6bc1b98100",
   "metadata": {},
   "outputs": [],
   "source": []
  },
  {
   "cell_type": "code",
   "execution_count": null,
   "id": "611431b5-da3d-47bd-9857-707900ab05cf",
   "metadata": {},
   "outputs": [],
   "source": []
  }
 ],
 "metadata": {
  "kernelspec": {
   "display_name": "django_kernel",
   "language": "python",
   "name": "django"
  },
  "language_info": {
   "codemirror_mode": {
    "name": "ipython",
    "version": 3
   },
   "file_extension": ".py",
   "mimetype": "text/x-python",
   "name": "python",
   "nbconvert_exporter": "python",
   "pygments_lexer": "ipython3",
   "version": "3.10.5"
  }
 },
 "nbformat": 4,
 "nbformat_minor": 5
}
