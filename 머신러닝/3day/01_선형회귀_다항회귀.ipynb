{
 "cells": [
  {
   "cell_type": "code",
   "execution_count": 1,
   "id": "aedd50c0-1737-4a00-9ca9-2931f6780e90",
   "metadata": {},
   "outputs": [],
   "source": [
    "### 데이터 생성하기\n",
    "import pandas as pd\n",
    "import numpy as np\n",
    "perch_length= np.array(\n",
    "    [8.4, 13.7, 15.0, 16.2, 17.4, 18.0, 18.7, 19.0, 19.6, 20.0, \n",
    "     21.0, 21.0, 21.0, 21.3, 22.0, 22.0, 22.0, 22.0, 22.0, 22.5, \n",
    "     22.5, 22.7, 23.0, 23.5, 24.0, 24.0, 24.6, 25.0, 25.6, 26.5, \n",
    "     27.3, 27.5, 27.5, 27.5, 28.0, 28.7, 30.0, 32.8, 34.5, 35.0, \n",
    "     36.5, 36.0, 37.0, 37.0, 39.0, 39.0, 39.0, 40.0, 40.0, 40.0, \n",
    "     40.0, 42.0, 43.0, 43.0, 43.5, 44.0]\n",
    "     )\n",
    "perch_weight = np.array(\n",
    "    [5.9, 32.0, 40.0, 51.5, 70.0, 100.0, 78.0, 80.0, 85.0, 85.0, \n",
    "     110.0, 115.0, 125.0, 130.0, 120.0, 120.0, 130.0, 135.0, 110.0, \n",
    "     130.0, 150.0, 145.0, 150.0, 170.0, 225.0, 145.0, 188.0, 180.0, \n",
    "     197.0, 218.0, 300.0, 260.0, 265.0, 250.0, 250.0, 300.0, 320.0, \n",
    "     514.0, 556.0, 840.0, 685.0, 700.0, 700.0, 690.0, 900.0, 650.0, \n",
    "     820.0, 850.0, 900.0, 1015.0, 820.0, 1100.0, 1000.0, 1100.0, \n",
    "     1000.0, 1000.0]\n",
    "     )"
   ]
  },
  {
   "cell_type": "code",
   "execution_count": 2,
   "id": "38fb98ae-53cc-4dde-a2cc-81b90677ef1d",
   "metadata": {},
   "outputs": [
    {
     "data": {
      "text/plain": [
       "array([19.6, 22. , 18.7, 17.4, 36. , 25. , 40. , 39. , 43. , 22. , 20. ,\n",
       "       22. , 24. , 27.5, 43. , 40. , 24. , 21. , 27.5, 40. , 32.8, 26.5,\n",
       "       36.5, 13.7, 22.7, 15. , 37. , 35. , 28.7, 23.5, 39. , 21. , 23. ,\n",
       "       22. , 44. , 22.5, 19. , 37. , 22. , 25.6, 42. , 34.5])"
      ]
     },
     "execution_count": 2,
     "metadata": {},
     "output_type": "execute_result"
    }
   ],
   "source": [
    "from sklearn.model_selection import train_test_split\n",
    "train_input, test_input , train_target, test_target = train_test_split(perch_length,perch_weight,test_size = 0.25,random_state = 42)\n",
    "train_input"
   ]
  },
  {
   "cell_type": "code",
   "execution_count": 3,
   "id": "9bb2c6f1-4393-42b7-bc5b-e0d367ca2792",
   "metadata": {},
   "outputs": [],
   "source": [
    "train_input = train_input.reshape(-1,1)\n",
    "train_target = train_target.reshape(-1,1)\n",
    "test_input= test_input.reshape(-1,1)\n",
    "test_target = test_target.reshape(-1,1)"
   ]
  },
  {
   "cell_type": "code",
   "execution_count": 4,
   "id": "0a52f774-0689-4e18-a2c9-42d6d2866991",
   "metadata": {},
   "outputs": [
    {
     "name": "stdout",
     "output_type": "stream",
     "text": [
      "0.9746459963987609\n",
      "0.9804899950518966\n"
     ]
    }
   ],
   "source": [
    "from sklearn.neighbors import KNeighborsRegressor\n",
    "knr = KNeighborsRegressor(n_neighbors = 3)\n",
    "knr.fit(train_input,train_target)\n",
    "test_prediction = knr.predict(test_input)\n",
    "print(knr.score(test_input, test_target))\n",
    "print(knr.score(train_input, train_target))"
   ]
  },
  {
   "cell_type": "code",
   "execution_count": 5,
   "id": "610180a2-9648-42de-b5c5-8e8fcd9d2ea3",
   "metadata": {},
   "outputs": [
    {
     "data": {
      "text/plain": [
       "35.42380952380951"
      ]
     },
     "execution_count": 5,
     "metadata": {},
     "output_type": "execute_result"
    }
   ],
   "source": [
    "### 타깃값과 예측값 간의 오차를 확인하는 라이브러리 불러들이기\n",
    "from sklearn.metrics import mean_absolute_error\n",
    "### 오차값은 : 테스트 데이터에 대한 평균 절대값 오차를 계산합니다.\n",
    "mae = mean_absolute_error(test_target, test_prediction)\n",
    "mae"
   ]
  },
  {
   "cell_type": "code",
   "execution_count": 6,
   "id": "8a2456f1-fbe7-4ecd-bd29-28d5bf5baf0b",
   "metadata": {},
   "outputs": [
    {
     "data": {
      "image/png": "[encoded data removed]",
      "text/plain": [
       "<Figure size 432x288 with 1 Axes>"
      ]
     },
     "metadata": {
      "needs_background": "light"
     },
     "output_type": "display_data"
    }
   ],
   "source": [
    "### 예측데이터 : 50\n",
    "### - 산점도로 시각화 : 훈련데이터와 예측데이터, 이웃데이터 포함\n",
    "import matplotlib.pyplot as plt\n",
    "plt.scatter(perch_length,perch_weight)\n",
    "plt.scatter(test_input,test_prediction)\n",
    "plt.scatter(50,knr.predict([[50]]),marker=\"^\", c=\"red\")\n",
    "plt.xlabel('length')\n",
    "plt.ylabel('weight')\n",
    "plt.show()"
   ]
  },
  {
   "cell_type": "code",
   "execution_count": 7,
   "id": "dbac81cc-4b85-44b3-831e-855237a43a86",
   "metadata": {},
   "outputs": [],
   "source": [
    "### - 산점도로 시각화 : 훈련데이터와 예측데이터, 이웃데이터 포함\n",
    "import matplotlib.pyplot as plt"
   ]
  },
  {
   "cell_type": "code",
   "execution_count": 8,
   "id": "85bd54ad-8d7e-406a-beab-ceab924848d6",
   "metadata": {},
   "outputs": [
    {
     "data": {
      "text/plain": [
       "array([[34,  8, 14]], dtype=int64)"
      ]
     },
     "execution_count": 8,
     "metadata": {},
     "output_type": "execute_result"
    }
   ],
   "source": [
    "### 이웃 데이터 추출하기\n",
    "distance, indexes = knr.kneighbors([[50]])\n",
    "indexes"
   ]
  },
  {
   "cell_type": "code",
   "execution_count": 9,
   "id": "43f93e1c-b515-47df-8083-2bf1deba5c67",
   "metadata": {},
   "outputs": [
    {
     "data": {
      "text/plain": [
       "<matplotlib.collections.PathCollection at 0x23acefbf850>"
      ]
     },
     "execution_count": 9,
     "metadata": {},
     "output_type": "execute_result"
    },
    {
     "data": {
      "image/png": "[encoded data removed]",
      "text/plain": [
       "<Figure size 432x288 with 1 Axes>"
      ]
     },
     "metadata": {
      "needs_background": "light"
     },
     "output_type": "display_data"
    }
   ],
   "source": [
    "### 산점도 시각화하기\n",
    "plt.scatter(train_input, train_target)\n",
    "plt.scatter(train_input[indexes], train_target[indexes])\n",
    "plt.xlabel('length')\n",
    "plt.ylabel('weight')\n",
    "plt.scatter(100,1033,marker = \"^\")"
   ]
  },
  {
   "cell_type": "markdown",
   "id": "2e890316-4741-4a75-b3bf-0c113212f8e6",
   "metadata": {},
   "source": [
    "## 선형회귀(Linear Regression)\n",
    "##### - 많이 사용되는 대표적인 회귀 알고리즘\n",
    "##### - 비교적 간단하고, 성능이 뒤어나기 때문에 회귀모델 수행시 초반에 주로 진행합니다.\n",
    "##### - 선형회귀의 역할 : 하나의 특성을 가장 잘 나타내는 직선을 찾아내는 것이 주 역할\n",
    "##### - 직선을 '추세선' 이라고 합니다.\n",
    "##### - 선형회귀 알고리즘 : 1차 방정식(y= ax+b)\n",
    "##### - 선형회귀 클래스(모델) : LinearRegresin\n",
    "##### - 사용되는 패키지 : sklearn.linear_model\n",
    "##### - 직선과 곡선을 일반적으로 선형이라고 한다\n",
    "##### - 다항회귀는 이차방정식, 다중은 여러개의 항목을 나타낸다(제곱승, 다항의 연속성?)\n",
    "##### - 굉장히 막강하다 ? 계속 라이브러리 업그레이드 되고 있다"
   ]
  },
  {
   "cell_type": "code",
   "execution_count": 10,
   "id": "37119887-5542-4221-9cc9-fc2e0d782278",
   "metadata": {},
   "outputs": [],
   "source": [
    "## 선형회귀 클래스(모델) 생성하기\n",
    "from sklearn.linear_model import LinearRegression\n",
    "\n",
    "lr = LinearRegression()"
   ]
  },
  {
   "cell_type": "code",
   "execution_count": 11,
   "id": "917c6e7d-27ef-4bdb-bf64-c1d114532331",
   "metadata": {},
   "outputs": [
    {
     "data": {
      "text/plain": [
       "array([[1241.83860323]])"
      ]
     },
     "execution_count": 11,
     "metadata": {},
     "output_type": "execute_result"
    }
   ],
   "source": [
    "### 사용 데이터 : train_input, train_target, test_input, test_target\n",
    "### 예측 데이터 : 길이 50cm\n",
    "\n",
    "# lr 모델 훈련 > 예측데이터로 예측하기..\n",
    "lr.fit(train_input,train_target)\n",
    "lr.predict([[50]])"
   ]
  },
  {
   "cell_type": "code",
   "execution_count": 12,
   "id": "1207a1fa-1c3c-41f3-bc13-ceb92118f7ba",
   "metadata": {},
   "outputs": [
    {
     "name": "stdout",
     "output_type": "stream",
     "text": [
      "[[39.01714496]] [-709.01864495]\n"
     ]
    }
   ],
   "source": [
    "### 일차방정식의 기울기와 y절편값 확인하기\n",
    "# 일차 방정식 : y = ax + b\n",
    "# a : 기울기(coef_)\n",
    "# b : y절편(intercept_)\n",
    "print(lr.coef_, lr.intercept_)\n"
   ]
  },
  {
   "cell_type": "code",
   "execution_count": 15,
   "id": "b114aa6d-f16d-4366-a8b3-d75aa2d9ff16",
   "metadata": {
    "collapsed": true,
    "jupyter": {
     "outputs_hidden": true
    },
    "tags": []
   },
   "outputs": [
    {
     "data": {
      "image/png": "[encoded data removed]",
      "text/plain": [
       "<Figure size 432x288 with 1 Axes>"
      ]
     },
     "metadata": {
      "needs_background": "light"
     },
     "output_type": "display_data"
    }
   ],
   "source": [
    "### 추세선을 이용하여 예측데이터 예측가능한지 확인하기\n",
    "# - 1예측데이터로 사용할 수 있을지 확인\n",
    "# - 산점도를 이용해서 확인하기\n",
    "# - 훈련데이터, 예측데이터 산점도로 그리기\n",
    "import matplotlib.pyplot as plt\n",
    "plt.scatter(train_input,train_target)\n",
    "plt.scatter(50,lr.predict([[50]]), marker = \"^\",c=\"red\")\n",
    "\n",
    "\n",
    "# 추세선 그리기\n",
    "# # 추세선 : 선형회귀 알고리즘(1차방정식)이 훈련데이터에서 찾은 최적의 직선을 의미함\n",
    "plt.plot([15,50],[float(lr.coef_ * 15 + lr.intercept_),\n",
    "                 float(lr.coef_ * 50 + lr.intercept_)])\n",
    "plt.show()"
   ]
  },
  {
   "cell_type": "code",
   "execution_count": 18,
   "id": "5fdb9be0-380e-4f60-afa0-3497c9593a18",
   "metadata": {},
   "outputs": [
    {
     "name": "stdout",
     "output_type": "stream",
     "text": [
      "0.9398463339976041\n",
      "0.824750312331356\n"
     ]
    }
   ],
   "source": [
    "### 훈련데이터와 테스트데이터의 과적합여부 확인하기\n",
    "# - KNN은 과소적합이 나왔었습니다.\n",
    "# - LR 모델은 개선이 되었는지 확인\n",
    "print(lr.score(train_input, train_target))\n",
    "print(lr.score(test_input, test_target))\n",
    "\n",
    "##(해석)\n",
    "# - 테스트 결과가 다소 낮게 나왔으며, 훈련데이터는 높은편\n",
    "# - 다소 차이는 있으나 우수한 모델로 평가는 할 수 있음\n",
    "# - 단, 훈련데이터와 테스트데이터의 결정계수의 차이는\n",
    "#      의심을 해봐야합니다\n",
    "# \n",
    "\n",
    "\n",
    "### 그래프 왼쪽 하단의 산점도 분포가 조금 특이합니다.\n",
    "# - 약간의 round(곡선)을 뛰고 있습니다.\n",
    "# - 추세선의 왼쪽 하단으로 직선을 연장 했을 때\n",
    "# y축 0 이하로 넘어갑니다. 무게는 0보다 작을 수 없습니다.\n",
    "# 음수를 예측하면 잘못된 모델 입니다."
   ]
  },
  {
   "cell_type": "code",
   "execution_count": 19,
   "id": "26643599-65b4-4339-9869-58fdd84bf200",
   "metadata": {},
   "outputs": [
    {
     "data": {
      "image/png": "[encoded data removed]",
      "text/plain": [
       "<Figure size 432x288 with 1 Axes>"
      ]
     },
     "metadata": {
      "needs_background": "light"
     },
     "output_type": "display_data"
    }
   ],
   "source": [
    "### 추세선을 이용하여 예측데이터 예측가능한지 확인하기\n",
    "# - 1예측데이터로 사용할 수 있을지 확인\n",
    "# - 산점도를 이용해서 확인하기\n",
    "# - 훈련데이터, 예측데이터 산점도로 그리기\n",
    "import matplotlib.pyplot as plt\n",
    "plt.scatter(train_input,train_target)\n",
    "plt.scatter(50,lr.predict([[50]]), marker = \"^\",c=\"red\")\n",
    "\n",
    "\n",
    "# 추세선 그리기\n",
    "# # 추세선 : 선형회귀 알고리즘(1차방정식)이 훈련데이터에서 찾은 최적의 직선을 의미함\n",
    "plt.plot([0,50],[float(lr.coef_ * 0 + lr.intercept_),\n",
    "                 float(lr.coef_ * 50 + lr.intercept_)])\n",
    "plt.show()"
   ]
  },
  {
   "cell_type": "markdown",
   "id": "52c579d5-431b-42bb-9734-f3cc097d92c6",
   "metadata": {},
   "source": [
    "## 다항회귀\n",
    "##### - 다항식을 사용한 선형회귀를 \"다항회귀\"라고도 합니다.\n",
    "##### - 다항(이차방정식) : y=ax2+bx+c\n",
    "##### - a와b:계수라고 칭합니다.(기울기 포함)\n",
    "##### - c : y절편"
   ]
  },
  {
   "cell_type": "code",
   "execution_count": 56,
   "id": "3c2c65a5-66a7-4ae4-a998-a5acf3ad94c6",
   "metadata": {},
   "outputs": [
    {
     "data": {
      "text/plain": [
       "(42, 2)"
      ]
     },
     "execution_count": 56,
     "metadata": {},
     "output_type": "execute_result"
    }
   ],
   "source": [
    "### 훈련데이터 train_input을 [[제곱된값 1개, 원래값 1개], [], []]\n",
    "### 변수 : train_poly\n",
    "train_poly = np.column_stack((train_input**2,train_input))\n",
    "train_poly.shape"
   ]
  },
  {
   "cell_type": "code",
   "execution_count": 57,
   "id": "4e101779-59a5-4efb-8c00-29b6aead883e",
   "metadata": {},
   "outputs": [
    {
     "data": {
      "text/plain": [
       "(14, 2)"
      ]
     },
     "execution_count": 57,
     "metadata": {},
     "output_type": "execute_result"
    }
   ],
   "source": [
    "test_poly = np.column_stack((test_input**2,test_input))\n",
    "test_poly.shape"
   ]
  },
  {
   "cell_type": "code",
   "execution_count": 72,
   "id": "83c42370-ca8f-4149-a9a6-11ac732f553f",
   "metadata": {
    "tags": []
   },
   "outputs": [
    {
     "name": "stdout",
     "output_type": "stream",
     "text": [
      "[[1573.98423528]]\n",
      "[[  1.01433211 -21.55792498]] [116.05021078]\n"
     ]
    },
    {
     "data": {
      "image/png": "[encoded data removed]",
      "text/plain": [
       "<Figure size 432x288 with 1 Axes>"
      ]
     },
     "metadata": {
      "needs_background": "light"
     },
     "output_type": "display_data"
    }
   ],
   "source": [
    "# - 객체(모델) 생성\n",
    "lr = LinearRegression()\n",
    "\n",
    "# - 훈련모델 생성\n",
    "lr.fit(train_poly,train_target)\n",
    "\n",
    "# - 예측데이터 : 길이 50으로 무게 예측\n",
    "print(lr.predict([[50**2,50]]))\n",
    "\n",
    "# - 계수 확인 (coef_, intercept_)\n",
    "print(lr.coef_, lr.intercept_)\n",
    "\n",
    "# - 산점도 그리기 : 훈련데이터, 예측데이터, 추세선\n",
    "plt.scatter(train_input, train_target)\n",
    "plt.scatter(50,1573.9842,marker=\"^\", c=\"red\")\n",
    "\n",
    "\n",
    "# 추세선 그리기\n",
    "point = np.arange(15,51)\n",
    "plt.plot(point, 1.01*point**2 -21.6 * point + 116.05)\n",
    "# lr 모델 훈련 > 예측데이터로 예측하기..\n",
    "plt.show()\n"
   ]
  },
  {
   "cell_type": "code",
   "execution_count": 66,
   "id": "2d9bf4cc-1748-4a3d-ad15-c1b646fcc577",
   "metadata": {},
   "outputs": [
    {
     "data": {
      "text/plain": [
       "array([15, 16, 17, 18, 19, 20, 21, 22, 23, 24, 25, 26, 27, 28, 29, 30, 31,\n",
       "       32, 33, 34, 35, 36, 37, 38, 39, 40, 41, 42, 43, 44, 45, 46, 47, 48,\n",
       "       49, 50])"
      ]
     },
     "execution_count": 66,
     "metadata": {},
     "output_type": "execute_result"
    }
   ],
   "source": [
    "np.arange(15,51)"
   ]
  },
  {
   "cell_type": "code",
   "execution_count": 76,
   "id": "6b07b5d1-adda-43a9-b93b-faacf4673b39",
   "metadata": {},
   "outputs": [
    {
     "name": "stdout",
     "output_type": "stream",
     "text": [
      "훈련 =  0.9706807451768623\n",
      "테스트 =  0.9775935108325122\n"
     ]
    }
   ],
   "source": [
    "### 과적합 확인하기... (과대/과소)\n",
    "print('훈련 = ' , lr.score(train_poly, train_target))\n",
    "print('테스트 = ' , lr.score(test_poly, test_target))\n",
    "\n",
    "# 일반적으로 현업에는 쓰는데, 평가받을때나 대학원에서는 못쓴다\n",
    "# 학문적으로는 인정하지 않는다 훈련이 더 잘나와야 되기 때문이다(연구나,특허)"
   ]
  },
  {
   "cell_type": "code",
   "execution_count": 78,
   "id": "c4de23df-e3cb-4eb8-8fc4-67ad0abf5cc7",
   "metadata": {},
   "outputs": [],
   "source": [
    "### (해석)\n",
    "# 전체적으로 정확도는 낮아졌습니다.\n",
    "# 그렇지만, 훈련/테스트의 결정계수는 유사하게 가까워졌기에,\n",
    "# 우수한 모델이라고 할 수 있습니다.\n",
    "\n",
    "# 다만, 아직 훈련이 테스트보다 낮은 과소적합을 보입니다.\n",
    "\n",
    "### 그럼 어떻게 ?\n",
    "# - 복잡도를 줄 수 있는 모델을 찾아야 합니다.\n",
    "# - KNN에서는 이웃의 개수를 줄였었다 \n",
    "# - 선형회귀에서는 선인데 ... 항목(특성)이 추가되어야한다."
   ]
  },
  {
   "cell_type": "code",
   "execution_count": null,
   "id": "c1e7cbc3-f0ab-43b2-8a32-8f6f4f69dc33",
   "metadata": {},
   "outputs": [],
   "source": []
  }
 ],
 "metadata": {
  "kernelspec": {
   "display_name": "django_kernel",
   "language": "python",
   "name": "django"
  },
  "language_info": {
   "codemirror_mode": {
    "name": "ipython",
    "version": 3
   },
   "file_extension": ".py",
   "mimetype": "text/x-python",
   "name": "python",
   "nbconvert_exporter": "python",
   "pygments_lexer": "ipython3",
   "version": "3.10.5"
  }
 },
 "nbformat": 4,
 "nbformat_minor": 5
}
