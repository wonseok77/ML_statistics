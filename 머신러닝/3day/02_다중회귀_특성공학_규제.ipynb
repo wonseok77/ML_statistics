{
 "cells": [
  {
   "cell_type": "markdown",
   "id": "651bcd38-387f-417b-8f97-21755d473f25",
   "metadata": {},
   "source": [
    "## 다중회귀모델(Multiple Regression Model)\n",
    "##### - 여러 개의 특성(독립변수 = 항목 = 칼럼 = 변수 = 퓨처)을 사용한 선형회귀\n",
    "##### - 특성이 많을 수록, 복잡도가 높아 집니다.\n",
    "##### - 1개의 특성으로는 선형회귀모델이 '직선'을 학습한다면,\n",
    "##### - 2개이상의 특성으로는 선형회귀모델이 \"평면\"을 학습하게 됩니다.\n",
    "#####\n",
    "## 다중회귀모델 공식(방정식) - feature =  columns\n",
    "##### y = a * 특성1 + b * 특성2 + c * 특성3.......+y절편"
   ]
  },
  {
   "cell_type": "markdown",
   "id": "e4b3c666-703c-40cb-ab6f-4d00164917ef",
   "metadata": {},
   "source": [
    "##### 데이터 준비하기\n",
    "##### 구글드라이브 > dataset > 머신러닝 > data > 03_농어...csv"
   ]
  },
  {
   "cell_type": "markdown",
   "id": "227095a2-2c54-4bef-acfe-cfe51a25535f",
   "metadata": {},
   "source": [
    "## <사용할 데이터>\n",
    "##### -훈련데이터(독립변수) : 길이(length), 높이(height) , 두께(width)\n",
    "##### -target데이터(종속변수) : 무게\n",
    "##### -새로 추가할 데이터 : (길이 + 높이)= 면적\n",
    "##### -모든 작업은 사이킷런에서 제공하는 함수 이용"
   ]
  },
  {
   "cell_type": "markdown",
   "id": "59140816-3e07-4f45-8ec1-2e151c55da53",
   "metadata": {},
   "source": [
    "## 특성공학\n",
    "##### - 기존의 특성을 이용해서 \" 새로운 특성(항목)\"을 만들어내는 작업"
   ]
  },
  {
   "cell_type": "code",
   "execution_count": 1,
   "id": "c660bc76-4cf2-4966-a751-78219aeca9f7",
   "metadata": {
    "tags": []
   },
   "outputs": [],
   "source": [
    "# ### 데이터프레임을 2차원으로 바꾸기 ..\n",
    "# # 데이터프레임은 2차원 ..\n",
    "# # to_numpy()\n",
    "# perch_full = df.to_numpy()\n",
    "# perch_full"
   ]
  },
  {
   "cell_type": "code",
   "execution_count": 2,
   "id": "df7ddc50-beaa-4b14-a895-9e771dc1394e",
   "metadata": {},
   "outputs": [],
   "source": [
    "import pandas as pd\n",
    "import numpy as np"
   ]
  },
  {
   "cell_type": "code",
   "execution_count": 3,
   "id": "d8c88692-bc7d-4227-b62b-3e1eddaacb4e",
   "metadata": {},
   "outputs": [
    {
     "data": {
      "text/html": [
       "<div>\n",
       "<style scoped>\n",
       "    .dataframe tbody tr th:only-of-type {\n",
       "        vertical-align: middle;\n",
       "    }\n",
       "\n",
       "    .dataframe tbody tr th {\n",
       "        vertical-align: top;\n",
       "    }\n",
       "\n",
       "    .dataframe thead th {\n",
       "        text-align: right;\n",
       "    }\n",
       "</style>\n",
       "<table border=\"1\" class=\"dataframe\">\n",
       "  <thead>\n",
       "    <tr style=\"text-align: right;\">\n",
       "      <th></th>\n",
       "      <th>length</th>\n",
       "      <th>height</th>\n",
       "      <th>width</th>\n",
       "    </tr>\n",
       "  </thead>\n",
       "  <tbody>\n",
       "    <tr>\n",
       "      <th>0</th>\n",
       "      <td>8.4</td>\n",
       "      <td>2.11</td>\n",
       "      <td>1.41</td>\n",
       "    </tr>\n",
       "    <tr>\n",
       "      <th>1</th>\n",
       "      <td>13.7</td>\n",
       "      <td>3.53</td>\n",
       "      <td>2.00</td>\n",
       "    </tr>\n",
       "    <tr>\n",
       "      <th>2</th>\n",
       "      <td>15.0</td>\n",
       "      <td>3.82</td>\n",
       "      <td>2.43</td>\n",
       "    </tr>\n",
       "    <tr>\n",
       "      <th>3</th>\n",
       "      <td>16.2</td>\n",
       "      <td>4.59</td>\n",
       "      <td>2.63</td>\n",
       "    </tr>\n",
       "    <tr>\n",
       "      <th>4</th>\n",
       "      <td>17.4</td>\n",
       "      <td>4.59</td>\n",
       "      <td>2.94</td>\n",
       "    </tr>\n",
       "  </tbody>\n",
       "</table>\n",
       "</div>"
      ],
      "text/plain": [
       "   length   height   width\n",
       "0     8.4     2.11    1.41\n",
       "1    13.7     3.53    2.00\n",
       "2    15.0     3.82    2.43\n",
       "3    16.2     4.59    2.63\n",
       "4    17.4     4.59    2.94"
      ]
     },
     "execution_count": 3,
     "metadata": {},
     "output_type": "execute_result"
    }
   ],
   "source": [
    "df = pd.read_csv('./03_농어의_길이_높이_두께_데이터.csv',encoding = 'utf-8-sig')\n",
    "df.head()"
   ]
  },
  {
   "cell_type": "code",
   "execution_count": 4,
   "id": "0ef6b5c2-4299-4981-a3be-36ff48703566",
   "metadata": {},
   "outputs": [
    {
     "data": {
      "text/plain": [
       "array([   5.9,   32. ,   40. ,   51.5,   70. ,  100. ,   78. ,   80. ,\n",
       "         85. ,   85. ,  110. ,  115. ,  125. ,  130. ,  120. ,  120. ,\n",
       "        130. ,  135. ,  110. ,  130. ,  150. ,  145. ,  150. ,  170. ,\n",
       "        225. ,  145. ,  188. ,  180. ,  197. ,  218. ,  300. ,  260. ,\n",
       "        265. ,  250. ,  250. ,  300. ,  320. ,  514. ,  556. ,  840. ,\n",
       "        685. ,  700. ,  700. ,  690. ,  900. ,  650. ,  820. ,  850. ,\n",
       "        900. , 1015. ,  820. , 1100. , 1000. , 1100. , 1000. , 1000. ])"
      ]
     },
     "execution_count": 4,
     "metadata": {},
     "output_type": "execute_result"
    }
   ],
   "source": [
    "perch_weight = np.array(\n",
    "    [5.9, 32.0, 40.0, 51.5, 70.0, 100.0, 78.0, 80.0, 85.0, 85.0, \n",
    "     110.0, 115.0, 125.0, 130.0, 120.0, 120.0, 130.0, 135.0, 110.0, \n",
    "     130.0, 150.0, 145.0, 150.0, 170.0, 225.0, 145.0, 188.0, 180.0, \n",
    "     197.0, 218.0, 300.0, 260.0, 265.0, 250.0, 250.0, 300.0, 320.0, \n",
    "     514.0, 556.0, 840.0, 685.0, 700.0, 700.0, 690.0, 900.0, 650.0, \n",
    "     820.0, 850.0, 900.0, 1015.0, 820.0, 1100.0, 1000.0, 1100.0, \n",
    "     1000.0, 1000.0]\n",
    "     )\n",
    "perch_weight"
   ]
  },
  {
   "cell_type": "code",
   "execution_count": 5,
   "id": "d7b4f964-c7f4-4817-bef3-4ea4a4be2aaa",
   "metadata": {},
   "outputs": [],
   "source": [
    "### 1. 훈련데이터와 테스트데이터 분리하기\n",
    "from sklearn.model_selection import train_test_split\n",
    "\n",
    "## 훈련데이터 / 테스트데이터 세트 생성하기\n",
    "train_input, test_input, train_target,  test_target = train_test_split(df,perch_weight, test_size = 0.25, random_state = 42)"
   ]
  },
  {
   "cell_type": "code",
   "execution_count": 6,
   "id": "a8369479-a40a-4df8-8985-6b28ea72db0c",
   "metadata": {},
   "outputs": [
    {
     "name": "stdout",
     "output_type": "stream",
     "text": [
      "(42, 3)\n",
      "(14, 3)\n",
      "(42,)\n",
      "(14,)\n"
     ]
    }
   ],
   "source": [
    "print(train_input.shape)\n",
    "print(test_input.shape)\n",
    "print(train_target.shape)\n",
    "print(test_target.shape)"
   ]
  },
  {
   "cell_type": "code",
   "execution_count": 7,
   "id": "ec12ed98-a89b-49ce-8363-ac05b83d2f04",
   "metadata": {},
   "outputs": [],
   "source": [
    "### 사이킷런 변환기 클래스\n",
    "from sklearn.preprocessing import PolynomialFeatures"
   ]
  },
  {
   "cell_type": "code",
   "execution_count": 8,
   "id": "d480c49f-585f-44fb-8bf2-337bf3d50d04",
   "metadata": {},
   "outputs": [
    {
     "name": "stdout",
     "output_type": "stream",
     "text": [
      "[[2. 3. 4. 6. 9.]]\n"
     ]
    }
   ],
   "source": [
    "### 객체생성(모델)\n",
    "poly = PolynomialFeatures(include_bias = False)\n",
    "\n",
    "### 임의값 사용\n",
    "temp_data = [[2,3]]\n",
    "\n",
    "## 훈련시키기 :: 새롭게 만들 스스로 특성 조합 찾기\n",
    "poly.fit(temp_data)\n",
    "\n",
    "### 찾은 특성 조합으로 데이터 변환하기\n",
    "print(poly.transform(temp_data))\n",
    "\n",
    "###<변환기 특성 조합 생성 규칙>\n",
    "# - 첫번째 나온 1의값 : y절편 값 (무조건 첨에 1이 나옵니다.)\n",
    "# - 두번째-세번째 : 자기 자신의 값을 그대로 넣습니다.\n",
    "# - 네번째 : 2의 값을 제곱\n",
    "# - 다섯번째 : 2 * 3\n",
    "# - 여섯번째 : 3의 제곱\n",
    "\n",
    "\n",
    "### y절편 1의 값은 PolynomialFeatures 클래스에서 기본적으로\n",
    "# 특성에 추가된 절편값을 무시해 버립니다.\n",
    "# - 추가된 y절편 1은 무시해도 되는 값입니다.\n",
    "# 보통 PolynomialFeatures 클래스 생성시에 제외시키는 속성을 사용합니다.\n",
    "# - include_bias = False 옵션 사용하면 y절편값 제외 시킵니다."
   ]
  },
  {
   "cell_type": "markdown",
   "id": "d09bab2a-8c0c-46e7-a030-279eed567841",
   "metadata": {},
   "source": [
    "## 특성 만들기 : 사이킷런의 변환기\n",
    "#### -사이킷런은 특성을 만들거나 전처리하기 위한 다양한 객체를 제공\n",
    "#### -사이킷런에서 제공하는 이런 클래스들을 \"변환기\"라고 부릅니다\n",
    "## <특성 생성 패키지>\n",
    "##### - 사용되는 패키지 : sklearn.preprocessing\n",
    "##### - 사용되는 클래스 : PolynomialFeatures\n",
    "##### - 사용되는 함수 : fit(), transform(), fit_transforms()\n",
    "##### - 특성 생성 시 사용하는 데이터는 train_input, test_input 2개\n",
    "##### - 훈련에 영향을 미치는 특성(항목)을 스스로 찾아서 생성하는 것이 목적이기 때문에\n",
    "##### - ...target데이터는 해당사항이 없습니다 (정답은 변경되면 안됩니다)"
   ]
  },
  {
   "cell_type": "code",
   "execution_count": 9,
   "id": "8d15e5f6-f6e1-454a-915b-895b9eb9113f",
   "metadata": {
    "tags": []
   },
   "outputs": [
    {
     "name": "stdout",
     "output_type": "stream",
     "text": [
      "(42, 9)\n"
     ]
    }
   ],
   "source": [
    "### train_input, test_input 데이터 변환하기...\n",
    "# 변수명 : train_poly, test_poly 사용\n",
    "poly.fit(train_input)\n",
    "train_poly = poly.transform(train_input)\n",
    "print(train_poly.shape)"
   ]
  },
  {
   "cell_type": "code",
   "execution_count": 10,
   "id": "000036aa-125e-4307-8317-2da595546db0",
   "metadata": {},
   "outputs": [
    {
     "name": "stdout",
     "output_type": "stream",
     "text": [
      "(14, 9)\n"
     ]
    }
   ],
   "source": [
    "test_poly = poly.transform(test_input)\n",
    "print(test_poly.shape)"
   ]
  },
  {
   "cell_type": "code",
   "execution_count": 11,
   "id": "3ac3578f-00d7-4f9b-b3c9-4c35b78fb915",
   "metadata": {
    "collapsed": true,
    "jupyter": {
     "outputs_hidden": true
    },
    "tags": []
   },
   "outputs": [
    {
     "data": {
      "text/html": [
       "<div>\n",
       "<style scoped>\n",
       "    .dataframe tbody tr th:only-of-type {\n",
       "        vertical-align: middle;\n",
       "    }\n",
       "\n",
       "    .dataframe tbody tr th {\n",
       "        vertical-align: top;\n",
       "    }\n",
       "\n",
       "    .dataframe thead th {\n",
       "        text-align: right;\n",
       "    }\n",
       "</style>\n",
       "<table border=\"1\" class=\"dataframe\">\n",
       "  <thead>\n",
       "    <tr style=\"text-align: right;\">\n",
       "      <th></th>\n",
       "      <th>length</th>\n",
       "      <th>height</th>\n",
       "      <th>width</th>\n",
       "    </tr>\n",
       "  </thead>\n",
       "  <tbody>\n",
       "    <tr>\n",
       "      <th>8</th>\n",
       "      <td>19.6</td>\n",
       "      <td>5.14</td>\n",
       "      <td>3.04</td>\n",
       "    </tr>\n",
       "    <tr>\n",
       "      <th>17</th>\n",
       "      <td>22.0</td>\n",
       "      <td>5.88</td>\n",
       "      <td>3.52</td>\n",
       "    </tr>\n",
       "    <tr>\n",
       "      <th>6</th>\n",
       "      <td>18.7</td>\n",
       "      <td>5.20</td>\n",
       "      <td>3.12</td>\n",
       "    </tr>\n",
       "    <tr>\n",
       "      <th>4</th>\n",
       "      <td>17.4</td>\n",
       "      <td>4.59</td>\n",
       "      <td>2.94</td>\n",
       "    </tr>\n",
       "    <tr>\n",
       "      <th>41</th>\n",
       "      <td>36.0</td>\n",
       "      <td>10.61</td>\n",
       "      <td>6.74</td>\n",
       "    </tr>\n",
       "    <tr>\n",
       "      <th>27</th>\n",
       "      <td>25.0</td>\n",
       "      <td>6.44</td>\n",
       "      <td>3.68</td>\n",
       "    </tr>\n",
       "    <tr>\n",
       "      <th>47</th>\n",
       "      <td>40.0</td>\n",
       "      <td>11.93</td>\n",
       "      <td>7.11</td>\n",
       "    </tr>\n",
       "    <tr>\n",
       "      <th>46</th>\n",
       "      <td>39.0</td>\n",
       "      <td>12.43</td>\n",
       "      <td>7.35</td>\n",
       "    </tr>\n",
       "    <tr>\n",
       "      <th>52</th>\n",
       "      <td>43.0</td>\n",
       "      <td>11.93</td>\n",
       "      <td>7.28</td>\n",
       "    </tr>\n",
       "    <tr>\n",
       "      <th>15</th>\n",
       "      <td>22.0</td>\n",
       "      <td>5.64</td>\n",
       "      <td>3.52</td>\n",
       "    </tr>\n",
       "    <tr>\n",
       "      <th>9</th>\n",
       "      <td>20.0</td>\n",
       "      <td>5.08</td>\n",
       "      <td>2.77</td>\n",
       "    </tr>\n",
       "    <tr>\n",
       "      <th>16</th>\n",
       "      <td>22.0</td>\n",
       "      <td>6.11</td>\n",
       "      <td>3.52</td>\n",
       "    </tr>\n",
       "    <tr>\n",
       "      <th>24</th>\n",
       "      <td>24.0</td>\n",
       "      <td>7.29</td>\n",
       "      <td>3.72</td>\n",
       "    </tr>\n",
       "    <tr>\n",
       "      <th>31</th>\n",
       "      <td>27.5</td>\n",
       "      <td>7.17</td>\n",
       "      <td>4.34</td>\n",
       "    </tr>\n",
       "    <tr>\n",
       "      <th>53</th>\n",
       "      <td>43.0</td>\n",
       "      <td>12.51</td>\n",
       "      <td>7.42</td>\n",
       "    </tr>\n",
       "    <tr>\n",
       "      <th>48</th>\n",
       "      <td>40.0</td>\n",
       "      <td>11.73</td>\n",
       "      <td>7.22</td>\n",
       "    </tr>\n",
       "    <tr>\n",
       "      <th>25</th>\n",
       "      <td>24.0</td>\n",
       "      <td>6.38</td>\n",
       "      <td>3.82</td>\n",
       "    </tr>\n",
       "    <tr>\n",
       "      <th>11</th>\n",
       "      <td>21.0</td>\n",
       "      <td>5.92</td>\n",
       "      <td>3.31</td>\n",
       "    </tr>\n",
       "    <tr>\n",
       "      <th>32</th>\n",
       "      <td>27.5</td>\n",
       "      <td>7.05</td>\n",
       "      <td>4.34</td>\n",
       "    </tr>\n",
       "    <tr>\n",
       "      <th>49</th>\n",
       "      <td>40.0</td>\n",
       "      <td>12.38</td>\n",
       "      <td>7.46</td>\n",
       "    </tr>\n",
       "    <tr>\n",
       "      <th>37</th>\n",
       "      <td>32.8</td>\n",
       "      <td>10.03</td>\n",
       "      <td>6.02</td>\n",
       "    </tr>\n",
       "    <tr>\n",
       "      <th>29</th>\n",
       "      <td>26.5</td>\n",
       "      <td>7.17</td>\n",
       "      <td>4.14</td>\n",
       "    </tr>\n",
       "    <tr>\n",
       "      <th>40</th>\n",
       "      <td>36.5</td>\n",
       "      <td>10.88</td>\n",
       "      <td>6.86</td>\n",
       "    </tr>\n",
       "    <tr>\n",
       "      <th>1</th>\n",
       "      <td>13.7</td>\n",
       "      <td>3.53</td>\n",
       "      <td>2.00</td>\n",
       "    </tr>\n",
       "    <tr>\n",
       "      <th>21</th>\n",
       "      <td>22.7</td>\n",
       "      <td>5.95</td>\n",
       "      <td>3.63</td>\n",
       "    </tr>\n",
       "    <tr>\n",
       "      <th>2</th>\n",
       "      <td>15.0</td>\n",
       "      <td>3.82</td>\n",
       "      <td>2.43</td>\n",
       "    </tr>\n",
       "    <tr>\n",
       "      <th>43</th>\n",
       "      <td>37.0</td>\n",
       "      <td>10.57</td>\n",
       "      <td>6.37</td>\n",
       "    </tr>\n",
       "    <tr>\n",
       "      <th>39</th>\n",
       "      <td>35.0</td>\n",
       "      <td>11.49</td>\n",
       "      <td>7.80</td>\n",
       "    </tr>\n",
       "    <tr>\n",
       "      <th>35</th>\n",
       "      <td>28.7</td>\n",
       "      <td>7.59</td>\n",
       "      <td>4.64</td>\n",
       "    </tr>\n",
       "    <tr>\n",
       "      <th>23</th>\n",
       "      <td>23.5</td>\n",
       "      <td>6.28</td>\n",
       "      <td>3.72</td>\n",
       "    </tr>\n",
       "    <tr>\n",
       "      <th>45</th>\n",
       "      <td>39.0</td>\n",
       "      <td>11.14</td>\n",
       "      <td>6.00</td>\n",
       "    </tr>\n",
       "    <tr>\n",
       "      <th>10</th>\n",
       "      <td>21.0</td>\n",
       "      <td>5.69</td>\n",
       "      <td>3.56</td>\n",
       "    </tr>\n",
       "    <tr>\n",
       "      <th>22</th>\n",
       "      <td>23.0</td>\n",
       "      <td>5.22</td>\n",
       "      <td>3.63</td>\n",
       "    </tr>\n",
       "    <tr>\n",
       "      <th>18</th>\n",
       "      <td>22.0</td>\n",
       "      <td>5.52</td>\n",
       "      <td>4.00</td>\n",
       "    </tr>\n",
       "    <tr>\n",
       "      <th>55</th>\n",
       "      <td>44.0</td>\n",
       "      <td>12.49</td>\n",
       "      <td>7.60</td>\n",
       "    </tr>\n",
       "    <tr>\n",
       "      <th>20</th>\n",
       "      <td>22.5</td>\n",
       "      <td>6.79</td>\n",
       "      <td>3.62</td>\n",
       "    </tr>\n",
       "    <tr>\n",
       "      <th>7</th>\n",
       "      <td>19.0</td>\n",
       "      <td>5.64</td>\n",
       "      <td>3.05</td>\n",
       "    </tr>\n",
       "    <tr>\n",
       "      <th>42</th>\n",
       "      <td>37.0</td>\n",
       "      <td>10.84</td>\n",
       "      <td>6.26</td>\n",
       "    </tr>\n",
       "    <tr>\n",
       "      <th>14</th>\n",
       "      <td>22.0</td>\n",
       "      <td>6.11</td>\n",
       "      <td>3.41</td>\n",
       "    </tr>\n",
       "    <tr>\n",
       "      <th>28</th>\n",
       "      <td>25.6</td>\n",
       "      <td>6.56</td>\n",
       "      <td>4.24</td>\n",
       "    </tr>\n",
       "    <tr>\n",
       "      <th>51</th>\n",
       "      <td>42.0</td>\n",
       "      <td>12.80</td>\n",
       "      <td>6.87</td>\n",
       "    </tr>\n",
       "    <tr>\n",
       "      <th>38</th>\n",
       "      <td>34.5</td>\n",
       "      <td>10.26</td>\n",
       "      <td>6.39</td>\n",
       "    </tr>\n",
       "  </tbody>\n",
       "</table>\n",
       "</div>"
      ],
      "text/plain": [
       "    length   height   width\n",
       "8     19.6     5.14    3.04\n",
       "17    22.0     5.88    3.52\n",
       "6     18.7     5.20    3.12\n",
       "4     17.4     4.59    2.94\n",
       "41    36.0    10.61    6.74\n",
       "27    25.0     6.44    3.68\n",
       "47    40.0    11.93    7.11\n",
       "46    39.0    12.43    7.35\n",
       "52    43.0    11.93    7.28\n",
       "15    22.0     5.64    3.52\n",
       "9     20.0     5.08    2.77\n",
       "16    22.0     6.11    3.52\n",
       "24    24.0     7.29    3.72\n",
       "31    27.5     7.17    4.34\n",
       "53    43.0    12.51    7.42\n",
       "48    40.0    11.73    7.22\n",
       "25    24.0     6.38    3.82\n",
       "11    21.0     5.92    3.31\n",
       "32    27.5     7.05    4.34\n",
       "49    40.0    12.38    7.46\n",
       "37    32.8    10.03    6.02\n",
       "29    26.5     7.17    4.14\n",
       "40    36.5    10.88    6.86\n",
       "1     13.7     3.53    2.00\n",
       "21    22.7     5.95    3.63\n",
       "2     15.0     3.82    2.43\n",
       "43    37.0    10.57    6.37\n",
       "39    35.0    11.49    7.80\n",
       "35    28.7     7.59    4.64\n",
       "23    23.5     6.28    3.72\n",
       "45    39.0    11.14    6.00\n",
       "10    21.0     5.69    3.56\n",
       "22    23.0     5.22    3.63\n",
       "18    22.0     5.52    4.00\n",
       "55    44.0    12.49    7.60\n",
       "20    22.5     6.79    3.62\n",
       "7     19.0     5.64    3.05\n",
       "42    37.0    10.84    6.26\n",
       "14    22.0     6.11    3.41\n",
       "28    25.6     6.56    4.24\n",
       "51    42.0    12.80    6.87\n",
       "38    34.5    10.26    6.39"
      ]
     },
     "execution_count": 11,
     "metadata": {},
     "output_type": "execute_result"
    }
   ],
   "source": [
    "train_input"
   ]
  },
  {
   "cell_type": "code",
   "execution_count": 12,
   "id": "96994cd3-fc16-492d-80c9-291e33e2989a",
   "metadata": {},
   "outputs": [
    {
     "name": "stdout",
     "output_type": "stream",
     "text": [
      "(42, 55) (14, 55)\n"
     ]
    }
   ],
   "source": [
    "### 강사님 풀이\n",
    "### 특성항목 조합패턴 : 기본적인 조합은 2차원을 사용합니다\n",
    "# degree = 2\n",
    "\n",
    "### train_input, test_input 데이터 변환하기 ...\n",
    "## 객체생성(모델)\n",
    "poly = PolynomialFeatures(degree = 5, include_bias = False)\n",
    "\n",
    "### 훈련시키기 : 새롭게 만들 스스로 특성 조합 찾기\n",
    "poly.fit(train_input)\n",
    "\n",
    "### 찾은 특성 조합으로 데이터 변환하기\n",
    "# - 훈련데이터 변환하기\n",
    "train_poly = poly.transform(train_input)\n",
    "\n",
    "# - 테스트데이터 변환하기\n",
    "test_poly = poly.transform(test_input)\n",
    "\n",
    "print(train_poly.shape , test_poly.shape)\n"
   ]
  },
  {
   "cell_type": "code",
   "execution_count": 13,
   "id": "cdc81225-86d9-40ef-8246-b0a98a4b20c8",
   "metadata": {},
   "outputs": [
    {
     "data": {
      "text/plain": [
       "array(['length', ' height', ' width', 'length^2', 'length  height',\n",
       "       'length  width', ' height^2', ' height  width', ' width^2',\n",
       "       'length^3', 'length^2  height', 'length^2  width',\n",
       "       'length  height^2', 'length  height  width', 'length  width^2',\n",
       "       ' height^3', ' height^2  width', ' height  width^2', ' width^3',\n",
       "       'length^4', 'length^3  height', 'length^3  width',\n",
       "       'length^2  height^2', 'length^2  height  width',\n",
       "       'length^2  width^2', 'length  height^3', 'length  height^2  width',\n",
       "       'length  height  width^2', 'length  width^3', ' height^4',\n",
       "       ' height^3  width', ' height^2  width^2', ' height  width^3',\n",
       "       ' width^4', 'length^5', 'length^4  height', 'length^4  width',\n",
       "       'length^3  height^2', 'length^3  height  width',\n",
       "       'length^3  width^2', 'length^2  height^3',\n",
       "       'length^2  height^2  width', 'length^2  height  width^2',\n",
       "       'length^2  width^3', 'length  height^4', 'length  height^3  width',\n",
       "       'length  height^2  width^2', 'length  height  width^3',\n",
       "       'length  width^4', ' height^5', ' height^4  width',\n",
       "       ' height^3  width^2', ' height^2  width^3', ' height  width^4',\n",
       "       ' width^5'], dtype=object)"
      ]
     },
     "execution_count": 13,
     "metadata": {},
     "output_type": "execute_result"
    }
   ],
   "source": [
    "### 훈련모델이 사용된 조합의 패턴을 가지고 있습니다\n",
    "poly.get_feature_names_out()"
   ]
  },
  {
   "cell_type": "code",
   "execution_count": 14,
   "id": "0cf1daa6-71ae-480a-9442-54f3428a241c",
   "metadata": {
    "tags": []
   },
   "outputs": [
    {
     "name": "stderr",
     "output_type": "stream",
     "text": [
      "C:\\Users\\admin\\anaconda3\\envs\\django\\lib\\site-packages\\sklearn\\utils\\deprecation.py:87: FutureWarning: Function get_feature_names is deprecated; get_feature_names is deprecated in 1.0 and will be removed in 1.2. Please use get_feature_names_out instead.\n",
      "  warnings.warn(msg, category=FutureWarning)\n"
     ]
    },
    {
     "data": {
      "text/plain": [
       "['x0',\n",
       " 'x1',\n",
       " 'x2',\n",
       " 'x0^2',\n",
       " 'x0 x1',\n",
       " 'x0 x2',\n",
       " 'x1^2',\n",
       " 'x1 x2',\n",
       " 'x2^2',\n",
       " 'x0^3',\n",
       " 'x0^2 x1',\n",
       " 'x0^2 x2',\n",
       " 'x0 x1^2',\n",
       " 'x0 x1 x2',\n",
       " 'x0 x2^2',\n",
       " 'x1^3',\n",
       " 'x1^2 x2',\n",
       " 'x1 x2^2',\n",
       " 'x2^3',\n",
       " 'x0^4',\n",
       " 'x0^3 x1',\n",
       " 'x0^3 x2',\n",
       " 'x0^2 x1^2',\n",
       " 'x0^2 x1 x2',\n",
       " 'x0^2 x2^2',\n",
       " 'x0 x1^3',\n",
       " 'x0 x1^2 x2',\n",
       " 'x0 x1 x2^2',\n",
       " 'x0 x2^3',\n",
       " 'x1^4',\n",
       " 'x1^3 x2',\n",
       " 'x1^2 x2^2',\n",
       " 'x1 x2^3',\n",
       " 'x2^4',\n",
       " 'x0^5',\n",
       " 'x0^4 x1',\n",
       " 'x0^4 x2',\n",
       " 'x0^3 x1^2',\n",
       " 'x0^3 x1 x2',\n",
       " 'x0^3 x2^2',\n",
       " 'x0^2 x1^3',\n",
       " 'x0^2 x1^2 x2',\n",
       " 'x0^2 x1 x2^2',\n",
       " 'x0^2 x2^3',\n",
       " 'x0 x1^4',\n",
       " 'x0 x1^3 x2',\n",
       " 'x0 x1^2 x2^2',\n",
       " 'x0 x1 x2^3',\n",
       " 'x0 x2^4',\n",
       " 'x1^5',\n",
       " 'x1^4 x2',\n",
       " 'x1^3 x2^2',\n",
       " 'x1^2 x2^3',\n",
       " 'x1 x2^4',\n",
       " 'x2^5']"
      ]
     },
     "execution_count": 14,
     "metadata": {},
     "output_type": "execute_result"
    }
   ],
   "source": [
    "poly.get_feature_names()"
   ]
  },
  {
   "cell_type": "markdown",
   "id": "427bd6e1-420e-4865-9abf-e49da37d22c3",
   "metadata": {},
   "source": [
    "## 다중회귀모델 훈련하기 : 훈련모델 생성"
   ]
  },
  {
   "cell_type": "code",
   "execution_count": 15,
   "id": "274c00c3-c620-4730-b91c-ac5938e270a1",
   "metadata": {
    "tags": []
   },
   "outputs": [],
   "source": [
    "### 훈련데이터와 테스트데이터 결정값 확인까지 해주세요.."
   ]
  },
  {
   "cell_type": "code",
   "execution_count": 16,
   "id": "5b351821-6761-446c-8d9d-7f6d220cc2ce",
   "metadata": {},
   "outputs": [
    {
     "name": "stdout",
     "output_type": "stream",
     "text": [
      "훈련 =  0.9999999999997439\n",
      "테스트 =  -144.40564427629454\n"
     ]
    }
   ],
   "source": [
    "from sklearn.linear_model import LinearRegression\n",
    "lr = LinearRegression()\n",
    "lr.fit(train_poly, train_target)\n",
    "print('훈련 = ', lr.score(train_poly, train_target))\n",
    "print('테스트 = ', lr.score(test_poly, test_target))"
   ]
  },
  {
   "cell_type": "code",
   "execution_count": 17,
   "id": "fd3e5704-01fa-4079-9958-08aebce0eaeb",
   "metadata": {},
   "outputs": [
    {
     "name": "stdout",
     "output_type": "stream",
     "text": [
      "훈련 =  0.9999999999997439\n",
      "테스트 =  -144.40564427629454\n"
     ]
    }
   ],
   "source": [
    "### 훈련데이터 학습 다시 하기\n",
    "lr.fit(train_poly, train_target)\n",
    "\n",
    "print('훈련 = ', lr.score(train_poly, train_target))\n",
    "print('테스트 = ', lr.score(test_poly, test_target))"
   ]
  },
  {
   "cell_type": "markdown",
   "id": "1a956236-f1f9-4f12-977f-e6687d7dc223",
   "metadata": {},
   "source": [
    "### (해석)\n",
    "##### - 테스트 평가결과는 매우 큰 음수값 발생\n",
    "##### - 훈련 평과결과는 매우 아름답습니다.\n",
    "##### - 이 모델 훈련결과가 좋을 수록 테스트결과가 안좋게 나오는 결과를 보일 수 있습니다train_scaled = train_scaled.reshape(-1,1)"
   ]
  },
  {
   "cell_type": "markdown",
   "id": "c249a8fc-0a55-418b-b4f1-12e61b34d08d",
   "metadata": {},
   "source": [
    "### 릿지, 라쏘 => 과적합이 발생하는것을 방해해서 과적합을 방지하는 모델"
   ]
  },
  {
   "cell_type": "markdown",
   "id": "d1664e5d-0e1d-4db4-bd5d-406c5f50f49b",
   "metadata": {},
   "source": [
    "## 과적합을 줄이는 방법 : 규제\n",
    "##### -규제: 과대적합이 일어나지 않도록 제어하는 개념 ...\n",
    "##### -계수(기울기 포함)의 값을 줄이는 방법을 규제라고 합니다.\n",
    "##### -규제 개념이 적용된 모델 : 릿지(ridge)회귀모델, 라쏘(lasso)회귀모델\n",
    "##### -주로 릿지(ridge) 모델을 선호하는 편입니다.\n",
    "## <규제 순서>\n",
    "##### 1. 정규화 : 스케일이 다른 항목들을 표준점수로 동일하게 표준화 합니다.\n",
    "##### -- 표준점수는 사이킷런에서 제공하는 클래스가 있었습니다.\n",
    "##### 2. 릿지 및 라쏘 모델 적용\n",
    "## 릿지(ridge)\n",
    "##### - 계수를 제공한 값을 기준으로 규제를 적용\n",
    "##### - 사용패키지 : sklearn.linear_model\n",
    "##### - 사용클래스(모델) : Ridge\n",
    "##### - 훈련,평가,테스트 : 기존과 동일한 함수 사용\n",
    "## 라쏘(lasso)\n",
    "##### - 계수의 절대값을 기준으로 규제를 적용\n",
    "##### - 사용패키지 : sklearn.linear_model\n",
    "##### - 사용클래스 : Lasso\n",
    "##### - 훈련,평가,테스트 : 기존과 동일한 함수 사용"
   ]
  },
  {
   "cell_type": "code",
   "execution_count": 72,
   "id": "f9ad4a9e-e2c7-49c0-beb1-823afc5bbddf",
   "metadata": {},
   "outputs": [
    {
     "data": {
      "text/html": [
       "<style>#sk-container-id-3 {color: black;background-color: white;}#sk-container-id-3 pre{padding: 0;}#sk-container-id-3 div.sk-toggleable {background-color: white;}#sk-container-id-3 label.sk-toggleable__label {cursor: pointer;display: block;width: 100%;margin-bottom: 0;padding: 0.3em;box-sizing: border-box;text-align: center;}#sk-container-id-3 label.sk-toggleable__label-arrow:before {content: \"▸\";float: left;margin-right: 0.25em;color: #696969;}#sk-container-id-3 label.sk-toggleable__label-arrow:hover:before {color: black;}#sk-container-id-3 div.sk-estimator:hover label.sk-toggleable__label-arrow:before {color: black;}#sk-container-id-3 div.sk-toggleable__content {max-height: 0;max-width: 0;overflow: hidden;text-align: left;background-color: #f0f8ff;}#sk-container-id-3 div.sk-toggleable__content pre {margin: 0.2em;color: black;border-radius: 0.25em;background-color: #f0f8ff;}#sk-container-id-3 input.sk-toggleable__control:checked~div.sk-toggleable__content {max-height: 200px;max-width: 100%;overflow: auto;}#sk-container-id-3 input.sk-toggleable__control:checked~label.sk-toggleable__label-arrow:before {content: \"▾\";}#sk-container-id-3 div.sk-estimator input.sk-toggleable__control:checked~label.sk-toggleable__label {background-color: #d4ebff;}#sk-container-id-3 div.sk-label input.sk-toggleable__control:checked~label.sk-toggleable__label {background-color: #d4ebff;}#sk-container-id-3 input.sk-hidden--visually {border: 0;clip: rect(1px 1px 1px 1px);clip: rect(1px, 1px, 1px, 1px);height: 1px;margin: -1px;overflow: hidden;padding: 0;position: absolute;width: 1px;}#sk-container-id-3 div.sk-estimator {font-family: monospace;background-color: #f0f8ff;border: 1px dotted black;border-radius: 0.25em;box-sizing: border-box;margin-bottom: 0.5em;}#sk-container-id-3 div.sk-estimator:hover {background-color: #d4ebff;}#sk-container-id-3 div.sk-parallel-item::after {content: \"\";width: 100%;border-bottom: 1px solid gray;flex-grow: 1;}#sk-container-id-3 div.sk-label:hover label.sk-toggleable__label {background-color: #d4ebff;}#sk-container-id-3 div.sk-serial::before {content: \"\";position: absolute;border-left: 1px solid gray;box-sizing: border-box;top: 0;bottom: 0;left: 50%;z-index: 0;}#sk-container-id-3 div.sk-serial {display: flex;flex-direction: column;align-items: center;background-color: white;padding-right: 0.2em;padding-left: 0.2em;position: relative;}#sk-container-id-3 div.sk-item {position: relative;z-index: 1;}#sk-container-id-3 div.sk-parallel {display: flex;align-items: stretch;justify-content: center;background-color: white;position: relative;}#sk-container-id-3 div.sk-item::before, #sk-container-id-3 div.sk-parallel-item::before {content: \"\";position: absolute;border-left: 1px solid gray;box-sizing: border-box;top: 0;bottom: 0;left: 50%;z-index: -1;}#sk-container-id-3 div.sk-parallel-item {display: flex;flex-direction: column;z-index: 1;position: relative;background-color: white;}#sk-container-id-3 div.sk-parallel-item:first-child::after {align-self: flex-end;width: 50%;}#sk-container-id-3 div.sk-parallel-item:last-child::after {align-self: flex-start;width: 50%;}#sk-container-id-3 div.sk-parallel-item:only-child::after {width: 0;}#sk-container-id-3 div.sk-dashed-wrapped {border: 1px dashed gray;margin: 0 0.4em 0.5em 0.4em;box-sizing: border-box;padding-bottom: 0.4em;background-color: white;}#sk-container-id-3 div.sk-label label {font-family: monospace;font-weight: bold;display: inline-block;line-height: 1.2em;}#sk-container-id-3 div.sk-label-container {text-align: center;}#sk-container-id-3 div.sk-container {/* jupyter's `normalize.less` sets `[hidden] { display: none; }` but bootstrap.min.css set `[hidden] { display: none !important; }` so we also need the `!important` here to be able to override the default hidden behavior on the sphinx rendered scikit-learn.org. See: https://github.com/scikit-learn/scikit-learn/issues/21755 */display: inline-block !important;position: relative;}#sk-container-id-3 div.sk-text-repr-fallback {display: none;}</style><div id=\"sk-container-id-3\" class=\"sk-top-container\"><div class=\"sk-text-repr-fallback\"><pre>StandardScaler()</pre><b>In a Jupyter environment, please rerun this cell to show the HTML representation or trust the notebook. <br />On GitHub, the HTML representation is unable to render, please try loading this page with nbviewer.org.</b></div><div class=\"sk-container\" hidden><div class=\"sk-item\"><div class=\"sk-estimator sk-toggleable\"><input class=\"sk-toggleable__control sk-hidden--visually\" id=\"sk-estimator-id-3\" type=\"checkbox\" checked><label for=\"sk-estimator-id-3\" class=\"sk-toggleable__label sk-toggleable__label-arrow\">StandardScaler</label><div class=\"sk-toggleable__content\"><pre>StandardScaler()</pre></div></div></div></div></div>"
      ],
      "text/plain": [
       "StandardScaler()"
      ]
     },
     "execution_count": 72,
     "metadata": {},
     "output_type": "execute_result"
    }
   ],
   "source": [
    "### 정규화(또는 표준화)\n",
    "\n",
    "### 사용패키지\n",
    "from sklearn.preprocessing import StandardScaler\n",
    "### 클래스(모델) 생성하기\n",
    "ss = StandardScaler()\n",
    "ss.fit(train_poly,train_target)"
   ]
  },
  {
   "cell_type": "code",
   "execution_count": 73,
   "id": "b7d28582-d5e1-4c32-80f6-a03c94f0defb",
   "metadata": {
    "tags": []
   },
   "outputs": [
    {
     "name": "stdout",
     "output_type": "stream",
     "text": [
      "[2.84452381e+01 8.04238095e+00 4.82047619e+00 8.85315000e+02\n",
      " 2.53486881e+02 1.51959000e+02 7.29365000e+01 4.36999452e+01\n",
      " 2.62868381e+01 2.97326070e+04 8.59817581e+03 5.15200651e+03\n",
      " 2.49680043e+03 1.49567194e+03 8.99184494e+02 7.27945149e+02\n",
      " 4.36019840e+02 2.62115117e+02 1.58141990e+02 1.05917983e+06\n",
      " 3.08429517e+05 1.84644673e+05 9.01239554e+04 5.39478286e+04\n",
      " 3.23998082e+04 2.64224658e+04 1.58167367e+04 9.49991053e+03\n",
      " 5.72489005e+03 7.77162422e+03 4.65285399e+03 2.79521756e+03\n",
      " 1.68494739e+03 1.01911272e+03 3.93876111e+07 1.15192532e+07\n",
      " 6.88842737e+06 3.37865413e+06 2.02034307e+06 1.21184517e+06\n",
      " 9.93774754e+05 5.94291271e+05 3.56516573e+05 2.14541208e+05\n",
      " 2.93110780e+05 1.75313851e+05 1.05196649e+05 6.33244641e+04\n",
      " 3.82394901e+04 8.66870097e+04 5.18625239e+04 3.11308026e+04\n",
      " 1.87477065e+04 1.13270112e+04 6.86569419e+03] [8.72831196e+00 2.87343151e+00 1.74638123e+00 5.24782988e+02\n",
      " 1.60836428e+02 9.64793789e+01 4.95165749e+01 2.97578956e+01\n",
      " 1.81139412e+01 2.50155373e+04 7.49275582e+03 4.47153009e+03\n",
      " 2.25433695e+03 1.34683566e+03 8.11988865e+02 6.81265335e+02\n",
      " 4.07639942e+02 2.46263218e+02 1.50164227e+02 1.10854579e+06\n",
      " 3.28247889e+05 1.95342267e+05 9.76153931e+04 5.81064317e+04\n",
      " 3.48472685e+04 2.91591483e+04 1.73674986e+04 1.04273041e+04\n",
      " 6.30922253e+03 8.75059964e+03 5.21694989e+03 3.13701782e+03\n",
      " 1.90225250e+03 1.16311955e+03 4.77814865e+07 1.40483165e+07\n",
      " 8.34702250e+06 4.14736151e+06 2.46313653e+06 1.47240427e+06\n",
      " 1.22970655e+06 7.30196641e+05 4.36628701e+05 2.62841007e+05\n",
      " 3.66270535e+05 2.17518714e+05 1.30152823e+05 7.84482709e+04\n",
      " 4.76246733e+04 1.09609367e+05 6.51258832e+04 3.90090183e+04\n",
      " 2.35520992e+04 1.43325296e+04 8.79122582e+03]\n"
     ]
    }
   ],
   "source": [
    "## 훈련데이터 표준점수로 변환하기\n",
    "train_scaled = ss.transform(train_poly)\n",
    "test_scaled = ss.transform(test_poly)\n",
    "\n",
    "train_scaled\n",
    "test_scaled\n",
    "\n",
    "### 각 데이터는 55개씩...\n",
    "# 평균 및 표준편차 확인하기\n",
    "print(ss.mean_,ss.scale_)"
   ]
  },
  {
   "cell_type": "code",
   "execution_count": 22,
   "id": "1d5db71c-f268-4fd6-9092-ce4748a3cc25",
   "metadata": {},
   "outputs": [],
   "source": [
    "### 릿지모델과 라쏘모델을 이용해서\n",
    "### 각각 모델에 대한 훈련/테스트 결정계수 확인\n",
    "from sklearn.linear_model import Ridge\n",
    "from sklearn.linear_model import Lasso"
   ]
  },
  {
   "cell_type": "code",
   "execution_count": 23,
   "id": "2d8fa542-e870-4e1c-8964-42ee62665b9a",
   "metadata": {},
   "outputs": [
    {
     "name": "stdout",
     "output_type": "stream",
     "text": [
      "훈련 :  0.9896101671037343\n",
      "테스트 :  0.9790693977615391\n"
     ]
    }
   ],
   "source": [
    "ridge = Ridge()\n",
    "ridge.fit(train_scaled, train_target)\n",
    "print('훈련 : ' , ridge.score(train_scaled,train_target))\n",
    "print('테스트 : ' , ridge.score(test_scaled,test_target))"
   ]
  },
  {
   "cell_type": "code",
   "execution_count": 24,
   "id": "f2bc6c6e-66ac-4259-8e88-4b7491cc246e",
   "metadata": {},
   "outputs": [
    {
     "name": "stdout",
     "output_type": "stream",
     "text": [
      "훈련 :  0.989789897208096\n",
      "테스트 :  0.9800593698421883\n"
     ]
    }
   ],
   "source": [
    "lasso = Lasso()\n",
    "lasso.fit(train_scaled, train_target)\n",
    "print('훈련 : ', lasso.score(train_scaled, train_target))\n",
    "print('테스트 : ' ,lasso.score(test_scaled, test_target))      "
   ]
  },
  {
   "cell_type": "markdown",
   "id": "5437b208-c5c2-4d4e-851c-04ae49630ff3",
   "metadata": {},
   "source": [
    "## 규제강도 조절하기 ...\n",
    "##### - 릿지 및 라쏘 모델의 경우 규제에 대한 강도를 조절하는 속성이 있습니다.\n",
    "##### - alpha 속성을 사용합니다.\n",
    "##### - 규제강도 alpha 속성에 들어가는 값을 알려주는 라이브러리는 없습니다.\n",
    "##### - 사람이 직접 넣어 주어야 합니다.\n",
    "##### - 보통 모델 함수에 속성 중에 사람이 직접 값을 넣어주는 속성들을 \"하이퍼파라미터\"라고 합니다.\n",
    "##### - 파라메터 또는 하이퍼파라미터... 라는 용어를 간혹 쓰시는 분들이 있습니다.\n",
    "\n",
    "## <alpha 조절값 찾는 방법>\n",
    "##### - 정해진 방법 없습니다.\n",
    "##### - 일반적으로, 훈련데이터와 학습데이터로 각각 훈련모델을 생성한 후 평가를 통해\n",
    "##### ... 결정계수 값을 이용해서 그래프를 그린 후에,\n",
    "##### ... 훈련데이터와 테스트데이터의 결정계수 값이 가장 가까워지는 지점의 \n",
    "##### ... x축의 값을 이용해서 alpha 값으로 결정합니다."
   ]
  },
  {
   "cell_type": "code",
   "execution_count": 26,
   "id": "6eb388c5-7ee5-4d4e-8ad9-aee5d09f8cf8",
   "metadata": {},
   "outputs": [],
   "source": [
    "### alpha 강도 조절값 찾아보기\n",
    "import matplotlib.pyplot as plt"
   ]
  },
  {
   "cell_type": "code",
   "execution_count": 28,
   "id": "24b11259-acd4-4ab7-8a1c-a33104a5d3c0",
   "metadata": {},
   "outputs": [
    {
     "data": {
      "image/png": "[encoded data removed]",
      "text/plain": [
       "<Figure size 432x288 with 1 Axes>"
      ]
     },
     "metadata": {
      "needs_background": "light"
     },
     "output_type": "display_data"
    }
   ],
   "source": [
    "# 훈련시 발생하는 결정계수를 저장할 리스트\n",
    "train_score = []\n",
    "# 테스트 시 발생하는 결정계수를 저장할 리스트\n",
    "test_score = []\n",
    "\n",
    "# 임의 alpha 값(x축으로 설정합니다.) 설정(범위 설정)\n",
    "alpha_list = [0.001, 0.01, 0.1 , 1 , 10 , 100]\n",
    "\n",
    "### 훈련 및 테스트 결정계수 데이터 조회하기\n",
    "for alpha in alpha_list:\n",
    "    # 릿지 모델\n",
    "    ridge = Ridge(alpha = alpha) # alpha는 규제강도라는 속성이다\n",
    "    ridge.fit(train_scaled, train_target)\n",
    "    train_score.append(ridge.score(train_scaled, train_target))\n",
    "    test_score.append(ridge.score(test_scaled, test_target))\n",
    "    \n",
    "# 그래프로 시각화\n",
    "plt.plot(np.log10(alpha_list), train_score)\n",
    "plt.plot(np.log10(alpha_list), test_score)\n",
    "plt.show()\n",
    "\n",
    "## 테스트데이터가 떨어지는 부분이 과소적합\n",
    "## 훈련데이터가 떨어지는 부분이 과소적합"
   ]
  },
  {
   "cell_type": "code",
   "execution_count": 31,
   "id": "6f6d19c8-0c1b-46bb-8dd0-80f4517b4dee",
   "metadata": {},
   "outputs": [
    {
     "name": "stdout",
     "output_type": "stream",
     "text": [
      "훈련 =  0.9903815817570365\n",
      "테스트 =  0.9827976465386884\n"
     ]
    }
   ],
   "source": [
    "# 릿지 모델\n",
    "ridge = Ridge(alpha = 0.1) # alpha는 규제강도라는 속성이다\n",
    "ridge.fit(train_scaled, train_target)\n",
    "print('훈련 = ' , ridge.score(train_scaled, train_target))\n",
    "print('테스트 = ' ,ridge.score(test_scaled, test_target))"
   ]
  },
  {
   "cell_type": "code",
   "execution_count": 34,
   "id": "375a97e0-eda9-4ba0-99fd-817c1f9230c7",
   "metadata": {},
   "outputs": [
    {
     "name": "stderr",
     "output_type": "stream",
     "text": [
      "C:\\Users\\admin\\anaconda3\\envs\\django\\lib\\site-packages\\sklearn\\linear_model\\_coordinate_descent.py:648: ConvergenceWarning: Objective did not converge. You might want to increase the number of iterations, check the scale of the features or consider increasing regularisation. Duality gap: 2.336e+04, tolerance: 5.183e+02\n",
      "  model = cd_fast.enet_coordinate_descent(\n",
      "C:\\Users\\admin\\anaconda3\\envs\\django\\lib\\site-packages\\sklearn\\linear_model\\_coordinate_descent.py:648: ConvergenceWarning: Objective did not converge. You might want to increase the number of iterations, check the scale of the features or consider increasing regularisation. Duality gap: 2.025e+04, tolerance: 5.183e+02\n",
      "  model = cd_fast.enet_coordinate_descent(\n",
      "C:\\Users\\admin\\anaconda3\\envs\\django\\lib\\site-packages\\sklearn\\linear_model\\_coordinate_descent.py:648: ConvergenceWarning: Objective did not converge. You might want to increase the number of iterations, check the scale of the features or consider increasing regularisation. Duality gap: 8.062e+02, tolerance: 5.183e+02\n",
      "  model = cd_fast.enet_coordinate_descent(\n"
     ]
    },
    {
     "data": {
      "image/png": "[encoded data removed]",
      "text/plain": [
       "<Figure size 432x288 with 1 Axes>"
      ]
     },
     "metadata": {
      "needs_background": "light"
     },
     "output_type": "display_data"
    }
   ],
   "source": [
    "# 훈련시 발생하는 결정계수를 저장할 리스트\n",
    "train_score = []\n",
    "# 테스트 시 발생하는 결정계수를 저장할 리스트\n",
    "test_score = []\n",
    "\n",
    "# 임의 alpha 값(x축으로 설정합니다.) 설정(범위 설정)\n",
    "alpha_list = [0.001, 0.01, 0.1 , 1 , 10 , 100]\n",
    "\n",
    "### 훈련 및 테스트 결정계수 데이터 조회하기\n",
    "for alpha in alpha_list:\n",
    "    # 라쏘 모델\n",
    "    lasso = Lasso(alpha = alpha) # alpha는 규제강도라는 속성이다\n",
    "    lasso.fit(train_scaled, train_target)\n",
    "    train_score.append(lasso.score(train_scaled, train_target))\n",
    "    test_score.append(lasso.score(test_scaled, test_target))\n",
    "    \n",
    "# 그래프로 시각화\n",
    "plt.plot(np.log10(alpha_list), train_score)\n",
    "plt.plot(np.log10(alpha_list), test_score)\n",
    "plt.show()\n",
    "\n",
    "## 1이후부터 과소적합 발생"
   ]
  },
  {
   "cell_type": "code",
   "execution_count": 35,
   "id": "ba670feb-6e84-4f1c-9c9a-55dda10cd9f4",
   "metadata": {},
   "outputs": [
    {
     "name": "stdout",
     "output_type": "stream",
     "text": [
      "훈련 =  0.9888067471131867\n",
      "테스트 =  0.9824470598706695\n"
     ]
    }
   ],
   "source": [
    "# 라쏘 모델\n",
    "lasso = Lasso(alpha = 10) # alpha는 규제강도라는 속성이다\n",
    "lasso.fit(train_scaled, train_target)\n",
    "print('훈련 = ' , lasso.score(train_scaled, train_target))\n",
    "print('테스트 = ' ,lasso.score(test_scaled, test_target))"
   ]
  },
  {
   "cell_type": "code",
   "execution_count": 37,
   "id": "08473599-ad56-4c29-85df-08886da1ee9e",
   "metadata": {},
   "outputs": [],
   "source": [
    "# 릿지\n",
    "# 훈련 =  0.9903815817570365\n",
    "# 테스트 =  0.9827976465386884\n",
    "\n",
    "# 라쏘\n",
    "# 훈련 =  0.9888067471131867\n",
    "# 테스트 =  0.9824470598706695\n",
    "\n",
    "## 훈련데이터가 일단 높아야된다\n",
    "## 결정계수 수치와 간격을 종합적으로 고려\n",
    "## 훈련 - 테스트값이(차이)가 크면 고민\n",
    "\n",
    "# 아까 규제강도를 정하기 전에는 라쏘가 선택되었지만\n",
    "# alpha를 최적화 한 후 릿지가 더 합당하다 ==> 릿지로 결정\n",
    "\n",
    "# 혼자 공부하는 머신러닝 및 딥러닝(정독하기 좋은 책)"
   ]
  },
  {
   "cell_type": "code",
   "execution_count": 38,
   "id": "c3c5eb33-0861-4ba0-b94c-c659fdb53a06",
   "metadata": {},
   "outputs": [],
   "source": [
    "# 로지스틱회귀(회귀+분류), 랜덤포레스트 ensemble ->분류할때 많이 쓴다\n",
    "# 회귀분석시 sklearn.linear_model 자주 쓴다"
   ]
  },
  {
   "cell_type": "markdown",
   "id": "4d428f82-26cb-4545-8cf6-d22d1e32e381",
   "metadata": {
    "tags": []
   },
   "source": [
    "## [문제]\n",
    "##### - 테스트 데이터 : length=50, height = 16.49, width = 10.6\n",
    "##### - 위 다중, 리지, 라쏘, 모두 예측해 보기.."
   ]
  },
  {
   "cell_type": "code",
   "execution_count": 86,
   "id": "8b668bbf-2f08-4d91-9418-e984dcd46818",
   "metadata": {
    "collapsed": true,
    "jupyter": {
     "outputs_hidden": true
    },
    "tags": []
   },
   "outputs": [
    {
     "name": "stdout",
     "output_type": "stream",
     "text": [
      "[[5.00000000e+01 1.64900000e+01 1.06000000e+01 2.50000000e+03\n",
      "  8.24500000e+02 5.30000000e+02 2.71920100e+02 1.74794000e+02\n",
      "  1.12360000e+02 1.25000000e+05 4.12250000e+04 2.65000000e+04\n",
      "  1.35960050e+04 8.73970000e+03 5.61800000e+03 4.48396245e+03\n",
      "  2.88235306e+03 1.85281640e+03 1.19101600e+03 6.25000000e+06\n",
      "  2.06125000e+06 1.32500000e+06 6.79800250e+05 4.36985000e+05\n",
      "  2.80900000e+05 2.24198122e+05 1.44117653e+05 9.26408200e+04\n",
      "  5.95508000e+04 7.39405408e+04 4.75300020e+04 3.05529424e+04\n",
      "  1.96398538e+04 1.26247696e+04 3.12500000e+08 1.03062500e+08\n",
      "  6.62500000e+07 3.39900125e+07 2.18492500e+07 1.40450000e+07\n",
      "  1.12099061e+07 7.20588265e+06 4.63204100e+06 2.97754000e+06\n",
      "  3.69702704e+06 2.37650010e+06 1.52764712e+06 9.81992692e+05\n",
      "  6.31238480e+05 1.21927952e+06 7.83769732e+05 5.03818021e+05\n",
      "  3.23861190e+05 2.08182451e+05 1.33822558e+05]]\n"
     ]
    },
    {
     "name": "stderr",
     "output_type": "stream",
     "text": [
      "C:\\Users\\admin\\anaconda3\\envs\\django\\lib\\site-packages\\sklearn\\base.py:450: UserWarning: X does not have valid feature names, but PolynomialFeatures was fitted with feature names\n",
      "  warnings.warn(\n",
      "C:\\Users\\admin\\anaconda3\\envs\\django\\lib\\site-packages\\sklearn\\base.py:450: UserWarning: X does not have valid feature names, but PolynomialFeatures was fitted with feature names\n",
      "  warnings.warn(\n"
     ]
    }
   ],
   "source": [
    "### 객체생성(모델)\n",
    "poly = PolynomialFeatures(degree = 5,include_bias = False)\n",
    "\n",
    "### 임의값 사용\n",
    "temp = [[50,16.49,10.6]]\n",
    "\n",
    "## 훈련시키기 :: 새롭게 만들 스스로 특성 조합 찾기\n",
    "poly.fit(train_input)\n",
    "\n",
    "### 찾은 특성 조합으로 데이터 변환하기\n",
    "print(poly.transform(temp))\n",
    "temp_poly = poly.transform(temp)"
   ]
  },
  {
   "cell_type": "code",
   "execution_count": 87,
   "id": "afd68481-de21-47ab-90ce-a50f44dae90d",
   "metadata": {},
   "outputs": [
    {
     "name": "stdout",
     "output_type": "stream",
     "text": [
      "훈련 =  0.9999999999997439\n",
      "테스트 =  -144.40564427629454\n"
     ]
    }
   ],
   "source": [
    "# 다중회귀모델\n",
    "from sklearn.linear_model import LinearRegression\n",
    "lr = LinearRegression()\n",
    "lr.fit(train_poly, train_target)\n",
    "predict = lr.predict(temp_poly)\n",
    "print('훈련 = ', lr.score(train_poly, train_target))\n",
    "print('테스트 = ', lr.score(test_poly, test_target))"
   ]
  },
  {
   "cell_type": "code",
   "execution_count": 88,
   "id": "67eb7a04-8e23-4f70-9320-bb6a77072ae8",
   "metadata": {},
   "outputs": [
    {
     "data": {
      "text/plain": [
       "array([-562042.17613728])"
      ]
     },
     "execution_count": 88,
     "metadata": {},
     "output_type": "execute_result"
    }
   ],
   "source": [
    "predict"
   ]
  },
  {
   "cell_type": "code",
   "execution_count": 74,
   "id": "91f3523b-d5a8-48b5-ab81-0789ba1dd44c",
   "metadata": {
    "collapsed": true,
    "jupyter": {
     "outputs_hidden": true
    },
    "tags": []
   },
   "outputs": [
    {
     "name": "stdout",
     "output_type": "stream",
     "text": [
      "[2.84452381e+01 8.04238095e+00 4.82047619e+00 8.85315000e+02\n",
      " 2.53486881e+02 1.51959000e+02 7.29365000e+01 4.36999452e+01\n",
      " 2.62868381e+01 2.97326070e+04 8.59817581e+03 5.15200651e+03\n",
      " 2.49680043e+03 1.49567194e+03 8.99184494e+02 7.27945149e+02\n",
      " 4.36019840e+02 2.62115117e+02 1.58141990e+02 1.05917983e+06\n",
      " 3.08429517e+05 1.84644673e+05 9.01239554e+04 5.39478286e+04\n",
      " 3.23998082e+04 2.64224658e+04 1.58167367e+04 9.49991053e+03\n",
      " 5.72489005e+03 7.77162422e+03 4.65285399e+03 2.79521756e+03\n",
      " 1.68494739e+03 1.01911272e+03 3.93876111e+07 1.15192532e+07\n",
      " 6.88842737e+06 3.37865413e+06 2.02034307e+06 1.21184517e+06\n",
      " 9.93774754e+05 5.94291271e+05 3.56516573e+05 2.14541208e+05\n",
      " 2.93110780e+05 1.75313851e+05 1.05196649e+05 6.33244641e+04\n",
      " 3.82394901e+04 8.66870097e+04 5.18625239e+04 3.11308026e+04\n",
      " 1.87477065e+04 1.13270112e+04 6.86569419e+03] [8.72831196e+00 2.87343151e+00 1.74638123e+00 5.24782988e+02\n",
      " 1.60836428e+02 9.64793789e+01 4.95165749e+01 2.97578956e+01\n",
      " 1.81139412e+01 2.50155373e+04 7.49275582e+03 4.47153009e+03\n",
      " 2.25433695e+03 1.34683566e+03 8.11988865e+02 6.81265335e+02\n",
      " 4.07639942e+02 2.46263218e+02 1.50164227e+02 1.10854579e+06\n",
      " 3.28247889e+05 1.95342267e+05 9.76153931e+04 5.81064317e+04\n",
      " 3.48472685e+04 2.91591483e+04 1.73674986e+04 1.04273041e+04\n",
      " 6.30922253e+03 8.75059964e+03 5.21694989e+03 3.13701782e+03\n",
      " 1.90225250e+03 1.16311955e+03 4.77814865e+07 1.40483165e+07\n",
      " 8.34702250e+06 4.14736151e+06 2.46313653e+06 1.47240427e+06\n",
      " 1.22970655e+06 7.30196641e+05 4.36628701e+05 2.62841007e+05\n",
      " 3.66270535e+05 2.17518714e+05 1.30152823e+05 7.84482709e+04\n",
      " 4.76246733e+04 1.09609367e+05 6.51258832e+04 3.90090183e+04\n",
      " 2.35520992e+04 1.43325296e+04 8.79122582e+03]\n"
     ]
    }
   ],
   "source": [
    "### 정규화(또는 표준화)\n",
    "\n",
    "### 사용패키지\n",
    "from sklearn.preprocessing import StandardScaler\n",
    "### 클래스(모델) 생성하기\n",
    "ss = StandardScaler()\n",
    "ss.fit(train_poly,train_target)\n",
    "## 훈련데이터 표준점수로 변환하기\n",
    "train_scaled = ss.transform(train_poly)\n",
    "test_scaled = ss.transform(test_poly)\n",
    "temp_scaled = ss.transform(temp_poly)\n",
    "\n",
    "train_scaled\n",
    "test_scaled\n",
    "temp_scaled\n",
    "### 각 데이터는 55개씩...\n",
    "# 평균 및 표준편차 확인하기\n",
    "print(ss.mean_,ss.scale_)"
   ]
  },
  {
   "cell_type": "code",
   "execution_count": 89,
   "id": "b5fb137c-a94f-4de5-bd1f-85611ede6dc0",
   "metadata": {},
   "outputs": [
    {
     "name": "stdout",
     "output_type": "stream",
     "text": [
      "훈련 :  0.988728468997471\n",
      "테스트 :  0.9725329582461567\n"
     ]
    }
   ],
   "source": [
    "ridge = Ridge(alpha = 10)\n",
    "ridge.fit(train_scaled, train_target)\n",
    "pred = ridge.predict(temp_scaled)\n",
    "print('훈련 : ' , ridge.score(train_scaled,train_target))\n",
    "print('테스트 : ' , ridge.score(test_scaled,test_target))"
   ]
  },
  {
   "cell_type": "code",
   "execution_count": 90,
   "id": "07ac968d-a302-4b3d-b914-74a81c301657",
   "metadata": {},
   "outputs": [
    {
     "data": {
      "text/plain": [
       "array([2567.61387758])"
      ]
     },
     "execution_count": 90,
     "metadata": {},
     "output_type": "execute_result"
    }
   ],
   "source": [
    "pred"
   ]
  },
  {
   "cell_type": "code",
   "execution_count": 91,
   "id": "3b3fd37e-9ab6-474b-abcb-9fb99b1d694b",
   "metadata": {},
   "outputs": [
    {
     "name": "stdout",
     "output_type": "stream",
     "text": [
      "훈련 =  0.9888067471131867\n",
      "테스트 =  0.9824470598706695\n"
     ]
    }
   ],
   "source": [
    "# 라쏘 모델\n",
    "lasso = Lasso(alpha = 10) # alpha는 규제강도라는 속성이다\n",
    "lasso.fit(train_scaled, train_target)\n",
    "pred = lasso.predict(temp_scaled)\n",
    "print('훈련 = ' , lasso.score(train_scaled, train_target))\n",
    "print('테스트 = ' ,lasso.score(test_scaled, test_target))"
   ]
  },
  {
   "cell_type": "code",
   "execution_count": 92,
   "id": "6101118c-868b-4015-a8b7-cfa0415cb1da",
   "metadata": {},
   "outputs": [
    {
     "data": {
      "text/plain": [
       "array([2232.10145456])"
      ]
     },
     "execution_count": 92,
     "metadata": {},
     "output_type": "execute_result"
    }
   ],
   "source": [
    "pred"
   ]
  },
  {
   "cell_type": "code",
   "execution_count": null,
   "id": "516a6d23-260c-430d-8a4d-b7ce82bd02a8",
   "metadata": {},
   "outputs": [],
   "source": []
  }
 ],
 "metadata": {
  "kernelspec": {
   "display_name": "django_kernel",
   "language": "python",
   "name": "django"
  },
  "language_info": {
   "codemirror_mode": {
    "name": "ipython",
    "version": 3
   },
   "file_extension": ".py",
   "mimetype": "text/x-python",
   "name": "python",
   "nbconvert_exporter": "python",
   "pygments_lexer": "ipython3",
   "version": "3.10.5"
  }
 },
 "nbformat": 4,
 "nbformat_minor": 5
}
