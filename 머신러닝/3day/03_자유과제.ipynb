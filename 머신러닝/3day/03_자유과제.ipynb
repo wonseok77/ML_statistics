{
 "cells": [
  {
   "cell_type": "code",
   "execution_count": 4,
   "id": "a40a6bc0-347c-4bba-ad24-458c77752c8c",
   "metadata": {},
   "outputs": [],
   "source": [
    "import pandas as pd\n",
    "import numpy as np"
   ]
  },
  {
   "cell_type": "code",
   "execution_count": 5,
   "id": "4dbdd203-3c62-4331-9499-61052efe6952",
   "metadata": {},
   "outputs": [
    {
     "data": {
      "text/html": [
       "<div>\n",
       "<style scoped>\n",
       "    .dataframe tbody tr th:only-of-type {\n",
       "        vertical-align: middle;\n",
       "    }\n",
       "\n",
       "    .dataframe tbody tr th {\n",
       "        vertical-align: top;\n",
       "    }\n",
       "\n",
       "    .dataframe thead th {\n",
       "        text-align: right;\n",
       "    }\n",
       "</style>\n",
       "<table border=\"1\" class=\"dataframe\">\n",
       "  <thead>\n",
       "    <tr style=\"text-align: right;\">\n",
       "      <th></th>\n",
       "      <th>친밀도</th>\n",
       "      <th>적절성</th>\n",
       "      <th>만족도</th>\n",
       "    </tr>\n",
       "  </thead>\n",
       "  <tbody>\n",
       "    <tr>\n",
       "      <th>0</th>\n",
       "      <td>3</td>\n",
       "      <td>4</td>\n",
       "      <td>3</td>\n",
       "    </tr>\n",
       "    <tr>\n",
       "      <th>1</th>\n",
       "      <td>3</td>\n",
       "      <td>3</td>\n",
       "      <td>2</td>\n",
       "    </tr>\n",
       "    <tr>\n",
       "      <th>2</th>\n",
       "      <td>4</td>\n",
       "      <td>4</td>\n",
       "      <td>4</td>\n",
       "    </tr>\n",
       "    <tr>\n",
       "      <th>3</th>\n",
       "      <td>2</td>\n",
       "      <td>2</td>\n",
       "      <td>2</td>\n",
       "    </tr>\n",
       "    <tr>\n",
       "      <th>4</th>\n",
       "      <td>2</td>\n",
       "      <td>2</td>\n",
       "      <td>2</td>\n",
       "    </tr>\n",
       "    <tr>\n",
       "      <th>...</th>\n",
       "      <td>...</td>\n",
       "      <td>...</td>\n",
       "      <td>...</td>\n",
       "    </tr>\n",
       "    <tr>\n",
       "      <th>259</th>\n",
       "      <td>3</td>\n",
       "      <td>4</td>\n",
       "      <td>4</td>\n",
       "    </tr>\n",
       "    <tr>\n",
       "      <th>260</th>\n",
       "      <td>3</td>\n",
       "      <td>4</td>\n",
       "      <td>3</td>\n",
       "    </tr>\n",
       "    <tr>\n",
       "      <th>261</th>\n",
       "      <td>4</td>\n",
       "      <td>4</td>\n",
       "      <td>4</td>\n",
       "    </tr>\n",
       "    <tr>\n",
       "      <th>262</th>\n",
       "      <td>4</td>\n",
       "      <td>4</td>\n",
       "      <td>4</td>\n",
       "    </tr>\n",
       "    <tr>\n",
       "      <th>263</th>\n",
       "      <td>2</td>\n",
       "      <td>3</td>\n",
       "      <td>3</td>\n",
       "    </tr>\n",
       "  </tbody>\n",
       "</table>\n",
       "<p>264 rows × 3 columns</p>\n",
       "</div>"
      ],
      "text/plain": [
       "     친밀도  적절성  만족도\n",
       "0      3    4    3\n",
       "1      3    3    2\n",
       "2      4    4    4\n",
       "3      2    2    2\n",
       "4      2    2    2\n",
       "..   ...  ...  ...\n",
       "259    3    4    4\n",
       "260    3    4    3\n",
       "261    4    4    4\n",
       "262    4    4    4\n",
       "263    2    3    3\n",
       "\n",
       "[264 rows x 3 columns]"
      ]
     },
     "execution_count": 5,
     "metadata": {},
     "output_type": "execute_result"
    }
   ],
   "source": [
    "df = pd.read_csv('./04_(문제)_회귀모델_drinking_water.csv', encoding = 'utf-8-sig')\n",
    "df"
   ]
  },
  {
   "cell_type": "code",
   "execution_count": 9,
   "id": "c3cacf47-29f6-4dca-a203-39b8c175424c",
   "metadata": {},
   "outputs": [
    {
     "data": {
      "text/html": [
       "<div>\n",
       "<style scoped>\n",
       "    .dataframe tbody tr th:only-of-type {\n",
       "        vertical-align: middle;\n",
       "    }\n",
       "\n",
       "    .dataframe tbody tr th {\n",
       "        vertical-align: top;\n",
       "    }\n",
       "\n",
       "    .dataframe thead th {\n",
       "        text-align: right;\n",
       "    }\n",
       "</style>\n",
       "<table border=\"1\" class=\"dataframe\">\n",
       "  <thead>\n",
       "    <tr style=\"text-align: right;\">\n",
       "      <th></th>\n",
       "      <th>만족도</th>\n",
       "    </tr>\n",
       "  </thead>\n",
       "  <tbody>\n",
       "    <tr>\n",
       "      <th>0</th>\n",
       "      <td>3</td>\n",
       "    </tr>\n",
       "    <tr>\n",
       "      <th>1</th>\n",
       "      <td>2</td>\n",
       "    </tr>\n",
       "    <tr>\n",
       "      <th>2</th>\n",
       "      <td>4</td>\n",
       "    </tr>\n",
       "    <tr>\n",
       "      <th>3</th>\n",
       "      <td>2</td>\n",
       "    </tr>\n",
       "    <tr>\n",
       "      <th>4</th>\n",
       "      <td>2</td>\n",
       "    </tr>\n",
       "    <tr>\n",
       "      <th>...</th>\n",
       "      <td>...</td>\n",
       "    </tr>\n",
       "    <tr>\n",
       "      <th>259</th>\n",
       "      <td>4</td>\n",
       "    </tr>\n",
       "    <tr>\n",
       "      <th>260</th>\n",
       "      <td>3</td>\n",
       "    </tr>\n",
       "    <tr>\n",
       "      <th>261</th>\n",
       "      <td>4</td>\n",
       "    </tr>\n",
       "    <tr>\n",
       "      <th>262</th>\n",
       "      <td>4</td>\n",
       "    </tr>\n",
       "    <tr>\n",
       "      <th>263</th>\n",
       "      <td>3</td>\n",
       "    </tr>\n",
       "  </tbody>\n",
       "</table>\n",
       "<p>264 rows × 1 columns</p>\n",
       "</div>"
      ],
      "text/plain": [
       "     만족도\n",
       "0      3\n",
       "1      2\n",
       "2      4\n",
       "3      2\n",
       "4      2\n",
       "..   ...\n",
       "259    4\n",
       "260    3\n",
       "261    4\n",
       "262    4\n",
       "263    3\n",
       "\n",
       "[264 rows x 1 columns]"
      ]
     },
     "execution_count": 9,
     "metadata": {},
     "output_type": "execute_result"
    }
   ],
   "source": [
    "x_df = df.iloc[:,0:2]\n",
    "y_df = df.iloc[:,2:3]\n",
    "y_df"
   ]
  },
  {
   "cell_type": "code",
   "execution_count": 14,
   "id": "548d16e0-3263-41a6-825c-968ea822a8d9",
   "metadata": {},
   "outputs": [],
   "source": [
    "from sklearn.model_selection import train_test_split\n",
    "train_input, test_input , train_target, test_target = train_test_split(x_df,y_df,test_size = 0.25, random_state = 42)"
   ]
  },
  {
   "cell_type": "markdown",
   "id": "8c50735d-7767-44df-a285-22fbb3284a60",
   "metadata": {},
   "source": [
    "### 선형회귀"
   ]
  },
  {
   "cell_type": "code",
   "execution_count": 22,
   "id": "1d5002aa-3aa9-47c2-a060-45074200eee1",
   "metadata": {},
   "outputs": [],
   "source": [
    "# 선형회귀 클래스(모델) 생성하기 \n",
    "from sklearn.linear_model import LinearRegression"
   ]
  },
  {
   "cell_type": "code",
   "execution_count": 25,
   "id": "6ee0fc04-ec33-479c-93a6-231150c0dae7",
   "metadata": {},
   "outputs": [
    {
     "name": "stdout",
     "output_type": "stream",
     "text": [
      "훈련 =  0.589220642902726\n",
      "테스트 =  0.5995961077787295\n",
      "[[0.08329286 0.68737411]] [0.65308096]\n"
     ]
    }
   ],
   "source": [
    "lr = LinearRegression()\n",
    "lr.fit(train_input,train_target)\n",
    "print('훈련 = ' , lr.score(train_input,train_target))\n",
    "print('테스트 = ' , lr.score(test_input,test_target))\n",
    "print(lr.coef_, lr.intercept_)\n",
    "\n",
    "## (해석) 과소적합이고 모델의 설명력이 낮으므로 다항회귀모델으로 변경"
   ]
  },
  {
   "cell_type": "markdown",
   "id": "b37ddcbd-883c-429c-bd69-1664ebd8e1d3",
   "metadata": {},
   "source": [
    "### 다항회귀"
   ]
  },
  {
   "cell_type": "code",
   "execution_count": 27,
   "id": "951895a6-aebf-4e45-af3d-17882ae39eae",
   "metadata": {},
   "outputs": [
    {
     "data": {
      "text/plain": [
       "(198, 4)"
      ]
     },
     "execution_count": 27,
     "metadata": {},
     "output_type": "execute_result"
    }
   ],
   "source": [
    "train_poly = np.column_stack((train_input**2,train_input))\n",
    "train_poly.shape"
   ]
  },
  {
   "cell_type": "code",
   "execution_count": 28,
   "id": "10aa0ac3-3c9c-49e5-bcef-02edeca8b721",
   "metadata": {},
   "outputs": [
    {
     "data": {
      "text/plain": [
       "(66, 4)"
      ]
     },
     "execution_count": 28,
     "metadata": {},
     "output_type": "execute_result"
    }
   ],
   "source": [
    "test_poly = np.column_stack((test_input**2,test_input))\n",
    "test_poly.shape"
   ]
  },
  {
   "cell_type": "code",
   "execution_count": 33,
   "id": "1667ac33-f82e-4ea1-90b7-d76839615828",
   "metadata": {},
   "outputs": [
    {
     "name": "stdout",
     "output_type": "stream",
     "text": [
      "훈련 =  0.6218109034223056\n",
      "테스트 =  0.6013142296656446\n"
     ]
    }
   ],
   "source": [
    "# - 객체(모델) 생성\n",
    "lr = LinearRegression()\n",
    "\n",
    "# - 훈련모델 생성\n",
    "lr.fit(train_poly,train_target)\n",
    "print('훈련 = ' , lr.score(train_poly,train_target))\n",
    "print('테스트 = ' , lr.score(test_poly,test_target))\n",
    "\n",
    "## (해석) 과소적합은 해소되었으나 모델의 설명력(결정력)이 여전히 낮으므로 다중회귀 모델으로 변경"
   ]
  },
  {
   "cell_type": "markdown",
   "id": "00117795-b77b-45cc-9a85-80e456b3470a",
   "metadata": {},
   "source": [
    "### 다중회귀"
   ]
  },
  {
   "cell_type": "code",
   "execution_count": 35,
   "id": "710ff6dc-bfa2-4b0e-bedf-9b441a35aa78",
   "metadata": {},
   "outputs": [],
   "source": [
    "### 사이킷런 변환기 클래스\n",
    "from sklearn.preprocessing import PolynomialFeatures"
   ]
  },
  {
   "cell_type": "code",
   "execution_count": 40,
   "id": "3af88c44-49bb-4ce5-8bbf-34e0565ff727",
   "metadata": {},
   "outputs": [
    {
     "name": "stdout",
     "output_type": "stream",
     "text": [
      "(198, 20) (66, 20)\n"
     ]
    }
   ],
   "source": [
    "poly = PolynomialFeatures(degree = 5 , include_bias = False)\n",
    "poly.fit(train_input)\n",
    "train_poly = poly.transform(train_input)\n",
    "test_poly = poly.transform(test_input)\n",
    "print(train_poly.shape , test_poly.shape)"
   ]
  },
  {
   "cell_type": "code",
   "execution_count": 41,
   "id": "ed77a843-10c5-4ea0-8cb9-fce7e92f8318",
   "metadata": {},
   "outputs": [
    {
     "data": {
      "text/plain": [
       "array(['친밀도', '적절성', '친밀도^2', '친밀도 적절성', '적절성^2', '친밀도^3', '친밀도^2 적절성',\n",
       "       '친밀도 적절성^2', '적절성^3', '친밀도^4', '친밀도^3 적절성', '친밀도^2 적절성^2',\n",
       "       '친밀도 적절성^3', '적절성^4', '친밀도^5', '친밀도^4 적절성', '친밀도^3 적절성^2',\n",
       "       '친밀도^2 적절성^3', '친밀도 적절성^4', '적절성^5'], dtype=object)"
      ]
     },
     "execution_count": 41,
     "metadata": {},
     "output_type": "execute_result"
    }
   ],
   "source": [
    "### 훈련모델이 사용된 조합의 패턴을 가지고 있습니다\n",
    "poly.get_feature_names_out()"
   ]
  },
  {
   "cell_type": "code",
   "execution_count": 43,
   "id": "8da484b2-930f-45bd-9e8d-e1012985d8eb",
   "metadata": {},
   "outputs": [
    {
     "name": "stdout",
     "output_type": "stream",
     "text": [
      "훈련 =  0.668686596078267\n",
      "테스트 =  -1.0195702935609878\n"
     ]
    }
   ],
   "source": [
    "from sklearn.linear_model import LinearRegression\n",
    "lr = LinearRegression()\n",
    "lr.fit(train_poly,train_target)\n",
    "print('훈련 = ', lr.score(train_poly, train_target))\n",
    "print('테스트 = ', lr.score(test_poly, test_target))"
   ]
  },
  {
   "cell_type": "code",
   "execution_count": 44,
   "id": "97582e23-8004-4ffd-ab50-80e0d99008a5",
   "metadata": {},
   "outputs": [],
   "source": [
    "# (해석) 테스트 결과는 훈련데이터의 설명력이 조금 상승했지만\n",
    "# 큰 과대적합이 발생했으므로 릿지, 라쏘,릿지모델으로 과대적합을 규제해 주어야 한다"
   ]
  },
  {
   "cell_type": "markdown",
   "id": "1933eedc-2430-43d1-b753-a40fd0d299f8",
   "metadata": {},
   "source": [
    "### 릿지, 라쏘"
   ]
  },
  {
   "cell_type": "code",
   "execution_count": 57,
   "id": "cac47fe2-fa91-4cc0-98ec-828667b82aaf",
   "metadata": {},
   "outputs": [
    {
     "name": "stdout",
     "output_type": "stream",
     "text": [
      "[  2.91919192   3.14141414   9.41414141   9.57575758  10.61616162\n",
      "  32.31313131  32.09090909  33.52525253  37.92929293 116.2020202\n",
      " 114.18181818 116.26262626 123.66666667 141.76767677 434.73737374\n",
      " 425.06060606 427.46464646 442.66666667 476.49494949 550.41414141] [  0.94470099   0.86468422   5.2512819    4.95656061   5.39117699\n",
      "  25.31863468  24.7437742   25.16163644  27.74095631 119.60524125\n",
      " 117.854504   119.39566561 123.80128261 136.03942004 566.46493889\n",
      " 560.25815331 564.66090321 578.77571937 604.3252498  660.14808578]\n"
     ]
    }
   ],
   "source": [
    "from sklearn.preprocessing import StandardScaler\n",
    "ss = StandardScaler()\n",
    "ss.fit(train_poly,train_target)\n",
    "train_scaled = ss.transform(train_poly)\n",
    "test_scaled = ss.transform(test_poly)\n",
    "train_scaled\n",
    "test_scaled\n",
    "\n",
    "### 각 데이터는 55개씩...\n",
    "# 평균 및 표준편차 확인하기\n",
    "print(ss.mean_,ss.scale_)"
   ]
  },
  {
   "cell_type": "code",
   "execution_count": 58,
   "id": "0c951aac-7751-4c20-a2eb-0aa64bc4658a",
   "metadata": {},
   "outputs": [
    {
     "name": "stdout",
     "output_type": "stream",
     "text": [
      "훈련 :  0.6428834595890419\n",
      "테스트 :  0.6342200586076698\n"
     ]
    }
   ],
   "source": [
    "from sklearn.linear_model import Ridge\n",
    "from sklearn.linear_model import Lasso\n",
    "ridge = Ridge()\n",
    "ridge.fit(train_scaled, train_target)\n",
    "print('훈련 : ' , ridge.score(train_scaled,train_target))\n",
    "print('테스트 : ' , ridge.score(test_scaled,test_target))"
   ]
  },
  {
   "cell_type": "code",
   "execution_count": 59,
   "id": "bd0e3a75-b625-4e5b-9839-8dbb00ab3d09",
   "metadata": {},
   "outputs": [
    {
     "name": "stdout",
     "output_type": "stream",
     "text": [
      "훈련 :  0.0\n",
      "테스트 :  -0.03759780907668264\n"
     ]
    }
   ],
   "source": [
    "lasso = Lasso()\n",
    "lasso.fit(train_scaled, train_target)\n",
    "print('훈련 : ', lasso.score(train_scaled, train_target))\n",
    "print('테스트 : ' ,lasso.score(test_scaled, test_target)) "
   ]
  },
  {
   "cell_type": "code",
   "execution_count": 60,
   "id": "7ddd7e7b-4c14-4210-b8da-06a74f0db90a",
   "metadata": {},
   "outputs": [
    {
     "data": {
      "image/png": "[encoded data removed]",
      "text/plain": [
       "<Figure size 432x288 with 1 Axes>"
      ]
     },
     "metadata": {
      "needs_background": "light"
     },
     "output_type": "display_data"
    }
   ],
   "source": [
    "# 훈련시 발생하는 결정계수를 저장할 리스트\n",
    "train_score = []\n",
    "# 테스트 시 발생하는 결정계수를 저장할 리스트\n",
    "test_score = []\n",
    "\n",
    "# 임의 alpha 값(x축으로 설정합니다.) 설정(범위 설정)\n",
    "alpha_list = [0.001, 0.01, 0.1 , 1 , 10 , 100]\n",
    "\n",
    "### 훈련 및 테스트 결정계수 데이터 조회하기\n",
    "for alpha in alpha_list:\n",
    "    # 릿지 모델\n",
    "    ridge = Ridge(alpha = alpha) # alpha는 규제강도라는 속성이다\n",
    "    ridge.fit(train_scaled, train_target)\n",
    "    train_score.append(ridge.score(train_scaled, train_target))\n",
    "    test_score.append(ridge.score(test_scaled, test_target))\n",
    "    \n",
    "# 그래프로 시각화\n",
    "plt.plot(np.log10(alpha_list), train_score)\n",
    "plt.plot(np.log10(alpha_list), test_score)\n",
    "plt.show()\n",
    "\n",
    "## 테스트데이터가 떨어지는 부분이 과소적합\n",
    "## 훈련데이터가 떨어지는 부분이 과소적합"
   ]
  },
  {
   "cell_type": "code",
   "execution_count": null,
   "id": "9ce2605d-d091-4557-8bbe-9cb0d15dd8d6",
   "metadata": {},
   "outputs": [],
   "source": []
  }
 ],
 "metadata": {
  "kernelspec": {
   "display_name": "django_kernel",
   "language": "python",
   "name": "django"
  },
  "language_info": {
   "codemirror_mode": {
    "name": "ipython",
    "version": 3
   },
   "file_extension": ".py",
   "mimetype": "text/x-python",
   "name": "python",
   "nbconvert_exporter": "python",
   "pygments_lexer": "ipython3",
   "version": "3.10.5"
  }
 },
 "nbformat": 4,
 "nbformat_minor": 5
}
