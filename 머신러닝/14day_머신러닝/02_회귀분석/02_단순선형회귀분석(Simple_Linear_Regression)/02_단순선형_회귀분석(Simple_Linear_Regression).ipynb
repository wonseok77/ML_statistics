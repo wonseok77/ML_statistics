{
 "cells": [
  {
   "cell_type": "markdown",
   "id": "093173e7",
   "metadata": {},
   "source": [
    "### 단순선형 회귀분석(Simple Linear Regression)\n",
    "##### - 모델 생성 : statsmodels의 smf 라이브러리의 ols() 함수를 이용\n",
    "##### - 독립변수(x) - 연속형, .....종속변수(y) - 연속형.\n",
    "##### - 독립변수(x)는 1개 항목만 사용한다"
   ]
  },
  {
   "cell_type": "markdown",
   "id": "44f105f8",
   "metadata": {},
   "source": [
    "### exe-1) 음료수 만족도에 영향을 미치는 요인 분석"
   ]
  },
  {
   "cell_type": "code",
   "execution_count": 3,
   "id": "6c47e359",
   "metadata": {},
   "outputs": [],
   "source": [
    "### 라이브러리 불러오기\n",
    "import pandas as pd\n",
    "import numpy as np\n",
    "import matplotlib.pyplot as plt\n",
    "\n",
    "plt.rc('font', family='Malgun Gothic')"
   ]
  },
  {
   "cell_type": "code",
   "execution_count": 4,
   "id": "34423dfe",
   "metadata": {},
   "outputs": [
    {
     "name": "stdout",
     "output_type": "stream",
     "text": [
      "264 \n",
      "    친밀도  적절성  만족도\n",
      "0    3    4    3\n",
      "1    3    3    2\n",
      "2    4    4    4 \n",
      "               친밀도         적절성         만족도\n",
      "count  264.000000  264.000000  264.000000\n",
      "mean     2.928030    3.132576    3.094697\n",
      "std      0.970345    0.859657    0.828744\n",
      "min      1.000000    1.000000    1.000000\n",
      "25%      2.000000    3.000000    3.000000\n",
      "50%      3.000000    3.000000    3.000000\n",
      "75%      4.000000    4.000000    4.000000\n",
      "max      5.000000    5.000000    5.000000\n"
     ]
    }
   ],
   "source": [
    "### 데이터 생성하기\n",
    "\n",
    "df = pd.read_csv('./data/drinking_water.csv')\n",
    "print(len(df), \"\\n\", df.head(3), '\\n', df.describe())"
   ]
  },
  {
   "cell_type": "code",
   "execution_count": 5,
   "id": "fd2f3395",
   "metadata": {},
   "outputs": [
    {
     "name": "stdout",
     "output_type": "stream",
     "text": [
      "          친밀도       적절성       만족도\n",
      "친밀도  1.000000  0.499209  0.467145\n",
      "적절성  0.499209  1.000000  0.766853\n",
      "만족도  0.467145  0.766853  1.000000\n"
     ]
    }
   ],
   "source": [
    "### 상관관계 분석\n",
    "\n",
    "# [만족도]와 상관관계가 높은 항목은 [적절성] : 0.766853\n",
    "# [만족도]와 [친밀도]는 : 0.499209로 [적절성] 보다는 낮다\n",
    "print(df.corr()) "
   ]
  },
  {
   "cell_type": "code",
   "execution_count": 24,
   "id": "6c06603f",
   "metadata": {},
   "outputs": [
    {
     "name": "stdout",
     "output_type": "stream",
     "text": [
      "model = \n",
      " <statsmodels.regression.linear_model.RegressionResultsWrapper object at 0x0000019F50D50C70>\n",
      "---------------------------\n",
      "학습모델 결과 = \n",
      "                             OLS Regression Results                            \n",
      "==============================================================================\n",
      "Dep. Variable:                    만족도   R-squared:                       0.588\n",
      "Model:                            OLS   Adj. R-squared:                  0.586\n",
      "Method:                 Least Squares   F-statistic:                     374.0\n",
      "Date:                Sun, 24 Jul 2022   Prob (F-statistic):           2.24e-52\n",
      "Time:                        22:55:08   Log-Likelihood:                -207.44\n",
      "No. Observations:                 264   AIC:                             418.9\n",
      "Df Residuals:                     262   BIC:                             426.0\n",
      "Df Model:                           1                                         \n",
      "Covariance Type:            nonrobust                                         \n",
      "==============================================================================\n",
      "                 coef    std err          t      P>|t|      [0.025      0.975]\n",
      "------------------------------------------------------------------------------\n",
      "Intercept      0.7789      0.124      6.273      0.000       0.534       1.023\n",
      "적절성            0.7393      0.038     19.340      0.000       0.664       0.815\n",
      "==============================================================================\n",
      "Omnibus:                       11.674   Durbin-Watson:                   2.185\n",
      "Prob(Omnibus):                  0.003   Jarque-Bera (JB):               16.003\n",
      "Skew:                          -0.328   Prob(JB):                     0.000335\n",
      "Kurtosis:                       4.012   Cond. No.                         13.4\n",
      "==============================================================================\n",
      "\n",
      "Notes:\n",
      "[1] Standard Errors assume that the covariance matrix of the errors is correctly specified.\n",
      "-------------------------------\n",
      "지수값을 실수값으로 표현 : 7.29e-15 = 0.000000000\n",
      "-------------------------------\n",
      "y절편(b) = 0.7788583344701921 / 기울기(a) = 0.7392761785971822\n",
      "-------------------------------\n",
      "결정계수(R-squared) =  0.5880630629464404\n",
      "-------------------------------\n",
      "유의수준(p-value) = 0.000\n"
     ]
    }
   ],
   "source": [
    "### 모델 객체 생성 및 학습모델 생성하기\n",
    "\n",
    "# 모델 생성에 사용할 라이브러리 불러들이기\n",
    "import statsmodels.formula.api as smf\n",
    "\n",
    "# 만족도와 상관관계가 높은 적절성 데이터를 사용하여\n",
    "#  - 종속변수(y) = 만족도 사용\n",
    "#  - 독립변수(x) = 적절성 사용\n",
    "formulas = \"만족도 ~ 적절성\"\n",
    "\n",
    "### 학습모델 생성하기\n",
    "model = smf.ols(formula = formulas, data=df).fit()\n",
    "print(\"model = \\n\", model)\n",
    "print(\"---------------------------\")\n",
    "\n",
    "### 학습모델 결과 확인하기 : summary()\n",
    "print(\"학습모델 결과 = \\n\", model.summary())\n",
    "print(\"-------------------------------\")\n",
    "\n",
    "print(\"지수값을 실수값으로 표현 : 7.29e-15 = {:.9f}\".format(7.29e-15))\n",
    "print(\"-------------------------------\")\n",
    "\n",
    "# - R-squared : 결정계수(1에 까가울 수록 학습모델이 좋은 것임)\n",
    "#   (결정계수는 예측을 얼마나 잘 할 수 있을까로 해설할 수도 있다.)\n",
    "# - Adj. R-squared : 수정결정계수(1에 까가울 수록 학습모델이 좋은 것임) : 0.588\n",
    "# - *** 독립변수가 많을 경우 R-squared과 Adj. R-squared의 차이가 클 경우 \n",
    "#       독립변수 [이상치를 확인]해야한다. ***\n",
    "\n",
    "# - 적절성의 p-value : 0.000 < 0.05 => 모델은 유효하다.\n",
    "# - 적절성의 std err(표준 오차) : 0.038\n",
    "# - 적절성의 Intercept(y절편) : 0.7789\n",
    "# - 적정성의 coef(기울기) : 0.7393\n",
    "# - 적정성의 Kurtosis : 4.012 => 일반적으로 3보다 클경우,\n",
    "#   평균에 데이터가 몰려있다고 판단한다.\n",
    "#   kurtosis() 첨도는 확률분포에서 분포의 [뾰족한 정도]를 나타내는 [척도]입니다. \n",
    "#   --> 첨도가 높은 경우: 데이터의 분포가 평균(혹은 중심)에 많이 몰려 있어 뾰족하다\n",
    "\n",
    "\n",
    "### 위 학습결과(summary())의 내용의 데이터 추출해 보기.....\n",
    "\n",
    "# y절편(b)과 기울기(a) 산출\n",
    "# 회귀식 y = a * x + b\n",
    "b, a = model.params\n",
    "print(\"y절편(b) = {} / 기울기(a) = {}\".format(b, a)) \n",
    "print(\"-------------------------------\")\n",
    "\n",
    "### 결정계수(R-squared)\n",
    "rsquared = model.rsquared\n",
    "print(\"결정계수(R-squared) = \", rsquared) \n",
    "print(\"-------------------------------\")\n",
    "\n",
    "### 유의수준(p-value)\n",
    "print(\"유의수준(p-value) = {:.3f}\".format(model.pvalues[0]))\n",
    "\n",
    "### (해석)\n",
    "# - 생성한 학습모델에 사용된 독립변수는\n",
    "# - 유의수준 p-value는 0.000 < 0.05 으로 유의미 하다.\n",
    "# - 결정계수(R-squared) 0.588 > 0.05  => 의미있는 학습모델\n",
    "# - 하지만, 예측 시에 정확도가 다소 낮을 수 있다."
   ]
  },
  {
   "cell_type": "code",
   "execution_count": 38,
   "id": "db734a4f",
   "metadata": {},
   "outputs": [
    {
     "name": "stdout",
     "output_type": "stream",
     "text": [
      "예측값(y_pred) = \n",
      " 0    3.735963\n",
      "1    2.996687\n",
      "2    3.735963\n",
      "3    2.257411\n",
      "4    2.257411\n",
      "dtype: float64\n",
      "-------------------------------\n",
      "실제값(y) = \n",
      "    만족도\n",
      "0    3\n",
      "1    2\n",
      "2    4\n",
      "3    2\n",
      "4    2\n"
     ]
    }
   ],
   "source": [
    "### 예측(테스트) 하기\n",
    "\n",
    "# 테스트 데이터 생성\n",
    "x_test = df[[\"적절성\"]][:5]\n",
    "\n",
    "# 실제 데이터 생성(예측 결과 확인하기 위해)\n",
    "y_test = df[[\"만족도\"]][:5]\n",
    "\n",
    "### 예측(테스트)하기\n",
    "y_pred = model.predict(x_test)\n",
    "\n",
    "### 결과 확인해 보기\n",
    "print(\"예측값(y_pred) = \\n\", y_pred)\n",
    "print(\"-------------------------------\")\n",
    "\n",
    "print(\"실제값(y) = \\n\", y_test)"
   ]
  },
  {
   "cell_type": "code",
   "execution_count": 48,
   "id": "1cc1ac57",
   "metadata": {},
   "outputs": [
    {
     "data": {
      "image/png": "[encoded data removed]",
      "text/plain": [
       "<Figure size 432x288 with 1 Axes>"
      ]
     },
     "metadata": {
      "needs_background": "light"
     },
     "output_type": "display_data"
    }
   ],
   "source": [
    "### 시각화 하기\n",
    "\n",
    "# 산점도로 실제 데이터 표시하기\n",
    "plt.scatter(df.적절성, df.만족도)\n",
    "\n",
    "# 회귀공식(a * x + b) 적용하여 [추세선] 그리기\n",
    "plt.plot(df.적절성, a * df.적절성 + b, 'red') \n",
    "\n",
    "plt.show()\n",
    "\n",
    "### 전체적인 데이터의 분포가 학습모델 결과의 회귀식에 의해\n",
    "#   그려진 추세선과 추세선과 선형을 띄고는 있으나, 거리가 다소 멀리 분포하며,\n",
    "#   - 이는 데이터 예측 정확도가 다소 낮을 수 있음을 의미함\n",
    "#   - 따라서, 해당 학습모델을 사용하는 것은 고민해 볼 필요성이 있다."
   ]
  },
  {
   "cell_type": "code",
   "execution_count": null,
   "id": "ac48e780",
   "metadata": {},
   "outputs": [],
   "source": []
  }
 ],
 "metadata": {
  "kernelspec": {
   "display_name": "Python 3 (ipykernel)",
   "language": "python",
   "name": "python3"
  },
  "language_info": {
   "codemirror_mode": {
    "name": "ipython",
    "version": 3
   },
   "file_extension": ".py",
   "mimetype": "text/x-python",
   "name": "python",
   "nbconvert_exporter": "python",
   "pygments_lexer": "ipython3",
   "version": "3.9.12"
  }
 },
 "nbformat": 4,
 "nbformat_minor": 5
}
