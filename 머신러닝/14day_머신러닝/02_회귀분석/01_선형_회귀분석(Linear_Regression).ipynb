{
 "cells": [
  {
   "cell_type": "markdown",
   "id": "7c117955-92a2-4047-8eef-122bcea79841",
   "metadata": {
    "tags": []
   },
   "source": [
    "### 선형 회귀분석(Linear Regression)\n",
    "##### -독립변수(x)가 종속변수(y)에 얼마나 영향을 주는지 인과관계를 분석\n",
    "##### -독립변수(x) - 연속형 , ..... 종속변수(y) - 연속형\n",
    "##### -두 변수는 상관관계 및 인과관계가 있어야한다 (상관계수>0.3)\n",
    "##### -머신러닝의 지도학습 : 학습(fit)을 통해 모델 생성 후,\n",
    "##### ... 새로운 데이터에 대한 예측 및 분류(predict)"
   ]
  },
  {
   "cell_type": "code",
   "execution_count": 2,
   "id": "5471f384-fce7-4091-9bd1-8eb535af48c9",
   "metadata": {},
   "outputs": [],
   "source": [
    "## 3.statsmodels의 smf 라이브러리의 ols() 함수를 이용하는 방법\n",
    "# - 단순선형 회귀분석 및 다중회귀분석에 사용됨\n",
    "# - 모델을 생성할 수 있다.\n",
    "# - 학습(fit()) 및 예측(predict()) 함수 사용 가능\n",
    "# *** [단순선형 및 다중선형 회귀분석]에서 사용되는 모델임 ***\n",
    "\n",
    "### 사용할 라이브러리 불러오기\n"
   ]
  },
  {
   "cell_type": "markdown",
   "id": "cb717f4a-6a49-4e4d-a324-56345f444d40",
   "metadata": {},
   "source": [
    "##### exe-1) 임의 데이터를 이용하여 선형회귀분석 테스트"
   ]
  },
  {
   "cell_type": "code",
   "execution_count": 3,
   "id": "3e9b382a-c2f7-43d0-8d47-93d000d05731",
   "metadata": {},
   "outputs": [],
   "source": [
    "### 사용할 라이브러리 불러오기\n",
    "\n",
    "import numpy.linalg as lin\n",
    "import numpy as np\n",
    "import matplotlib.pyplot as plt"
   ]
  },
  {
   "cell_type": "code",
   "execution_count": 5,
   "id": "8f29a556-7cee-46bf-acc5-743a8a4b6054",
   "metadata": {},
   "outputs": [
    {
     "data": {
      "image/png": "[encoded data removed]",
      "text/plain": [
       "<Figure size 432x288 with 1 Axes>"
      ]
     },
     "metadata": {
      "needs_background": "light"
     },
     "output_type": "display_data"
    }
   ],
   "source": [
    "### 데이터 생성하기\n",
    "x = np.array([0,1,2,3])\n",
    "y = np.array([-1, 0.2, 0.9, 2.1])\n",
    "\n",
    "\n",
    "### 선형 그래프 시각화하기\n",
    "plt.plot(x, y)\n",
    "plt.grid(True)\n",
    "plt.show()"
   ]
  },
  {
   "cell_type": "code",
   "execution_count": 11,
   "id": "f2de14d5-208f-4761-9b86-b64c64f8fa47",
   "metadata": {},
   "outputs": [
    {
     "name": "stdout",
     "output_type": "stream",
     "text": [
      "x = \n",
      " [0 1 2 3]\n",
      "-----------------------------------------\n",
      "np.ones(len(x)) = \n",
      " [1. 1. 1. 1.]\n",
      "-----------------------------------------\n",
      "np.vstack([x, np.ones(len(x))]) = \n",
      " [[0. 1. 2. 3.]\n",
      " [1. 1. 1. 1.]]\n",
      "-----------------------------------------\n",
      "A = \n",
      " [[0. 1.]\n",
      " [1. 1.]\n",
      " [2. 1.]\n",
      " [3. 1.]]\n",
      "-----------------------------------------\n",
      "기울기 : 0.9999999999999997  y절편 : -0.949999999999999\n",
      "-----------------------------------------\n"
     ]
    },
    {
     "data": {
      "image/png": "[encoded data removed]",
      "text/plain": [
       "<Figure size 432x288 with 1 Axes>"
      ]
     },
     "metadata": {
      "needs_background": "light"
     },
     "output_type": "display_data"
    }
   ],
   "source": [
    "A = np.vstack([x, np.ones(len(x))]).T\n",
    "\n",
    "print('x = \\n', x)\n",
    "print('-----------------------------------------')\n",
    "\n",
    "# np.ones(x) : 1로 채워진 행렬 생성\n",
    "print('np.ones(len(x)) = \\n', np.ones(len(x)))\n",
    "print('-----------------------------------------')\n",
    "\n",
    "# np.vstack(x,y) : x에 y행 추가 (2차원 리스트가 만들어짐)\n",
    "print('np.vstack([x, np.ones(len(x))]) = \\n',\n",
    "         np.vstack([x, np.ones(len(x))]))\n",
    "print('-----------------------------------------')\n",
    "\n",
    "# A = ().T : 전치 (행과 열을 변경한다 - 2차원 행렬 생성)\n",
    "print('A = \\n', A)\n",
    "print('-----------------------------------------')\n",
    "\n",
    "# 기울기값(a)와 y절편값 추출하기\n",
    "a, b = np.linalg.lstsq(A, y, rcond=None)[0]\n",
    "print('기울기 :', a, ' y절편 :', b)\n",
    "print('-----------------------------------------')\n",
    "\n",
    "# 선그래프로 시각화 하기..\n",
    "# 수집 데이터를 이용한 표시\n",
    "plt.plot(x, y, 'o', label='Original data', markersize=10)\n",
    "\n",
    "# Fitted line : 회귀 추세선\n",
    "plt.plot(x, a*x + b, 'r', label='Fitted line')\n",
    "\n",
    "plt.legend()\n",
    "plt.show()"
   ]
  },
  {
   "cell_type": "markdown",
   "id": "d0a7de59-c754-47ef-9220-a2d179876b9c",
   "metadata": {},
   "source": [
    "### 2. Linear Regression() 함수를 이용하는 방법"
   ]
  },
  {
   "cell_type": "code",
   "execution_count": 17,
   "id": "a9bf8e5d-b552-4342-b1dd-c813897881cf",
   "metadata": {},
   "outputs": [],
   "source": [
    "from sklearn.linear_model import LinearRegression\n",
    "from sklearn.datasets import make_regression"
   ]
  },
  {
   "cell_type": "code",
   "execution_count": 21,
   "id": "2bc4ba51-51cc-436e-9c40-3366f4468e23",
   "metadata": {},
   "outputs": [
    {
     "name": "stdout",
     "output_type": "stream",
     "text": [
      "기울기 =  [89.47430739]\n",
      "---------------------------------\n",
      "y절편 =  100.0\n",
      "---------------------------------\n",
      "[-52.17214291]\n",
      "---------------------------------\n",
      "[90.52804266]\n",
      "---------------------------------\n"
     ]
    }
   ],
   "source": [
    "### 모델 생성\n",
    "# seed(12) : 랜덤값 생성시 12값 seed로 고정\n",
    "np.random.seed(12)\n",
    "\n",
    "x, y, coef = make_regression(n_samples = 50,\n",
    "                             n_features = 1,\n",
    "                             bias = 100,\n",
    "                             coef = True)\n",
    "xx = x\n",
    "yy = y\n",
    "\n",
    "model = LinearRegression()\n",
    "\n",
    "fit_model = model.fit(xx, yy)\n",
    "#기울기\n",
    "print(\"기울기 = \", fit_model.coef_)\n",
    "print(\"---------------------------------\")\n",
    "\n",
    "# y절편 100.0\n",
    "print(\"y절편 = \", fit_model.intercept_)\n",
    "print(\"---------------------------------\")\n",
    "\n",
    "### 예측모델 테스트 : predict()\n",
    "\n",
    "# 예측값(y) 확인하기\n",
    "y_pred2 = fit_model.predict(xx[[0]])\n",
    "print(y_pred2)\n",
    "print(\"---------------------------------\")\n",
    "y_pred2_new = fit_model.predict(xx[[40]])\n",
    "print(y_pred2_new)\n",
    "print(\"---------------------------------\")\n",
    "\n"
   ]
  },
  {
   "cell_type": "code",
   "execution_count": null,
   "id": "6cb27a0e-0860-4bf4-b244-83e924969ecf",
   "metadata": {},
   "outputs": [],
   "source": [
    "### 1. make_regression() 함수를 이용한 방법\n",
    "# -"
   ]
  }
 ],
 "metadata": {
  "kernelspec": {
   "display_name": "Python 3 (ipykernel)",
   "language": "python",
   "name": "python3"
  },
  "language_info": {
   "codemirror_mode": {
    "name": "ipython",
    "version": 3
   },
   "file_extension": ".py",
   "mimetype": "text/x-python",
   "name": "python",
   "nbconvert_exporter": "python",
   "pygments_lexer": "ipython3",
   "version": "3.9.12"
  }
 },
 "nbformat": 4,
 "nbformat_minor": 5
}
