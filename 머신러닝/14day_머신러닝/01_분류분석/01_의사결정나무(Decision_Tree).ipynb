{
 "cells": [
  {
   "cell_type": "code",
   "execution_count": 1,
   "id": "d1153568-ecef-475e-8ba3-0a44c625e8e1",
   "metadata": {},
   "outputs": [
    {
     "data": {
      "text/plain": [
       "'\\n- 여러 규칙을 순차적으로 적용하면서 분류나 예측을 진행하는 단순 알고리즘 모델\\n- 분류(Classification)와 회귀(Regression)분석에서 모두 사용가능하며,\\n  분류분석에 주로 사용됨\\n- 의사결정나무에서 확장된 모델이 랜덤포레스트(Random Forest)이 대표적 ...\\n\\n- 독립변수 : 연속형 데이터 (숫자값들)\\n- 종속변수 : 범주형 데이터.. (구분 가능한 값들)\\n\\n\\n- 순서\\n 1. 데이터 생성\\n 2. 전처리\\n 3. 학습모델 생성(fit()함수 사용)\\n 4. 모델 테스트(예측) (predict() 함수 사용)\\n 5. 평가\\n'"
      ]
     },
     "execution_count": 1,
     "metadata": {},
     "output_type": "execute_result"
    }
   ],
   "source": [
    "'''\n",
    "- 여러 규칙을 순차적으로 적용하면서 분류나 예측을 진행하는 단순 알고리즘 모델\n",
    "- 분류(Classification)와 회귀(Regression)분석에서 모두 사용가능하며,\n",
    "  분류분석에 주로 사용됨\n",
    "- 의사결정나무에서 확장된 모델이 랜덤포레스트(Random Forest)이 대표적 ...\n",
    "\n",
    "- 독립변수 : 연속형 데이터 (숫자값들)\n",
    "- 종속변수 : 범주형 데이터.. (구분 가능한 값들)\n",
    "\n",
    "\n",
    "- 순서\n",
    " 1. 데이터 생성\n",
    " 2. 전처리\n",
    " 3. 학습모델 생성(fit()함수 사용)\n",
    " 4. 모델 테스트(예측) (predict() 함수 사용)\n",
    " 5. 평가\n",
    "'''"
   ]
  },
  {
   "cell_type": "markdown",
   "id": "bc281f01-1fb1-47f7-a6ab-f85af3a03969",
   "metadata": {},
   "source": [
    "### exe-1) 사람의 키와 머리카락의 길이로 성별 예측하기\n",
    "##### - 종속변수 : 성별\n",
    "##### - 독립변수 : 키, 머리카락 길이"
   ]
  },
  {
   "cell_type": "code",
   "execution_count": 3,
   "id": "7208f0e8-8f71-48ed-95b2-fa6e029b8a1d",
   "metadata": {},
   "outputs": [],
   "source": [
    "from sklearn import tree"
   ]
  },
  {
   "cell_type": "code",
   "execution_count": 7,
   "id": "014b9dcc-6432-4568-8132-c799b41d1197",
   "metadata": {},
   "outputs": [
    {
     "name": "stdout",
     "output_type": "stream",
     "text": [
      "model = \\m DecisionTreeClassifier(criterion='entropy', random_state=0)\n",
      "------------------------------\n"
     ]
    }
   ],
   "source": [
    "### 데이터 생성\n",
    "# 독립변수 : x\n",
    "x = [[180,15],[177,42],[156,35],[174,5],[165,33]]\n",
    "# 종속변수 : y\n",
    "y = ['man','women','women','men','women']\n",
    "label_names = ['height','hair Length']\n",
    "\n",
    "### 모델 객체 생성하기\n",
    "# - criterion : 품질측정 방법(지니불순도 방법, 엔트로피 방법)\n",
    "# ---- 엔트로피 : 균형잡힌 트리를 생성\n",
    "# ---- 지니불순도 : 가장 빈도 높은 클래스를 먼저 분할하는 방법\n",
    "# -- random_state : seed 설정과 동일한 개념... 보통 0과 42 숫자 많이 사용\n",
    "model = tree.DecisionTreeClassifier(criterion = 'entropy', random_state = 0)\n",
    "print('model = \\m', model)\n",
    "print('------------------------------')"
   ]
  },
  {
   "cell_type": "code",
   "execution_count": 8,
   "id": "f07f03e3-d195-45ab-aeae-30ad291b85cf",
   "metadata": {},
   "outputs": [
    {
     "name": "stdout",
     "output_type": "stream",
     "text": [
      "fit = \n",
      " DecisionTreeClassifier(criterion='entropy', random_state=0)\n",
      "------------------------------\n"
     ]
    }
   ],
   "source": [
    "### 학습모델 생성 : \n",
    "fit = model.fit(x,y)\n",
    "print(\"fit = \\n\",fit)\n",
    "print('------------------------------')"
   ]
  },
  {
   "cell_type": "code",
   "execution_count": 9,
   "id": "716f490f-46fb-4352-91c7-d98647a68869",
   "metadata": {},
   "outputs": [
    {
     "name": "stdout",
     "output_type": "stream",
     "text": [
      "accuracy_score =  1.0\n"
     ]
    }
   ],
   "source": [
    "# 학습모델 평가하기\n",
    "\n",
    "# 결정계수 ...\n",
    "# - 값의 범위 : 0~1\n",
    "# - 1에 가까울 수록 학습모델이 우수함\n",
    "# - 결과값에 * 100을 하면 백분율로 표시됨\n",
    "# - 0.3 이상이면 학습모델 선택 고려 ... \n",
    "\n",
    "accuracy_score = fit.score(x,y)\n",
    "print(\"accuracy_score = \", accuracy_score)"
   ]
  },
  {
   "cell_type": "code",
   "execution_count": 10,
   "id": "2c5c54be-465d-4666-b8fb-997cb068e93b",
   "metadata": {},
   "outputs": [
    {
     "name": "stdout",
     "output_type": "stream",
     "text": [
      "예측결과 :  ['men']\n"
     ]
    }
   ],
   "source": [
    "### 예측(테스트) 하기\n",
    "# test 데이터 생성\n",
    "mydata = [[171,8]]\n",
    "\n",
    "# 예측(테스트) 시키기\n",
    "# 예측 시에는 독립변수만 넣어줍니다. (답은 안알려 줍니다.)\n",
    "# - 답은 예측결과 ...\n",
    "pred = fit.predict(mydata)\n",
    "print(\"예측결과 : \", pred)"
   ]
  },
  {
   "cell_type": "code",
   "execution_count": 13,
   "id": "4ccc9f03-3c40-472a-9166-e6b64913d7cd",
   "metadata": {},
   "outputs": [],
   "source": [
    "### 시각화 하기\n",
    "# 라이브러리 설치 : pip install pydotplus\n",
    "import pydotplus"
   ]
  },
  {
   "cell_type": "code",
   "execution_count": 15,
   "id": "6100db33-a9c4-4211-9a27-dcbc7aa27edb",
   "metadata": {},
   "outputs": [],
   "source": [
    "# conda install -c conda-forge graphviz\n",
    "# conda 설치 후 실행 오류가 계속 날 경우에는\n",
    "# pip install graphviz로 설치\n",
    "import graphviz\n",
    "import collections"
   ]
  },
  {
   "cell_type": "code",
   "execution_count": 17,
   "id": "6a3f2d9e-2485-4200-a415-8707ba96122e",
   "metadata": {},
   "outputs": [
    {
     "name": "stdout",
     "output_type": "stream",
     "text": [
      "dot_data =  digraph Tree {\n",
      "node [shape=box, style=\"filled, rounded\", color=\"black\", fontname=\"helvetica\"] ;\n",
      "edge [fontname=\"helvetica\"] ;\n",
      "0 [label=\"hair Length <= 24.0\\nentropy = 1.371\\nsamples = 5\\nvalue = [1, 1, 3]\", fillcolor=\"#c09cf2\"] ;\n",
      "1 [label=\"height <= 177.0\\nentropy = 1.0\\nsamples = 2\\nvalue = [1, 1, 0]\", fillcolor=\"#ffffff\"] ;\n",
      "0 -> 1 [labeldistance=2.5, labelangle=45, headlabel=\"True\"] ;\n",
      "2 [label=\"entropy = 0.0\\nsamples = 1\\nvalue = [0, 1, 0]\", fillcolor=\"#39e581\"] ;\n",
      "1 -> 2 ;\n",
      "3 [label=\"entropy = 0.0\\nsamples = 1\\nvalue = [1, 0, 0]\", fillcolor=\"#e58139\"] ;\n",
      "1 -> 3 ;\n",
      "4 [label=\"entropy = 0.0\\nsamples = 3\\nvalue = [0, 0, 3]\", fillcolor=\"#8139e5\"] ;\n",
      "0 -> 4 [labeldistance=2.5, labelangle=-45, headlabel=\"False\"] ;\n",
      "}\n",
      "-----------------------\n",
      "graph =  <pydotplus.graphviz.Dot object at 0x00000196F1E2E0A0>\n",
      "-----------------------\n",
      "edges =  defaultdict(<class 'list'>, {})\n",
      "-----------------------\n",
      "edges cjfl gn qustn =  defaultdict(<class 'list'>, {'0': [1, 4], '1': [2, 3]})\n",
      "-----------------------\n"
     ]
    },
    {
     "data": {
      "image/png": "[encoded data removed]",
      "text/plain": [
       "<Figure size 432x288 with 1 Axes>"
      ]
     },
     "metadata": {
      "needs_background": "light"
     },
     "output_type": "display_data"
    }
   ],
   "source": [
    "### 그래프 그리기\n",
    "# model : 위에서 생성한 모델\n",
    "# feature_names : 독립변수 각항목 이름\n",
    "# out_file : 파일로 저장할건지 여부\n",
    "# filled : 도형 안쪽 칠할건지 여부\n",
    "# rounded : 도형 사각 영역에 라운드 넣을 건지 여부\n",
    "# 그래프 속성 설정\n",
    "dot_data = tree.export_graphviz(model, \n",
    "                                feature_names = label_names,\n",
    "                                out_file = None, \n",
    "                                filled = True,\n",
    "                                rounded = True)\n",
    "print(\"dot_data = \", dot_data)\n",
    "print(\"-----------------------\")\n",
    "\n",
    "# 최종 사용할 그래프\n",
    "graph = pydotplus.graph_from_dot_data(dot_data)\n",
    "print(\"graph = \", graph)\n",
    "print(\"-----------------------\")\n",
    "\n",
    "# 독립변수의 갯수 만큼 색상 지정\n",
    "color = (\"red\", \"orange\")\n",
    "\n",
    "# list type으로 변경\n",
    "edges = collections.defaultdict(list)\n",
    "print(\"edges = \", edges)\n",
    "print(\"-----------------------\")\n",
    "\n",
    "### 트리 데이터 생성하기\n",
    "for e in graph.get_edge_list():\n",
    "    edges[e.get_source()].append(int(e.get_destination()))\n",
    "\n",
    "print(\"edges cjfl gn qustn = \", edges)\n",
    "print(\"-----------------------\")\n",
    "\n",
    "### 트리 그리기\n",
    "for e in edges :\n",
    "    edges[e].sort()\n",
    "    \n",
    "    for i in range(2) :\n",
    "        dest = graph.get_node(str(edges[e][i]))[0]\n",
    "        dest.set_fillcolor(color[i])\n",
    "        \n",
    "# graph 객체를 이미지 파일로 생성하기\n",
    "graph.write_png(\"./tree.png\")\n",
    "\n",
    "import matplotlib.pyplot as plt\n",
    "# 생성된 png 이미지 읽어 들이기\n",
    "img = plt.imread(\"./tree.png\")\n",
    "# 이미지 보여주기\n",
    "plt.imshow(img)\n",
    "plt.show()"
   ]
  },
  {
   "cell_type": "code",
   "execution_count": null,
   "id": "58d785c8-b962-47df-8aa3-90c8e0d71690",
   "metadata": {},
   "outputs": [],
   "source": []
  }
 ],
 "metadata": {
  "kernelspec": {
   "display_name": "Python 3 (ipykernel)",
   "language": "python",
   "name": "python3"
  },
  "language_info": {
   "codemirror_mode": {
    "name": "ipython",
    "version": 3
   },
   "file_extension": ".py",
   "mimetype": "text/x-python",
   "name": "python",
   "nbconvert_exporter": "python",
   "pygments_lexer": "ipython3",
   "version": "3.9.12"
  }
 },
 "nbformat": 4,
 "nbformat_minor": 5
}
