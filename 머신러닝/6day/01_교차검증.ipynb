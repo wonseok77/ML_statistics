{
 "cells": [
  {
   "cell_type": "markdown",
   "id": "fc26ea2e-613d-49c0-b8b9-197d073ccf97",
   "metadata": {},
   "source": [
    "## 데이터 불러오기 : 어제했던 08_와인데이터"
   ]
  },
  {
   "cell_type": "code",
   "execution_count": 4,
   "id": "09963c95-fc9d-4666-812e-2b23a106e6e2",
   "metadata": {},
   "outputs": [],
   "source": [
    "### 08_wine.csv 파일 불러들이시고 출력까지\n",
    "import pandas as pd"
   ]
  },
  {
   "cell_type": "code",
   "execution_count": 10,
   "id": "1551379e-4081-4c47-99e9-59d13e107c30",
   "metadata": {},
   "outputs": [],
   "source": [
    "wine = pd.read_csv('./data/08_wine.csv', encoding = 'utf-8-sig')"
   ]
  },
  {
   "cell_type": "code",
   "execution_count": 20,
   "id": "5aa98434-8a19-41c7-82ca-9951d8596b6b",
   "metadata": {},
   "outputs": [
    {
     "data": {
      "text/html": [
       "<div>\n",
       "<style scoped>\n",
       "    .dataframe tbody tr th:only-of-type {\n",
       "        vertical-align: middle;\n",
       "    }\n",
       "\n",
       "    .dataframe tbody tr th {\n",
       "        vertical-align: top;\n",
       "    }\n",
       "\n",
       "    .dataframe thead th {\n",
       "        text-align: right;\n",
       "    }\n",
       "</style>\n",
       "<table border=\"1\" class=\"dataframe\">\n",
       "  <thead>\n",
       "    <tr style=\"text-align: right;\">\n",
       "      <th></th>\n",
       "      <th>alcohol</th>\n",
       "      <th>sugar</th>\n",
       "      <th>pH</th>\n",
       "      <th>class</th>\n",
       "    </tr>\n",
       "  </thead>\n",
       "  <tbody>\n",
       "    <tr>\n",
       "      <th>0</th>\n",
       "      <td>9.4</td>\n",
       "      <td>1.9</td>\n",
       "      <td>3.51</td>\n",
       "      <td>0.0</td>\n",
       "    </tr>\n",
       "    <tr>\n",
       "      <th>1</th>\n",
       "      <td>9.8</td>\n",
       "      <td>2.6</td>\n",
       "      <td>3.20</td>\n",
       "      <td>0.0</td>\n",
       "    </tr>\n",
       "    <tr>\n",
       "      <th>2</th>\n",
       "      <td>9.8</td>\n",
       "      <td>2.3</td>\n",
       "      <td>3.26</td>\n",
       "      <td>0.0</td>\n",
       "    </tr>\n",
       "    <tr>\n",
       "      <th>3</th>\n",
       "      <td>9.8</td>\n",
       "      <td>1.9</td>\n",
       "      <td>3.16</td>\n",
       "      <td>0.0</td>\n",
       "    </tr>\n",
       "    <tr>\n",
       "      <th>4</th>\n",
       "      <td>9.4</td>\n",
       "      <td>1.9</td>\n",
       "      <td>3.51</td>\n",
       "      <td>0.0</td>\n",
       "    </tr>\n",
       "    <tr>\n",
       "      <th>...</th>\n",
       "      <td>...</td>\n",
       "      <td>...</td>\n",
       "      <td>...</td>\n",
       "      <td>...</td>\n",
       "    </tr>\n",
       "    <tr>\n",
       "      <th>6492</th>\n",
       "      <td>11.2</td>\n",
       "      <td>1.6</td>\n",
       "      <td>3.27</td>\n",
       "      <td>1.0</td>\n",
       "    </tr>\n",
       "    <tr>\n",
       "      <th>6493</th>\n",
       "      <td>9.6</td>\n",
       "      <td>8.0</td>\n",
       "      <td>3.15</td>\n",
       "      <td>1.0</td>\n",
       "    </tr>\n",
       "    <tr>\n",
       "      <th>6494</th>\n",
       "      <td>9.4</td>\n",
       "      <td>1.2</td>\n",
       "      <td>2.99</td>\n",
       "      <td>1.0</td>\n",
       "    </tr>\n",
       "    <tr>\n",
       "      <th>6495</th>\n",
       "      <td>12.8</td>\n",
       "      <td>1.1</td>\n",
       "      <td>3.34</td>\n",
       "      <td>1.0</td>\n",
       "    </tr>\n",
       "    <tr>\n",
       "      <th>6496</th>\n",
       "      <td>11.8</td>\n",
       "      <td>0.8</td>\n",
       "      <td>3.26</td>\n",
       "      <td>1.0</td>\n",
       "    </tr>\n",
       "  </tbody>\n",
       "</table>\n",
       "<p>6497 rows × 4 columns</p>\n",
       "</div>"
      ],
      "text/plain": [
       "      alcohol  sugar    pH  class\n",
       "0         9.4    1.9  3.51    0.0\n",
       "1         9.8    2.6  3.20    0.0\n",
       "2         9.8    2.3  3.26    0.0\n",
       "3         9.8    1.9  3.16    0.0\n",
       "4         9.4    1.9  3.51    0.0\n",
       "...       ...    ...   ...    ...\n",
       "6492     11.2    1.6  3.27    1.0\n",
       "6493      9.6    8.0  3.15    1.0\n",
       "6494      9.4    1.2  2.99    1.0\n",
       "6495     12.8    1.1  3.34    1.0\n",
       "6496     11.8    0.8  3.26    1.0\n",
       "\n",
       "[6497 rows x 4 columns]"
      ]
     },
     "execution_count": 20,
     "metadata": {},
     "output_type": "execute_result"
    }
   ],
   "source": [
    "wine"
   ]
  },
  {
   "cell_type": "code",
   "execution_count": 13,
   "id": "f75295c0-f1c0-4432-b290-38c9fc007879",
   "metadata": {},
   "outputs": [
    {
     "name": "stdout",
     "output_type": "stream",
     "text": [
      "(6497, 3) (6497,)\n"
     ]
    }
   ],
   "source": [
    "### 독립변수와 종속변수 데이터 추출하기\n",
    "# 독립변수명 : data\n",
    "# 종속변수명 : target\n",
    "\n",
    "data = wine[['alcohol','sugar','pH']].to_numpy()\n",
    "target=wine['class'].to_numpy()\n",
    "\n",
    "print(data.shape, target.shape)"
   ]
  },
  {
   "cell_type": "markdown",
   "id": "60557544-00e7-41fa-ac31-ebf055fff04d",
   "metadata": {},
   "source": [
    "### 교차검증 : train_test_split() 방식(가장기본 : 엄밀히 말하면 교차는 아님)"
   ]
  },
  {
   "cell_type": "code",
   "execution_count": 14,
   "id": "a46b51ff-bc1e-4f39-a964-fd29854ea1ec",
   "metadata": {},
   "outputs": [],
   "source": [
    "### 훈련데이터 : 검증데이터 : 테스트데이터로 쪼개기\n",
    "# - 보통 6 : 2 : 2로 쪼갭니다.\n",
    "# - 보통 많이 사용하는 방식 .."
   ]
  },
  {
   "cell_type": "code",
   "execution_count": 15,
   "id": "4f6aecad-e993-46cd-87ff-b56611f88257",
   "metadata": {},
   "outputs": [
    {
     "name": "stdout",
     "output_type": "stream",
     "text": [
      "(5197, 3) (5197,)\n",
      "(1300, 3) (1300,)\n"
     ]
    }
   ],
   "source": [
    "### 1. 훈련데이터와 테스트데이터를 8 : 2로 쪼개기\n",
    "from sklearn.model_selection import train_test_split\n",
    "train_input, test_input, train_target, test_target = \\\n",
    "        train_test_split(data, target, test_size = 0.2, random_state = 42)\n",
    "\n",
    "print(train_input.shape, train_target.shape)\n",
    "print(test_input.shape, test_target.shape)"
   ]
  },
  {
   "cell_type": "code",
   "execution_count": 16,
   "id": "7d029538-14a3-4e69-980c-9a5a681e76da",
   "metadata": {},
   "outputs": [
    {
     "name": "stdout",
     "output_type": "stream",
     "text": [
      "(4157, 3) (4157,)\n",
      "(1040, 3) (1040,)\n"
     ]
    }
   ],
   "source": [
    "### 2. 훈련데이터를 이용해서 검증데이터 생성하기\n",
    "### 1. 훈련데이터와 테스트데이터를 8 : 2로 쪼개기\n",
    "\n",
    "sub_input, val_input, sub_target, val_target = \\\n",
    "        train_test_split(train_input, train_target, test_size = 0.2, random_state = 42)\n",
    "\n",
    "print(sub_input.shape, sub_target.shape)\n",
    "print(val_input.shape, val_target.shape)"
   ]
  },
  {
   "cell_type": "code",
   "execution_count": 23,
   "id": "1c740576-4af2-4208-bbbc-bf05a72611f3",
   "metadata": {},
   "outputs": [],
   "source": [
    "from sklearn.preprocessing import StandardScaler\n",
    "ss = StandardScaler()\n",
    "ss.fit(sub_input, sub_target)\n",
    "sub_scaled = ss.transform(sub_input)\n",
    "val_scaled = ss.transform(val_input)\n",
    "test_scaled = ss.transform(test_input)"
   ]
  },
  {
   "cell_type": "code",
   "execution_count": 24,
   "id": "4b9632ca-0abd-4284-9d75-f3b2fa93a3f7",
   "metadata": {},
   "outputs": [
    {
     "name": "stdout",
     "output_type": "stream",
     "text": [
      "sub결정력 =  0.9971133028626413\n",
      "val결정력 =  0.8625\n"
     ]
    }
   ],
   "source": [
    "from sklearn.tree import DecisionTreeClassifier\n",
    "dt = DecisionTreeClassifier(random_state=42)\n",
    "dt.fit(sub_scaled, sub_target)\n",
    "print('sub결정력 = ' , dt.score(sub_scaled, sub_target))\n",
    "print('val결정력 = ' , dt.score(val_scaled, val_target))"
   ]
  },
  {
   "cell_type": "markdown",
   "id": "4f1a9908-83a5-4f32-885b-e895cb582fb1",
   "metadata": {},
   "source": [
    "##### 질문 하이퍼파라미터 ??"
   ]
  },
  {
   "cell_type": "code",
   "execution_count": 26,
   "id": "215c7c43-b66f-4bff-93d5-fb42c40efb07",
   "metadata": {},
   "outputs": [
    {
     "name": "stdout",
     "output_type": "stream",
     "text": [
      "0.8561538461538462\n"
     ]
    }
   ],
   "source": [
    "print(dt.score(test_scaled, test_target))"
   ]
  },
  {
   "cell_type": "code",
   "execution_count": 27,
   "id": "e3be552f-2606-40f6-b430-284609bd1c12",
   "metadata": {},
   "outputs": [],
   "source": [
    "## test데이터는 사람이 개입하는것을 싫어한다\n",
    "## 테스트데이터를 기준으로 하이퍼파라미터를 최적화하므로\n",
    "## 검증데이터로 훈련을 계속 시키고\n",
    "## 마지막에 사용하지않은 test데이터를 한 번 넣어보는 것"
   ]
  },
  {
   "cell_type": "markdown",
   "id": "302906d3-fee3-4d3d-87df-47710d4ea399",
   "metadata": {},
   "source": [
    "## 교차검증 시작 ..."
   ]
  },
  {
   "cell_type": "code",
   "execution_count": 28,
   "id": "39b38f0b-0891-497f-b197-b991cf02c07f",
   "metadata": {},
   "outputs": [],
   "source": [
    "### 훈련데이터와 검증데이터를 구분할 필요없이\n",
    "# - 내부적으로 구분해서 사용\n",
    "# - 내부적으로 구분에 사용하는 데이터는 훈련(train) 데이터\n",
    "# - 데이터 준비는 기존처럼 훈련과 테스트 데이터만 준비..\n",
    "# - 검증데이터는 별도로 준비 안해도 됨..."
   ]
  },
  {
   "cell_type": "code",
   "execution_count": 31,
   "id": "486a82cf-9907-49e0-9bf4-8167031c4f15",
   "metadata": {},
   "outputs": [],
   "source": [
    "### 교차검증에 사용되는 주요 키워드\n",
    "# 3-폴드(fold) 교차검증\n",
    "#  : 훈련데이터를 세부분으로 나눠서 데이터를 쪼개고 수행\n",
    "#  : 구간마다 훈련데이터를 검증데이터로 바꿔가면서 수행\n",
    "#  : k-폴드 교차검증 또는 k-겹 교차검증이라고도 합니다.\n",
    "\n",
    "# 보통 5-폴드 교차검증 또는 10-폴드 교차검증을 사용합니다.\n",
    "#  : 훈련데이터로 80% 이상을 모두 모델 훈련에 사용 가능"
   ]
  },
  {
   "cell_type": "code",
   "execution_count": 32,
   "id": "925b956a-5c87-4929-86b3-193132c5fef2",
   "metadata": {},
   "outputs": [
    {
     "name": "stdout",
     "output_type": "stream",
     "text": [
      "(5197, 3) (5197,)\n",
      "(1300, 3) (1300,)\n"
     ]
    }
   ],
   "source": [
    "### 사용하는 데이터 다시한번 확인\n",
    "print(train_input.shape, train_target.shape)\n",
    "print(test_input.shape, test_target.shape)"
   ]
  },
  {
   "cell_type": "code",
   "execution_count": 43,
   "id": "f0f61189-8269-437b-bbff-64bf5c292936",
   "metadata": {},
   "outputs": [
    {
     "name": "stdout",
     "output_type": "stream",
     "text": [
      "{'fit_time': array([0.01286888, 0.01296592, 0.0135498 , 0.01334691, 0.01492   ]), 'score_time': array([0.00111103, 0.00199461, 0.00141048, 0.0020268 , 0.00199604]), 'test_score': array([0.86923077, 0.84615385, 0.87680462, 0.84889317, 0.83541867])}\n",
      "최종 score =  0.855300214703487\n",
      "최종 score =  0.855300214703487\n"
     ]
    }
   ],
   "source": [
    "### 교차검증 모듈 : cross_validate\n",
    "from sklearn.model_selection import cross_validate\n",
    "import numpy as np\n",
    "# dt : 결정트리 훈련모델(다른 모델을 사용한 경우 해당 모델)\n",
    "# 두번째값 : 훈련데이터 (fold에서 훈련데이터 쪼갤때 사용)\n",
    "# 세번째값 : 검증데이터 (fold에서 검증데이터 쪼갤때 사용)\n",
    "scores = cross_validate(dt, train_input, train_target)\n",
    "print(scores)\n",
    "\n",
    "### 딕셔너리의 test_score의 평균값이 최종 훈련모델의 평가점수(정확도)\n",
    "print('최종 score = ', scores['test_score'].mean())\n",
    "print('최종 score = ', np.mean(scores['test_score']))"
   ]
  },
  {
   "cell_type": "code",
   "execution_count": 64,
   "id": "2a2e4e73-1e78-4aa1-84df-38861305e321",
   "metadata": {},
   "outputs": [],
   "source": [
    "# fit_time : 훈련소요시간\n",
    "# score_time : 스코어에대한 검증시간\n",
    "# test_score : 각 fold마다의 평균최종값"
   ]
  },
  {
   "cell_type": "code",
   "execution_count": 57,
   "id": "ee948819-c5c1-4ae5-916a-83b6512dbca3",
   "metadata": {},
   "outputs": [
    {
     "name": "stdout",
     "output_type": "stream",
     "text": [
      "최종 score =  0.855300214703487\n",
      "최종 score =  0.8603073953073954\n"
     ]
    }
   ],
   "source": [
    "### 훈련 데이터를 섞거나, 폴드의 갯수를 지정할 수 있는 클래스\n",
    "# - Stratified<Fold : \n",
    "from sklearn.model_selection import StratifiedKFold\n",
    "\n",
    "# 교차검증 함수 그대로 사용\n",
    "# cv : 분할기 속성\n",
    "#    : 분할기로 StratifiedKFold 클래스 사용\n",
    "#    : 속성값이 없을 경우 기본 fold는 5, 기본 섞지는 않음\n",
    "scores = cross_validate(dt, train_input, train_target, cv = StratifiedKFold())\n",
    "# print(scores)\n",
    "print('최종 score = ', np.mean(scores['test_score']))\n",
    "\n",
    "\n",
    "# 교차검증 함수 그대로 사용\n",
    "# cv : 분할기 속성\n",
    "#    : 분할기로 StratifiedKFold 클래스 사용\n",
    "#    : 속성값이 없을 경우 기본 fold는 5, 기본 섞지는 않음\n",
    "\n",
    "\n",
    "# n_splits : fold 갯수, shuffle : 섞기\n",
    "splitter = StratifiedKFold(n_splits = 20, shuffle = True, random_state = 42)\n",
    "scores = cross_validate(dt, train_input, train_target, cv = splitter)\n",
    "print('최종 score = ', np.mean(scores['test_score']))\n"
   ]
  },
  {
   "cell_type": "markdown",
   "id": "243558b9-ed7b-408c-8633-c9f1c10ae699",
   "metadata": {},
   "source": [
    "## 하이퍼파라미터 튜닝(AutoML)\n",
    "#### score 최적화\n"
   ]
  },
  {
   "cell_type": "code",
   "execution_count": 144,
   "id": "e876725c-4fbb-4215-889c-57e432fb8c88",
   "metadata": {},
   "outputs": [],
   "source": [
    "### 교차검증, 하이퍼파라미터 찾기, 모델훈련을 한번에 자동으로 수행\n",
    "# - 이런 개념을 AutoML 이라고 합니다.\n",
    "# - 사용패키지 : sklearn.model_selection\n",
    "# - 사용클래스 : GridSearchCV\n",
    "# - 그리드 서치라고도 합니다"
   ]
  },
  {
   "cell_type": "markdown",
   "id": "37fabfac-ce6b-4d85-9195-1457e7dbc17b",
   "metadata": {},
   "source": [
    "## 결정트리의 max_depth(트리의 깊이) 값 찾기\n",
    "##### - 그리드서치(GridSearchCV) 객체(모델) 사용"
   ]
  },
  {
   "cell_type": "code",
   "execution_count": 63,
   "id": "91eb9b9d-2f9b-4801-9273-859caca60e76",
   "metadata": {},
   "outputs": [
    {
     "data": {
      "text/html": [
       "<style>#sk-container-id-2 {color: black;background-color: white;}#sk-container-id-2 pre{padding: 0;}#sk-container-id-2 div.sk-toggleable {background-color: white;}#sk-container-id-2 label.sk-toggleable__label {cursor: pointer;display: block;width: 100%;margin-bottom: 0;padding: 0.3em;box-sizing: border-box;text-align: center;}#sk-container-id-2 label.sk-toggleable__label-arrow:before {content: \"▸\";float: left;margin-right: 0.25em;color: #696969;}#sk-container-id-2 label.sk-toggleable__label-arrow:hover:before {color: black;}#sk-container-id-2 div.sk-estimator:hover label.sk-toggleable__label-arrow:before {color: black;}#sk-container-id-2 div.sk-toggleable__content {max-height: 0;max-width: 0;overflow: hidden;text-align: left;background-color: #f0f8ff;}#sk-container-id-2 div.sk-toggleable__content pre {margin: 0.2em;color: black;border-radius: 0.25em;background-color: #f0f8ff;}#sk-container-id-2 input.sk-toggleable__control:checked~div.sk-toggleable__content {max-height: 200px;max-width: 100%;overflow: auto;}#sk-container-id-2 input.sk-toggleable__control:checked~label.sk-toggleable__label-arrow:before {content: \"▾\";}#sk-container-id-2 div.sk-estimator input.sk-toggleable__control:checked~label.sk-toggleable__label {background-color: #d4ebff;}#sk-container-id-2 div.sk-label input.sk-toggleable__control:checked~label.sk-toggleable__label {background-color: #d4ebff;}#sk-container-id-2 input.sk-hidden--visually {border: 0;clip: rect(1px 1px 1px 1px);clip: rect(1px, 1px, 1px, 1px);height: 1px;margin: -1px;overflow: hidden;padding: 0;position: absolute;width: 1px;}#sk-container-id-2 div.sk-estimator {font-family: monospace;background-color: #f0f8ff;border: 1px dotted black;border-radius: 0.25em;box-sizing: border-box;margin-bottom: 0.5em;}#sk-container-id-2 div.sk-estimator:hover {background-color: #d4ebff;}#sk-container-id-2 div.sk-parallel-item::after {content: \"\";width: 100%;border-bottom: 1px solid gray;flex-grow: 1;}#sk-container-id-2 div.sk-label:hover label.sk-toggleable__label {background-color: #d4ebff;}#sk-container-id-2 div.sk-serial::before {content: \"\";position: absolute;border-left: 1px solid gray;box-sizing: border-box;top: 0;bottom: 0;left: 50%;z-index: 0;}#sk-container-id-2 div.sk-serial {display: flex;flex-direction: column;align-items: center;background-color: white;padding-right: 0.2em;padding-left: 0.2em;position: relative;}#sk-container-id-2 div.sk-item {position: relative;z-index: 1;}#sk-container-id-2 div.sk-parallel {display: flex;align-items: stretch;justify-content: center;background-color: white;position: relative;}#sk-container-id-2 div.sk-item::before, #sk-container-id-2 div.sk-parallel-item::before {content: \"\";position: absolute;border-left: 1px solid gray;box-sizing: border-box;top: 0;bottom: 0;left: 50%;z-index: -1;}#sk-container-id-2 div.sk-parallel-item {display: flex;flex-direction: column;z-index: 1;position: relative;background-color: white;}#sk-container-id-2 div.sk-parallel-item:first-child::after {align-self: flex-end;width: 50%;}#sk-container-id-2 div.sk-parallel-item:last-child::after {align-self: flex-start;width: 50%;}#sk-container-id-2 div.sk-parallel-item:only-child::after {width: 0;}#sk-container-id-2 div.sk-dashed-wrapped {border: 1px dashed gray;margin: 0 0.4em 0.5em 0.4em;box-sizing: border-box;padding-bottom: 0.4em;background-color: white;}#sk-container-id-2 div.sk-label label {font-family: monospace;font-weight: bold;display: inline-block;line-height: 1.2em;}#sk-container-id-2 div.sk-label-container {text-align: center;}#sk-container-id-2 div.sk-container {/* jupyter's `normalize.less` sets `[hidden] { display: none; }` but bootstrap.min.css set `[hidden] { display: none !important; }` so we also need the `!important` here to be able to override the default hidden behavior on the sphinx rendered scikit-learn.org. See: https://github.com/scikit-learn/scikit-learn/issues/21755 */display: inline-block !important;position: relative;}#sk-container-id-2 div.sk-text-repr-fallback {display: none;}</style><div id=\"sk-container-id-2\" class=\"sk-top-container\"><div class=\"sk-text-repr-fallback\"><pre>GridSearchCV(estimator=DecisionTreeClassifier(random_state=42), n_jobs=-1,\n",
       "             param_grid={&#x27;max_depth&#x27;: range(5, 20)})</pre><b>In a Jupyter environment, please rerun this cell to show the HTML representation or trust the notebook. <br />On GitHub, the HTML representation is unable to render, please try loading this page with nbviewer.org.</b></div><div class=\"sk-container\" hidden><div class=\"sk-item sk-dashed-wrapped\"><div class=\"sk-label-container\"><div class=\"sk-label sk-toggleable\"><input class=\"sk-toggleable__control sk-hidden--visually\" id=\"sk-estimator-id-4\" type=\"checkbox\" ><label for=\"sk-estimator-id-4\" class=\"sk-toggleable__label sk-toggleable__label-arrow\">GridSearchCV</label><div class=\"sk-toggleable__content\"><pre>GridSearchCV(estimator=DecisionTreeClassifier(random_state=42), n_jobs=-1,\n",
       "             param_grid={&#x27;max_depth&#x27;: range(5, 20)})</pre></div></div></div><div class=\"sk-parallel\"><div class=\"sk-parallel-item\"><div class=\"sk-item\"><div class=\"sk-label-container\"><div class=\"sk-label sk-toggleable\"><input class=\"sk-toggleable__control sk-hidden--visually\" id=\"sk-estimator-id-5\" type=\"checkbox\" ><label for=\"sk-estimator-id-5\" class=\"sk-toggleable__label sk-toggleable__label-arrow\">estimator: DecisionTreeClassifier</label><div class=\"sk-toggleable__content\"><pre>DecisionTreeClassifier(random_state=42)</pre></div></div></div><div class=\"sk-serial\"><div class=\"sk-item\"><div class=\"sk-estimator sk-toggleable\"><input class=\"sk-toggleable__control sk-hidden--visually\" id=\"sk-estimator-id-6\" type=\"checkbox\" ><label for=\"sk-estimator-id-6\" class=\"sk-toggleable__label sk-toggleable__label-arrow\">DecisionTreeClassifier</label><div class=\"sk-toggleable__content\"><pre>DecisionTreeClassifier(random_state=42)</pre></div></div></div></div></div></div></div></div></div></div>"
      ],
      "text/plain": [
       "GridSearchCV(estimator=DecisionTreeClassifier(random_state=42), n_jobs=-1,\n",
       "             param_grid={'max_depth': range(5, 20)})"
      ]
     },
     "execution_count": 63,
     "metadata": {},
     "output_type": "execute_result"
    }
   ],
   "source": [
    "from sklearn.model_selection import GridSearchCV\n",
    "\n",
    "# 찾을 하이퍼파라미터는 딕셔너리로\n",
    "# 실제 파라미터 변수이름 그대로, 찾을 범위 지정\n",
    "params = {'max_depth' : range(5, 20, 1)}\n",
    "\n",
    "# 객체(모델) 생성\n",
    "# - 첫번째 값 : 훈련모델 넣기\n",
    "# - 두번째 값 : 찾을 하이퍼파라메터 값들(딕셔너리로 정의)\n",
    "# - 세번째 값 : CPU 코어 갯수 (-1은 모든 코어 사용 병렬 처리)\n",
    "\n",
    "gs = GridSearchCV(DecisionTreeClassifier(random_state=42),\n",
    "                  params, n_jobs = -1)\n",
    "\n",
    "# 훈련시키기\n",
    "gs.fit(train_input, train_target)"
   ]
  },
  {
   "cell_type": "code",
   "execution_count": 65,
   "id": "a99e6ce0-0007-449a-a873-f4ba354970c8",
   "metadata": {},
   "outputs": [],
   "source": [
    "## sklearn 공식문서\n",
    "## 모델 여러개 쓸줄 알아야 하는 이유 ? 하나하나하나 증명을 해야한다, 비교하는 모델들을 알고있어야한다\n",
    "## ensemble모델이 상당히 막강한데 그래도 비교대상이 있어야한다"
   ]
  },
  {
   "cell_type": "code",
   "execution_count": 68,
   "id": "7d0aa235-6313-4351-8283-36214c11eaaf",
   "metadata": {},
   "outputs": [
    {
     "name": "stdout",
     "output_type": "stream",
     "text": [
      "DecisionTreeClassifier(max_depth=8, random_state=42)\n"
     ]
    }
   ],
   "source": [
    "# 그리드서치의 결과\n",
    "# - 하이퍼파라미터의 찾은 값 알려줌\n",
    "# - 중요 : 훈련모델이 생성되어 반한됨\n",
    "# 최적의 하이퍼파라미터 값 출력\n",
    "print(gs.best_estimator_)"
   ]
  },
  {
   "cell_type": "code",
   "execution_count": 74,
   "id": "bf4e5aa3-05fa-4d7a-a199-5bad9d5a4399",
   "metadata": {},
   "outputs": [
    {
     "name": "stdout",
     "output_type": "stream",
     "text": [
      "0.9003271117952665\n"
     ]
    },
    {
     "data": {
      "text/plain": [
       "0.9003271117952665"
      ]
     },
     "execution_count": 74,
     "metadata": {},
     "output_type": "execute_result"
    }
   ],
   "source": [
    "### 그리드서치를 통해 생성된 훈련모델을 통해\n",
    "# 평가해보기, 훈련데이터 전체 사용\n",
    "dt= gs.best_estimator_\n",
    "print(dt.score(train_input, train_target))\n",
    "\n",
    "# 이렇게하는거 아니었어?\n",
    "print(gs.score(train_input,train_target))"
   ]
  },
  {
   "cell_type": "code",
   "execution_count": 73,
   "id": "e8e451be-c645-4bc5-8241-65856484a7c5",
   "metadata": {},
   "outputs": [
    {
     "name": "stdout",
     "output_type": "stream",
     "text": [
      "{'max_depth': 8}\n"
     ]
    }
   ],
   "source": [
    "print(gs.best_params_)"
   ]
  },
  {
   "cell_type": "code",
   "execution_count": 78,
   "id": "90a68046-9b31-449a-80d2-285db861df75",
   "metadata": {},
   "outputs": [
    {
     "name": "stdout",
     "output_type": "stream",
     "text": [
      "dict_keys(['mean_fit_time', 'std_fit_time', 'mean_score_time', 'std_score_time', 'param_max_depth', 'params', 'split0_test_score', 'split1_test_score', 'split2_test_score', 'split3_test_score', 'split4_test_score', 'mean_test_score', 'std_test_score', 'rank_test_score'])\n"
     ]
    }
   ],
   "source": [
    "# gird serch가 찾은 모든 값\n",
    "# 딕셔너리의 key값만 조회하기\n",
    "print(gs.cv_results_.keys())"
   ]
  },
  {
   "cell_type": "code",
   "execution_count": 79,
   "id": "5b4ca663-ddfb-4b3c-809f-bdae2343e018",
   "metadata": {},
   "outputs": [
    {
     "name": "stdout",
     "output_type": "stream",
     "text": [
      "[{'max_depth': 5}, {'max_depth': 6}, {'max_depth': 7}, {'max_depth': 8}, {'max_depth': 9}, {'max_depth': 10}, {'max_depth': 11}, {'max_depth': 12}, {'max_depth': 13}, {'max_depth': 14}, {'max_depth': 15}, {'max_depth': 16}, {'max_depth': 17}, {'max_depth': 18}, {'max_depth': 19}]\n"
     ]
    }
   ],
   "source": [
    "### params 값 확인\n",
    "print(gs.cv_results_['params'])"
   ]
  },
  {
   "cell_type": "code",
   "execution_count": 104,
   "id": "4931305c-00a9-4a5c-917f-43f72f3d316c",
   "metadata": {},
   "outputs": [
    {
     "data": {
      "text/plain": [
       "6"
      ]
     },
     "execution_count": 104,
     "metadata": {},
     "output_type": "execute_result"
    }
   ],
   "source": [
    "gs.cv_results_['params'][1]['max_depth']"
   ]
  },
  {
   "cell_type": "code",
   "execution_count": 80,
   "id": "bc9b8239-ce90-4739-a853-438abb002447",
   "metadata": {},
   "outputs": [
    {
     "name": "stdout",
     "output_type": "stream",
     "text": [
      "[0.84711538 0.84807692 0.85769231 0.85288462 0.85769231 0.84519231\n",
      " 0.85865385 0.86730769 0.86538462 0.86826923 0.86730769 0.86442308\n",
      " 0.86346154 0.86634615 0.87211538]\n"
     ]
    }
   ],
   "source": [
    "### 1폴드 조회하기\n",
    "### 찾으라고 한 depth 개수만큼 쪼갰다\n",
    "print(gs.cv_results_['split0_test_score'])"
   ]
  },
  {
   "cell_type": "code",
   "execution_count": 99,
   "id": "1fa18529-b087-4c2e-a213-55e111b773c5",
   "metadata": {},
   "outputs": [
    {
     "data": {
      "text/html": [
       "<div>\n",
       "<style scoped>\n",
       "    .dataframe tbody tr th:only-of-type {\n",
       "        vertical-align: middle;\n",
       "    }\n",
       "\n",
       "    .dataframe tbody tr th {\n",
       "        vertical-align: top;\n",
       "    }\n",
       "\n",
       "    .dataframe thead th {\n",
       "        text-align: right;\n",
       "    }\n",
       "</style>\n",
       "<table border=\"1\" class=\"dataframe\">\n",
       "  <thead>\n",
       "    <tr style=\"text-align: right;\">\n",
       "      <th></th>\n",
       "      <th>max_depth</th>\n",
       "      <th>score</th>\n",
       "    </tr>\n",
       "  </thead>\n",
       "  <tbody>\n",
       "    <tr>\n",
       "      <th>0</th>\n",
       "      <td>0.847115</td>\n",
       "      <td>{'max_depth': 5}</td>\n",
       "    </tr>\n",
       "    <tr>\n",
       "      <th>1</th>\n",
       "      <td>0.848077</td>\n",
       "      <td>{'max_depth': 6}</td>\n",
       "    </tr>\n",
       "    <tr>\n",
       "      <th>2</th>\n",
       "      <td>0.857692</td>\n",
       "      <td>{'max_depth': 7}</td>\n",
       "    </tr>\n",
       "    <tr>\n",
       "      <th>3</th>\n",
       "      <td>0.852885</td>\n",
       "      <td>{'max_depth': 8}</td>\n",
       "    </tr>\n",
       "    <tr>\n",
       "      <th>4</th>\n",
       "      <td>0.857692</td>\n",
       "      <td>{'max_depth': 9}</td>\n",
       "    </tr>\n",
       "    <tr>\n",
       "      <th>5</th>\n",
       "      <td>0.845192</td>\n",
       "      <td>{'max_depth': 10}</td>\n",
       "    </tr>\n",
       "    <tr>\n",
       "      <th>6</th>\n",
       "      <td>0.858654</td>\n",
       "      <td>{'max_depth': 11}</td>\n",
       "    </tr>\n",
       "    <tr>\n",
       "      <th>7</th>\n",
       "      <td>0.867308</td>\n",
       "      <td>{'max_depth': 12}</td>\n",
       "    </tr>\n",
       "    <tr>\n",
       "      <th>8</th>\n",
       "      <td>0.865385</td>\n",
       "      <td>{'max_depth': 13}</td>\n",
       "    </tr>\n",
       "    <tr>\n",
       "      <th>9</th>\n",
       "      <td>0.868269</td>\n",
       "      <td>{'max_depth': 14}</td>\n",
       "    </tr>\n",
       "    <tr>\n",
       "      <th>10</th>\n",
       "      <td>0.867308</td>\n",
       "      <td>{'max_depth': 15}</td>\n",
       "    </tr>\n",
       "    <tr>\n",
       "      <th>11</th>\n",
       "      <td>0.864423</td>\n",
       "      <td>{'max_depth': 16}</td>\n",
       "    </tr>\n",
       "    <tr>\n",
       "      <th>12</th>\n",
       "      <td>0.863462</td>\n",
       "      <td>{'max_depth': 17}</td>\n",
       "    </tr>\n",
       "    <tr>\n",
       "      <th>13</th>\n",
       "      <td>0.866346</td>\n",
       "      <td>{'max_depth': 18}</td>\n",
       "    </tr>\n",
       "    <tr>\n",
       "      <th>14</th>\n",
       "      <td>0.872115</td>\n",
       "      <td>{'max_depth': 19}</td>\n",
       "    </tr>\n",
       "  </tbody>\n",
       "</table>\n",
       "</div>"
      ],
      "text/plain": [
       "   max_depth              score\n",
       "0   0.847115   {'max_depth': 5}\n",
       "1   0.848077   {'max_depth': 6}\n",
       "2   0.857692   {'max_depth': 7}\n",
       "3   0.852885   {'max_depth': 8}\n",
       "4   0.857692   {'max_depth': 9}\n",
       "5   0.845192  {'max_depth': 10}\n",
       "6   0.858654  {'max_depth': 11}\n",
       "7   0.867308  {'max_depth': 12}\n",
       "8   0.865385  {'max_depth': 13}\n",
       "9   0.868269  {'max_depth': 14}\n",
       "10  0.867308  {'max_depth': 15}\n",
       "11  0.864423  {'max_depth': 16}\n",
       "12  0.863462  {'max_depth': 17}\n",
       "13  0.866346  {'max_depth': 18}\n",
       "14  0.872115  {'max_depth': 19}"
      ]
     },
     "execution_count": 99,
     "metadata": {},
     "output_type": "execute_result"
    }
   ],
   "source": [
    "sec0 = np.column_stack([gs.cv_results_['split0_test_score'], gs.cv_results_['params']])\n",
    "sec1 = np.column_stack([gs.cv_results_['split1_test_score'], gs.cv_results_['params']])\n",
    "sec2 = np.column_stack([gs.cv_results_['split2_test_score'], gs.cv_results_['params']])\n",
    "sec3 = np.column_stack([gs.cv_results_['split3_test_score'], gs.cv_results_['params']])\n",
    "sec4 = np.column_stack([gs.cv_results_['split4_test_score'], gs.cv_results_['params']])\n",
    "\n",
    "df0 = pd.DataFrame(data=sec0, columns = ['max_depth','score'])\n",
    "df1 = pd.DataFrame(data=sec1, columns = ['max_depth','score'])\n",
    "df2 = pd.DataFrame(data=sec2, columns = ['max_depth','score'])\n",
    "df3 = pd.DataFrame(data=sec3, columns = ['max_depth','score'])\n",
    "df4 = pd.DataFrame(data=sec4, columns = ['max_depth','score'])\n",
    "\n",
    "\n",
    "df0"
   ]
  },
  {
   "cell_type": "code",
   "execution_count": 81,
   "id": "694bb7e6-16b2-40a4-8f62-cfba1a7fea6b",
   "metadata": {},
   "outputs": [
    {
     "name": "stdout",
     "output_type": "stream",
     "text": [
      "0.8584615384615385\n"
     ]
    }
   ],
   "source": [
    "### 훈련모델 최종 검증하기\n",
    "print(dt.score(test_input, test_target))"
   ]
  },
  {
   "cell_type": "markdown",
   "id": "0468c14d-0f12-43a0-9d72-c26bc2979d0e",
   "metadata": {},
   "source": [
    "## 찾을 하이퍼파라미터 여러개 사용하기"
   ]
  },
  {
   "cell_type": "code",
   "execution_count": 108,
   "id": "cc471cb0-9dad-49b5-b9b5-ab96d7295fba",
   "metadata": {},
   "outputs": [
    {
     "data": {
      "text/html": [
       "<style>#sk-container-id-3 {color: black;background-color: white;}#sk-container-id-3 pre{padding: 0;}#sk-container-id-3 div.sk-toggleable {background-color: white;}#sk-container-id-3 label.sk-toggleable__label {cursor: pointer;display: block;width: 100%;margin-bottom: 0;padding: 0.3em;box-sizing: border-box;text-align: center;}#sk-container-id-3 label.sk-toggleable__label-arrow:before {content: \"▸\";float: left;margin-right: 0.25em;color: #696969;}#sk-container-id-3 label.sk-toggleable__label-arrow:hover:before {color: black;}#sk-container-id-3 div.sk-estimator:hover label.sk-toggleable__label-arrow:before {color: black;}#sk-container-id-3 div.sk-toggleable__content {max-height: 0;max-width: 0;overflow: hidden;text-align: left;background-color: #f0f8ff;}#sk-container-id-3 div.sk-toggleable__content pre {margin: 0.2em;color: black;border-radius: 0.25em;background-color: #f0f8ff;}#sk-container-id-3 input.sk-toggleable__control:checked~div.sk-toggleable__content {max-height: 200px;max-width: 100%;overflow: auto;}#sk-container-id-3 input.sk-toggleable__control:checked~label.sk-toggleable__label-arrow:before {content: \"▾\";}#sk-container-id-3 div.sk-estimator input.sk-toggleable__control:checked~label.sk-toggleable__label {background-color: #d4ebff;}#sk-container-id-3 div.sk-label input.sk-toggleable__control:checked~label.sk-toggleable__label {background-color: #d4ebff;}#sk-container-id-3 input.sk-hidden--visually {border: 0;clip: rect(1px 1px 1px 1px);clip: rect(1px, 1px, 1px, 1px);height: 1px;margin: -1px;overflow: hidden;padding: 0;position: absolute;width: 1px;}#sk-container-id-3 div.sk-estimator {font-family: monospace;background-color: #f0f8ff;border: 1px dotted black;border-radius: 0.25em;box-sizing: border-box;margin-bottom: 0.5em;}#sk-container-id-3 div.sk-estimator:hover {background-color: #d4ebff;}#sk-container-id-3 div.sk-parallel-item::after {content: \"\";width: 100%;border-bottom: 1px solid gray;flex-grow: 1;}#sk-container-id-3 div.sk-label:hover label.sk-toggleable__label {background-color: #d4ebff;}#sk-container-id-3 div.sk-serial::before {content: \"\";position: absolute;border-left: 1px solid gray;box-sizing: border-box;top: 0;bottom: 0;left: 50%;z-index: 0;}#sk-container-id-3 div.sk-serial {display: flex;flex-direction: column;align-items: center;background-color: white;padding-right: 0.2em;padding-left: 0.2em;position: relative;}#sk-container-id-3 div.sk-item {position: relative;z-index: 1;}#sk-container-id-3 div.sk-parallel {display: flex;align-items: stretch;justify-content: center;background-color: white;position: relative;}#sk-container-id-3 div.sk-item::before, #sk-container-id-3 div.sk-parallel-item::before {content: \"\";position: absolute;border-left: 1px solid gray;box-sizing: border-box;top: 0;bottom: 0;left: 50%;z-index: -1;}#sk-container-id-3 div.sk-parallel-item {display: flex;flex-direction: column;z-index: 1;position: relative;background-color: white;}#sk-container-id-3 div.sk-parallel-item:first-child::after {align-self: flex-end;width: 50%;}#sk-container-id-3 div.sk-parallel-item:last-child::after {align-self: flex-start;width: 50%;}#sk-container-id-3 div.sk-parallel-item:only-child::after {width: 0;}#sk-container-id-3 div.sk-dashed-wrapped {border: 1px dashed gray;margin: 0 0.4em 0.5em 0.4em;box-sizing: border-box;padding-bottom: 0.4em;background-color: white;}#sk-container-id-3 div.sk-label label {font-family: monospace;font-weight: bold;display: inline-block;line-height: 1.2em;}#sk-container-id-3 div.sk-label-container {text-align: center;}#sk-container-id-3 div.sk-container {/* jupyter's `normalize.less` sets `[hidden] { display: none; }` but bootstrap.min.css set `[hidden] { display: none !important; }` so we also need the `!important` here to be able to override the default hidden behavior on the sphinx rendered scikit-learn.org. See: https://github.com/scikit-learn/scikit-learn/issues/21755 */display: inline-block !important;position: relative;}#sk-container-id-3 div.sk-text-repr-fallback {display: none;}</style><div id=\"sk-container-id-3\" class=\"sk-top-container\"><div class=\"sk-text-repr-fallback\"><pre>GridSearchCV(estimator=DecisionTreeClassifier(random_state=42), n_jobs=-1,\n",
       "             param_grid={&#x27;max_depth&#x27;: range(5, 20),\n",
       "                         &#x27;min_impurity_decrease&#x27;: array([0.0001, 0.0002, 0.0003, 0.0004, 0.0005, 0.0006, 0.0007, 0.0008,\n",
       "       0.0009]),\n",
       "                         &#x27;min_samples_split&#x27;: range(2, 100, 10)})</pre><b>In a Jupyter environment, please rerun this cell to show the HTML representation or trust the notebook. <br />On GitHub, the HTML representation is unable to render, please try loading this page with nbviewer.org.</b></div><div class=\"sk-container\" hidden><div class=\"sk-item sk-dashed-wrapped\"><div class=\"sk-label-container\"><div class=\"sk-label sk-toggleable\"><input class=\"sk-toggleable__control sk-hidden--visually\" id=\"sk-estimator-id-7\" type=\"checkbox\" ><label for=\"sk-estimator-id-7\" class=\"sk-toggleable__label sk-toggleable__label-arrow\">GridSearchCV</label><div class=\"sk-toggleable__content\"><pre>GridSearchCV(estimator=DecisionTreeClassifier(random_state=42), n_jobs=-1,\n",
       "             param_grid={&#x27;max_depth&#x27;: range(5, 20),\n",
       "                         &#x27;min_impurity_decrease&#x27;: array([0.0001, 0.0002, 0.0003, 0.0004, 0.0005, 0.0006, 0.0007, 0.0008,\n",
       "       0.0009]),\n",
       "                         &#x27;min_samples_split&#x27;: range(2, 100, 10)})</pre></div></div></div><div class=\"sk-parallel\"><div class=\"sk-parallel-item\"><div class=\"sk-item\"><div class=\"sk-label-container\"><div class=\"sk-label sk-toggleable\"><input class=\"sk-toggleable__control sk-hidden--visually\" id=\"sk-estimator-id-8\" type=\"checkbox\" ><label for=\"sk-estimator-id-8\" class=\"sk-toggleable__label sk-toggleable__label-arrow\">estimator: DecisionTreeClassifier</label><div class=\"sk-toggleable__content\"><pre>DecisionTreeClassifier(random_state=42)</pre></div></div></div><div class=\"sk-serial\"><div class=\"sk-item\"><div class=\"sk-estimator sk-toggleable\"><input class=\"sk-toggleable__control sk-hidden--visually\" id=\"sk-estimator-id-9\" type=\"checkbox\" ><label for=\"sk-estimator-id-9\" class=\"sk-toggleable__label sk-toggleable__label-arrow\">DecisionTreeClassifier</label><div class=\"sk-toggleable__content\"><pre>DecisionTreeClassifier(random_state=42)</pre></div></div></div></div></div></div></div></div></div></div>"
      ],
      "text/plain": [
       "GridSearchCV(estimator=DecisionTreeClassifier(random_state=42), n_jobs=-1,\n",
       "             param_grid={'max_depth': range(5, 20),\n",
       "                         'min_impurity_decrease': array([0.0001, 0.0002, 0.0003, 0.0004, 0.0005, 0.0006, 0.0007, 0.0008,\n",
       "       0.0009]),\n",
       "                         'min_samples_split': range(2, 100, 10)})"
      ]
     },
     "execution_count": 108,
     "metadata": {},
     "output_type": "execute_result"
    }
   ],
   "source": [
    "### 하이퍼 파라미터 여러개 지정\n",
    "# min_inpurity_decrease : 결정트리 노드 분리시 불순도 감도 최소량\n",
    "# max_depth : 결정트리 깊이\n",
    "# min_samples_split : 결정트리 노드를 나누기 위한 최소 샘플 갯수\n",
    "params = {'min_impurity_decrease' : np.arange(0.0001, 0.001, 0.0001) ,\n",
    "          'max_depth' : range(5, 20, 1),\n",
    "          'min_samples_split' : range(2, 100, 10)}\n",
    "\n",
    "\n",
    "### 그리드서치 훈련시키기\n",
    "gs = GridSearchCV(DecisionTreeClassifier(random_state=42),\n",
    "                 params, n_jobs = -1)\n",
    "gs.fit(train_input, train_target)"
   ]
  },
  {
   "cell_type": "code",
   "execution_count": 110,
   "id": "bd9a1581-f7c6-4937-b522-23fcb928b641",
   "metadata": {},
   "outputs": [
    {
     "name": "stdout",
     "output_type": "stream",
     "text": [
      "{'max_depth': 14, 'min_impurity_decrease': 0.0004, 'min_samples_split': 12}\n"
     ]
    }
   ],
   "source": [
    "# 파라미터 3개가 동시에 만족하는 최적값\n",
    "print(gs.best_params_)"
   ]
  },
  {
   "cell_type": "code",
   "execution_count": 114,
   "id": "e581bca2-7d23-4663-b330-597c55d613e7",
   "metadata": {},
   "outputs": [
    {
     "name": "stdout",
     "output_type": "stream",
     "text": [
      "훈련data =  0.892053107562055\n",
      "최종data =  0.8615384615384616\n"
     ]
    }
   ],
   "source": [
    "### 그리드서치를 통해 생성된 훈련모델을 통해\n",
    "# 평가해보기, 훈련데이터 전체 사용\n",
    "dt= gs.best_estimator_\n",
    "print('훈련data = ',dt.score(train_input, train_target))\n",
    "print('최종data = ',dt.score(test_input,test_target))\n",
    "\n",
    "## (해석)\n",
    "# 0.03정도 차이나므로 굉장히 우수한 모델임"
   ]
  },
  {
   "cell_type": "code",
   "execution_count": 115,
   "id": "07175df4-fc77-4cc2-b5ab-ac2686ecd485",
   "metadata": {},
   "outputs": [],
   "source": [
    "## 파라미터 범위를 serch하는 횟수에 따라 폴드개수가 결정되는건지\n",
    "## 폴드개수를 정할수있는건지"
   ]
  },
  {
   "cell_type": "code",
   "execution_count": 118,
   "id": "6fedd3fc-cbb2-4605-9333-39152054b708",
   "metadata": {},
   "outputs": [
    {
     "data": {
      "text/html": [
       "<style>#sk-container-id-5 {color: black;background-color: white;}#sk-container-id-5 pre{padding: 0;}#sk-container-id-5 div.sk-toggleable {background-color: white;}#sk-container-id-5 label.sk-toggleable__label {cursor: pointer;display: block;width: 100%;margin-bottom: 0;padding: 0.3em;box-sizing: border-box;text-align: center;}#sk-container-id-5 label.sk-toggleable__label-arrow:before {content: \"▸\";float: left;margin-right: 0.25em;color: #696969;}#sk-container-id-5 label.sk-toggleable__label-arrow:hover:before {color: black;}#sk-container-id-5 div.sk-estimator:hover label.sk-toggleable__label-arrow:before {color: black;}#sk-container-id-5 div.sk-toggleable__content {max-height: 0;max-width: 0;overflow: hidden;text-align: left;background-color: #f0f8ff;}#sk-container-id-5 div.sk-toggleable__content pre {margin: 0.2em;color: black;border-radius: 0.25em;background-color: #f0f8ff;}#sk-container-id-5 input.sk-toggleable__control:checked~div.sk-toggleable__content {max-height: 200px;max-width: 100%;overflow: auto;}#sk-container-id-5 input.sk-toggleable__control:checked~label.sk-toggleable__label-arrow:before {content: \"▾\";}#sk-container-id-5 div.sk-estimator input.sk-toggleable__control:checked~label.sk-toggleable__label {background-color: #d4ebff;}#sk-container-id-5 div.sk-label input.sk-toggleable__control:checked~label.sk-toggleable__label {background-color: #d4ebff;}#sk-container-id-5 input.sk-hidden--visually {border: 0;clip: rect(1px 1px 1px 1px);clip: rect(1px, 1px, 1px, 1px);height: 1px;margin: -1px;overflow: hidden;padding: 0;position: absolute;width: 1px;}#sk-container-id-5 div.sk-estimator {font-family: monospace;background-color: #f0f8ff;border: 1px dotted black;border-radius: 0.25em;box-sizing: border-box;margin-bottom: 0.5em;}#sk-container-id-5 div.sk-estimator:hover {background-color: #d4ebff;}#sk-container-id-5 div.sk-parallel-item::after {content: \"\";width: 100%;border-bottom: 1px solid gray;flex-grow: 1;}#sk-container-id-5 div.sk-label:hover label.sk-toggleable__label {background-color: #d4ebff;}#sk-container-id-5 div.sk-serial::before {content: \"\";position: absolute;border-left: 1px solid gray;box-sizing: border-box;top: 0;bottom: 0;left: 50%;z-index: 0;}#sk-container-id-5 div.sk-serial {display: flex;flex-direction: column;align-items: center;background-color: white;padding-right: 0.2em;padding-left: 0.2em;position: relative;}#sk-container-id-5 div.sk-item {position: relative;z-index: 1;}#sk-container-id-5 div.sk-parallel {display: flex;align-items: stretch;justify-content: center;background-color: white;position: relative;}#sk-container-id-5 div.sk-item::before, #sk-container-id-5 div.sk-parallel-item::before {content: \"\";position: absolute;border-left: 1px solid gray;box-sizing: border-box;top: 0;bottom: 0;left: 50%;z-index: -1;}#sk-container-id-5 div.sk-parallel-item {display: flex;flex-direction: column;z-index: 1;position: relative;background-color: white;}#sk-container-id-5 div.sk-parallel-item:first-child::after {align-self: flex-end;width: 50%;}#sk-container-id-5 div.sk-parallel-item:last-child::after {align-self: flex-start;width: 50%;}#sk-container-id-5 div.sk-parallel-item:only-child::after {width: 0;}#sk-container-id-5 div.sk-dashed-wrapped {border: 1px dashed gray;margin: 0 0.4em 0.5em 0.4em;box-sizing: border-box;padding-bottom: 0.4em;background-color: white;}#sk-container-id-5 div.sk-label label {font-family: monospace;font-weight: bold;display: inline-block;line-height: 1.2em;}#sk-container-id-5 div.sk-label-container {text-align: center;}#sk-container-id-5 div.sk-container {/* jupyter's `normalize.less` sets `[hidden] { display: none; }` but bootstrap.min.css set `[hidden] { display: none !important; }` so we also need the `!important` here to be able to override the default hidden behavior on the sphinx rendered scikit-learn.org. See: https://github.com/scikit-learn/scikit-learn/issues/21755 */display: inline-block !important;position: relative;}#sk-container-id-5 div.sk-text-repr-fallback {display: none;}</style><div id=\"sk-container-id-5\" class=\"sk-top-container\"><div class=\"sk-text-repr-fallback\"><pre>GridSearchCV(cv=StratifiedKFold(n_splits=7, random_state=42, shuffle=True),\n",
       "             estimator=DecisionTreeClassifier(random_state=42), n_jobs=-1,\n",
       "             param_grid={&#x27;max_depth&#x27;: range(5, 20),\n",
       "                         &#x27;min_impurity_decrease&#x27;: array([0.0001, 0.0002, 0.0003, 0.0004, 0.0005, 0.0006, 0.0007, 0.0008,\n",
       "       0.0009]),\n",
       "                         &#x27;min_samples_split&#x27;: range(2, 100, 10)})</pre><b>In a Jupyter environment, please rerun this cell to show the HTML representation or trust the notebook. <br />On GitHub, the HTML representation is unable to render, please try loading this page with nbviewer.org.</b></div><div class=\"sk-container\" hidden><div class=\"sk-item sk-dashed-wrapped\"><div class=\"sk-label-container\"><div class=\"sk-label sk-toggleable\"><input class=\"sk-toggleable__control sk-hidden--visually\" id=\"sk-estimator-id-13\" type=\"checkbox\" ><label for=\"sk-estimator-id-13\" class=\"sk-toggleable__label sk-toggleable__label-arrow\">GridSearchCV</label><div class=\"sk-toggleable__content\"><pre>GridSearchCV(cv=StratifiedKFold(n_splits=7, random_state=42, shuffle=True),\n",
       "             estimator=DecisionTreeClassifier(random_state=42), n_jobs=-1,\n",
       "             param_grid={&#x27;max_depth&#x27;: range(5, 20),\n",
       "                         &#x27;min_impurity_decrease&#x27;: array([0.0001, 0.0002, 0.0003, 0.0004, 0.0005, 0.0006, 0.0007, 0.0008,\n",
       "       0.0009]),\n",
       "                         &#x27;min_samples_split&#x27;: range(2, 100, 10)})</pre></div></div></div><div class=\"sk-parallel\"><div class=\"sk-parallel-item\"><div class=\"sk-item\"><div class=\"sk-label-container\"><div class=\"sk-label sk-toggleable\"><input class=\"sk-toggleable__control sk-hidden--visually\" id=\"sk-estimator-id-14\" type=\"checkbox\" ><label for=\"sk-estimator-id-14\" class=\"sk-toggleable__label sk-toggleable__label-arrow\">estimator: DecisionTreeClassifier</label><div class=\"sk-toggleable__content\"><pre>DecisionTreeClassifier(random_state=42)</pre></div></div></div><div class=\"sk-serial\"><div class=\"sk-item\"><div class=\"sk-estimator sk-toggleable\"><input class=\"sk-toggleable__control sk-hidden--visually\" id=\"sk-estimator-id-15\" type=\"checkbox\" ><label for=\"sk-estimator-id-15\" class=\"sk-toggleable__label sk-toggleable__label-arrow\">DecisionTreeClassifier</label><div class=\"sk-toggleable__content\"><pre>DecisionTreeClassifier(random_state=42)</pre></div></div></div></div></div></div></div></div></div></div>"
      ],
      "text/plain": [
       "GridSearchCV(cv=StratifiedKFold(n_splits=7, random_state=42, shuffle=True),\n",
       "             estimator=DecisionTreeClassifier(random_state=42), n_jobs=-1,\n",
       "             param_grid={'max_depth': range(5, 20),\n",
       "                         'min_impurity_decrease': array([0.0001, 0.0002, 0.0003, 0.0004, 0.0005, 0.0006, 0.0007, 0.0008,\n",
       "       0.0009]),\n",
       "                         'min_samples_split': range(2, 100, 10)})"
      ]
     },
     "execution_count": 118,
     "metadata": {},
     "output_type": "execute_result"
    }
   ],
   "source": [
    "### 10 - 폴드 지정하기\n",
    "splitter = StratifiedKFold(n_splits = 7, shuffle = True, random_state = 42)\n",
    "\n",
    "### 하이퍼 파라미터 여러개 지정\n",
    "# min_inpurity_decrease : 결정트리 노드 분리시 불순도 감도 최소량\n",
    "# max_depth : 결정트리 깊이\n",
    "# min_samples_split : 결정트리 노드를 나누기 위한 최소 샘플 갯수\n",
    "params = {'min_impurity_decrease' : np.arange(0.0001, 0.001, 0.0001) ,\n",
    "          'max_depth' : range(5, 20, 1),\n",
    "          'min_samples_split' : range(2, 100, 10)}\n",
    "\n",
    "\n",
    "### 그리드서치 훈련시키기\n",
    "gs = GridSearchCV(DecisionTreeClassifier(random_state=42),\n",
    "                 params, cv = splitter, n_jobs = -1)\n",
    "gs.fit(train_input, train_target)"
   ]
  },
  {
   "cell_type": "code",
   "execution_count": 119,
   "id": "7ab53a42-ae81-4c9f-afca-3dce7be499ae",
   "metadata": {},
   "outputs": [
    {
     "name": "stdout",
     "output_type": "stream",
     "text": [
      "훈련data =  0.9230325187608236\n",
      "최종data =  0.8692307692307693\n"
     ]
    }
   ],
   "source": [
    "### 그리드서치를 통해 생성된 훈련모델을 통해\n",
    "# 평가해보기, 훈련데이터 전체 사용\n",
    "dt= gs.best_estimator_\n",
    "print('훈련data = ',dt.score(train_input, train_target))\n",
    "print('최종data = ',dt.score(test_input,test_target))"
   ]
  },
  {
   "cell_type": "markdown",
   "id": "24d52d28-1ad0-4767-b044-5c23f6d829cf",
   "metadata": {},
   "source": [
    "## 랜덤서치(RandomSerch) <= GridSerch의 개선, 확장 Library"
   ]
  },
  {
   "cell_type": "code",
   "execution_count": 124,
   "id": "bf3f74de-c821-4e8c-8fcd-f630e969a803",
   "metadata": {},
   "outputs": [],
   "source": [
    "### 랜덤서치 사용시 아래 조건 만족해야 합니다.\n",
    "# - 하이퍼파라미터값이 수치인 것들만 사용\n",
    "# - 범위나 간격을 미리 정하기 어려울 경우\n",
    "# - 넘 많은 매개변수가 있어서 그리드서치 수행시간이 오래 걸리는 경우\n",
    "# - 매개변수를 샘플링할때 확률분포객체를 전달...\n",
    "\n",
    "# 사용 모듈 : uniform(실수값), randint(정수값)"
   ]
  },
  {
   "cell_type": "code",
   "execution_count": 121,
   "id": "5c4c9847-61d5-415f-9eb0-1b646257ce77",
   "metadata": {},
   "outputs": [],
   "source": [
    "from scipy.stats import uniform, randint"
   ]
  },
  {
   "cell_type": "code",
   "execution_count": 122,
   "id": "788f9a57-b2de-4b09-ae2f-4aa7caf9e7a6",
   "metadata": {},
   "outputs": [
    {
     "name": "stdout",
     "output_type": "stream",
     "text": [
      "[4 5 9 7 2 2 6 4 5 6 8 7 6 2 2 4 9 5 3 9 1 5 4 9 6 6 2 2 3 6 1 8 7 5 4 0 3\n",
      " 4 4 1 5 3 4 4 4 6 0 7 3 9 0 0 1 6 1 7 8 6 7 1 5 3 1 8 8 2 0 2 2 8 5 1 5 5\n",
      " 7 4 3 9 3 1 7 3 0 8 9 4 6 1 7 8 0 4 0 1 6 7 6 4 5 5]\n"
     ]
    }
   ],
   "source": [
    "### 범위 설정\n",
    "rgen = randint(0, 10)\n",
    "rgen\n",
    "\n",
    "### 범위 내에서 임의값 출력하기(확률적으로 고르게 뽑아냅니다)\n",
    "print(rgen.rvs(100))"
   ]
  },
  {
   "cell_type": "code",
   "execution_count": 123,
   "id": "d545ab2f-ba9e-413c-ab66-c9fe66bfabc7",
   "metadata": {},
   "outputs": [
    {
     "name": "stdout",
     "output_type": "stream",
     "text": [
      "[0.10531445 0.34890843 0.91019472 0.57880848 0.74427087 0.73195704\n",
      " 0.92755728 0.35401325 0.28692081 0.07149911 0.65600383 0.07347484\n",
      " 0.42992442 0.95735985 0.54843494 0.67759041 0.64846499 0.64515144\n",
      " 0.90825231 0.29565649 0.13393733 0.46104903 0.16003521 0.79035825\n",
      " 0.28672608 0.44499072 0.55720883 0.12008565 0.83498861 0.45735795\n",
      " 0.89870691 0.35132392 0.14821096 0.41081708 0.10772839 0.71365283\n",
      " 0.23915639 0.37311219 0.03185621 0.0368265  0.97327398 0.27348178\n",
      " 0.57940818 0.74201002 0.07464942 0.30755602 0.10456006 0.06915185\n",
      " 0.41044332 0.14591325]\n"
     ]
    }
   ],
   "source": [
    "# 실수값\n",
    "# 범위 설정\n",
    "ugen = uniform(0,1)\n",
    "\n",
    "# 임의값 50개 조회\n",
    "print(ugen.rvs(50))"
   ]
  },
  {
   "cell_type": "code",
   "execution_count": 134,
   "id": "1d866c99-163f-497b-aa27-85a8a05a35ea",
   "metadata": {},
   "outputs": [
    {
     "data": {
      "text/html": [
       "<style>#sk-container-id-9 {color: black;background-color: white;}#sk-container-id-9 pre{padding: 0;}#sk-container-id-9 div.sk-toggleable {background-color: white;}#sk-container-id-9 label.sk-toggleable__label {cursor: pointer;display: block;width: 100%;margin-bottom: 0;padding: 0.3em;box-sizing: border-box;text-align: center;}#sk-container-id-9 label.sk-toggleable__label-arrow:before {content: \"▸\";float: left;margin-right: 0.25em;color: #696969;}#sk-container-id-9 label.sk-toggleable__label-arrow:hover:before {color: black;}#sk-container-id-9 div.sk-estimator:hover label.sk-toggleable__label-arrow:before {color: black;}#sk-container-id-9 div.sk-toggleable__content {max-height: 0;max-width: 0;overflow: hidden;text-align: left;background-color: #f0f8ff;}#sk-container-id-9 div.sk-toggleable__content pre {margin: 0.2em;color: black;border-radius: 0.25em;background-color: #f0f8ff;}#sk-container-id-9 input.sk-toggleable__control:checked~div.sk-toggleable__content {max-height: 200px;max-width: 100%;overflow: auto;}#sk-container-id-9 input.sk-toggleable__control:checked~label.sk-toggleable__label-arrow:before {content: \"▾\";}#sk-container-id-9 div.sk-estimator input.sk-toggleable__control:checked~label.sk-toggleable__label {background-color: #d4ebff;}#sk-container-id-9 div.sk-label input.sk-toggleable__control:checked~label.sk-toggleable__label {background-color: #d4ebff;}#sk-container-id-9 input.sk-hidden--visually {border: 0;clip: rect(1px 1px 1px 1px);clip: rect(1px, 1px, 1px, 1px);height: 1px;margin: -1px;overflow: hidden;padding: 0;position: absolute;width: 1px;}#sk-container-id-9 div.sk-estimator {font-family: monospace;background-color: #f0f8ff;border: 1px dotted black;border-radius: 0.25em;box-sizing: border-box;margin-bottom: 0.5em;}#sk-container-id-9 div.sk-estimator:hover {background-color: #d4ebff;}#sk-container-id-9 div.sk-parallel-item::after {content: \"\";width: 100%;border-bottom: 1px solid gray;flex-grow: 1;}#sk-container-id-9 div.sk-label:hover label.sk-toggleable__label {background-color: #d4ebff;}#sk-container-id-9 div.sk-serial::before {content: \"\";position: absolute;border-left: 1px solid gray;box-sizing: border-box;top: 0;bottom: 0;left: 50%;z-index: 0;}#sk-container-id-9 div.sk-serial {display: flex;flex-direction: column;align-items: center;background-color: white;padding-right: 0.2em;padding-left: 0.2em;position: relative;}#sk-container-id-9 div.sk-item {position: relative;z-index: 1;}#sk-container-id-9 div.sk-parallel {display: flex;align-items: stretch;justify-content: center;background-color: white;position: relative;}#sk-container-id-9 div.sk-item::before, #sk-container-id-9 div.sk-parallel-item::before {content: \"\";position: absolute;border-left: 1px solid gray;box-sizing: border-box;top: 0;bottom: 0;left: 50%;z-index: -1;}#sk-container-id-9 div.sk-parallel-item {display: flex;flex-direction: column;z-index: 1;position: relative;background-color: white;}#sk-container-id-9 div.sk-parallel-item:first-child::after {align-self: flex-end;width: 50%;}#sk-container-id-9 div.sk-parallel-item:last-child::after {align-self: flex-start;width: 50%;}#sk-container-id-9 div.sk-parallel-item:only-child::after {width: 0;}#sk-container-id-9 div.sk-dashed-wrapped {border: 1px dashed gray;margin: 0 0.4em 0.5em 0.4em;box-sizing: border-box;padding-bottom: 0.4em;background-color: white;}#sk-container-id-9 div.sk-label label {font-family: monospace;font-weight: bold;display: inline-block;line-height: 1.2em;}#sk-container-id-9 div.sk-label-container {text-align: center;}#sk-container-id-9 div.sk-container {/* jupyter's `normalize.less` sets `[hidden] { display: none; }` but bootstrap.min.css set `[hidden] { display: none !important; }` so we also need the `!important` here to be able to override the default hidden behavior on the sphinx rendered scikit-learn.org. See: https://github.com/scikit-learn/scikit-learn/issues/21755 */display: inline-block !important;position: relative;}#sk-container-id-9 div.sk-text-repr-fallback {display: none;}</style><div id=\"sk-container-id-9\" class=\"sk-top-container\"><div class=\"sk-text-repr-fallback\"><pre>RandomizedSearchCV(estimator=DecisionTreeClassifier(random_state=42),\n",
       "                   n_iter=100, n_jobs=-1,\n",
       "                   param_distributions={&#x27;max_depth&#x27;: &lt;scipy.stats._distn_infrastructure.rv_frozen object at 0x0000029E1B8997E0&gt;,\n",
       "                                        &#x27;min_impurity_decrease&#x27;: &lt;scipy.stats._distn_infrastructure.rv_frozen object at 0x0000029E1B8991B0&gt;,\n",
       "                                        &#x27;min_samples_split&#x27;: &lt;scipy.stats._distn_infrastructure.rv_frozen object at 0x0000029E1B89B5E0&gt;},\n",
       "                   random_state=42)</pre><b>In a Jupyter environment, please rerun this cell to show the HTML representation or trust the notebook. <br />On GitHub, the HTML representation is unable to render, please try loading this page with nbviewer.org.</b></div><div class=\"sk-container\" hidden><div class=\"sk-item sk-dashed-wrapped\"><div class=\"sk-label-container\"><div class=\"sk-label sk-toggleable\"><input class=\"sk-toggleable__control sk-hidden--visually\" id=\"sk-estimator-id-25\" type=\"checkbox\" ><label for=\"sk-estimator-id-25\" class=\"sk-toggleable__label sk-toggleable__label-arrow\">RandomizedSearchCV</label><div class=\"sk-toggleable__content\"><pre>RandomizedSearchCV(estimator=DecisionTreeClassifier(random_state=42),\n",
       "                   n_iter=100, n_jobs=-1,\n",
       "                   param_distributions={&#x27;max_depth&#x27;: &lt;scipy.stats._distn_infrastructure.rv_frozen object at 0x0000029E1B8997E0&gt;,\n",
       "                                        &#x27;min_impurity_decrease&#x27;: &lt;scipy.stats._distn_infrastructure.rv_frozen object at 0x0000029E1B8991B0&gt;,\n",
       "                                        &#x27;min_samples_split&#x27;: &lt;scipy.stats._distn_infrastructure.rv_frozen object at 0x0000029E1B89B5E0&gt;},\n",
       "                   random_state=42)</pre></div></div></div><div class=\"sk-parallel\"><div class=\"sk-parallel-item\"><div class=\"sk-item\"><div class=\"sk-label-container\"><div class=\"sk-label sk-toggleable\"><input class=\"sk-toggleable__control sk-hidden--visually\" id=\"sk-estimator-id-26\" type=\"checkbox\" ><label for=\"sk-estimator-id-26\" class=\"sk-toggleable__label sk-toggleable__label-arrow\">estimator: DecisionTreeClassifier</label><div class=\"sk-toggleable__content\"><pre>DecisionTreeClassifier(random_state=42)</pre></div></div></div><div class=\"sk-serial\"><div class=\"sk-item\"><div class=\"sk-estimator sk-toggleable\"><input class=\"sk-toggleable__control sk-hidden--visually\" id=\"sk-estimator-id-27\" type=\"checkbox\" ><label for=\"sk-estimator-id-27\" class=\"sk-toggleable__label sk-toggleable__label-arrow\">DecisionTreeClassifier</label><div class=\"sk-toggleable__content\"><pre>DecisionTreeClassifier(random_state=42)</pre></div></div></div></div></div></div></div></div></div></div>"
      ],
      "text/plain": [
       "RandomizedSearchCV(estimator=DecisionTreeClassifier(random_state=42),\n",
       "                   n_iter=100, n_jobs=-1,\n",
       "                   param_distributions={'max_depth': <scipy.stats._distn_infrastructure.rv_frozen object at 0x0000029E1B8997E0>,\n",
       "                                        'min_impurity_decrease': <scipy.stats._distn_infrastructure.rv_frozen object at 0x0000029E1B8991B0>,\n",
       "                                        'min_samples_split': <scipy.stats._distn_infrastructure.rv_frozen object at 0x0000029E1B89B5E0>},\n",
       "                   random_state=42)"
      ]
     },
     "execution_count": 134,
     "metadata": {},
     "output_type": "execute_result"
    }
   ],
   "source": [
    "### 하이퍼파라미터 찾을 매개변수 정의하기\n",
    "params = {'min_impurity_decrease' : uniform(0.0001, 0.001), \n",
    "         'max_depth' : randint(20,50),\n",
    "         'min_samples_split' : randint(2,25)}\n",
    "\n",
    "# 랜덤서치 클래스(모델) : RandomizedSearchCV()\n",
    "# 사용방법은 그리드서치와 동일\n",
    "# 결정트리 모델 사용, 훈련반복 횟수 100회, 코어 전체 \n",
    "\n",
    "### 10 - 폴드 지정하기\n",
    "splitter = StratifiedKFold(n_splits = 5, shuffle = True, random_state = 42)\n",
    "\n",
    "### 랜덤서치 훈련시키기\n",
    "from sklearn.model_selection import RandomizedSearchCV\n",
    "rs = RandomizedSearchCV(DecisionTreeClassifier(random_state=42),\n",
    "                 params, n_iter=100, n_jobs = -1, random_state=42)\n",
    "rs.fit(train_input, train_target)"
   ]
  },
  {
   "cell_type": "code",
   "execution_count": 135,
   "id": "780b0caf-11dc-4aaa-bff8-36f667a8dd0d",
   "metadata": {},
   "outputs": [
    {
     "name": "stdout",
     "output_type": "stream",
     "text": [
      "{'max_depth': 29, 'min_impurity_decrease': 0.000437615171403628, 'min_samples_split': 16}\n"
     ]
    }
   ],
   "source": [
    "print(rs.best_params_)"
   ]
  },
  {
   "cell_type": "code",
   "execution_count": 136,
   "id": "3fe20ab2-e2c2-4136-ac17-a9cfc16083dd",
   "metadata": {},
   "outputs": [
    {
     "name": "stdout",
     "output_type": "stream",
     "text": [
      "dict_keys(['mean_fit_time', 'std_fit_time', 'mean_score_time', 'std_score_time', 'param_max_depth', 'param_min_impurity_decrease', 'param_min_samples_split', 'params', 'split0_test_score', 'split1_test_score', 'split2_test_score', 'split3_test_score', 'split4_test_score', 'mean_test_score', 'std_test_score', 'rank_test_score'])\n"
     ]
    }
   ],
   "source": [
    "print(rs.cv_results_.keys())"
   ]
  },
  {
   "cell_type": "code",
   "execution_count": 139,
   "id": "388678f7-bb19-466c-a23e-829c958889b4",
   "metadata": {},
   "outputs": [
    {
     "data": {
      "text/plain": [
       "0.8695409787517583"
      ]
     },
     "execution_count": 139,
     "metadata": {},
     "output_type": "execute_result"
    }
   ],
   "source": [
    "rs.cv_results_['mean_test_score'].max()"
   ]
  },
  {
   "cell_type": "code",
   "execution_count": 138,
   "id": "5ab230c6-6c77-485f-94b8-4cb726b7a512",
   "metadata": {},
   "outputs": [
    {
     "data": {
      "text/plain": [
       "100"
      ]
     },
     "execution_count": 138,
     "metadata": {},
     "output_type": "execute_result"
    }
   ],
   "source": [
    "len(rs.cv_results_['mean_test_score'])"
   ]
  },
  {
   "cell_type": "code",
   "execution_count": 141,
   "id": "48f1b918-9e07-41f6-9df7-40b82c6df21c",
   "metadata": {},
   "outputs": [
    {
     "name": "stdout",
     "output_type": "stream",
     "text": [
      "0.8695409787517583\n"
     ]
    }
   ],
   "source": [
    "### 훈련 100회 중에 가장 큰값이 최종 평가점수\n",
    "print(np.max(rs.cv_results_['mean_test_score']))"
   ]
  },
  {
   "cell_type": "code",
   "execution_count": 142,
   "id": "c02924ef-918a-43fa-b567-a3973643c47a",
   "metadata": {},
   "outputs": [
    {
     "name": "stdout",
     "output_type": "stream",
     "text": [
      "0.8623076923076923\n"
     ]
    }
   ],
   "source": [
    "dt = rs.best_estimator_\n",
    "print(dt.score(test_input, test_target))"
   ]
  },
  {
   "cell_type": "code",
   "execution_count": 143,
   "id": "1a5ea720-103d-4b60-8e01-6cd1afe5cf8c",
   "metadata": {},
   "outputs": [],
   "source": [
    "## 사람이 판단하는 주관적 판단을 최소화할수있다"
   ]
  },
  {
   "cell_type": "code",
   "execution_count": null,
   "id": "7b357211-ff24-4a62-a78f-6c16f14d0438",
   "metadata": {},
   "outputs": [],
   "source": [
    "## 앙상블 - 결정트리기반으로 합쳐놓은것"
   ]
  }
 ],
 "metadata": {
  "kernelspec": {
   "display_name": "django_kernel",
   "language": "python",
   "name": "django"
  },
  "language_info": {
   "codemirror_mode": {
    "name": "ipython",
    "version": 3
   },
   "file_extension": ".py",
   "mimetype": "text/x-python",
   "name": "python",
   "nbconvert_exporter": "python",
   "pygments_lexer": "ipython3",
   "version": "3.10.5"
  }
 },
 "nbformat": 4,
 "nbformat_minor": 5
}
