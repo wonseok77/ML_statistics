{
 "cells": [
  {
   "cell_type": "code",
   "execution_count": 5,
   "id": "0b6844ea-25d5-4db7-b741-aa68bbb4cb9a",
   "metadata": {
    "collapsed": true,
    "jupyter": {
     "outputs_hidden": true
    },
    "tags": []
   },
   "outputs": [
    {
     "data": {
      "text/html": [
       "<style>#sk-container-id-1 {color: black;background-color: white;}#sk-container-id-1 pre{padding: 0;}#sk-container-id-1 div.sk-toggleable {background-color: white;}#sk-container-id-1 label.sk-toggleable__label {cursor: pointer;display: block;width: 100%;margin-bottom: 0;padding: 0.3em;box-sizing: border-box;text-align: center;}#sk-container-id-1 label.sk-toggleable__label-arrow:before {content: \"▸\";float: left;margin-right: 0.25em;color: #696969;}#sk-container-id-1 label.sk-toggleable__label-arrow:hover:before {color: black;}#sk-container-id-1 div.sk-estimator:hover label.sk-toggleable__label-arrow:before {color: black;}#sk-container-id-1 div.sk-toggleable__content {max-height: 0;max-width: 0;overflow: hidden;text-align: left;background-color: #f0f8ff;}#sk-container-id-1 div.sk-toggleable__content pre {margin: 0.2em;color: black;border-radius: 0.25em;background-color: #f0f8ff;}#sk-container-id-1 input.sk-toggleable__control:checked~div.sk-toggleable__content {max-height: 200px;max-width: 100%;overflow: auto;}#sk-container-id-1 input.sk-toggleable__control:checked~label.sk-toggleable__label-arrow:before {content: \"▾\";}#sk-container-id-1 div.sk-estimator input.sk-toggleable__control:checked~label.sk-toggleable__label {background-color: #d4ebff;}#sk-container-id-1 div.sk-label input.sk-toggleable__control:checked~label.sk-toggleable__label {background-color: #d4ebff;}#sk-container-id-1 input.sk-hidden--visually {border: 0;clip: rect(1px 1px 1px 1px);clip: rect(1px, 1px, 1px, 1px);height: 1px;margin: -1px;overflow: hidden;padding: 0;position: absolute;width: 1px;}#sk-container-id-1 div.sk-estimator {font-family: monospace;background-color: #f0f8ff;border: 1px dotted black;border-radius: 0.25em;box-sizing: border-box;margin-bottom: 0.5em;}#sk-container-id-1 div.sk-estimator:hover {background-color: #d4ebff;}#sk-container-id-1 div.sk-parallel-item::after {content: \"\";width: 100%;border-bottom: 1px solid gray;flex-grow: 1;}#sk-container-id-1 div.sk-label:hover label.sk-toggleable__label {background-color: #d4ebff;}#sk-container-id-1 div.sk-serial::before {content: \"\";position: absolute;border-left: 1px solid gray;box-sizing: border-box;top: 0;bottom: 0;left: 50%;z-index: 0;}#sk-container-id-1 div.sk-serial {display: flex;flex-direction: column;align-items: center;background-color: white;padding-right: 0.2em;padding-left: 0.2em;position: relative;}#sk-container-id-1 div.sk-item {position: relative;z-index: 1;}#sk-container-id-1 div.sk-parallel {display: flex;align-items: stretch;justify-content: center;background-color: white;position: relative;}#sk-container-id-1 div.sk-item::before, #sk-container-id-1 div.sk-parallel-item::before {content: \"\";position: absolute;border-left: 1px solid gray;box-sizing: border-box;top: 0;bottom: 0;left: 50%;z-index: -1;}#sk-container-id-1 div.sk-parallel-item {display: flex;flex-direction: column;z-index: 1;position: relative;background-color: white;}#sk-container-id-1 div.sk-parallel-item:first-child::after {align-self: flex-end;width: 50%;}#sk-container-id-1 div.sk-parallel-item:last-child::after {align-self: flex-start;width: 50%;}#sk-container-id-1 div.sk-parallel-item:only-child::after {width: 0;}#sk-container-id-1 div.sk-dashed-wrapped {border: 1px dashed gray;margin: 0 0.4em 0.5em 0.4em;box-sizing: border-box;padding-bottom: 0.4em;background-color: white;}#sk-container-id-1 div.sk-label label {font-family: monospace;font-weight: bold;display: inline-block;line-height: 1.2em;}#sk-container-id-1 div.sk-label-container {text-align: center;}#sk-container-id-1 div.sk-container {/* jupyter's `normalize.less` sets `[hidden] { display: none; }` but bootstrap.min.css set `[hidden] { display: none !important; }` so we also need the `!important` here to be able to override the default hidden behavior on the sphinx rendered scikit-learn.org. See: https://github.com/scikit-learn/scikit-learn/issues/21755 */display: inline-block !important;position: relative;}#sk-container-id-1 div.sk-text-repr-fallback {display: none;}</style><div id=\"sk-container-id-1\" class=\"sk-top-container\"><div class=\"sk-text-repr-fallback\"><pre>LogisticRegression(max_iter=20000)</pre><b>In a Jupyter environment, please rerun this cell to show the HTML representation or trust the notebook. <br />On GitHub, the HTML representation is unable to render, please try loading this page with nbviewer.org.</b></div><div class=\"sk-container\" hidden><div class=\"sk-item\"><div class=\"sk-estimator sk-toggleable\"><input class=\"sk-toggleable__control sk-hidden--visually\" id=\"sk-estimator-id-1\" type=\"checkbox\" checked><label for=\"sk-estimator-id-1\" class=\"sk-toggleable__label sk-toggleable__label-arrow\">LogisticRegression</label><div class=\"sk-toggleable__content\"><pre>LogisticRegression(max_iter=20000)</pre></div></div></div></div></div>"
      ],
      "text/plain": [
       "LogisticRegression(max_iter=20000)"
      ]
     },
     "execution_count": 5,
     "metadata": {},
     "output_type": "execute_result"
    }
   ],
   "source": [
    "import pandas as pd\n",
    "\n",
    "fish = pd.read_csv(\"../data/05_생선_분류_데이터셋.csv\")\n",
    "fish_input = fish[[\"Weight\",\"Length\",\"Diagonal\",\"Height\",\"Width\"]].to_numpy()\n",
    "fish_target = fish['Species'].to_numpy()\n",
    "\n",
    "from sklearn.model_selection import train_test_split\n",
    "train_input, test_input, train_target, test_target = \\\n",
    "    train_test_split(fish_input, fish_target, random_state = 42)\n",
    "\n",
    "from sklearn.linear_model import LogisticRegression\n",
    "lr = LogisticRegression(max_iter = 20000)\n",
    "lr.fit(train_input, train_target)"
   ]
  },
  {
   "cell_type": "markdown",
   "id": "df48077b-b3c8-406d-8e08-7d4d1e01f42c",
   "metadata": {},
   "source": [
    "## joblib 방식"
   ]
  },
  {
   "cell_type": "code",
   "execution_count": 8,
   "id": "8c2f9dbb-2a28-409b-a361-36595713f267",
   "metadata": {},
   "outputs": [
    {
     "data": {
      "text/plain": [
       "['../model/LR_fish_model.pkl']"
      ]
     },
     "execution_count": 8,
     "metadata": {},
     "output_type": "execute_result"
    }
   ],
   "source": [
    "import joblib\n",
    "\n",
    "### 모델 저장\n",
    "joblib.dump(lr, \"../model/LR_fish_model.pkl\")"
   ]
  },
  {
   "cell_type": "code",
   "execution_count": 11,
   "id": "0d95d632-419a-416d-ae31-d59ddac6ea3f",
   "metadata": {},
   "outputs": [
    {
     "name": "stdout",
     "output_type": "stream",
     "text": [
      "0.925\n"
     ]
    }
   ],
   "source": [
    "### 모델 불러들이기\n",
    "load_model = joblib.load(\"../model/LR_fish_model.pkl\")\n",
    "print(load_model.score(test_input, test_target))"
   ]
  },
  {
   "cell_type": "markdown",
   "id": "5bb4e541-aaca-40fe-9c14-599d89d3e032",
   "metadata": {},
   "source": [
    "## pickle 방식"
   ]
  },
  {
   "cell_type": "code",
   "execution_count": 13,
   "id": "14d53867-fad7-4c8a-9d25-1db62dbbcd44",
   "metadata": {},
   "outputs": [],
   "source": [
    "import pickle\n",
    "\n",
    "# 모델 저장\n",
    "## 저 위치의 파일명으로 모델을 저장해라\n",
    "with open(\"../model/LR_fish_model.pickle\", \"wb\") as fw :\n",
    "    pickle.dump(lr,fw)"
   ]
  },
  {
   "cell_type": "code",
   "execution_count": 17,
   "id": "815d8e3a-bd67-4f8b-b11b-0caedd0d081f",
   "metadata": {},
   "outputs": [
    {
     "name": "stdout",
     "output_type": "stream",
     "text": [
      "0.925\n"
     ]
    }
   ],
   "source": [
    "# 모델 읽어들이기\n",
    "with open(\"../model/LR_fish_model.pickle\", \"rb\") as f :\n",
    "    load_model = pickle.load(f)\n",
    "\n",
    "print(load_model.score(test_input, test_target))"
   ]
  },
  {
   "cell_type": "code",
   "execution_count": 21,
   "id": "a75c7303-3500-42ff-9ec7-e4650ea7bffc",
   "metadata": {},
   "outputs": [],
   "source": [
    "## 모델을 만들어서 배포하여 훈련모델을 적용시킬수 있게끔\n",
    "## 교체만 하면 된다\n",
    "## 분류를 더 많이하는 이유 ? 회귀는 예측이고 , 분류는 판단이다\n",
    "\n",
    "## 위험관리, 품질, 제조회사 이미지분석, 컨베이어벨트 - 카메라(CCTV) - 이미지분석 - 제품의특성(주성분)\n",
    "## defect를 감지하면 정지 !\n",
    "## 병원같은곳에서 프로그램 많이 하심 수학을 잘하니까\n",
    "## 프로그램을 배워서 예진표를 만든다. 작은병원이든 큰병원이든 예진표를 쓴다 이사람이 쓴 예진기록을 가지고\n",
    "## 패드같은곳에 받아서 저장시켜서 바로 분석을 한다, 체크체크 위험수준을 일단 체크한다\n",
    "## 이사람의 위험수준이 어느정도인지 확인하고, 의사선생님이 검진을 하신다 -> 분류모델\n",
    "\n",
    "## 타이타닉 생존률 이 사람이 어떤 그룹이기때문에 생존률 분석, 생존률을 일반적으로 조합을 해보아야 한다\n",
    "## 어떤 경우에 생존률이 높은지 특성 중요도, 어떤 조합일때 가장 생존률이 높은지 ? 여자, 1등급클래스일 경우, 자식이있는 가족이 있을경우\n",
    "## 다 예측을 각각 해본다 그 중 가장 정확도가 높은 (피처임포턴트) 찾는다, 분리할수있다\n",
    "\n",
    "## 배 항목... 신청받을때 가족단위인지 설문항목이늘어났다\n",
    "## 예측은 정책이나 통계쪽에서 많이 사용한다. 데이터가 쭉 들어오면 2023년도에는 전국 대비 감소할까 증가할까\n",
    "## 선형방정식 불러오고 x값만 넣어주면 올라갈지 내려갈지 예측 가능하다 (과적합만 해결할꺼면)\n",
    "\n",
    "## predict이지만 판단, 분류 개념에 가깝다 분류모델은\n",
    "## 분석하는팀은요 하루종일 이야기해요"
   ]
  },
  {
   "cell_type": "code",
   "execution_count": 23,
   "id": "dc41a62a-6cb1-45ff-bbf9-68b6fd9fccd7",
   "metadata": {},
   "outputs": [],
   "source": [
    "# 다 끝나면 새로운 데이터 ?\n",
    "# 영화사 어떤 주연 조연이 조합이 되었을때 100만관객을 달성할수 있을지 \n",
    "# 소속사가 어딘지 프로듀서가 어딘지에 따라서"
   ]
  },
  {
   "cell_type": "code",
   "execution_count": 24,
   "id": "72fbecf3-d141-406d-aa54-63245aa99173",
   "metadata": {},
   "outputs": [
    {
     "data": {
      "text/plain": [
       "0.20179372197309417"
      ]
     },
     "execution_count": 24,
     "metadata": {},
     "output_type": "execute_result"
    }
   ],
   "source": [
    "180/892"
   ]
  },
  {
   "cell_type": "code",
   "execution_count": null,
   "id": "8e2699cd-ab97-4754-b93d-30b2954fa0dd",
   "metadata": {},
   "outputs": [],
   "source": []
  },
  {
   "cell_type": "code",
   "execution_count": null,
   "id": "1c65844f-c793-4c3e-903e-ae3691333d47",
   "metadata": {},
   "outputs": [],
   "source": []
  }
 ],
 "metadata": {
  "kernelspec": {
   "display_name": "django_kernel",
   "language": "python",
   "name": "django"
  },
  "language_info": {
   "codemirror_mode": {
    "name": "ipython",
    "version": 3
   },
   "file_extension": ".py",
   "mimetype": "text/x-python",
   "name": "python",
   "nbconvert_exporter": "python",
   "pygments_lexer": "ipython3",
   "version": "3.10.5"
  }
 },
 "nbformat": 4,
 "nbformat_minor": 5
}
