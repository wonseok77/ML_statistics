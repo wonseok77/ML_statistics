{
 "cells": [
  {
   "cell_type": "code",
   "execution_count": 1,
   "id": "aedd50c0-1737-4a00-9ca9-2931f6780e90",
   "metadata": {},
   "outputs": [],
   "source": [
    "### 데이터 생성하기\n",
    "import pandas as pd\n",
    "import numpy as np\n",
    "perch_length= np.array(\n",
    "    [8.4, 13.7, 15.0, 16.2, 17.4, 18.0, 18.7, 19.0, 19.6, 20.0, \n",
    "     21.0, 21.0, 21.0, 21.3, 22.0, 22.0, 22.0, 22.0, 22.0, 22.5, \n",
    "     22.5, 22.7, 23.0, 23.5, 24.0, 24.0, 24.6, 25.0, 25.6, 26.5, \n",
    "     27.3, 27.5, 27.5, 27.5, 28.0, 28.7, 30.0, 32.8, 34.5, 35.0, \n",
    "     36.5, 36.0, 37.0, 37.0, 39.0, 39.0, 39.0, 40.0, 40.0, 40.0, \n",
    "     40.0, 42.0, 43.0, 43.0, 43.5, 44.0]\n",
    "     )\n",
    "perch_weight = np.array(\n",
    "    [5.9, 32.0, 40.0, 51.5, 70.0, 100.0, 78.0, 80.0, 85.0, 85.0, \n",
    "     110.0, 115.0, 125.0, 130.0, 120.0, 120.0, 130.0, 135.0, 110.0, \n",
    "     130.0, 150.0, 145.0, 150.0, 170.0, 225.0, 145.0, 188.0, 180.0, \n",
    "     197.0, 218.0, 300.0, 260.0, 265.0, 250.0, 250.0, 300.0, 320.0, \n",
    "     514.0, 556.0, 840.0, 685.0, 700.0, 700.0, 690.0, 900.0, 650.0, \n",
    "     820.0, 850.0, 900.0, 1015.0, 820.0, 1100.0, 1000.0, 1100.0, \n",
    "     1000.0, 1000.0]\n",
    "     )"
   ]
  },
  {
   "cell_type": "code",
   "execution_count": 2,
   "id": "38fb98ae-53cc-4dde-a2cc-81b90677ef1d",
   "metadata": {},
   "outputs": [
    {
     "data": {
      "text/plain": [
       "array([19.6, 22. , 18.7, 17.4, 36. , 25. , 40. , 39. , 43. , 22. , 20. ,\n",
       "       22. , 24. , 27.5, 43. , 40. , 24. , 21. , 27.5, 40. , 32.8, 26.5,\n",
       "       36.5, 13.7, 22.7, 15. , 37. , 35. , 28.7, 23.5, 39. , 21. , 23. ,\n",
       "       22. , 44. , 22.5, 19. , 37. , 22. , 25.6, 42. , 34.5])"
      ]
     },
     "execution_count": 2,
     "metadata": {},
     "output_type": "execute_result"
    }
   ],
   "source": [
    "from sklearn.model_selection import train_test_split\n",
    "train_input, test_input , train_target, test_target = train_test_split(perch_length,perch_weight,test_size = 0.25,random_state = 42)\n",
    "train_input"
   ]
  },
  {
   "cell_type": "code",
   "execution_count": 3,
   "id": "9bb2c6f1-4393-42b7-bc5b-e0d367ca2792",
   "metadata": {},
   "outputs": [],
   "source": [
    "train_input = train_input.reshape(-1,1)\n",
    "train_target = train_target.reshape(-1,1)\n",
    "test_input= test_input.reshape(-1,1)\n",
    "test_target = test_target.reshape(-1,1)"
   ]
  },
  {
   "cell_type": "code",
   "execution_count": 27,
   "id": "0a52f774-0689-4e18-a2c9-42d6d2866991",
   "metadata": {},
   "outputs": [
    {
     "name": "stdout",
     "output_type": "stream",
     "text": [
      "0.9746459963987609\n",
      "0.9804899950518966\n"
     ]
    }
   ],
   "source": [
    "from sklearn.neighbors import KNeighborsRegressor\n",
    "knr = KNeighborsRegressor(n_neighbors = 3)\n",
    "knr.fit(train_input,train_target)\n",
    "test_prediction = knr.predict(test_input)\n",
    "print(knr.score(test_input, test_target))\n",
    "print(knr.score(train_input, train_target))"
   ]
  },
  {
   "cell_type": "code",
   "execution_count": 28,
   "id": "610180a2-9648-42de-b5c5-8e8fcd9d2ea3",
   "metadata": {},
   "outputs": [
    {
     "data": {
      "text/plain": [
       "35.42380952380951"
      ]
     },
     "execution_count": 28,
     "metadata": {},
     "output_type": "execute_result"
    }
   ],
   "source": [
    "### 타깃값과 예측값 간의 오차를 확인하는 라이브러리 불러들이기\n",
    "from sklearn.metrics import mean_absolute_error\n",
    "### 오차값은 : 테스트 데이터에 대한 평균 절대값 오차를 계산합니다.\n",
    "mae = mean_absolute_error(test_target, test_prediction)\n",
    "mae"
   ]
  },
  {
   "cell_type": "code",
   "execution_count": 29,
   "id": "8a2456f1-fbe7-4ecd-bd29-28d5bf5baf0b",
   "metadata": {},
   "outputs": [
    {
     "data": {
      "image/png": "[encoded data removed]",
      "text/plain": [
       "<Figure size 432x288 with 1 Axes>"
      ]
     },
     "metadata": {
      "needs_background": "light"
     },
     "output_type": "display_data"
    }
   ],
   "source": [
    "### 예측데이터 : 50\n",
    "### - 산점도로 시각화 : 훈련데이터와 예측데이터, 이웃데이터 포함\n",
    "import matplotlib.pyplot as plt\n",
    "plt.scatter(perch_length,perch_weight)\n",
    "plt.scatter(test_input,test_prediction)\n",
    "plt.scatter(50,knr.predict([[50]]),marker=\"^\", c=\"red\")\n",
    "plt.xlabel('length')\n",
    "plt.ylabel('weight')\n",
    "plt.show()"
   ]
  },
  {
   "cell_type": "code",
   "execution_count": 30,
   "id": "dbac81cc-4b85-44b3-831e-855237a43a86",
   "metadata": {},
   "outputs": [],
   "source": [
    "### - 산점도로 시각화 : 훈련데이터와 예측데이터, 이웃데이터 포함\n",
    "import matplotlib.pyplot as plt"
   ]
  },
  {
   "cell_type": "code",
   "execution_count": 31,
   "id": "85bd54ad-8d7e-406a-beab-ceab924848d6",
   "metadata": {},
   "outputs": [
    {
     "data": {
      "text/plain": [
       "array([[34,  8, 14]], dtype=int64)"
      ]
     },
     "execution_count": 31,
     "metadata": {},
     "output_type": "execute_result"
    }
   ],
   "source": [
    "### 이웃 데이터 추출하기\n",
    "distance, indexes = knr.kneighbors([[50]])\n",
    "indexes"
   ]
  },
  {
   "cell_type": "code",
   "execution_count": 35,
   "id": "43f93e1c-b515-47df-8083-2bf1deba5c67",
   "metadata": {},
   "outputs": [
    {
     "data": {
      "text/plain": [
       "<matplotlib.collections.PathCollection at 0x265471f9150>"
      ]
     },
     "execution_count": 35,
     "metadata": {},
     "output_type": "execute_result"
    },
    {
     "data": {
      "image/png": "[encoded data removed]",
      "text/plain": [
       "<Figure size 432x288 with 1 Axes>"
      ]
     },
     "metadata": {
      "needs_background": "light"
     },
     "output_type": "display_data"
    }
   ],
   "source": [
    "### 산점도 시각화하기\n",
    "plt.scatter(train_input, train_target)\n",
    "plt.scatter(train_input[indexes], train_target[indexes])\n",
    "plt.xlabel('length')\n",
    "plt.ylabel('weight')\n",
    "plt.scatter(100,1033,marker = \"^\")"
   ]
  },
  {
   "cell_type": "markdown",
   "id": "2e890316-4741-4a75-b3bf-0c113212f8e6",
   "metadata": {},
   "source": [
    "## 선형회귀(Linear Regression)\n",
    "##### - 많이 사용되는 대표적인 회귀 알고리즘\n",
    "##### - 비교적 간단하고, 성능이 뒤어나기 때문에 회귀모델 수행시 초반에 주로 진행합니다.\n",
    "##### - 선형회귀의 역할 : 하나의 특성을 가장 잘 나타내는 직선을 찾아내는 것이 주 역할\n",
    "##### - 직선을 '추세선' 이라고 합니다.\n",
    "##### - 선형회귀 알고리즘 : 1차 방정식(y= ax+b)\n",
    "##### - 선형회귀 클래스(모델) : LinearRegresin\n",
    "##### - 사용되는 패키지 : sklearn.linear_model"
   ]
  },
  {
   "cell_type": "code",
   "execution_count": null,
   "id": "37119887-5542-4221-9cc9-fc2e0d782278",
   "metadata": {},
   "outputs": [],
   "source": []
  }
 ],
 "metadata": {
  "kernelspec": {
   "display_name": "django_kernel",
   "language": "python",
   "name": "django"
  },
  "language_info": {
   "codemirror_mode": {
    "name": "ipython",
    "version": 3
   },
   "file_extension": ".py",
   "mimetype": "text/x-python",
   "name": "python",
   "nbconvert_exporter": "python",
   "pygments_lexer": "ipython3",
   "version": "3.10.5"
  }
 },
 "nbformat": 4,
 "nbformat_minor": 5
}
