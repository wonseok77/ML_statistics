{
 "cells": [
  {
   "cell_type": "markdown",
   "id": "e65fcf19",
   "metadata": {},
   "source": [
    "## 머신러닝에서 사용되는 전처리 기법"
   ]
  },
  {
   "cell_type": "code",
   "execution_count": 1,
   "id": "a537de39",
   "metadata": {},
   "outputs": [],
   "source": [
    "### 데이터 준비하기\n",
    "# - 어제 사용한 도미와 빙어 데이터 가지고 오기...\n",
    "# - 2차원 데이터까지 만들어 주세요~"
   ]
  },
  {
   "cell_type": "code",
   "execution_count": 2,
   "id": "6085f0f6",
   "metadata": {},
   "outputs": [],
   "source": [
    "import numpy as np\n",
    "from sklearn.neighbors import KNeighborsClassifier\n",
    "import matplotlib.pyplot as plt"
   ]
  },
  {
   "cell_type": "code",
   "execution_count": 3,
   "id": "e6a54c36",
   "metadata": {},
   "outputs": [],
   "source": [
    "dom_length = [25.4, 26.3, 26.5, 29.0, 29.0, 29.7, 29.7, 30.0, \n",
    "                30.0, 30.7, 31.0, 31.0, 31.5, 32.0, 32.0, 32.0, \n",
    "                33.0, 33.0, 33.5, 33.5, 34.0, 34.0, 34.5, 35.0, \n",
    "                35.0, 35.0, 35.0, 36.0, 36.0, 37.0, 38.5, 38.5, \n",
    "                39.5, 41.0, 41.0]\n",
    "\n",
    "dom_weight = [242.0, 290.0, 340.0, 363.0, 430.0, 450.0, 500.0, \n",
    "                390.0, 450.0, 500.0, 475.0, 500.0, 500.0, 340.0, \n",
    "                600.0, 600.0, 700.0, 700.0, 610.0, 650.0, 575.0, \n",
    "                685.0, 620.0, 680.0, 700.0, 725.0, 720.0, 714.0, \n",
    "                850.0, 1000.0, 920.0, 955.0, 925.0, 975.0, 950.0]\n",
    "\n",
    "bing_length = [9.8, 10.5, 10.6, 11.0, 11.2, 11.3, 11.8, 11.8, 12.0, 12.2, 12.4, 13.0, 14.3, 15.0]\n",
    "\n",
    "bing_weight = [6.7, 7.5, 7.0, 9.7, 9.8, 8.7, 10.0, 9.9, 9.8, 12.2, 13.4, 12.2, 19.7, 19.9]"
   ]
  },
  {
   "cell_type": "code",
   "execution_count": 4,
   "id": "c4df955f",
   "metadata": {},
   "outputs": [],
   "source": [
    "length = dom_length + bing_length\n",
    "weight = dom_weight + bing_weight"
   ]
  },
  {
   "cell_type": "code",
   "execution_count": 5,
   "id": "5e081fc8",
   "metadata": {},
   "outputs": [],
   "source": [
    "fish_data = [[leng, wei] for leng, wei in zip(length, weight)]\n",
    "fish_target = [1] * 35 + [0] * 14"
   ]
  },
  {
   "cell_type": "code",
   "execution_count": 6,
   "id": "f674b6f1",
   "metadata": {},
   "outputs": [
    {
     "data": {
      "text/plain": [
       "array([[1, 4],\n",
       "       [2, 5],\n",
       "       [3, 6]])"
      ]
     },
     "execution_count": 6,
     "metadata": {},
     "output_type": "execute_result"
    }
   ],
   "source": [
    "### numpy가 제공하는 함수를 이용한 2차원 데이터 생성하기\n",
    "# 샘플\n",
    "a = [1,2,3]\n",
    "b = [4,5,6]\n",
    "np.column_stack((a,b))"
   ]
  },
  {
   "cell_type": "code",
   "execution_count": 7,
   "id": "b050ac4b",
   "metadata": {
    "scrolled": true
   },
   "outputs": [
    {
     "data": {
      "text/plain": [
       "array([[  25.4,  242. ],\n",
       "       [  26.3,  290. ],\n",
       "       [  26.5,  340. ],\n",
       "       [  29. ,  363. ],\n",
       "       [  29. ,  430. ],\n",
       "       [  29.7,  450. ],\n",
       "       [  29.7,  500. ],\n",
       "       [  30. ,  390. ],\n",
       "       [  30. ,  450. ],\n",
       "       [  30.7,  500. ],\n",
       "       [  31. ,  475. ],\n",
       "       [  31. ,  500. ],\n",
       "       [  31.5,  500. ],\n",
       "       [  32. ,  340. ],\n",
       "       [  32. ,  600. ],\n",
       "       [  32. ,  600. ],\n",
       "       [  33. ,  700. ],\n",
       "       [  33. ,  700. ],\n",
       "       [  33.5,  610. ],\n",
       "       [  33.5,  650. ],\n",
       "       [  34. ,  575. ],\n",
       "       [  34. ,  685. ],\n",
       "       [  34.5,  620. ],\n",
       "       [  35. ,  680. ],\n",
       "       [  35. ,  700. ],\n",
       "       [  35. ,  725. ],\n",
       "       [  35. ,  720. ],\n",
       "       [  36. ,  714. ],\n",
       "       [  36. ,  850. ],\n",
       "       [  37. , 1000. ],\n",
       "       [  38.5,  920. ],\n",
       "       [  38.5,  955. ],\n",
       "       [  39.5,  925. ],\n",
       "       [  41. ,  975. ],\n",
       "       [  41. ,  950. ],\n",
       "       [   9.8,    6.7],\n",
       "       [  10.5,    7.5],\n",
       "       [  10.6,    7. ],\n",
       "       [  11. ,    9.7],\n",
       "       [  11.2,    9.8],\n",
       "       [  11.3,    8.7],\n",
       "       [  11.8,   10. ],\n",
       "       [  11.8,    9.9],\n",
       "       [  12. ,    9.8],\n",
       "       [  12.2,   12.2],\n",
       "       [  12.4,   13.4],\n",
       "       [  13. ,   12.2],\n",
       "       [  14.3,   19.7],\n",
       "       [  15. ,   19.9]])"
      ]
     },
     "execution_count": 7,
     "metadata": {},
     "output_type": "execute_result"
    }
   ],
   "source": [
    "fish_data = np.column_stack((length,weight))\n",
    "fish_data"
   ]
  },
  {
   "cell_type": "code",
   "execution_count": 8,
   "id": "d4fde647",
   "metadata": {},
   "outputs": [
    {
     "name": "stdout",
     "output_type": "stream",
     "text": [
      "[1. 1. 1. 1. 1.]\n",
      "[0. 0. 0. 0. 0.]\n",
      "[1. 1. 1. 1. 1. 0. 0. 0. 0. 0.]\n"
     ]
    }
   ],
   "source": [
    "###\n",
    "print(np.ones(5))\n",
    "print(np.zeros(5))\n",
    "\n",
    "print(np.concatenate((np.ones(5), np.zeros(5))))"
   ]
  },
  {
   "cell_type": "code",
   "execution_count": 9,
   "id": "b1e97e3a",
   "metadata": {},
   "outputs": [
    {
     "data": {
      "text/plain": [
       "array([1., 1., 1., 1., 1., 1., 1., 1., 1., 1., 1., 1., 1., 1., 1., 1., 1.,\n",
       "       1., 1., 1., 1., 1., 1., 1., 1., 1., 1., 1., 1., 1., 1., 1., 1., 1.,\n",
       "       1., 0., 0., 0., 0., 0., 0., 0., 0., 0., 0., 0., 0., 0., 0.])"
      ]
     },
     "execution_count": 9,
     "metadata": {},
     "output_type": "execute_result"
    }
   ],
   "source": [
    "### Numpy를 이용해서 1과 0의 임의 값 만들기\n",
    "# - 튜플 형태로 만들어야 합니다.\n",
    "fish_target = np.concatenate((np.ones(35), np.zeros(14)))\n",
    "fish_target"
   ]
  },
  {
   "cell_type": "markdown",
   "id": "a33bd7d9",
   "metadata": {},
   "source": [
    "## 훈련데이터세트와 테스트데이터세트 만들기\n",
    "##### - 훈련데이터세트 : 독립변수의 훈련데이터와 target 데이터 생성\n",
    "##### - 테스트데이터세트 : 독립변수의 테스트데이터와 target 데이터 생성\n",
    "##### - train_data, train_target : 훈련에 사용\n",
    "##### - test_data, test_target : 평가 및 예측에 사용"
   ]
  },
  {
   "cell_type": "code",
   "execution_count": 10,
   "id": "28499ee8",
   "metadata": {},
   "outputs": [],
   "source": [
    "# 데이터 랜덤으로 뽑아올 인덱스 생성\n",
    "np.random.seed(123)\n",
    "\n",
    "index = np.arange(49)\n",
    "\n",
    "np.random.shuffle(index)"
   ]
  },
  {
   "cell_type": "code",
   "execution_count": 11,
   "id": "7634e2ef",
   "metadata": {},
   "outputs": [],
   "source": [
    "## 훈련데이터 생성하기\n",
    "train_input = fish_data[index[:35]]\n",
    "train_target = fish_target[index[:35]]"
   ]
  },
  {
   "cell_type": "code",
   "execution_count": 12,
   "id": "b528c4b2",
   "metadata": {},
   "outputs": [],
   "source": [
    "## 테스트 데이터 생성하기\n",
    "test_input = fish_data[index[35:]]\n",
    "test_target = fish_target[index[35:]]"
   ]
  },
  {
   "cell_type": "code",
   "execution_count": 35,
   "id": "e9dae037",
   "metadata": {},
   "outputs": [
    {
     "data": {
      "image/png": "[encoded data removed]",
      "text/plain": [
       "<Figure size 432x288 with 1 Axes>"
      ]
     },
     "metadata": {
      "needs_background": "light"
     },
     "output_type": "display_data"
    }
   ],
   "source": [
    "plt.scatter(train_input[:, 0], train_input[:, 1])\n",
    "\n",
    "plt.scatter(test_input[:, 0], test_input[:, 1])\n",
    "plt.scatter(k1,k2, marker=\"^\",color='red')\n",
    "plt.xlabel('length')\n",
    "plt.ylabel('weight')\n",
    "\n",
    "plt.show()"
   ]
  },
  {
   "cell_type": "code",
   "execution_count": 14,
   "id": "1e260497",
   "metadata": {},
   "outputs": [],
   "source": [
    "### 사이킷런 패키지에는 훈련 및 테스트 데이터를 자동으로 섞어주는 함수 있음\n",
    "# - train_test_split() 함수 : 섞어주기, 비율로 나누기"
   ]
  },
  {
   "cell_type": "code",
   "execution_count": 15,
   "id": "93bd31c7",
   "metadata": {},
   "outputs": [],
   "source": [
    "# 함수 사용을 위해 불러오기\n",
    "from sklearn.model_selection import train_test_split"
   ]
  },
  {
   "cell_type": "code",
   "execution_count": 16,
   "id": "c387dc68",
   "metadata": {},
   "outputs": [],
   "source": [
    "# 훈련 및 테스트데이터 분류하여 가지고 오기..\n",
    "# 총 4개의 변수값을 반환해 줍니다.\n",
    "\n",
    "# test_size : 테스트데이터의 비율\n",
    "# train_size : 훈련데이터의 비율\n",
    "# 기본적으로 train : test = 75 : 25의 비율을 사용\n",
    "# (대략적인 비율)\n",
    "# 일반적으로 훈련과 테스트 비율은 7:3 또는 7.5:2.5를 사용..\n",
    "\n",
    "train_input, test_input, train_target, test_target = \\\n",
    "train_test_split(fish_data, fish_target, test_size=0.25, random_state=42)\n",
    "\n",
    "### 훈련과 테스트 데이터의 구분 비율 확인하기..\n",
    "# - 구분 비율은 train과 target으로 비율을 체크합니다.\n",
    "# - 비율 계산해 주세요.."
   ]
  },
  {
   "cell_type": "code",
   "execution_count": 17,
   "id": "db3123bc",
   "metadata": {
    "scrolled": true
   },
   "outputs": [
    {
     "name": "stdout",
     "output_type": "stream",
     "text": [
      "[[  30.   450. ]\n",
      " [  29.   363. ]\n",
      " [  29.7  500. ]\n",
      " [  11.3    8.7]\n",
      " [  11.8   10. ]\n",
      " [  13.    12.2]\n",
      " [  32.   600. ]\n",
      " [  30.7  500. ]\n",
      " [  33.   700. ]\n",
      " [  35.   700. ]\n",
      " [  41.   975. ]\n",
      " [  38.5  920. ]\n",
      " [  25.4  242. ]\n",
      " [  12.     9.8]\n",
      " [  39.5  925. ]\n",
      " [  29.7  450. ]\n",
      " [  37.  1000. ]\n",
      " [  31.   500. ]\n",
      " [  10.5    7.5]\n",
      " [  26.3  290. ]\n",
      " [  34.   685. ]\n",
      " [  26.5  340. ]\n",
      " [  10.6    7. ]\n",
      " [   9.8    6.7]\n",
      " [  35.   680. ]\n",
      " [  11.2    9.8]\n",
      " [  31.   475. ]\n",
      " [  34.5  620. ]\n",
      " [  33.5  610. ]\n",
      " [  15.    19.9]\n",
      " [  34.   575. ]\n",
      " [  30.   390. ]\n",
      " [  11.8    9.9]\n",
      " [  32.   600. ]\n",
      " [  36.   850. ]\n",
      " [  11.     9.7]]\n",
      "---------------------\n",
      "[[ 32.  340. ]\n",
      " [ 12.4  13.4]\n",
      " [ 14.3  19.7]\n",
      " [ 12.2  12.2]\n",
      " [ 33.  700. ]\n",
      " [ 36.  714. ]\n",
      " [ 35.  720. ]\n",
      " [ 35.  725. ]\n",
      " [ 38.5 955. ]\n",
      " [ 33.5 650. ]\n",
      " [ 31.5 500. ]\n",
      " [ 29.  430. ]\n",
      " [ 41.  950. ]]\n",
      "---------------------\n",
      "[1. 1. 1. 0. 0. 0. 1. 1. 1. 1. 1. 1. 1. 0. 1. 1. 1. 1. 0. 1. 1. 1. 0. 0.\n",
      " 1. 0. 1. 1. 1. 0. 1. 1. 0. 1. 1. 0.]\n",
      "---------------------\n",
      "[1. 0. 0. 0. 1. 1. 1. 1. 1. 1. 1. 1. 1.]\n"
     ]
    }
   ],
   "source": [
    "print(train_input)\n",
    "print('---------------------')\n",
    "print(test_input)\n",
    "print('---------------------')\n",
    "print(train_target)\n",
    "print('---------------------')\n",
    "print(test_target)"
   ]
  },
  {
   "cell_type": "code",
   "execution_count": 18,
   "id": "e283cc59",
   "metadata": {},
   "outputs": [
    {
     "name": "stdout",
     "output_type": "stream",
     "text": [
      "train데이터와 test데이터의 비율 =  0.73  :  0.27\n"
     ]
    }
   ],
   "source": [
    "print('train데이터와 test데이터의 비율 = ', \\\n",
    "      round(len(train_input) / (len(train_input) + len(test_input)),2), \\\n",
    "      ' : ', \\\n",
    "      round(len(test_input) / (len(train_input) + len(test_input)), 2))"
   ]
  },
  {
   "cell_type": "code",
   "execution_count": 19,
   "id": "3e9ab739",
   "metadata": {},
   "outputs": [
    {
     "name": "stdout",
     "output_type": "stream",
     "text": [
      "(36, 2) (36,)\n"
     ]
    }
   ],
   "source": [
    "# 훈련데이터 차원 확인하기\n",
    "print(train_input.shape, train_target.shape)"
   ]
  },
  {
   "cell_type": "code",
   "execution_count": 20,
   "id": "df3aadc5",
   "metadata": {},
   "outputs": [
    {
     "name": "stdout",
     "output_type": "stream",
     "text": [
      "(13, 2) (13,)\n"
     ]
    }
   ],
   "source": [
    "# 테스트데이터 차원 확인하기\n",
    "print(test_input.shape, test_target.shape)"
   ]
  },
  {
   "cell_type": "code",
   "execution_count": 21,
   "id": "1cc9e13f",
   "metadata": {},
   "outputs": [
    {
     "data": {
      "text/plain": [
       "array([1., 0., 0., 0., 1., 1., 1., 1., 1., 1., 1., 1., 1.])"
      ]
     },
     "execution_count": 21,
     "metadata": {},
     "output_type": "execute_result"
    }
   ],
   "source": [
    "test_target"
   ]
  },
  {
   "cell_type": "code",
   "execution_count": 22,
   "id": "a9a5675d",
   "metadata": {},
   "outputs": [],
   "source": [
    "### 샘플링 편향을 최소화 하기 위한 방법으로\n",
    "# - stratify 속성을 사용..\n",
    "# - 속성에는 기준값을 넣어줍니다. (보통 종속데이터)\n",
    "# - 종속데이터의 분류 값을 기준으로 test_size의 비율로 섞어줍니다.\n",
    "train_input, test_input, train_target, test_target = \\\n",
    "train_test_split(fish_data, fish_target, stratify = fish_target, test_size=0.25, random_state=42)"
   ]
  },
  {
   "cell_type": "code",
   "execution_count": 23,
   "id": "6c2b39a1",
   "metadata": {},
   "outputs": [
    {
     "data": {
      "text/plain": [
       "array([0., 0., 1., 0., 1., 0., 1., 1., 1., 1., 1., 1., 1.])"
      ]
     },
     "execution_count": 23,
     "metadata": {},
     "output_type": "execute_result"
    }
   ],
   "source": [
    "test_target"
   ]
  },
  {
   "cell_type": "markdown",
   "id": "68adc7ab",
   "metadata": {},
   "source": [
    "### 특정 위치의 생선 예측하기\n",
    "##### - 특정 위치의 생선 : 예측 데이터 1개 사용"
   ]
  },
  {
   "cell_type": "code",
   "execution_count": 24,
   "id": "5aaee8a1",
   "metadata": {},
   "outputs": [],
   "source": [
    "### [문제]\n",
    "# - 생선의 길이와 무게가 25cm, 150g\n",
    "# - 이 생선은 도미? 빙어?\n",
    "# 1. 훈련데이터를 산점도로 시각화하여 대략 위의 생선 위치를 눈으로 확인\n",
    "# 2. 모델 객체 생성 > 3.훈련데이터 학습 > 4. 정확도 확인 > 5. 위의 생선 예측\n",
    "# 6. 산점도 그래프 시각화\n",
    "#  [훈련데이터에 대한 산점도와 위 생선 한개 위치 까지 포함해서]"
   ]
  },
  {
   "cell_type": "code",
   "execution_count": 31,
   "id": "05a13ccb-538d-47d9-8904-81c5f6953deb",
   "metadata": {},
   "outputs": [
    {
     "data": {
      "text/plain": [
       "array([[ 25, 150]])"
      ]
     },
     "execution_count": 31,
     "metadata": {},
     "output_type": "execute_result"
    }
   ],
   "source": [
    "k1 = [25]\n",
    "k2 = [150]\n",
    "### numpy가 제공하는 함수를 이용한 2차원 데이터 생성하기\n",
    "# 샘플\n",
    "k = np.column_stack((k1,k2))\n",
    "k"
   ]
  },
  {
   "cell_type": "code",
   "execution_count": 38,
   "id": "a0533770",
   "metadata": {},
   "outputs": [
    {
     "data": {
      "text/plain": [
       "1.0"
      ]
     },
     "execution_count": 38,
     "metadata": {},
     "output_type": "execute_result"
    }
   ],
   "source": [
    "kn = KNeighborsClassifier()\n",
    "train_input, test_input, train_target, test_target = \\\n",
    "train_test_split(fish_data, fish_target, test_size=0.25, random_state=42)\n",
    "kn.fit(train_input, train_target)\n",
    "kn.score(test_input, test_target)"
   ]
  },
  {
   "cell_type": "code",
   "execution_count": 40,
   "id": "2e94e027-67c0-4eae-a62f-3e225d7b30ce",
   "metadata": {},
   "outputs": [
    {
     "data": {
      "text/plain": [
       "array([0.])"
      ]
     },
     "execution_count": 40,
     "metadata": {},
     "output_type": "execute_result"
    }
   ],
   "source": [
    "pred = kn.predict(k)\n",
    "pred"
   ]
  },
  {
   "cell_type": "code",
   "execution_count": 36,
   "id": "32270238",
   "metadata": {
    "tags": []
   },
   "outputs": [
    {
     "data": {
      "image/png": "[encoded data removed]",
      "text/plain": [
       "<Figure size 432x288 with 1 Axes>"
      ]
     },
     "metadata": {
      "needs_background": "light"
     },
     "output_type": "display_data"
    }
   ],
   "source": [
    "plt.scatter(train_input[:, 0], train_input[:, 1])\n",
    "\n",
    "plt.scatter(test_input[:, 0], test_input[:, 1])\n",
    "plt.scatter(k1,k2, marker=\"^\",color='red')\n",
    "plt.xlabel('length')\n",
    "plt.ylabel('weight')\n",
    "\n",
    "plt.show()"
   ]
  },
  {
   "cell_type": "code",
   "execution_count": 41,
   "id": "1fb86171",
   "metadata": {},
   "outputs": [],
   "source": [
    "### 클래스 객체 생성\n",
    "from sklearn.neighbors import KNeighborsClassifier"
   ]
  },
  {
   "cell_type": "code",
   "execution_count": 42,
   "id": "979954c4",
   "metadata": {},
   "outputs": [],
   "source": [
    "kn = KNeighborsClassifier()"
   ]
  },
  {
   "cell_type": "code",
   "execution_count": 43,
   "id": "c06c8da7",
   "metadata": {},
   "outputs": [
    {
     "data": {
      "text/html": [
       "<style>#sk-container-id-2 {color: black;background-color: white;}#sk-container-id-2 pre{padding: 0;}#sk-container-id-2 div.sk-toggleable {background-color: white;}#sk-container-id-2 label.sk-toggleable__label {cursor: pointer;display: block;width: 100%;margin-bottom: 0;padding: 0.3em;box-sizing: border-box;text-align: center;}#sk-container-id-2 label.sk-toggleable__label-arrow:before {content: \"▸\";float: left;margin-right: 0.25em;color: #696969;}#sk-container-id-2 label.sk-toggleable__label-arrow:hover:before {color: black;}#sk-container-id-2 div.sk-estimator:hover label.sk-toggleable__label-arrow:before {color: black;}#sk-container-id-2 div.sk-toggleable__content {max-height: 0;max-width: 0;overflow: hidden;text-align: left;background-color: #f0f8ff;}#sk-container-id-2 div.sk-toggleable__content pre {margin: 0.2em;color: black;border-radius: 0.25em;background-color: #f0f8ff;}#sk-container-id-2 input.sk-toggleable__control:checked~div.sk-toggleable__content {max-height: 200px;max-width: 100%;overflow: auto;}#sk-container-id-2 input.sk-toggleable__control:checked~label.sk-toggleable__label-arrow:before {content: \"▾\";}#sk-container-id-2 div.sk-estimator input.sk-toggleable__control:checked~label.sk-toggleable__label {background-color: #d4ebff;}#sk-container-id-2 div.sk-label input.sk-toggleable__control:checked~label.sk-toggleable__label {background-color: #d4ebff;}#sk-container-id-2 input.sk-hidden--visually {border: 0;clip: rect(1px 1px 1px 1px);clip: rect(1px, 1px, 1px, 1px);height: 1px;margin: -1px;overflow: hidden;padding: 0;position: absolute;width: 1px;}#sk-container-id-2 div.sk-estimator {font-family: monospace;background-color: #f0f8ff;border: 1px dotted black;border-radius: 0.25em;box-sizing: border-box;margin-bottom: 0.5em;}#sk-container-id-2 div.sk-estimator:hover {background-color: #d4ebff;}#sk-container-id-2 div.sk-parallel-item::after {content: \"\";width: 100%;border-bottom: 1px solid gray;flex-grow: 1;}#sk-container-id-2 div.sk-label:hover label.sk-toggleable__label {background-color: #d4ebff;}#sk-container-id-2 div.sk-serial::before {content: \"\";position: absolute;border-left: 1px solid gray;box-sizing: border-box;top: 0;bottom: 0;left: 50%;z-index: 0;}#sk-container-id-2 div.sk-serial {display: flex;flex-direction: column;align-items: center;background-color: white;padding-right: 0.2em;padding-left: 0.2em;position: relative;}#sk-container-id-2 div.sk-item {position: relative;z-index: 1;}#sk-container-id-2 div.sk-parallel {display: flex;align-items: stretch;justify-content: center;background-color: white;position: relative;}#sk-container-id-2 div.sk-item::before, #sk-container-id-2 div.sk-parallel-item::before {content: \"\";position: absolute;border-left: 1px solid gray;box-sizing: border-box;top: 0;bottom: 0;left: 50%;z-index: -1;}#sk-container-id-2 div.sk-parallel-item {display: flex;flex-direction: column;z-index: 1;position: relative;background-color: white;}#sk-container-id-2 div.sk-parallel-item:first-child::after {align-self: flex-end;width: 50%;}#sk-container-id-2 div.sk-parallel-item:last-child::after {align-self: flex-start;width: 50%;}#sk-container-id-2 div.sk-parallel-item:only-child::after {width: 0;}#sk-container-id-2 div.sk-dashed-wrapped {border: 1px dashed gray;margin: 0 0.4em 0.5em 0.4em;box-sizing: border-box;padding-bottom: 0.4em;background-color: white;}#sk-container-id-2 div.sk-label label {font-family: monospace;font-weight: bold;display: inline-block;line-height: 1.2em;}#sk-container-id-2 div.sk-label-container {text-align: center;}#sk-container-id-2 div.sk-container {/* jupyter's `normalize.less` sets `[hidden] { display: none; }` but bootstrap.min.css set `[hidden] { display: none !important; }` so we also need the `!important` here to be able to override the default hidden behavior on the sphinx rendered scikit-learn.org. See: https://github.com/scikit-learn/scikit-learn/issues/21755 */display: inline-block !important;position: relative;}#sk-container-id-2 div.sk-text-repr-fallback {display: none;}</style><div id=\"sk-container-id-2\" class=\"sk-top-container\"><div class=\"sk-text-repr-fallback\"><pre>KNeighborsClassifier()</pre><b>In a Jupyter environment, please rerun this cell to show the HTML representation or trust the notebook. <br />On GitHub, the HTML representation is unable to render, please try loading this page with nbviewer.org.</b></div><div class=\"sk-container\" hidden><div class=\"sk-item\"><div class=\"sk-estimator sk-toggleable\"><input class=\"sk-toggleable__control sk-hidden--visually\" id=\"sk-estimator-id-2\" type=\"checkbox\" checked><label for=\"sk-estimator-id-2\" class=\"sk-toggleable__label sk-toggleable__label-arrow\">KNeighborsClassifier</label><div class=\"sk-toggleable__content\"><pre>KNeighborsClassifier()</pre></div></div></div></div></div>"
      ],
      "text/plain": [
       "KNeighborsClassifier()"
      ]
     },
     "execution_count": 43,
     "metadata": {},
     "output_type": "execute_result"
    }
   ],
   "source": [
    "kn.fit(train_input, train_target)"
   ]
  },
  {
   "cell_type": "code",
   "execution_count": 44,
   "id": "b3aa3d18",
   "metadata": {},
   "outputs": [
    {
     "data": {
      "text/plain": [
       "1.0"
      ]
     },
     "execution_count": 44,
     "metadata": {},
     "output_type": "execute_result"
    }
   ],
   "source": [
    "kn.score(test_input,test_target)"
   ]
  },
  {
   "cell_type": "code",
   "execution_count": 46,
   "id": "ccb8237d",
   "metadata": {},
   "outputs": [
    {
     "data": {
      "text/plain": [
       "array([0.])"
      ]
     },
     "execution_count": 46,
     "metadata": {},
     "output_type": "execute_result"
    }
   ],
   "source": [
    "kn.predict([[25,150]])"
   ]
  },
  {
   "cell_type": "code",
   "execution_count": 48,
   "id": "8ab93160",
   "metadata": {},
   "outputs": [
    {
     "name": "stdout",
     "output_type": "stream",
     "text": [
      "[[ 92.00086956 130.48375378 138.32150953 140.00603558 140.62090883]]\n",
      "[[12 29  5 19  4]]\n"
     ]
    }
   ],
   "source": [
    "### 사용된 이웃값 확인하기\n",
    "# - 모델 생성시 기본 5개의 이웃으로 지정되어 훈련이 됩니다.\n",
    "# - 이웃 5개의 값을 추출하기 위해서는 kneightbors() 함수를 사용합니다.\n",
    "# - kneighbors()함수의 반환값은 2개..\n",
    "# - 첫번째 값은 : 특정 생선과 이웃과의 거리(오츰차순으로 나옴)\n",
    "# - 두번재 값은 : 이웃 5개의 실제 위치(인덱스번호)\n",
    "distances, indexes = kn.kneighbors([[25,150]])\n",
    "print(distances)\n",
    "print(indexes)"
   ]
  },
  {
   "cell_type": "code",
   "execution_count": 53,
   "id": "97e81e7e-f829-4291-91f9-39274e065f3d",
   "metadata": {},
   "outputs": [
    {
     "data": {
      "image/png": "[encoded data removed]",
      "text/plain": [
       "<Figure size 432x288 with 1 Axes>"
      ]
     },
     "metadata": {
      "needs_background": "light"
     },
     "output_type": "display_data"
    }
   ],
   "source": [
    "plt.scatter(train_input[:, 0], train_input[:, 1])\n",
    "plt.scatter(25,150, marker=\"^\",color='red')\n",
    "plt.scatter(train_input[indexes, 0], train_input[indexes, 1], marker = \"D\")\n",
    "\n",
    "plt.xlabel('length')\n",
    "plt.ylabel('weight')\n",
    "\n",
    "plt.show()"
   ]
  },
  {
   "cell_type": "code",
   "execution_count": 54,
   "id": "1d40b704-68c3-4bf4-8c4e-a87ca4ca863c",
   "metadata": {},
   "outputs": [],
   "source": [
    "### [해석]\n",
    "# - x축의 범위와 y축의 범위가 너무 큰 차이로 나타난 현상\n",
    "# - x축의 범위 : 10~40\n",
    "# - y축의 범위 : 0~1000\n",
    "# - 두 축의 범위 값이 너무 크게 차이가 나서 발생\n",
    "# - y축으로 조금만 올라가도 거리는 크게 벌어집니다\n",
    "# - 도미들의 위치가 위로 조금만 올라가도 거리는 크게 벌어집니다\n",
    "\n",
    "# - 이런 현상을 '스케일이 다르다'라고 해석합니다\n",
    "# - 분석 시 매우 흔하게 발생하는 현상으로 전처리를 꼭 해주어야 합니다\n",
    "# - 전처리 방법 : x축과 y축의 값을 동일하게 맞춰주어야 합니다"
   ]
  },
  {
   "cell_type": "code",
   "execution_count": 55,
   "id": "5a783ca5-6a1a-48ca-8f88-c44cb193ed50",
   "metadata": {},
   "outputs": [
    {
     "data": {
      "image/png": "[encoded data removed]",
      "text/plain": [
       "<Figure size 432x288 with 1 Axes>"
      ]
     },
     "metadata": {
      "needs_background": "light"
     },
     "output_type": "display_data"
    }
   ],
   "source": [
    "# 산점도 scatter()\n",
    "plt.scatter(train_input[:, 0], train_input[:, 1])\n",
    "plt.scatter(25,150, marker=\"^\",color='red')\n",
    "plt.scatter(train_input[indexes, 0], train_input[indexes, 1], marker = \"D\")\n",
    "\n",
    "plt.xlim(0,1000)\n",
    "plt.xlabel('length')\n",
    "plt.ylabel('weight')\n",
    "\n",
    "plt.show()"
   ]
  },
  {
   "cell_type": "markdown",
   "id": "d6a7418a-d2fa-49ac-948e-0d668637b459",
   "metadata": {},
   "source": [
    "## 스케일 동일하게 맞추기 (전처리)\n",
    "##### - 스케일을 맞추는 전처리 방법으로는 \"표준점수(standard score)\" 를 사용\n",
    "##### - 표준점수 : 각 데이터가 원점(0)에서 몇 표준편차 만큼 떨어져 있는지를 나타내는 값\n",
    "##### - 표준점수 계산공식\n",
    "##### = (각 데이터값 - 데이터세트 전체평균값) / 데이터세트 전체 표준편차값\n",
    "##### - 평균, 표준편차 계산은 모두 넘파이(Numpy)에서 제공하는 함수를 사용합니다."
   ]
  },
  {
   "cell_type": "code",
   "execution_count": 56,
   "id": "872a2854-d9ff-47d7-9826-632e21e10d98",
   "metadata": {},
   "outputs": [
    {
     "data": {
      "text/plain": [
       "array([ 26.175     , 418.08888889])"
      ]
     },
     "execution_count": 56,
     "metadata": {},
     "output_type": "execute_result"
    }
   ],
   "source": [
    "# 훈련데이터 전체 평균 구하기\n",
    "mean = np.mean(train_input, axis = 0)\n",
    "mean"
   ]
  },
  {
   "cell_type": "code",
   "execution_count": 57,
   "id": "1772a5d9-77c4-4589-8a54-7489b15b91f0",
   "metadata": {},
   "outputs": [
    {
     "data": {
      "text/plain": [
       "array([ 10.21073441, 321.67847023])"
      ]
     },
     "execution_count": 57,
     "metadata": {},
     "output_type": "execute_result"
    }
   ],
   "source": [
    "# 훈련데이터 전체 표준편차 구하기\n",
    "std = np.std(train_input, axis = 0)\n",
    "std"
   ]
  },
  {
   "cell_type": "code",
   "execution_count": 58,
   "id": "4bcd082e-4211-4cab-a0d7-f200fc8ed05a",
   "metadata": {
    "collapsed": true,
    "jupyter": {
     "outputs_hidden": true
    },
    "tags": []
   },
   "outputs": [
    {
     "data": {
      "text/plain": [
       "array([[ 0.37460577,  0.09920189],\n",
       "       [ 0.27666962, -0.17125451],\n",
       "       [ 0.34522492,  0.2546366 ],\n",
       "       [-1.45680021, -1.27266487],\n",
       "       [-1.40783213, -1.26862357],\n",
       "       [-1.29030875, -1.26178444],\n",
       "       [ 0.57047806,  0.56550602],\n",
       "       [ 0.44316107,  0.2546366 ],\n",
       "       [ 0.66841421,  0.87637544],\n",
       "       [ 0.86428651,  0.87637544],\n",
       "       [ 1.4519034 ,  1.73126635],\n",
       "       [ 1.20706303,  1.56028817],\n",
       "       [-0.07590051, -0.54740651],\n",
       "       [-1.3882449 , -1.26924531],\n",
       "       [ 1.30499918,  1.57583164],\n",
       "       [ 0.34522492,  0.09920189],\n",
       "       [ 1.06015881,  1.80898371],\n",
       "       [ 0.47254192,  0.2546366 ],\n",
       "       [-1.53514913, -1.2763953 ],\n",
       "       [ 0.01224202, -0.39818919],\n",
       "       [ 0.76635036,  0.82974503],\n",
       "       [ 0.03182925, -0.24275448],\n",
       "       [-1.52535551, -1.27794965],\n",
       "       [-1.60370443, -1.27888226],\n",
       "       [ 0.86428651,  0.81420156],\n",
       "       [-1.46659382, -1.26924531],\n",
       "       [ 0.47254192,  0.17691924],\n",
       "       [ 0.81531843,  0.6276799 ],\n",
       "       [ 0.71738229,  0.59659296],\n",
       "       [-1.09443646, -1.2378475 ],\n",
       "       [ 0.76635036,  0.48778866],\n",
       "       [ 0.37460577, -0.08731977],\n",
       "       [-1.40783213, -1.26893444],\n",
       "       [ 0.57047806,  0.56550602],\n",
       "       [ 0.96222266,  1.34267957],\n",
       "       [-1.48618105, -1.26955618]])"
      ]
     },
     "execution_count": 58,
     "metadata": {},
     "output_type": "execute_result"
    }
   ],
   "source": [
    "# 표준점수 데이터 계산하여 훈련데이터 재생성하기\n",
    "train_scaled = (train_input - mean) / std\n",
    "train_scaled"
   ]
  },
  {
   "cell_type": "markdown",
   "id": "a1bf99a4-90d0-40d2-a9f1-dcfe15c6de0c",
   "metadata": {},
   "source": [
    "### 스케일로 훈련데이터 재생성 후에는 훈련모델도 재생성"
   ]
  },
  {
   "cell_type": "code",
   "execution_count": 69,
   "id": "0e80b742-c30d-4758-a496-7debf211ce08",
   "metadata": {},
   "outputs": [
    {
     "data": {
      "image/png": "[encoded data removed]",
      "text/plain": [
       "<Figure size 432x288 with 1 Axes>"
      ]
     },
     "metadata": {
      "needs_background": "light"
     },
     "output_type": "display_data"
    }
   ],
   "source": [
    "# 산점도 scatter()\n",
    "plt.scatter(train_scaled[:,0], train_scaled[:,1])\n",
    "plt.scatter(25,150, marker=\"^\",color='red')\n",
    "\n",
    "plt.xlabel('length')\n",
    "plt.ylabel('weight')\n",
    "plt.show()\n",
    "\n",
    "### (해석)\n",
    "# - 훈련데이터는 스케일을 맞추었지만,\n",
    "# - 예측데이터는 스케일을 맞추지 못해서 발생한 현상\n",
    "# - 예측데이터 한개도 스케일 작업을 해줘야 합니다\n",
    "# -- 한개의 예측데이터 스케일 작업은\n",
    "# -- 훈련데이터를 사용하여 계산된 평균과 표준편차 값을 사용해야 합니다."
   ]
  },
  {
   "cell_type": "code",
   "execution_count": 68,
   "id": "7be3c024-534e-4753-972e-de06d132ff4d",
   "metadata": {},
   "outputs": [
    {
     "data": {
      "text/plain": [
       "array([-0.11507497, -0.83340638])"
      ]
     },
     "execution_count": 68,
     "metadata": {},
     "output_type": "execute_result"
    }
   ],
   "source": [
    "# 예측 데이터 스케일 작업하기\n",
    "new = ([25,150] - mean) / std\n",
    "new"
   ]
  },
  {
   "cell_type": "code",
   "execution_count": 71,
   "id": "e386b293-e8cc-4fcb-9b6f-23a95fe3baf5",
   "metadata": {},
   "outputs": [
    {
     "data": {
      "image/png": "[encoded data removed]",
      "text/plain": [
       "<Figure size 432x288 with 1 Axes>"
      ]
     },
     "metadata": {
      "needs_background": "light"
     },
     "output_type": "display_data"
    }
   ],
   "source": [
    "# 산점도 scatter()\n",
    "plt.scatter(train_scaled[:,0], train_scaled[:,1])\n",
    "plt.scatter(new[0],new[1], marker=\"^\",color='red')\n",
    "plt.scatter(train_scaled[indexes, 0], train_scaled[indexes, 1], marker = \"D\")\n",
    "\n",
    "plt.xlabel('length')\n",
    "plt.ylabel('weight')\n",
    "plt.show()\n",
    "\n",
    "### (해석)\n",
    "# - 훈련데이터는 스케일을 맞추었지만,\n",
    "# - 예측데이터는 스케일을 맞추지 못해서 발생한 현상\n",
    "# - 예측데이터 한개도 스케일 작업을 해줘야 합니다\n",
    "# -- 한개의 예측데이터 스케일 작업은\n",
    "# -- 훈련데이터를 사용하여 계산된 평균과 표준편차 값을 사용해야 합니다."
   ]
  },
  {
   "cell_type": "markdown",
   "id": "f46ffc14-abbd-488b-a78d-59821d1c61e5",
   "metadata": {},
   "source": [
    "##### [문제]\n",
    "##### -직접 훈련>검증>테스트>산점도 그리기(이웃까지 모두 포함)"
   ]
  },
  {
   "cell_type": "code",
   "execution_count": 73,
   "id": "2b701399-3ba6-4afe-8968-94cf145fecaa",
   "metadata": {},
   "outputs": [
    {
     "data": {
      "text/html": [
       "<style>#sk-container-id-3 {color: black;background-color: white;}#sk-container-id-3 pre{padding: 0;}#sk-container-id-3 div.sk-toggleable {background-color: white;}#sk-container-id-3 label.sk-toggleable__label {cursor: pointer;display: block;width: 100%;margin-bottom: 0;padding: 0.3em;box-sizing: border-box;text-align: center;}#sk-container-id-3 label.sk-toggleable__label-arrow:before {content: \"▸\";float: left;margin-right: 0.25em;color: #696969;}#sk-container-id-3 label.sk-toggleable__label-arrow:hover:before {color: black;}#sk-container-id-3 div.sk-estimator:hover label.sk-toggleable__label-arrow:before {color: black;}#sk-container-id-3 div.sk-toggleable__content {max-height: 0;max-width: 0;overflow: hidden;text-align: left;background-color: #f0f8ff;}#sk-container-id-3 div.sk-toggleable__content pre {margin: 0.2em;color: black;border-radius: 0.25em;background-color: #f0f8ff;}#sk-container-id-3 input.sk-toggleable__control:checked~div.sk-toggleable__content {max-height: 200px;max-width: 100%;overflow: auto;}#sk-container-id-3 input.sk-toggleable__control:checked~label.sk-toggleable__label-arrow:before {content: \"▾\";}#sk-container-id-3 div.sk-estimator input.sk-toggleable__control:checked~label.sk-toggleable__label {background-color: #d4ebff;}#sk-container-id-3 div.sk-label input.sk-toggleable__control:checked~label.sk-toggleable__label {background-color: #d4ebff;}#sk-container-id-3 input.sk-hidden--visually {border: 0;clip: rect(1px 1px 1px 1px);clip: rect(1px, 1px, 1px, 1px);height: 1px;margin: -1px;overflow: hidden;padding: 0;position: absolute;width: 1px;}#sk-container-id-3 div.sk-estimator {font-family: monospace;background-color: #f0f8ff;border: 1px dotted black;border-radius: 0.25em;box-sizing: border-box;margin-bottom: 0.5em;}#sk-container-id-3 div.sk-estimator:hover {background-color: #d4ebff;}#sk-container-id-3 div.sk-parallel-item::after {content: \"\";width: 100%;border-bottom: 1px solid gray;flex-grow: 1;}#sk-container-id-3 div.sk-label:hover label.sk-toggleable__label {background-color: #d4ebff;}#sk-container-id-3 div.sk-serial::before {content: \"\";position: absolute;border-left: 1px solid gray;box-sizing: border-box;top: 0;bottom: 0;left: 50%;z-index: 0;}#sk-container-id-3 div.sk-serial {display: flex;flex-direction: column;align-items: center;background-color: white;padding-right: 0.2em;padding-left: 0.2em;position: relative;}#sk-container-id-3 div.sk-item {position: relative;z-index: 1;}#sk-container-id-3 div.sk-parallel {display: flex;align-items: stretch;justify-content: center;background-color: white;position: relative;}#sk-container-id-3 div.sk-item::before, #sk-container-id-3 div.sk-parallel-item::before {content: \"\";position: absolute;border-left: 1px solid gray;box-sizing: border-box;top: 0;bottom: 0;left: 50%;z-index: -1;}#sk-container-id-3 div.sk-parallel-item {display: flex;flex-direction: column;z-index: 1;position: relative;background-color: white;}#sk-container-id-3 div.sk-parallel-item:first-child::after {align-self: flex-end;width: 50%;}#sk-container-id-3 div.sk-parallel-item:last-child::after {align-self: flex-start;width: 50%;}#sk-container-id-3 div.sk-parallel-item:only-child::after {width: 0;}#sk-container-id-3 div.sk-dashed-wrapped {border: 1px dashed gray;margin: 0 0.4em 0.5em 0.4em;box-sizing: border-box;padding-bottom: 0.4em;background-color: white;}#sk-container-id-3 div.sk-label label {font-family: monospace;font-weight: bold;display: inline-block;line-height: 1.2em;}#sk-container-id-3 div.sk-label-container {text-align: center;}#sk-container-id-3 div.sk-container {/* jupyter's `normalize.less` sets `[hidden] { display: none; }` but bootstrap.min.css set `[hidden] { display: none !important; }` so we also need the `!important` here to be able to override the default hidden behavior on the sphinx rendered scikit-learn.org. See: https://github.com/scikit-learn/scikit-learn/issues/21755 */display: inline-block !important;position: relative;}#sk-container-id-3 div.sk-text-repr-fallback {display: none;}</style><div id=\"sk-container-id-3\" class=\"sk-top-container\"><div class=\"sk-text-repr-fallback\"><pre>KNeighborsClassifier()</pre><b>In a Jupyter environment, please rerun this cell to show the HTML representation or trust the notebook. <br />On GitHub, the HTML representation is unable to render, please try loading this page with nbviewer.org.</b></div><div class=\"sk-container\" hidden><div class=\"sk-item\"><div class=\"sk-estimator sk-toggleable\"><input class=\"sk-toggleable__control sk-hidden--visually\" id=\"sk-estimator-id-3\" type=\"checkbox\" checked><label for=\"sk-estimator-id-3\" class=\"sk-toggleable__label sk-toggleable__label-arrow\">KNeighborsClassifier</label><div class=\"sk-toggleable__content\"><pre>KNeighborsClassifier()</pre></div></div></div></div></div>"
      ],
      "text/plain": [
       "KNeighborsClassifier()"
      ]
     },
     "execution_count": 73,
     "metadata": {},
     "output_type": "execute_result"
    }
   ],
   "source": [
    "kn.fit(train_scaled, train_target)"
   ]
  },
  {
   "cell_type": "code",
   "execution_count": 75,
   "id": "dffe00df-33b2-4ffd-aa42-c1086262de7d",
   "metadata": {},
   "outputs": [
    {
     "data": {
      "text/plain": [
       "1.0"
      ]
     },
     "execution_count": 75,
     "metadata": {},
     "output_type": "execute_result"
    }
   ],
   "source": [
    "mean = np.mean(test_input, axis = 0)\n",
    "std = np.std(test_input, axis = 0)\n",
    "# 표준점수 데이터 계산하여 훈련데이터 재생성하기\n",
    "test_scaled = (test_input - mean) / std\n",
    "test_scaled\n",
    "kn.score(test_scaled, test_target)"
   ]
  },
  {
   "cell_type": "code",
   "execution_count": 85,
   "id": "3087143d-a9aa-4d0d-a53c-dfc92f0c5297",
   "metadata": {},
   "outputs": [
    {
     "name": "stdout",
     "output_type": "stream",
     "text": [
      "[[0.29433276 0.33941725 0.38047704 0.38599671 0.47729719]\n",
      " [0.34510166 0.38933968 0.39483337 0.42839921 0.44297698]\n",
      " [0.26713927 0.27637587 0.27720397 0.2974973  0.30557229]\n",
      " [0.36023052 0.40639406 0.41214581 0.44632464 0.46123092]\n",
      " [0.20191363 0.20191363 0.31240328 0.32033658 0.32842369]\n",
      " [0.03603772 0.12159673 0.12159673 0.13276489 0.14718217]\n",
      " [0.06329145 0.06329145 0.1422395  0.23439288 0.23660663]\n",
      " [0.07870862 0.07870862 0.14647927 0.23715325 0.24401251]\n",
      " [0.02186973 0.32998514 0.41959442 0.46523878 0.48843783]\n",
      " [0.15784713 0.16454532 0.17374261 0.2149544  0.2149544 ]\n",
      " [0.13375015 0.1668579  0.20428639 0.22469107 0.25966836]\n",
      " [0.08855632 0.14140119 0.27637979 0.34352913 0.46464974]\n",
      " [0.21797172 0.24693112 0.25241049 0.45847763 0.4898657 ]]\n",
      "[[19 12  1 21 31]\n",
      " [23 18 22 35 25]\n",
      " [23 18 22 35 25]\n",
      " [23 18 22 35 25]\n",
      " [ 6 33  2  7 17]\n",
      " [28  6 33 27 30]\n",
      " [ 6 33 28 30 27]\n",
      " [ 6 33 28 27 30]\n",
      " [34 11 14 16  9]\n",
      " [ 7 17  2 33  6]\n",
      " [ 1 31 15  0 21]\n",
      " [21 19 12  1 31]\n",
      " [11 34 14 10 16]]\n"
     ]
    }
   ],
   "source": [
    "distances, indexes = kn.kneighbors(test_scaled)\n",
    "print(distances)\n",
    "print(indexes)"
   ]
  },
  {
   "cell_type": "code",
   "execution_count": 90,
   "id": "432c0f96-6ad0-4f74-92e3-49badc46e9a5",
   "metadata": {},
   "outputs": [
    {
     "data": {
      "image/png": "[encoded data removed]",
      "text/plain": [
       "<Figure size 432x288 with 1 Axes>"
      ]
     },
     "metadata": {
      "needs_background": "light"
     },
     "output_type": "display_data"
    }
   ],
   "source": [
    "# 산점도 scatter()\n",
    "plt.scatter(train_scaled[:,0], train_scaled[:,1])\n",
    "plt.scatter(new[0],new[1], marker=\"^\",color='red')\n",
    "plt.scatter(train_scaled[indexes, 0], train_scaled[indexes, 1], marker = \"D\")\n",
    "\n",
    "plt.xlabel('length')\n",
    "plt.ylabel('weight')\n",
    "plt.show()\n",
    "\n",
    "### (해석)\n",
    "# - 훈련데이터는 스케일을 맞추었지만,\n",
    "# - 예측데이터는 스케일을 맞추지 못해서 발생한 현상\n",
    "# - 예측데이터 한개도 스케일 작업을 해줘야 합니다\n",
    "# -- 한개의 예측데이터 스케일 작업은\n",
    "# -- 훈련데이터를 사용하여 계산된 평균과 표준편차 값을 사용해야 합니다."
   ]
  },
  {
   "cell_type": "code",
   "execution_count": null,
   "id": "1d1daf4d-10f1-4007-993d-e4e8e9eb9d21",
   "metadata": {},
   "outputs": [],
   "source": []
  }
 ],
 "metadata": {
  "kernelspec": {
   "display_name": "django_kernel",
   "language": "python",
   "name": "django"
  },
  "language_info": {
   "codemirror_mode": {
    "name": "ipython",
    "version": 3
   },
   "file_extension": ".py",
   "mimetype": "text/x-python",
   "name": "python",
   "nbconvert_exporter": "python",
   "pygments_lexer": "ipython3",
   "version": "3.10.5"
  }
 },
 "nbformat": 4,
 "nbformat_minor": 5
}
