{
 "cells": [
  {
   "cell_type": "markdown",
   "id": "125a5028-81b4-4404-9a0a-f9ae4d601713",
   "metadata": {},
   "source": [
    "## k-최근접 이웃 회귀모델\n",
    "##### - 분류 : 범주형 데이터를 기준으로 분류하는 방식\n",
    "##### - 회귀 : 연속형 데이터(숫자)를 예측하는 방식\n",
    "##### - 휘귀는 정해진 범주가 없으며 , 임의의 수치값을 출력합니다\n",
    "#####\n",
    "## k-최근접 이웃 알고리즘은 회귀에도 작동을 합니다.\n",
    "##### - 작동방식..\n",
    "##### - 분류와 유사, 예측하려는 데이터에 가장 가까운 이웃 갯수 선택\n",
    "##### - 종석변수 target데이터가 연속형 데이터를 사용하여 임의 수치값 예측\n",
    "#####\n",
    "## 예측값 결정 방식\n",
    "##### : 최근접 이웃의 갯수가 정해지면 ,이웃한 숫자값들의 \"평균\"을 계산하여\n",
    "##### : 평균과 같거나 평균에 가장 근사한 값의 이웃 데이터가 예측값으로 결정됨\n",
    "##### (일반 책에서 나오는 개념으로, 실제는 이웃데이터의 평균값이 나온다고 보시면 됩니다.)\n",
    "##### "
   ]
  },
  {
   "cell_type": "code",
   "execution_count": 3,
   "id": "1a63fc71-3cae-492a-b30a-cf3be5cc60ae",
   "metadata": {},
   "outputs": [],
   "source": [
    "import pandas as pd\n",
    "import numpy as np\n",
    "perch_length= np.array(\n",
    "    [8.4, 13.7, 15.0, 16.2, 17.4, 18.0, 18.7, 19.0, 19.6, 20.0, \n",
    "     21.0, 21.0, 21.0, 21.3, 22.0, 22.0, 22.0, 22.0, 22.0, 22.5, \n",
    "     22.5, 22.7, 23.0, 23.5, 24.0, 24.0, 24.6, 25.0, 25.6, 26.5, \n",
    "     27.3, 27.5, 27.5, 27.5, 28.0, 28.7, 30.0, 32.8, 34.5, 35.0, \n",
    "     36.5, 36.0, 37.0, 37.0, 39.0, 39.0, 39.0, 40.0, 40.0, 40.0, \n",
    "     40.0, 42.0, 43.0, 43.0, 43.5, 44.0]\n",
    "     )\n",
    "perch_weight = np.array(\n",
    "    [5.9, 32.0, 40.0, 51.5, 70.0, 100.0, 78.0, 80.0, 85.0, 85.0, \n",
    "     110.0, 115.0, 125.0, 130.0, 120.0, 120.0, 130.0, 135.0, 110.0, \n",
    "     130.0, 150.0, 145.0, 150.0, 170.0, 225.0, 145.0, 188.0, 180.0, \n",
    "     197.0, 218.0, 300.0, 260.0, 265.0, 250.0, 250.0, 300.0, 320.0, \n",
    "     514.0, 556.0, 840.0, 685.0, 700.0, 700.0, 690.0, 900.0, 650.0, \n",
    "     820.0, 850.0, 900.0, 1015.0, 820.0, 1100.0, 1000.0, 1100.0, \n",
    "     1000.0, 1000.0]\n",
    "     )"
   ]
  },
  {
   "cell_type": "code",
   "execution_count": 4,
   "id": "9796e1f3-7dc7-4bcb-85be-6496a4912eaf",
   "metadata": {},
   "outputs": [
    {
     "name": "stdout",
     "output_type": "stream",
     "text": [
      "56 56\n",
      "[ 8.4 13.7 15.  16.2 17.4 18.  18.7 19.  19.6 20.  21.  21.  21.  21.3\n",
      " 22.  22.  22.  22.  22.  22.5 22.5 22.7 23.  23.5 24.  24.  24.6 25.\n",
      " 25.6 26.5 27.3 27.5 27.5 27.5 28.  28.7 30.  32.8 34.5 35.  36.5 36.\n",
      " 37.  37.  39.  39.  39.  40.  40.  40.  40.  42.  43.  43.  43.5 44. ]\n",
      "[   5.9   32.    40.    51.5   70.   100.    78.    80.    85.    85.\n",
      "  110.   115.   125.   130.   120.   120.   130.   135.   110.   130.\n",
      "  150.   145.   150.   170.   225.   145.   188.   180.   197.   218.\n",
      "  300.   260.   265.   250.   250.   300.   320.   514.   556.   840.\n",
      "  685.   700.   700.   690.   900.   650.   820.   850.   900.  1015.\n",
      "  820.  1100.  1000.  1100.  1000.  1000. ]\n"
     ]
    }
   ],
   "source": [
    "print(len(perch_length),len(perch_weight))\n",
    "print(perch_length)\n",
    "print(perch_weight)\n",
    "\n",
    "# length (길이) : 특성 데이터(훈련데이터, train_data)\n",
    "# weight (무게 ) : 특성 데이터 (훈련데이터, train_data)"
   ]
  },
  {
   "cell_type": "code",
   "execution_count": 8,
   "id": "35e75ba7-e46f-40a1-8c3d-c8ef93cbc5c9",
   "metadata": {},
   "outputs": [
    {
     "data": {
      "image/png": "[encoded data removed]",
      "text/plain": [
       "<Figure size 432x288 with 1 Axes>"
      ]
     },
     "metadata": {
      "needs_background": "light"
     },
     "output_type": "display_data"
    }
   ],
   "source": [
    "### 시각화를 통해 데이터의 형태 확인하기...\n",
    "# - 산점도 시각화\n",
    "import matplotlib.pyplot as plt\n",
    "plt.scatter(perch_length,perch_weight)\n",
    "plt.xlabel('length')\n",
    "plt.ylabel('weight')\n",
    "plt.show()\n",
    "\n",
    "## (해석)\n",
    "## x^2의 곡선그래프 형태의 비례관계\n",
    "# x축 length(길이)가 길어지게 되면\n",
    "# y축 weight(무게)가 커지는 현상을 보이고 있음\n",
    "# 깊이는 무게와 연관성이 있으며\n",
    "# 분포 형태는 선형에 가까우나, 조금 라운드가 있음\n",
    "# 그러나 선형적 모델을 이용하여 분석을 실시 한 후\n",
    "# 향후, 다항회귀모델을 통해 선형적 모델과 다항회귀모델의 검증결과를 통해\n",
    "# 선택하고자 함."
   ]
  },
  {
   "cell_type": "markdown",
   "id": "21685ee1-ba80-4ec0-b9e8-dc6ffddb7596",
   "metadata": {},
   "source": [
    "## 훈련데이터와 테스트데이터 분류하기"
   ]
  },
  {
   "cell_type": "code",
   "execution_count": 15,
   "id": "943ad37e-33e8-473c-a2ca-ae639546fb2a",
   "metadata": {},
   "outputs": [],
   "source": [
    "# 함수 사용을 위해 불러오기\n",
    "from sklearn.model_selection import train_test_split\n",
    "train_input, test_input, train_target, test_target = \\\n",
    "train_test_split(perch_length, perch_weight, test_size=0.25, random_state=42)"
   ]
  },
  {
   "cell_type": "code",
   "execution_count": 16,
   "id": "6232d860-dd0a-43f9-b68c-eacc2f2f3f5a",
   "metadata": {},
   "outputs": [
    {
     "data": {
      "text/plain": [
       "array([   5.9,  100. ,  250. ,  130. ,  130. ,  820. ,  320. ,  188. ,\n",
       "        900. ,  125. , 1000. ,   51.5,  250. ,  300. ])"
      ]
     },
     "execution_count": 16,
     "metadata": {},
     "output_type": "execute_result"
    }
   ],
   "source": [
    "test_target"
   ]
  },
  {
   "cell_type": "markdown",
   "id": "7ba1d7a3-211c-4891-b44f-8a31a00e2dd5",
   "metadata": {},
   "source": [
    "## 2차원 데이터로 변환하기"
   ]
  },
  {
   "cell_type": "code",
   "execution_count": 23,
   "id": "14e9a7ca-1607-4c01-a2e1-4c0da79f9727",
   "metadata": {},
   "outputs": [
    {
     "data": {
      "text/plain": [
       "[[19.6, 8.4],\n",
       " [22.0, 18.0],\n",
       " [18.7, 27.5],\n",
       " [17.4, 21.3],\n",
       " [36.0, 22.5],\n",
       " [25.0, 40.0],\n",
       " [40.0, 30.0],\n",
       " [39.0, 24.6],\n",
       " [43.0, 39.0],\n",
       " [22.0, 21.0],\n",
       " [20.0, 43.5],\n",
       " [22.0, 16.2],\n",
       " [24.0, 28.0],\n",
       " [27.5, 27.3]]"
      ]
     },
     "execution_count": 23,
     "metadata": {},
     "output_type": "execute_result"
    }
   ],
   "source": [
    "data = [[leng, wei] for leng, wei in zip(train_input, test_input)]\n",
    "data"
   ]
  },
  {
   "cell_type": "code",
   "execution_count": 24,
   "id": "43d0e20b-e04d-4d66-a275-117e4895c08e",
   "metadata": {},
   "outputs": [],
   "source": [
    "## train_input 과 test_input 훈련데이터만 2차원으로 만들면 됩니다."
   ]
  },
  {
   "cell_type": "code",
   "execution_count": 25,
   "id": "67a75b30-edbf-4de7-a7d5-f0bf1c657476",
   "metadata": {},
   "outputs": [
    {
     "name": "stdout",
     "output_type": "stream",
     "text": [
      "[1 2 3 4]\n",
      "(4,)\n"
     ]
    }
   ],
   "source": [
    "## 차원 확인하기 : numpy 배열 속성에 있습니다.\n",
    "# 샘플\n",
    "test_array = np.array([1,2,3,4])\n",
    "print(test_array)\n",
    "print(test_array.shape)"
   ]
  },
  {
   "cell_type": "code",
   "execution_count": 26,
   "id": "2d8abe92-97d6-4699-976a-ef81b6a8a138",
   "metadata": {},
   "outputs": [
    {
     "name": "stdout",
     "output_type": "stream",
     "text": [
      "[[1 2]\n",
      " [3 4]]\n",
      "[[1]\n",
      " [2]\n",
      " [3]\n",
      " [4]]\n"
     ]
    }
   ],
   "source": [
    "# 샘플 2행 2열로 만들기\n",
    "print(test_array.reshape(2,2))\n",
    "print(test_array.reshape(4,1))"
   ]
  },
  {
   "cell_type": "code",
   "execution_count": 29,
   "id": "86c4948e-1973-4eeb-a31d-7df3483727c1",
   "metadata": {},
   "outputs": [],
   "source": [
    "# 1차원 데이터를 특정 행렬의 2차원으로 재성성할 때 사용하는 함수\n",
    "# 보통 1차원을 2차원으로 만들대는 각행의 값이 차원이 됩니다.\n",
    "# 즉, 각 행의 값이 배열(리스트) 1개라고 보시면 됩니다\n",
    "# 1차원을 2차원으로 만들대는 첫번재 행은 전체 갯수, 두번재는 1이 됩니다.\n",
    "# 전체 갯수를 모를 때는 -1 값을 사용하면 전체 행의 갯수를 체크합니다\n",
    "train_input = train_input.reshape(-1,1)\n",
    "test_input = test_input.reshape(-1,1)"
   ]
  },
  {
   "cell_type": "code",
   "execution_count": 31,
   "id": "c872daed-dc28-4db6-ab67-072b7752ba27",
   "metadata": {
    "collapsed": true,
    "jupyter": {
     "outputs_hidden": true
    },
    "tags": []
   },
   "outputs": [
    {
     "name": "stdout",
     "output_type": "stream",
     "text": [
      "[[19.6]\n",
      " [22. ]\n",
      " [18.7]\n",
      " [17.4]\n",
      " [36. ]\n",
      " [25. ]\n",
      " [40. ]\n",
      " [39. ]\n",
      " [43. ]\n",
      " [22. ]\n",
      " [20. ]\n",
      " [22. ]\n",
      " [24. ]\n",
      " [27.5]\n",
      " [43. ]\n",
      " [40. ]\n",
      " [24. ]\n",
      " [21. ]\n",
      " [27.5]\n",
      " [40. ]\n",
      " [32.8]\n",
      " [26.5]\n",
      " [36.5]\n",
      " [13.7]\n",
      " [22.7]\n",
      " [15. ]\n",
      " [37. ]\n",
      " [35. ]\n",
      " [28.7]\n",
      " [23.5]\n",
      " [39. ]\n",
      " [21. ]\n",
      " [23. ]\n",
      " [22. ]\n",
      " [44. ]\n",
      " [22.5]\n",
      " [19. ]\n",
      " [37. ]\n",
      " [22. ]\n",
      " [25.6]\n",
      " [42. ]\n",
      " [34.5]]\n",
      "--------------\n",
      "[[ 8.4]\n",
      " [18. ]\n",
      " [27.5]\n",
      " [21.3]\n",
      " [22.5]\n",
      " [40. ]\n",
      " [30. ]\n",
      " [24.6]\n",
      " [39. ]\n",
      " [21. ]\n",
      " [43.5]\n",
      " [16.2]\n",
      " [28. ]\n",
      " [27.3]]\n"
     ]
    }
   ],
   "source": [
    "print(train_input)\n",
    "print('--------------')\n",
    "print(test_input)"
   ]
  },
  {
   "cell_type": "markdown",
   "id": "162b08be-6342-4bbd-958c-96ec368571ca",
   "metadata": {},
   "source": [
    "## k-최근접이웃 회귀 클래스(모델)생성"
   ]
  },
  {
   "cell_type": "code",
   "execution_count": 34,
   "id": "2bc8d243-51fd-44c9-b5d9-9893586f995e",
   "metadata": {},
   "outputs": [],
   "source": [
    "### 클래스(모델) 이름 : KNeighborsRegressor()\n",
    "from sklearn.neighbors import KNeighborsRegressor\n",
    "knr = KNeighborsRegressor()\n",
    "knr_model = knr.fit(train_input , train_target)"
   ]
  },
  {
   "cell_type": "code",
   "execution_count": 35,
   "id": "2336b098-f976-4be6-a7f0-0ab1ad77f60c",
   "metadata": {},
   "outputs": [
    {
     "data": {
      "text/plain": [
       "0.992809406101064"
      ]
     },
     "execution_count": 35,
     "metadata": {},
     "output_type": "execute_result"
    }
   ],
   "source": [
    "# 훈련모델 평가하기\n",
    "knr.score(test_input, test_target)"
   ]
  },
  {
   "cell_type": "code",
   "execution_count": 38,
   "id": "2e01617f-5c59-4f9d-8048-f6dda16d7c02",
   "metadata": {},
   "outputs": [
    {
     "data": {
      "text/plain": [
       "0.992809406101064"
      ]
     },
     "execution_count": 38,
     "metadata": {},
     "output_type": "execute_result"
    }
   ],
   "source": [
    "### 훈련모델 평가하기\n",
    "# 분류에서는 score의 결과값을 정확도라고 했다면\n",
    "# 회귀에서는 결정계수(R^2)라는 용어를 사용합니다\n",
    "\n",
    "\n",
    "\n",
    "### 회귀모델의 학습평가 결과 : 결정계수를 이용\n",
    "# 회귀에서는 정확한 숫자를 맞히는 것은 불가능\n",
    "\n",
    "### 결정계수의 범위\n",
    "# - 0 - 1 사이의 값을 반환 받습니다.\n",
    "# - 1에 가까울 수록 훈련이 잘된 모델이라고 판단하면 됩니다.\n",
    "# - 보통 0.95이상을 좋다고 판단합니다. (기준은 아님...)\n",
    "\n",
    "### 결정계수 공식\n",
    "# 결정계수(R^2) = 1 - ((target - 예측)^2 의 합 / (target - 평균) ^ 2 의 합)\n",
    "# - 예측값이 target값이 가까울 수록 분자값이 0에 가까워지며, 1에 가까워짐...\n",
    "\n",
    "knr.score(test_input, test_target)\n"
   ]
  },
  {
   "cell_type": "markdown",
   "id": "cda05741-17d1-4194-8117-a93775375d83",
   "metadata": {},
   "source": [
    "### 오차 확인하기\n",
    "##### - 일반적으로 계산에 의한 결정계수값을 봐서는 오차가 어느정도인지 모릅니다\n",
    "##### - 오차 값 확인이 필요합니다"
   ]
  },
  {
   "cell_type": "code",
   "execution_count": 39,
   "id": "cdba1c48-67df-4c72-a8f9-b11dcaa365a3",
   "metadata": {},
   "outputs": [
    {
     "data": {
      "text/plain": [
       "array([  60. ,   79.6,  248. ,  122. ,  136. ,  847. ,  311.4,  183.4,\n",
       "        847. ,  113. , 1010. ,   60. ,  248. ,  248. ])"
      ]
     },
     "execution_count": 39,
     "metadata": {},
     "output_type": "execute_result"
    }
   ],
   "source": [
    "### 오차를 확인하기 위해서는 예측을 먼저 선행해야 합니다.\n",
    "test_prediction = knr.predict(test_input)\n",
    "test_prediction"
   ]
  },
  {
   "cell_type": "code",
   "execution_count": 40,
   "id": "86eeae38-ce2f-4a52-a68b-14ea04963d0a",
   "metadata": {},
   "outputs": [],
   "source": [
    "### 타깃값과 예측값 간의 오차를 확인하는 라이브러리 불러들이기\n",
    "from sklearn.metrics import mean_absolute_error"
   ]
  },
  {
   "cell_type": "code",
   "execution_count": 43,
   "id": "133309db-dfb8-41ec-b9a7-2c10e83c1947",
   "metadata": {},
   "outputs": [
    {
     "data": {
      "text/plain": [
       "19.157142857142862"
      ]
     },
     "execution_count": 43,
     "metadata": {},
     "output_type": "execute_result"
    }
   ],
   "source": [
    "### 오차값은 : 테스트 데이터에 대한 평균 절대값 오차를 계산합니다.\n",
    "mae = mean_absolute_error(test_target, test_prediction)\n",
    "mae\n",
    "\n",
    "# (해석)\n",
    "# 예측값이 평균적으로 19g 정도 타깃값과 차이가 있다는 것을 의미\n",
    "# 차이 = 다르다는 의미는 아닙니다."
   ]
  },
  {
   "cell_type": "code",
   "execution_count": 44,
   "id": "88bf8299-9cf3-4f56-809b-73a800c5abdc",
   "metadata": {},
   "outputs": [
    {
     "data": {
      "text/plain": [
       "0.992809406101064"
      ]
     },
     "execution_count": 44,
     "metadata": {},
     "output_type": "execute_result"
    }
   ],
   "source": [
    "### 테스트 결정계수\n",
    "knr.score(test_input, test_target)"
   ]
  },
  {
   "cell_type": "code",
   "execution_count": 45,
   "id": "a2c01c79-661f-40e5-bdb9-106517ba5542",
   "metadata": {},
   "outputs": [
    {
     "data": {
      "text/plain": [
       "0.9698823289099254"
      ]
     },
     "execution_count": 45,
     "metadata": {},
     "output_type": "execute_result"
    }
   ],
   "source": [
    "### 훈련 결정계수\n",
    "knr.score(train_input, train_target)"
   ]
  },
  {
   "cell_type": "markdown",
   "id": "af0fd9e6-3968-49a0-9f23-8d5cba9b0395",
   "metadata": {},
   "source": [
    "## 과대적합 vs 과소적합\n",
    "##### - 훈련데이터와 테스트데이터를 각각 평가하여 비교 했을 떄...\n",
    "##### 1. 과대적합 : 훈련데이터의 평가결과가 너무 높고, 테스트데이터의 평가가 너무 낮을 경우\n",
    "##### 2. 과소적합 : 훈련데이터의 평가결과가 낮고, 테스트데이터의 평가가 높은 경우\n",
    "#####\n",
    "## 과소적합이 발생하는 이유?\n",
    "##### - 사용된 전체 데이터의 갯수가 너무 작은 경우에 주로 발생합니다.\n",
    "##### - 데이터가 작으면 테스트데이터가 훈련데이터의 특징을 잘 따르지 못하는 경우가 발생."
   ]
  },
  {
   "cell_type": "code",
   "execution_count": 46,
   "id": "51c13e37-a669-44f7-923c-cbe656bc312c",
   "metadata": {},
   "outputs": [],
   "source": [
    "### 과소적합 최소 방법\n",
    "# - 훈련모델을 복잡하게 만들어서 평가결과를 높일 수 있음\n",
    "\n",
    "### 모델을 복잡하게 만드는 방법\n",
    "# - 이웃의 갯수를 작게하면 됩니다.\n",
    "# - 이웃의 갯수가 작아지면 , 이웃의 비교 대상이 조금 더 압축되기 때문에\n",
    "# - 훈련의 집중도가 높아집니다 . 정확도가 높아집니다.\n",
    "\n",
    "### 이웃의 갯수 : 기본5개\n",
    "# - 복잡도를 높이는 방법은 이웃의 갯수를 줄여나가는 방법 입니다."
   ]
  },
  {
   "cell_type": "code",
   "execution_count": 55,
   "id": "442eb593-dcc8-4c6f-8bb0-3c6ba4fe6e93",
   "metadata": {},
   "outputs": [
    {
     "name": "stdout",
     "output_type": "stream",
     "text": [
      "0.9746459963987609\n",
      "0.9804899950518966\n"
     ]
    }
   ],
   "source": [
    "# 이웃의 개수는 홀수로 써야함 최소 3이상의 홀수\n",
    "knr = KNeighborsRegressor(n_neighbors = 3)\n",
    "knr_model = knr.fit(train_input , train_target)\n",
    "test_prediction = knr.predict(test_input)\n",
    "test_prediction\n",
    "# 테스트데이터 평가\n",
    "print(knr.score(test_input, test_target))\n",
    "# 훈련데이터 평가\n",
    "print(knr.score(train_input, train_target))"
   ]
  },
  {
   "cell_type": "code",
   "execution_count": null,
   "id": "ac72514f-8afa-4803-9e37-34c044ca6a1b",
   "metadata": {},
   "outputs": [],
   "source": []
  }
 ],
 "metadata": {
  "kernelspec": {
   "display_name": "django_kernel",
   "language": "python",
   "name": "django"
  },
  "language_info": {
   "codemirror_mode": {
    "name": "ipython",
    "version": 3
   },
   "file_extension": ".py",
   "mimetype": "text/x-python",
   "name": "python",
   "nbconvert_exporter": "python",
   "pygments_lexer": "ipython3",
   "version": "3.10.5"
  }
 },
 "nbformat": 4,
 "nbformat_minor": 5
}
