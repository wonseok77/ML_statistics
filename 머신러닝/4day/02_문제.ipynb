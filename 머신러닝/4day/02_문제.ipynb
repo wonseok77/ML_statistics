{
 "cells": [
  {
   "cell_type": "markdown",
   "id": "2a78fae5-7de0-4854-baec-b6cd41141487",
   "metadata": {
    "jp-MarkdownHeadingCollapsed": true,
    "tags": []
   },
   "source": [
    "## 데이터 불러오기 및 전처리(종속변수,독립변수 나누기/ train, test나누기)"
   ]
  },
  {
   "cell_type": "code",
   "execution_count": 1,
   "id": "bfaf5386-a2fb-40cf-831a-549c0839730f",
   "metadata": {
    "collapsed": true,
    "jupyter": {
     "outputs_hidden": true
    },
    "tags": []
   },
   "outputs": [
    {
     "name": "stdout",
     "output_type": "stream",
     "text": [
      "{'data': array([[5.1, 3.5, 1.4, 0.2],\n",
      "       [4.9, 3. , 1.4, 0.2],\n",
      "       [4.7, 3.2, 1.3, 0.2],\n",
      "       [4.6, 3.1, 1.5, 0.2],\n",
      "       [5. , 3.6, 1.4, 0.2],\n",
      "       [5.4, 3.9, 1.7, 0.4],\n",
      "       [4.6, 3.4, 1.4, 0.3],\n",
      "       [5. , 3.4, 1.5, 0.2],\n",
      "       [4.4, 2.9, 1.4, 0.2],\n",
      "       [4.9, 3.1, 1.5, 0.1],\n",
      "       [5.4, 3.7, 1.5, 0.2],\n",
      "       [4.8, 3.4, 1.6, 0.2],\n",
      "       [4.8, 3. , 1.4, 0.1],\n",
      "       [4.3, 3. , 1.1, 0.1],\n",
      "       [5.8, 4. , 1.2, 0.2],\n",
      "       [5.7, 4.4, 1.5, 0.4],\n",
      "       [5.4, 3.9, 1.3, 0.4],\n",
      "       [5.1, 3.5, 1.4, 0.3],\n",
      "       [5.7, 3.8, 1.7, 0.3],\n",
      "       [5.1, 3.8, 1.5, 0.3],\n",
      "       [5.4, 3.4, 1.7, 0.2],\n",
      "       [5.1, 3.7, 1.5, 0.4],\n",
      "       [4.6, 3.6, 1. , 0.2],\n",
      "       [5.1, 3.3, 1.7, 0.5],\n",
      "       [4.8, 3.4, 1.9, 0.2],\n",
      "       [5. , 3. , 1.6, 0.2],\n",
      "       [5. , 3.4, 1.6, 0.4],\n",
      "       [5.2, 3.5, 1.5, 0.2],\n",
      "       [5.2, 3.4, 1.4, 0.2],\n",
      "       [4.7, 3.2, 1.6, 0.2],\n",
      "       [4.8, 3.1, 1.6, 0.2],\n",
      "       [5.4, 3.4, 1.5, 0.4],\n",
      "       [5.2, 4.1, 1.5, 0.1],\n",
      "       [5.5, 4.2, 1.4, 0.2],\n",
      "       [4.9, 3.1, 1.5, 0.2],\n",
      "       [5. , 3.2, 1.2, 0.2],\n",
      "       [5.5, 3.5, 1.3, 0.2],\n",
      "       [4.9, 3.6, 1.4, 0.1],\n",
      "       [4.4, 3. , 1.3, 0.2],\n",
      "       [5.1, 3.4, 1.5, 0.2],\n",
      "       [5. , 3.5, 1.3, 0.3],\n",
      "       [4.5, 2.3, 1.3, 0.3],\n",
      "       [4.4, 3.2, 1.3, 0.2],\n",
      "       [5. , 3.5, 1.6, 0.6],\n",
      "       [5.1, 3.8, 1.9, 0.4],\n",
      "       [4.8, 3. , 1.4, 0.3],\n",
      "       [5.1, 3.8, 1.6, 0.2],\n",
      "       [4.6, 3.2, 1.4, 0.2],\n",
      "       [5.3, 3.7, 1.5, 0.2],\n",
      "       [5. , 3.3, 1.4, 0.2],\n",
      "       [7. , 3.2, 4.7, 1.4],\n",
      "       [6.4, 3.2, 4.5, 1.5],\n",
      "       [6.9, 3.1, 4.9, 1.5],\n",
      "       [5.5, 2.3, 4. , 1.3],\n",
      "       [6.5, 2.8, 4.6, 1.5],\n",
      "       [5.7, 2.8, 4.5, 1.3],\n",
      "       [6.3, 3.3, 4.7, 1.6],\n",
      "       [4.9, 2.4, 3.3, 1. ],\n",
      "       [6.6, 2.9, 4.6, 1.3],\n",
      "       [5.2, 2.7, 3.9, 1.4],\n",
      "       [5. , 2. , 3.5, 1. ],\n",
      "       [5.9, 3. , 4.2, 1.5],\n",
      "       [6. , 2.2, 4. , 1. ],\n",
      "       [6.1, 2.9, 4.7, 1.4],\n",
      "       [5.6, 2.9, 3.6, 1.3],\n",
      "       [6.7, 3.1, 4.4, 1.4],\n",
      "       [5.6, 3. , 4.5, 1.5],\n",
      "       [5.8, 2.7, 4.1, 1. ],\n",
      "       [6.2, 2.2, 4.5, 1.5],\n",
      "       [5.6, 2.5, 3.9, 1.1],\n",
      "       [5.9, 3.2, 4.8, 1.8],\n",
      "       [6.1, 2.8, 4. , 1.3],\n",
      "       [6.3, 2.5, 4.9, 1.5],\n",
      "       [6.1, 2.8, 4.7, 1.2],\n",
      "       [6.4, 2.9, 4.3, 1.3],\n",
      "       [6.6, 3. , 4.4, 1.4],\n",
      "       [6.8, 2.8, 4.8, 1.4],\n",
      "       [6.7, 3. , 5. , 1.7],\n",
      "       [6. , 2.9, 4.5, 1.5],\n",
      "       [5.7, 2.6, 3.5, 1. ],\n",
      "       [5.5, 2.4, 3.8, 1.1],\n",
      "       [5.5, 2.4, 3.7, 1. ],\n",
      "       [5.8, 2.7, 3.9, 1.2],\n",
      "       [6. , 2.7, 5.1, 1.6],\n",
      "       [5.4, 3. , 4.5, 1.5],\n",
      "       [6. , 3.4, 4.5, 1.6],\n",
      "       [6.7, 3.1, 4.7, 1.5],\n",
      "       [6.3, 2.3, 4.4, 1.3],\n",
      "       [5.6, 3. , 4.1, 1.3],\n",
      "       [5.5, 2.5, 4. , 1.3],\n",
      "       [5.5, 2.6, 4.4, 1.2],\n",
      "       [6.1, 3. , 4.6, 1.4],\n",
      "       [5.8, 2.6, 4. , 1.2],\n",
      "       [5. , 2.3, 3.3, 1. ],\n",
      "       [5.6, 2.7, 4.2, 1.3],\n",
      "       [5.7, 3. , 4.2, 1.2],\n",
      "       [5.7, 2.9, 4.2, 1.3],\n",
      "       [6.2, 2.9, 4.3, 1.3],\n",
      "       [5.1, 2.5, 3. , 1.1],\n",
      "       [5.7, 2.8, 4.1, 1.3],\n",
      "       [6.3, 3.3, 6. , 2.5],\n",
      "       [5.8, 2.7, 5.1, 1.9],\n",
      "       [7.1, 3. , 5.9, 2.1],\n",
      "       [6.3, 2.9, 5.6, 1.8],\n",
      "       [6.5, 3. , 5.8, 2.2],\n",
      "       [7.6, 3. , 6.6, 2.1],\n",
      "       [4.9, 2.5, 4.5, 1.7],\n",
      "       [7.3, 2.9, 6.3, 1.8],\n",
      "       [6.7, 2.5, 5.8, 1.8],\n",
      "       [7.2, 3.6, 6.1, 2.5],\n",
      "       [6.5, 3.2, 5.1, 2. ],\n",
      "       [6.4, 2.7, 5.3, 1.9],\n",
      "       [6.8, 3. , 5.5, 2.1],\n",
      "       [5.7, 2.5, 5. , 2. ],\n",
      "       [5.8, 2.8, 5.1, 2.4],\n",
      "       [6.4, 3.2, 5.3, 2.3],\n",
      "       [6.5, 3. , 5.5, 1.8],\n",
      "       [7.7, 3.8, 6.7, 2.2],\n",
      "       [7.7, 2.6, 6.9, 2.3],\n",
      "       [6. , 2.2, 5. , 1.5],\n",
      "       [6.9, 3.2, 5.7, 2.3],\n",
      "       [5.6, 2.8, 4.9, 2. ],\n",
      "       [7.7, 2.8, 6.7, 2. ],\n",
      "       [6.3, 2.7, 4.9, 1.8],\n",
      "       [6.7, 3.3, 5.7, 2.1],\n",
      "       [7.2, 3.2, 6. , 1.8],\n",
      "       [6.2, 2.8, 4.8, 1.8],\n",
      "       [6.1, 3. , 4.9, 1.8],\n",
      "       [6.4, 2.8, 5.6, 2.1],\n",
      "       [7.2, 3. , 5.8, 1.6],\n",
      "       [7.4, 2.8, 6.1, 1.9],\n",
      "       [7.9, 3.8, 6.4, 2. ],\n",
      "       [6.4, 2.8, 5.6, 2.2],\n",
      "       [6.3, 2.8, 5.1, 1.5],\n",
      "       [6.1, 2.6, 5.6, 1.4],\n",
      "       [7.7, 3. , 6.1, 2.3],\n",
      "       [6.3, 3.4, 5.6, 2.4],\n",
      "       [6.4, 3.1, 5.5, 1.8],\n",
      "       [6. , 3. , 4.8, 1.8],\n",
      "       [6.9, 3.1, 5.4, 2.1],\n",
      "       [6.7, 3.1, 5.6, 2.4],\n",
      "       [6.9, 3.1, 5.1, 2.3],\n",
      "       [5.8, 2.7, 5.1, 1.9],\n",
      "       [6.8, 3.2, 5.9, 2.3],\n",
      "       [6.7, 3.3, 5.7, 2.5],\n",
      "       [6.7, 3. , 5.2, 2.3],\n",
      "       [6.3, 2.5, 5. , 1.9],\n",
      "       [6.5, 3. , 5.2, 2. ],\n",
      "       [6.2, 3.4, 5.4, 2.3],\n",
      "       [5.9, 3. , 5.1, 1.8]]), 'target': array([0, 0, 0, 0, 0, 0, 0, 0, 0, 0, 0, 0, 0, 0, 0, 0, 0, 0, 0, 0, 0, 0,\n",
      "       0, 0, 0, 0, 0, 0, 0, 0, 0, 0, 0, 0, 0, 0, 0, 0, 0, 0, 0, 0, 0, 0,\n",
      "       0, 0, 0, 0, 0, 0, 1, 1, 1, 1, 1, 1, 1, 1, 1, 1, 1, 1, 1, 1, 1, 1,\n",
      "       1, 1, 1, 1, 1, 1, 1, 1, 1, 1, 1, 1, 1, 1, 1, 1, 1, 1, 1, 1, 1, 1,\n",
      "       1, 1, 1, 1, 1, 1, 1, 1, 1, 1, 1, 1, 2, 2, 2, 2, 2, 2, 2, 2, 2, 2,\n",
      "       2, 2, 2, 2, 2, 2, 2, 2, 2, 2, 2, 2, 2, 2, 2, 2, 2, 2, 2, 2, 2, 2,\n",
      "       2, 2, 2, 2, 2, 2, 2, 2, 2, 2, 2, 2, 2, 2, 2, 2, 2, 2]), 'frame': None, 'target_names': array(['setosa', 'versicolor', 'virginica'], dtype='<U10'), 'DESCR': '.. _iris_dataset:\\n\\nIris plants dataset\\n--------------------\\n\\n**Data Set Characteristics:**\\n\\n    :Number of Instances: 150 (50 in each of three classes)\\n    :Number of Attributes: 4 numeric, predictive attributes and the class\\n    :Attribute Information:\\n        - sepal length in cm\\n        - sepal width in cm\\n        - petal length in cm\\n        - petal width in cm\\n        - class:\\n                - Iris-Setosa\\n                - Iris-Versicolour\\n                - Iris-Virginica\\n                \\n    :Summary Statistics:\\n\\n    ============== ==== ==== ======= ===== ====================\\n                    Min  Max   Mean    SD   Class Correlation\\n    ============== ==== ==== ======= ===== ====================\\n    sepal length:   4.3  7.9   5.84   0.83    0.7826\\n    sepal width:    2.0  4.4   3.05   0.43   -0.4194\\n    petal length:   1.0  6.9   3.76   1.76    0.9490  (high!)\\n    petal width:    0.1  2.5   1.20   0.76    0.9565  (high!)\\n    ============== ==== ==== ======= ===== ====================\\n\\n    :Missing Attribute Values: None\\n    :Class Distribution: 33.3% for each of 3 classes.\\n    :Creator: R.A. Fisher\\n    :Donor: Michael Marshall (MARSHALL%PLU@io.arc.nasa.gov)\\n    :Date: July, 1988\\n\\nThe famous Iris database, first used by Sir R.A. Fisher. The dataset is taken\\nfrom Fisher\\'s paper. Note that it\\'s the same as in R, but not as in the UCI\\nMachine Learning Repository, which has two wrong data points.\\n\\nThis is perhaps the best known database to be found in the\\npattern recognition literature.  Fisher\\'s paper is a classic in the field and\\nis referenced frequently to this day.  (See Duda & Hart, for example.)  The\\ndata set contains 3 classes of 50 instances each, where each class refers to a\\ntype of iris plant.  One class is linearly separable from the other 2; the\\nlatter are NOT linearly separable from each other.\\n\\n.. topic:: References\\n\\n   - Fisher, R.A. \"The use of multiple measurements in taxonomic problems\"\\n     Annual Eugenics, 7, Part II, 179-188 (1936); also in \"Contributions to\\n     Mathematical Statistics\" (John Wiley, NY, 1950).\\n   - Duda, R.O., & Hart, P.E. (1973) Pattern Classification and Scene Analysis.\\n     (Q327.D83) John Wiley & Sons.  ISBN 0-471-22361-1.  See page 218.\\n   - Dasarathy, B.V. (1980) \"Nosing Around the Neighborhood: A New System\\n     Structure and Classification Rule for Recognition in Partially Exposed\\n     Environments\".  IEEE Transactions on Pattern Analysis and Machine\\n     Intelligence, Vol. PAMI-2, No. 1, 67-71.\\n   - Gates, G.W. (1972) \"The Reduced Nearest Neighbor Rule\".  IEEE Transactions\\n     on Information Theory, May 1972, 431-433.\\n   - See also: 1988 MLC Proceedings, 54-64.  Cheeseman et al\"s AUTOCLASS II\\n     conceptual clustering system finds 3 classes in the data.\\n   - Many, many more ...', 'feature_names': ['sepal length (cm)', 'sepal width (cm)', 'petal length (cm)', 'petal width (cm)'], 'filename': 'iris.csv', 'data_module': 'sklearn.datasets.data'}\n"
     ]
    }
   ],
   "source": [
    "# 붓꽃 품종 데이터를 이용해서 품종 분류하기\n",
    "import pandas as pd\n",
    "from sklearn.datasets import load_iris\n",
    "## 붓꽃 품종 데이터\n",
    "# - 품종 : setosa , versicolor, virginica\n",
    "# - sepal length : 꽃받침 길이\n",
    "# - speal width : 꽃받침 폭\n",
    "# - petal length : 곷잎 길이\n",
    "# - petal width : 꽃잎 폭\n",
    "\n",
    "iris = load_iris()\n",
    "print(iris)\n",
    "###\n",
    "# print(iris.DESCR)"
   ]
  },
  {
   "cell_type": "code",
   "execution_count": 2,
   "id": "8d4d38d0-4c32-4a22-a863-ff4e9d29ebcb",
   "metadata": {},
   "outputs": [],
   "source": [
    "df = pd.DataFrame(data=iris.data, columns=['꽃받침 길이','꽃받침 폭','꽃잎 길이','꽃잎 폭'])\n",
    "df['target'] = iris.target"
   ]
  },
  {
   "cell_type": "code",
   "execution_count": 3,
   "id": "d5ce743d-f88e-47a1-85d0-4ba14a49fdbf",
   "metadata": {},
   "outputs": [
    {
     "data": {
      "text/html": [
       "<div>\n",
       "<style scoped>\n",
       "    .dataframe tbody tr th:only-of-type {\n",
       "        vertical-align: middle;\n",
       "    }\n",
       "\n",
       "    .dataframe tbody tr th {\n",
       "        vertical-align: top;\n",
       "    }\n",
       "\n",
       "    .dataframe thead th {\n",
       "        text-align: right;\n",
       "    }\n",
       "</style>\n",
       "<table border=\"1\" class=\"dataframe\">\n",
       "  <thead>\n",
       "    <tr style=\"text-align: right;\">\n",
       "      <th></th>\n",
       "      <th>꽃받침 길이</th>\n",
       "      <th>꽃받침 폭</th>\n",
       "      <th>꽃잎 길이</th>\n",
       "      <th>꽃잎 폭</th>\n",
       "      <th>target</th>\n",
       "    </tr>\n",
       "  </thead>\n",
       "  <tbody>\n",
       "    <tr>\n",
       "      <th>0</th>\n",
       "      <td>5.1</td>\n",
       "      <td>3.5</td>\n",
       "      <td>1.4</td>\n",
       "      <td>0.2</td>\n",
       "      <td>0</td>\n",
       "    </tr>\n",
       "    <tr>\n",
       "      <th>1</th>\n",
       "      <td>4.9</td>\n",
       "      <td>3.0</td>\n",
       "      <td>1.4</td>\n",
       "      <td>0.2</td>\n",
       "      <td>0</td>\n",
       "    </tr>\n",
       "    <tr>\n",
       "      <th>2</th>\n",
       "      <td>4.7</td>\n",
       "      <td>3.2</td>\n",
       "      <td>1.3</td>\n",
       "      <td>0.2</td>\n",
       "      <td>0</td>\n",
       "    </tr>\n",
       "    <tr>\n",
       "      <th>3</th>\n",
       "      <td>4.6</td>\n",
       "      <td>3.1</td>\n",
       "      <td>1.5</td>\n",
       "      <td>0.2</td>\n",
       "      <td>0</td>\n",
       "    </tr>\n",
       "    <tr>\n",
       "      <th>4</th>\n",
       "      <td>5.0</td>\n",
       "      <td>3.6</td>\n",
       "      <td>1.4</td>\n",
       "      <td>0.2</td>\n",
       "      <td>0</td>\n",
       "    </tr>\n",
       "    <tr>\n",
       "      <th>...</th>\n",
       "      <td>...</td>\n",
       "      <td>...</td>\n",
       "      <td>...</td>\n",
       "      <td>...</td>\n",
       "      <td>...</td>\n",
       "    </tr>\n",
       "    <tr>\n",
       "      <th>145</th>\n",
       "      <td>6.7</td>\n",
       "      <td>3.0</td>\n",
       "      <td>5.2</td>\n",
       "      <td>2.3</td>\n",
       "      <td>2</td>\n",
       "    </tr>\n",
       "    <tr>\n",
       "      <th>146</th>\n",
       "      <td>6.3</td>\n",
       "      <td>2.5</td>\n",
       "      <td>5.0</td>\n",
       "      <td>1.9</td>\n",
       "      <td>2</td>\n",
       "    </tr>\n",
       "    <tr>\n",
       "      <th>147</th>\n",
       "      <td>6.5</td>\n",
       "      <td>3.0</td>\n",
       "      <td>5.2</td>\n",
       "      <td>2.0</td>\n",
       "      <td>2</td>\n",
       "    </tr>\n",
       "    <tr>\n",
       "      <th>148</th>\n",
       "      <td>6.2</td>\n",
       "      <td>3.4</td>\n",
       "      <td>5.4</td>\n",
       "      <td>2.3</td>\n",
       "      <td>2</td>\n",
       "    </tr>\n",
       "    <tr>\n",
       "      <th>149</th>\n",
       "      <td>5.9</td>\n",
       "      <td>3.0</td>\n",
       "      <td>5.1</td>\n",
       "      <td>1.8</td>\n",
       "      <td>2</td>\n",
       "    </tr>\n",
       "  </tbody>\n",
       "</table>\n",
       "<p>150 rows × 5 columns</p>\n",
       "</div>"
      ],
      "text/plain": [
       "     꽃받침 길이  꽃받침 폭  꽃잎 길이  꽃잎 폭  target\n",
       "0       5.1    3.5    1.4   0.2       0\n",
       "1       4.9    3.0    1.4   0.2       0\n",
       "2       4.7    3.2    1.3   0.2       0\n",
       "3       4.6    3.1    1.5   0.2       0\n",
       "4       5.0    3.6    1.4   0.2       0\n",
       "..      ...    ...    ...   ...     ...\n",
       "145     6.7    3.0    5.2   2.3       2\n",
       "146     6.3    2.5    5.0   1.9       2\n",
       "147     6.5    3.0    5.2   2.0       2\n",
       "148     6.2    3.4    5.4   2.3       2\n",
       "149     5.9    3.0    5.1   1.8       2\n",
       "\n",
       "[150 rows x 5 columns]"
      ]
     },
     "execution_count": 3,
     "metadata": {},
     "output_type": "execute_result"
    }
   ],
   "source": [
    "df"
   ]
  },
  {
   "cell_type": "code",
   "execution_count": 4,
   "id": "2d11d357-c88a-4850-bbef-c1fb8f49eb9c",
   "metadata": {},
   "outputs": [
    {
     "data": {
      "text/html": [
       "<div>\n",
       "<style scoped>\n",
       "    .dataframe tbody tr th:only-of-type {\n",
       "        vertical-align: middle;\n",
       "    }\n",
       "\n",
       "    .dataframe tbody tr th {\n",
       "        vertical-align: top;\n",
       "    }\n",
       "\n",
       "    .dataframe thead th {\n",
       "        text-align: right;\n",
       "    }\n",
       "</style>\n",
       "<table border=\"1\" class=\"dataframe\">\n",
       "  <thead>\n",
       "    <tr style=\"text-align: right;\">\n",
       "      <th></th>\n",
       "      <th>꽃받침 길이</th>\n",
       "      <th>꽃받침 폭</th>\n",
       "      <th>꽃잎 길이</th>\n",
       "      <th>꽃잎 폭</th>\n",
       "      <th>품종</th>\n",
       "    </tr>\n",
       "  </thead>\n",
       "  <tbody>\n",
       "    <tr>\n",
       "      <th>0</th>\n",
       "      <td>5.1</td>\n",
       "      <td>3.5</td>\n",
       "      <td>1.4</td>\n",
       "      <td>0.2</td>\n",
       "      <td>0</td>\n",
       "    </tr>\n",
       "    <tr>\n",
       "      <th>1</th>\n",
       "      <td>4.9</td>\n",
       "      <td>3.0</td>\n",
       "      <td>1.4</td>\n",
       "      <td>0.2</td>\n",
       "      <td>0</td>\n",
       "    </tr>\n",
       "    <tr>\n",
       "      <th>2</th>\n",
       "      <td>4.7</td>\n",
       "      <td>3.2</td>\n",
       "      <td>1.3</td>\n",
       "      <td>0.2</td>\n",
       "      <td>0</td>\n",
       "    </tr>\n",
       "    <tr>\n",
       "      <th>3</th>\n",
       "      <td>4.6</td>\n",
       "      <td>3.1</td>\n",
       "      <td>1.5</td>\n",
       "      <td>0.2</td>\n",
       "      <td>0</td>\n",
       "    </tr>\n",
       "    <tr>\n",
       "      <th>4</th>\n",
       "      <td>5.0</td>\n",
       "      <td>3.6</td>\n",
       "      <td>1.4</td>\n",
       "      <td>0.2</td>\n",
       "      <td>0</td>\n",
       "    </tr>\n",
       "    <tr>\n",
       "      <th>...</th>\n",
       "      <td>...</td>\n",
       "      <td>...</td>\n",
       "      <td>...</td>\n",
       "      <td>...</td>\n",
       "      <td>...</td>\n",
       "    </tr>\n",
       "    <tr>\n",
       "      <th>145</th>\n",
       "      <td>6.7</td>\n",
       "      <td>3.0</td>\n",
       "      <td>5.2</td>\n",
       "      <td>2.3</td>\n",
       "      <td>2</td>\n",
       "    </tr>\n",
       "    <tr>\n",
       "      <th>146</th>\n",
       "      <td>6.3</td>\n",
       "      <td>2.5</td>\n",
       "      <td>5.0</td>\n",
       "      <td>1.9</td>\n",
       "      <td>2</td>\n",
       "    </tr>\n",
       "    <tr>\n",
       "      <th>147</th>\n",
       "      <td>6.5</td>\n",
       "      <td>3.0</td>\n",
       "      <td>5.2</td>\n",
       "      <td>2.0</td>\n",
       "      <td>2</td>\n",
       "    </tr>\n",
       "    <tr>\n",
       "      <th>148</th>\n",
       "      <td>6.2</td>\n",
       "      <td>3.4</td>\n",
       "      <td>5.4</td>\n",
       "      <td>2.3</td>\n",
       "      <td>2</td>\n",
       "    </tr>\n",
       "    <tr>\n",
       "      <th>149</th>\n",
       "      <td>5.9</td>\n",
       "      <td>3.0</td>\n",
       "      <td>5.1</td>\n",
       "      <td>1.8</td>\n",
       "      <td>2</td>\n",
       "    </tr>\n",
       "  </tbody>\n",
       "</table>\n",
       "<p>150 rows × 5 columns</p>\n",
       "</div>"
      ],
      "text/plain": [
       "     꽃받침 길이  꽃받침 폭  꽃잎 길이  꽃잎 폭  품종\n",
       "0       5.1    3.5    1.4   0.2   0\n",
       "1       4.9    3.0    1.4   0.2   0\n",
       "2       4.7    3.2    1.3   0.2   0\n",
       "3       4.6    3.1    1.5   0.2   0\n",
       "4       5.0    3.6    1.4   0.2   0\n",
       "..      ...    ...    ...   ...  ..\n",
       "145     6.7    3.0    5.2   2.3   2\n",
       "146     6.3    2.5    5.0   1.9   2\n",
       "147     6.5    3.0    5.2   2.0   2\n",
       "148     6.2    3.4    5.4   2.3   2\n",
       "149     5.9    3.0    5.1   1.8   2\n",
       "\n",
       "[150 rows x 5 columns]"
      ]
     },
     "execution_count": 4,
     "metadata": {},
     "output_type": "execute_result"
    }
   ],
   "source": [
    "df.columns = ['꽃받침 길이','꽃받침 폭','꽃잎 길이','꽃잎 폭','품종']\n",
    "df"
   ]
  },
  {
   "cell_type": "code",
   "execution_count": 5,
   "id": "77033baa-5409-4906-963f-fb384f0d210a",
   "metadata": {},
   "outputs": [],
   "source": [
    "df_x = df[['꽃받침 길이','꽃받침 폭','꽃잎 길이','꽃잎 폭']]\n",
    "df_y = df['품종']"
   ]
  },
  {
   "cell_type": "code",
   "execution_count": 6,
   "id": "23d5fd5b-9fde-4c3b-aa1a-9c5a60500261",
   "metadata": {},
   "outputs": [
    {
     "name": "stdout",
     "output_type": "stream",
     "text": [
      "(112, 4)\n",
      "(112,)\n",
      "(38, 4)\n",
      "(38,)\n"
     ]
    }
   ],
   "source": [
    "### 사용 패키지 불러들이기\n",
    "from sklearn.model_selection import train_test_split\n",
    "\n",
    "### 데이터 나누기\n",
    "train_input , test_input, train_target, test_target = \\\n",
    "train_test_split(df_x,df_y,test_size = 0.25, random_state = 42)\n",
    "\n",
    "### 차원 확인하기\n",
    "print(train_input.shape)\n",
    "print(train_target.shape)\n",
    "print(test_input.shape)\n",
    "print(test_target.shape)"
   ]
  },
  {
   "cell_type": "code",
   "execution_count": 7,
   "id": "6d368133-e150-420d-bcb4-27f91f501ce7",
   "metadata": {},
   "outputs": [
    {
     "data": {
      "text/plain": [
       "array([[ 0.33066442, -0.55192639,  0.51683569, -0.01918559],\n",
       "       [-0.15985763,  1.7460571 , -1.21973223, -1.22787777],\n",
       "       [ 2.29275265, -1.01152309,  1.79031883,  1.45810485],\n",
       "       [ 0.20803391, -0.32212804,  0.4010645 ,  0.3837118 ],\n",
       "       [ 1.18907802, -0.55192639,  0.57472129,  0.24941267]])"
      ]
     },
     "execution_count": 7,
     "metadata": {},
     "output_type": "execute_result"
    }
   ],
   "source": [
    "### 정규화(표준화) : 스케일 표준화\n",
    "# - 변수 : train_scaled, test_scaled\n",
    "### 라이브러리 생성\n",
    "from sklearn.preprocessing import StandardScaler\n",
    "\n",
    "### 클래스(모델) 생성\n",
    "scaler = StandardScaler()\n",
    "\n",
    "### 스스로 표준점수 생성\n",
    "scaler.fit(train_input,train_target)\n",
    "\n",
    "### 훈련데이터를 표준점수로 변환하기\n",
    "train_scaled = scaler.transform(train_input)\n",
    "### 테스트데이터를 표준점수로 변환하기\n",
    "test_scaled = scaler.transform(test_input)\n",
    "\n",
    "### 샘플 5개 행 출력해보기\n",
    "test_scaled[:5]"
   ]
  },
  {
   "cell_type": "markdown",
   "id": "617c7b08-fefb-4c80-ab11-91615251e12b",
   "metadata": {
    "tags": []
   },
   "source": [
    "## 이진분류방식"
   ]
  },
  {
   "cell_type": "markdown",
   "id": "9b21b8ed-eec4-49c7-ae43-7a3b7a8726b6",
   "metadata": {
    "jp-MarkdownHeadingCollapsed": true,
    "tags": []
   },
   "source": [
    "#### 이진분류방식 - 독립변수 ALL"
   ]
  },
  {
   "cell_type": "code",
   "execution_count": 8,
   "id": "95169865-54f3-453e-baea-6283f469eb01",
   "metadata": {},
   "outputs": [
    {
     "name": "stdout",
     "output_type": "stream",
     "text": [
      "74\n",
      "74\n",
      "26\n",
      "26\n"
     ]
    }
   ],
   "source": [
    "train_target_zero_one = train_target[(train_target == 0) | (train_target == 1)]\n",
    "train_zero_one = train_scaled[(train_target == 0) | (train_target == 1)]\n",
    "test_zero_one = test_scaled[(test_target == 0) | (test_target == 1)]\n",
    "test_target_zero_one = test_target[(test_target == 0) | (test_target == 1)]\n",
    "\n",
    "print(len(train_zero_one))\n",
    "print(len(train_target_zero_one))\n",
    "print(len(test_zero_one))\n",
    "print(len(test_target_zero_one))"
   ]
  },
  {
   "cell_type": "code",
   "execution_count": 9,
   "id": "19e959eb-8522-4ff9-83b7-ab8e8b301fb1",
   "metadata": {},
   "outputs": [
    {
     "name": "stdout",
     "output_type": "stream",
     "text": [
      "훈련데이터 결정력 =  1.0\n",
      "시험데이터 결정력 =  1.0\n"
     ]
    }
   ],
   "source": [
    "from sklearn.linear_model import LogisticRegression\n",
    "lr = LogisticRegression()\n",
    "lr.fit(train_zero_one,train_target_zero_one)\n",
    "print('훈련데이터 결정력 = ' , lr.score(train_zero_one,train_target_zero_one))\n",
    "print('시험데이터 결정력 = ' , lr.score(test_zero_one,test_target_zero_one))"
   ]
  },
  {
   "cell_type": "code",
   "execution_count": 10,
   "id": "85630390-615d-4ea4-a96c-ffcdd8d02ff1",
   "metadata": {},
   "outputs": [
    {
     "name": "stdout",
     "output_type": "stream",
     "text": [
      "예측값 =  [0 0 1 1 0]\n",
      "실제값 =  73    1\n",
      "18    0\n",
      "78    1\n",
      "76    1\n",
      "31    0\n",
      "Name: 품종, dtype: int32\n"
     ]
    }
   ],
   "source": [
    "# 상위 5개 예측과 실제값 비교\n",
    "print('예측값 = ' , lr.predict(train_zero_one[:5]))\n",
    "print('실제값 = ' , test_target_zero_one[:5])"
   ]
  },
  {
   "cell_type": "code",
   "execution_count": 11,
   "id": "f1704fe4-4a31-4369-945e-e5d8ce66167f",
   "metadata": {},
   "outputs": [
    {
     "name": "stdout",
     "output_type": "stream",
     "text": [
      "[[0.98638718 0.01361282]\n",
      " [0.99584222 0.00415778]\n",
      " [0.04291844 0.95708156]\n",
      " [0.00889086 0.99110914]\n",
      " [0.98672414 0.01327586]]\n",
      "[0 1]\n"
     ]
    }
   ],
   "source": [
    "# 예측확률\n",
    "print(lr.predict_proba(train_zero_one[:5]))\n",
    "print(lr.classes_)"
   ]
  },
  {
   "cell_type": "code",
   "execution_count": 12,
   "id": "0fcd04eb-fe57-483f-9381-b85669d3ffb6",
   "metadata": {},
   "outputs": [
    {
     "name": "stdout",
     "output_type": "stream",
     "text": [
      "[[ 0.9579382  -1.15499708  1.62543353  1.47075842]] [2.44655599]\n"
     ]
    }
   ],
   "source": [
    "# 계수 출력\n",
    "print(lr.coef_, lr.intercept_)"
   ]
  },
  {
   "cell_type": "code",
   "execution_count": 13,
   "id": "7d4325b1-fcf9-4390-972e-1f698228d0b1",
   "metadata": {},
   "outputs": [
    {
     "name": "stdout",
     "output_type": "stream",
     "text": [
      "[0.01361282 0.00415778 0.95708156 0.99110914 0.01327586]\n",
      "[-4.2830373  -5.47860689  3.10458708  4.71380033 -4.30844279]\n"
     ]
    }
   ],
   "source": [
    "# z값 조회하기\n",
    "decisions = lr.decision_function(train_zero_one[:5])\n",
    "z = decisions\n",
    "\n",
    "# 0~1로 변환\n",
    "from scipy.special import expit\n",
    "print(expit(decisions))\n",
    "print(decisions)"
   ]
  },
  {
   "cell_type": "code",
   "execution_count": 14,
   "id": "ce60c7f5-9350-4e29-bb06-229118391a6b",
   "metadata": {},
   "outputs": [
    {
     "data": {
      "image/png": "[encoded data removed]",
      "text/plain": [
       "<Figure size 432x288 with 1 Axes>"
      ]
     },
     "metadata": {
      "needs_background": "light"
     },
     "output_type": "display_data"
    }
   ],
   "source": [
    "### 시그모이드 함수 예시\n",
    "\n",
    "import numpy as np\n",
    "import matplotlib.pyplot as plt\n",
    "# z = np.sort(decisions)\n",
    "z = np.arange(decisions.min(), decisions.max(), 0.1)\n",
    "phi = 1 / (1 + np.exp(-z))\n",
    "\n",
    "plt.plot(z, phi)\n",
    "plt.show()\n",
    "\n",
    "## x축은 z \n",
    "## y축은 시그모이드 산출값"
   ]
  },
  {
   "cell_type": "markdown",
   "id": "2a2684aa-179a-45e7-9ddb-d794af4da097",
   "metadata": {
    "jp-MarkdownHeadingCollapsed": true,
    "tags": []
   },
   "source": [
    "#### 이진분류방식 - 제일 낮은 독립변수 2개 선택"
   ]
  },
  {
   "cell_type": "code",
   "execution_count": 15,
   "id": "ffe99642-a895-44d8-85ca-3221fe4ebf63",
   "metadata": {},
   "outputs": [
    {
     "data": {
      "text/plain": [
       "품종        1.000000\n",
       "꽃잎 폭      0.956547\n",
       "꽃잎 길이     0.949035\n",
       "꽃받침 길이    0.782561\n",
       "꽃받침 폭    -0.426658\n",
       "Name: 품종, dtype: float64"
      ]
     },
     "execution_count": 15,
     "metadata": {},
     "output_type": "execute_result"
    }
   ],
   "source": [
    "# 종속변수와의 상관관계 확인하기\n",
    "df.corr().sort_values('품종', ascending = False)['품종'].head(7)"
   ]
  },
  {
   "cell_type": "code",
   "execution_count": 16,
   "id": "da8ddaba-2e10-4c16-9218-d4829fd2bc9d",
   "metadata": {},
   "outputs": [
    {
     "data": {
      "text/html": [
       "<div>\n",
       "<style scoped>\n",
       "    .dataframe tbody tr th:only-of-type {\n",
       "        vertical-align: middle;\n",
       "    }\n",
       "\n",
       "    .dataframe tbody tr th {\n",
       "        vertical-align: top;\n",
       "    }\n",
       "\n",
       "    .dataframe thead th {\n",
       "        text-align: right;\n",
       "    }\n",
       "</style>\n",
       "<table border=\"1\" class=\"dataframe\">\n",
       "  <thead>\n",
       "    <tr style=\"text-align: right;\">\n",
       "      <th></th>\n",
       "      <th>꽃받침 길이</th>\n",
       "      <th>꽃받침 폭</th>\n",
       "    </tr>\n",
       "  </thead>\n",
       "  <tbody>\n",
       "    <tr>\n",
       "      <th>0</th>\n",
       "      <td>5.1</td>\n",
       "      <td>3.5</td>\n",
       "    </tr>\n",
       "    <tr>\n",
       "      <th>1</th>\n",
       "      <td>4.9</td>\n",
       "      <td>3.0</td>\n",
       "    </tr>\n",
       "    <tr>\n",
       "      <th>2</th>\n",
       "      <td>4.7</td>\n",
       "      <td>3.2</td>\n",
       "    </tr>\n",
       "    <tr>\n",
       "      <th>3</th>\n",
       "      <td>4.6</td>\n",
       "      <td>3.1</td>\n",
       "    </tr>\n",
       "    <tr>\n",
       "      <th>4</th>\n",
       "      <td>5.0</td>\n",
       "      <td>3.6</td>\n",
       "    </tr>\n",
       "    <tr>\n",
       "      <th>...</th>\n",
       "      <td>...</td>\n",
       "      <td>...</td>\n",
       "    </tr>\n",
       "    <tr>\n",
       "      <th>145</th>\n",
       "      <td>6.7</td>\n",
       "      <td>3.0</td>\n",
       "    </tr>\n",
       "    <tr>\n",
       "      <th>146</th>\n",
       "      <td>6.3</td>\n",
       "      <td>2.5</td>\n",
       "    </tr>\n",
       "    <tr>\n",
       "      <th>147</th>\n",
       "      <td>6.5</td>\n",
       "      <td>3.0</td>\n",
       "    </tr>\n",
       "    <tr>\n",
       "      <th>148</th>\n",
       "      <td>6.2</td>\n",
       "      <td>3.4</td>\n",
       "    </tr>\n",
       "    <tr>\n",
       "      <th>149</th>\n",
       "      <td>5.9</td>\n",
       "      <td>3.0</td>\n",
       "    </tr>\n",
       "  </tbody>\n",
       "</table>\n",
       "<p>150 rows × 2 columns</p>\n",
       "</div>"
      ],
      "text/plain": [
       "     꽃받침 길이  꽃받침 폭\n",
       "0       5.1    3.5\n",
       "1       4.9    3.0\n",
       "2       4.7    3.2\n",
       "3       4.6    3.1\n",
       "4       5.0    3.6\n",
       "..      ...    ...\n",
       "145     6.7    3.0\n",
       "146     6.3    2.5\n",
       "147     6.5    3.0\n",
       "148     6.2    3.4\n",
       "149     5.9    3.0\n",
       "\n",
       "[150 rows x 2 columns]"
      ]
     },
     "execution_count": 16,
     "metadata": {},
     "output_type": "execute_result"
    }
   ],
   "source": [
    "df_x2 = df[['꽃받침 길이','꽃받침 폭']]\n",
    "df_x2"
   ]
  },
  {
   "cell_type": "code",
   "execution_count": 17,
   "id": "857928e6-ec01-4ee9-9cbb-5b1399b7a430",
   "metadata": {},
   "outputs": [
    {
     "data": {
      "text/plain": [
       "0      0\n",
       "1      0\n",
       "2      0\n",
       "3      0\n",
       "4      0\n",
       "      ..\n",
       "145    2\n",
       "146    2\n",
       "147    2\n",
       "148    2\n",
       "149    2\n",
       "Name: 품종, Length: 150, dtype: int32"
      ]
     },
     "execution_count": 17,
     "metadata": {},
     "output_type": "execute_result"
    }
   ],
   "source": [
    "df_y"
   ]
  },
  {
   "cell_type": "code",
   "execution_count": 18,
   "id": "64ba69f3-4bda-4f56-b065-fc217d5b5ac3",
   "metadata": {},
   "outputs": [
    {
     "name": "stdout",
     "output_type": "stream",
     "text": [
      "(112, 2)\n",
      "(112,)\n",
      "(38, 2)\n",
      "(38,)\n"
     ]
    }
   ],
   "source": [
    "### 사용 패키지 불러들이기\n",
    "from sklearn.model_selection import train_test_split\n",
    "\n",
    "### 데이터 나누기\n",
    "train_input , test_input, train_target, test_target = \\\n",
    "train_test_split(df_x2,df_y,test_size = 0.25, random_state = 42)\n",
    "\n",
    "### 차원 확인하기\n",
    "print(train_input.shape)\n",
    "print(train_target.shape)\n",
    "print(test_input.shape)\n",
    "print(test_target.shape)"
   ]
  },
  {
   "cell_type": "code",
   "execution_count": 19,
   "id": "8eec2c95-f3a2-4d69-a488-fead511232f3",
   "metadata": {},
   "outputs": [
    {
     "data": {
      "text/plain": [
       "array([[ 0.33066442, -0.55192639],\n",
       "       [-0.15985763,  1.7460571 ],\n",
       "       [ 2.29275265, -1.01152309],\n",
       "       [ 0.20803391, -0.32212804],\n",
       "       [ 1.18907802, -0.55192639]])"
      ]
     },
     "execution_count": 19,
     "metadata": {},
     "output_type": "execute_result"
    }
   ],
   "source": [
    "### 정규화(표준화) : 스케일 표준화\n",
    "# - 변수 : train_scaled, test_scaled\n",
    "### 라이브러리 생성\n",
    "from sklearn.preprocessing import StandardScaler\n",
    "\n",
    "### 클래스(모델) 생성\n",
    "scaler = StandardScaler()\n",
    "\n",
    "### 스스로 표준점수 생성\n",
    "scaler.fit(train_input,train_target)\n",
    "\n",
    "### 훈련데이터를 표준점수로 변환하기\n",
    "train_scaled = scaler.transform(train_input)\n",
    "### 테스트데이터를 표준점수로 변환하기\n",
    "test_scaled = scaler.transform(test_input)\n",
    "\n",
    "### 샘플 5개 행 출력해보기\n",
    "test_scaled[:5]"
   ]
  },
  {
   "cell_type": "code",
   "execution_count": 20,
   "id": "07a7f918-f218-40f5-95a2-0701f781ea9f",
   "metadata": {},
   "outputs": [
    {
     "name": "stdout",
     "output_type": "stream",
     "text": [
      "74\n",
      "74\n",
      "26\n",
      "26\n"
     ]
    }
   ],
   "source": [
    "train_target_zero_one = train_target[(train_target == 0) | (train_target == 1)]\n",
    "train_zero_one = train_scaled[(train_target == 0) | (train_target == 1)]\n",
    "test_zero_one = test_scaled[(test_target == 0) | (test_target == 1)]\n",
    "test_target_zero_one = test_target[(test_target == 0) | (test_target == 1)]\n",
    "\n",
    "print(len(train_zero_one))\n",
    "print(len(train_target_zero_one))\n",
    "print(len(test_zero_one))\n",
    "print(len(test_target_zero_one))"
   ]
  },
  {
   "cell_type": "code",
   "execution_count": 21,
   "id": "adebb2be-66ed-4522-b712-8a3e77212a3e",
   "metadata": {},
   "outputs": [
    {
     "name": "stdout",
     "output_type": "stream",
     "text": [
      "훈련데이터 결정력 =  0.9864864864864865\n",
      "시험데이터 결정력 =  1.0\n"
     ]
    }
   ],
   "source": [
    "from sklearn.linear_model import LogisticRegression\n",
    "lr = LogisticRegression()\n",
    "lr.fit(train_zero_one,train_target_zero_one)\n",
    "print('훈련데이터 결정력 = ' , lr.score(train_zero_one,train_target_zero_one))\n",
    "print('시험데이터 결정력 = ' , lr.score(test_zero_one,test_target_zero_one))"
   ]
  },
  {
   "cell_type": "code",
   "execution_count": 22,
   "id": "c4893c2e-560b-4d18-998b-e125eeae3044",
   "metadata": {},
   "outputs": [
    {
     "name": "stdout",
     "output_type": "stream",
     "text": [
      "예측값 =  [0 0 1 1 0]\n",
      "실제값 =  73    1\n",
      "18    0\n",
      "78    1\n",
      "76    1\n",
      "31    0\n",
      "Name: 품종, dtype: int32\n"
     ]
    }
   ],
   "source": [
    "# 상위 5개 예측과 실제값 비교\n",
    "print('예측값 = ' , lr.predict(train_zero_one[:5]))\n",
    "print('실제값 = ' , test_target_zero_one[:5])"
   ]
  },
  {
   "cell_type": "code",
   "execution_count": 23,
   "id": "480e1319-8438-4084-b584-dc15e547487f",
   "metadata": {},
   "outputs": [
    {
     "name": "stdout",
     "output_type": "stream",
     "text": [
      "[[0.9682958  0.0317042 ]\n",
      " [0.99265755 0.00734245]\n",
      " [0.32188135 0.67811865]\n",
      " [0.012772   0.987228  ]\n",
      " [0.96727429 0.03272571]]\n",
      "[0 1]\n"
     ]
    }
   ],
   "source": [
    "# 예측확률\n",
    "print(lr.predict_proba(train_zero_one[:5]))\n",
    "print(lr.classes_)"
   ]
  },
  {
   "cell_type": "code",
   "execution_count": 33,
   "id": "246bb458-a0f6-41da-93b7-988928d425db",
   "metadata": {},
   "outputs": [],
   "source": [
    "# (해석) 제일 낮은 상관계수를 가진 독립변수 2개로하면 훈련데이터 결정력만 낮아져서 과소적합이 발생했다"
   ]
  },
  {
   "cell_type": "markdown",
   "id": "a79a99b4-8b20-4478-a109-e5a221619a9a",
   "metadata": {
    "tags": []
   },
   "source": [
    "## 다중분류"
   ]
  },
  {
   "cell_type": "markdown",
   "id": "046cccbb-4794-46fc-8967-f5ee8a135f21",
   "metadata": {
    "jp-MarkdownHeadingCollapsed": true,
    "tags": []
   },
   "source": [
    "#### 독립변수(4개)일경우 과소적합이다"
   ]
  },
  {
   "cell_type": "code",
   "execution_count": 36,
   "id": "ece6ad6d-fab2-426b-9161-6cbf9483570d",
   "metadata": {},
   "outputs": [],
   "source": [
    "df = pd.DataFrame(data=iris.data, columns=['꽃받침 길이','꽃받침 폭','꽃잎 길이','꽃잎 폭'])\n",
    "df['target'] = iris.target\n",
    "df.columns = ['꽃받침 길이','꽃받침 폭','꽃잎 길이','꽃잎 폭','품종']"
   ]
  },
  {
   "cell_type": "code",
   "execution_count": 37,
   "id": "7e55112d-69a4-4864-9938-0b9f925a56be",
   "metadata": {},
   "outputs": [],
   "source": [
    "df_x = df[['꽃받침 길이','꽃받침 폭','꽃잎 길이','꽃잎 폭']]\n",
    "df_y = df['품종']"
   ]
  },
  {
   "cell_type": "code",
   "execution_count": 38,
   "id": "11e5cc8c-ccd7-4778-881d-cb96111af870",
   "metadata": {},
   "outputs": [
    {
     "name": "stdout",
     "output_type": "stream",
     "text": [
      "(112, 4)\n",
      "(112,)\n",
      "(38, 4)\n",
      "(38,)\n"
     ]
    }
   ],
   "source": [
    "### 사용 패키지 불러들이기\n",
    "from sklearn.model_selection import train_test_split\n",
    "\n",
    "### 데이터 나누기\n",
    "train_input , test_input, train_target, test_target = \\\n",
    "train_test_split(df_x,df_y,test_size = 0.25, random_state = 42)\n",
    "\n",
    "### 차원 확인하기\n",
    "print(train_input.shape)\n",
    "print(train_target.shape)\n",
    "print(test_input.shape)\n",
    "print(test_target.shape)"
   ]
  },
  {
   "cell_type": "code",
   "execution_count": 39,
   "id": "bad2cf8c-999f-4e07-9f52-1e9ab904315d",
   "metadata": {},
   "outputs": [
    {
     "data": {
      "text/plain": [
       "array([[ 0.33066442, -0.55192639,  0.51683569, -0.01918559],\n",
       "       [-0.15985763,  1.7460571 , -1.21973223, -1.22787777],\n",
       "       [ 2.29275265, -1.01152309,  1.79031883,  1.45810485],\n",
       "       [ 0.20803391, -0.32212804,  0.4010645 ,  0.3837118 ],\n",
       "       [ 1.18907802, -0.55192639,  0.57472129,  0.24941267]])"
      ]
     },
     "execution_count": 39,
     "metadata": {},
     "output_type": "execute_result"
    }
   ],
   "source": [
    "### 정규화(표준화) : 스케일 표준화\n",
    "# - 변수 : train_scaled, test_scaled\n",
    "### 라이브러리 생성\n",
    "from sklearn.preprocessing import StandardScaler\n",
    "\n",
    "### 클래스(모델) 생성\n",
    "scaler = StandardScaler()\n",
    "\n",
    "### 스스로 표준점수 생성\n",
    "scaler.fit(train_input,train_target)\n",
    "\n",
    "### 훈련데이터를 표준점수로 변환하기\n",
    "train_scaled = scaler.transform(train_input)\n",
    "### 테스트데이터를 표준점수로 변환하기\n",
    "test_scaled = scaler.transform(test_input)\n",
    "\n",
    "### 샘플 5개 행 출력해보기\n",
    "test_scaled[:5]"
   ]
  },
  {
   "cell_type": "code",
   "execution_count": 40,
   "id": "90eb335c-af19-430d-ba8d-c37035689fcc",
   "metadata": {},
   "outputs": [
    {
     "name": "stdout",
     "output_type": "stream",
     "text": [
      "훈련 =  0.9821428571428571\n",
      "실험 =  1.0\n"
     ]
    }
   ],
   "source": [
    "from sklearn.linear_model import LogisticRegression\n",
    "lr = LogisticRegression(C = 20, max_iter = 1000)\n",
    "lr.fit(train_scaled,train_target)\n",
    "print('훈련 = ', lr.score(train_scaled,train_target))\n",
    "print('실험 = ', lr.score(test_scaled,test_target))"
   ]
  },
  {
   "cell_type": "markdown",
   "id": "17456fe9-643a-4f89-b2de-85e56ff83613",
   "metadata": {
    "jp-MarkdownHeadingCollapsed": true,
    "tags": []
   },
   "source": [
    "#### 독립변수의 개수 5개로 하나의 파생변수 추가 => 그래도 과소적합임"
   ]
  },
  {
   "cell_type": "code",
   "execution_count": 41,
   "id": "d8e3cb5d-b95c-4d58-9c0f-656bca49d344",
   "metadata": {},
   "outputs": [
    {
     "data": {
      "text/html": [
       "<div>\n",
       "<style scoped>\n",
       "    .dataframe tbody tr th:only-of-type {\n",
       "        vertical-align: middle;\n",
       "    }\n",
       "\n",
       "    .dataframe tbody tr th {\n",
       "        vertical-align: top;\n",
       "    }\n",
       "\n",
       "    .dataframe thead th {\n",
       "        text-align: right;\n",
       "    }\n",
       "</style>\n",
       "<table border=\"1\" class=\"dataframe\">\n",
       "  <thead>\n",
       "    <tr style=\"text-align: right;\">\n",
       "      <th></th>\n",
       "      <th>꽃받침 길이</th>\n",
       "      <th>꽃받침 폭</th>\n",
       "      <th>꽃잎 길이</th>\n",
       "      <th>꽃잎 폭</th>\n",
       "      <th>꽃잎 폭*길이</th>\n",
       "    </tr>\n",
       "  </thead>\n",
       "  <tbody>\n",
       "    <tr>\n",
       "      <th>0</th>\n",
       "      <td>5.1</td>\n",
       "      <td>3.5</td>\n",
       "      <td>1.4</td>\n",
       "      <td>0.2</td>\n",
       "      <td>0.28</td>\n",
       "    </tr>\n",
       "    <tr>\n",
       "      <th>1</th>\n",
       "      <td>4.9</td>\n",
       "      <td>3.0</td>\n",
       "      <td>1.4</td>\n",
       "      <td>0.2</td>\n",
       "      <td>0.28</td>\n",
       "    </tr>\n",
       "    <tr>\n",
       "      <th>2</th>\n",
       "      <td>4.7</td>\n",
       "      <td>3.2</td>\n",
       "      <td>1.3</td>\n",
       "      <td>0.2</td>\n",
       "      <td>0.26</td>\n",
       "    </tr>\n",
       "    <tr>\n",
       "      <th>3</th>\n",
       "      <td>4.6</td>\n",
       "      <td>3.1</td>\n",
       "      <td>1.5</td>\n",
       "      <td>0.2</td>\n",
       "      <td>0.30</td>\n",
       "    </tr>\n",
       "    <tr>\n",
       "      <th>4</th>\n",
       "      <td>5.0</td>\n",
       "      <td>3.6</td>\n",
       "      <td>1.4</td>\n",
       "      <td>0.2</td>\n",
       "      <td>0.28</td>\n",
       "    </tr>\n",
       "    <tr>\n",
       "      <th>...</th>\n",
       "      <td>...</td>\n",
       "      <td>...</td>\n",
       "      <td>...</td>\n",
       "      <td>...</td>\n",
       "      <td>...</td>\n",
       "    </tr>\n",
       "    <tr>\n",
       "      <th>145</th>\n",
       "      <td>6.7</td>\n",
       "      <td>3.0</td>\n",
       "      <td>5.2</td>\n",
       "      <td>2.3</td>\n",
       "      <td>11.96</td>\n",
       "    </tr>\n",
       "    <tr>\n",
       "      <th>146</th>\n",
       "      <td>6.3</td>\n",
       "      <td>2.5</td>\n",
       "      <td>5.0</td>\n",
       "      <td>1.9</td>\n",
       "      <td>9.50</td>\n",
       "    </tr>\n",
       "    <tr>\n",
       "      <th>147</th>\n",
       "      <td>6.5</td>\n",
       "      <td>3.0</td>\n",
       "      <td>5.2</td>\n",
       "      <td>2.0</td>\n",
       "      <td>10.40</td>\n",
       "    </tr>\n",
       "    <tr>\n",
       "      <th>148</th>\n",
       "      <td>6.2</td>\n",
       "      <td>3.4</td>\n",
       "      <td>5.4</td>\n",
       "      <td>2.3</td>\n",
       "      <td>12.42</td>\n",
       "    </tr>\n",
       "    <tr>\n",
       "      <th>149</th>\n",
       "      <td>5.9</td>\n",
       "      <td>3.0</td>\n",
       "      <td>5.1</td>\n",
       "      <td>1.8</td>\n",
       "      <td>9.18</td>\n",
       "    </tr>\n",
       "  </tbody>\n",
       "</table>\n",
       "<p>150 rows × 5 columns</p>\n",
       "</div>"
      ],
      "text/plain": [
       "     꽃받침 길이  꽃받침 폭  꽃잎 길이  꽃잎 폭  꽃잎 폭*길이\n",
       "0       5.1    3.5    1.4   0.2     0.28\n",
       "1       4.9    3.0    1.4   0.2     0.28\n",
       "2       4.7    3.2    1.3   0.2     0.26\n",
       "3       4.6    3.1    1.5   0.2     0.30\n",
       "4       5.0    3.6    1.4   0.2     0.28\n",
       "..      ...    ...    ...   ...      ...\n",
       "145     6.7    3.0    5.2   2.3    11.96\n",
       "146     6.3    2.5    5.0   1.9     9.50\n",
       "147     6.5    3.0    5.2   2.0    10.40\n",
       "148     6.2    3.4    5.4   2.3    12.42\n",
       "149     5.9    3.0    5.1   1.8     9.18\n",
       "\n",
       "[150 rows x 5 columns]"
      ]
     },
     "execution_count": 41,
     "metadata": {},
     "output_type": "execute_result"
    }
   ],
   "source": [
    "df_x['꽃잎 폭*길이']= df_x['꽃잎 길이'] * df_x['꽃잎 폭']\n",
    "df_x"
   ]
  },
  {
   "cell_type": "code",
   "execution_count": 43,
   "id": "7ed4bc86-4a69-43a7-a6da-8996dd4d0932",
   "metadata": {},
   "outputs": [
    {
     "name": "stdout",
     "output_type": "stream",
     "text": [
      "(112, 5)\n",
      "(112,)\n",
      "(38, 5)\n",
      "(38,)\n"
     ]
    }
   ],
   "source": [
    "### 사용 패키지 불러들이기\n",
    "from sklearn.model_selection import train_test_split\n",
    "\n",
    "### 데이터 나누기\n",
    "train_input , test_input, train_target, test_target = \\\n",
    "train_test_split(df_x,df_y,test_size = 0.25, random_state = 42)\n",
    "\n",
    "### 차원 확인하기\n",
    "print(train_input.shape)\n",
    "print(train_target.shape)\n",
    "print(test_input.shape)\n",
    "print(test_target.shape)"
   ]
  },
  {
   "cell_type": "code",
   "execution_count": 44,
   "id": "c38bc48a-5b48-43a7-9bdc-9be0c1bf0c2e",
   "metadata": {},
   "outputs": [
    {
     "data": {
      "text/plain": [
       "array([[ 0.33066442, -0.55192639,  0.51683569, -0.01918559, -0.04730262],\n",
       "       [-0.15985763,  1.7460571 , -1.21973223, -1.22787777, -1.16025071],\n",
       "       [ 2.29275265, -1.01152309,  1.79031883,  1.45810485,  2.1720851 ],\n",
       "       [ 0.20803391, -0.32212804,  0.4010645 ,  0.3837118 ,  0.19351071],\n",
       "       [ 1.18907802, -0.55192639,  0.57472129,  0.24941267,  0.18700224]])"
      ]
     },
     "execution_count": 44,
     "metadata": {},
     "output_type": "execute_result"
    }
   ],
   "source": [
    "### 정규화(표준화) : 스케일 표준화\n",
    "# - 변수 : train_scaled, test_scaled\n",
    "### 라이브러리 생성\n",
    "from sklearn.preprocessing import StandardScaler\n",
    "\n",
    "### 클래스(모델) 생성\n",
    "scaler = StandardScaler()\n",
    "\n",
    "### 스스로 표준점수 생성\n",
    "scaler.fit(train_input,train_target)\n",
    "\n",
    "### 훈련데이터를 표준점수로 변환하기\n",
    "train_scaled = scaler.transform(train_input)\n",
    "### 테스트데이터를 표준점수로 변환하기\n",
    "test_scaled = scaler.transform(test_input)\n",
    "\n",
    "### 샘플 5개 행 출력해보기\n",
    "test_scaled[:5]"
   ]
  },
  {
   "cell_type": "code",
   "execution_count": 45,
   "id": "a5d3967b-f79a-475d-b21a-a26c832bebf4",
   "metadata": {},
   "outputs": [
    {
     "name": "stdout",
     "output_type": "stream",
     "text": [
      "훈련 =  0.9821428571428571\n",
      "실험 =  1.0\n"
     ]
    }
   ],
   "source": [
    "lr = LogisticRegression(C = 20, max_iter = 1000)\n",
    "lr.fit(train_scaled,train_target)\n",
    "print('훈련 = ', lr.score(train_scaled,train_target))\n",
    "print('실험 = ', lr.score(test_scaled,test_target))"
   ]
  },
  {
   "cell_type": "markdown",
   "id": "b0af4b15-2923-4608-bdb0-67bdbc04fe78",
   "metadata": {
    "jp-MarkdownHeadingCollapsed": true,
    "tags": []
   },
   "source": [
    "#### 폴리노말 사이킷런 변환기 사용 => 해도 똑같다(과소적합임)"
   ]
  },
  {
   "cell_type": "code",
   "execution_count": 46,
   "id": "3a782eb4-07b4-4e44-8eaa-4fc66aeb3311",
   "metadata": {},
   "outputs": [
    {
     "name": "stdout",
     "output_type": "stream",
     "text": [
      "(112, 251) (38, 251)\n"
     ]
    }
   ],
   "source": [
    "### 사이킷런 변환기 클래스\n",
    "from sklearn.preprocessing import PolynomialFeatures\n",
    "### train_input, test_input 데이터 변환하기 ...\n",
    "## 객체생성(모델)\n",
    "poly = PolynomialFeatures(degree = 5, include_bias = False)\n",
    "\n",
    "### 훈련시키기 : 새롭게 만들 스스로 특성 조합 찾기\n",
    "poly.fit(train_input)\n",
    "\n",
    "### 찾은 특성 조합으로 데이터 변환하기\n",
    "# - 훈련데이터 변환하기\n",
    "train_poly = poly.transform(train_input)\n",
    "\n",
    "# - 테스트데이터 변환하기\n",
    "test_poly = poly.transform(test_input)\n",
    "\n",
    "print(train_poly.shape , test_poly.shape)"
   ]
  },
  {
   "cell_type": "code",
   "execution_count": 47,
   "id": "3192319e-e867-4902-bf47-862507ff1723",
   "metadata": {},
   "outputs": [
    {
     "data": {
      "text/plain": [
       "array([[ 0.33066442, -0.55192639,  0.51683569, ..., -0.49945929,\n",
       "        -0.48594622, -0.47118354],\n",
       "       [-0.15985763,  1.7460571 , -1.21973223, ..., -0.55442832,\n",
       "        -0.52918818, -0.50484829],\n",
       "       [ 2.29275265, -1.01152309,  1.79031883, ...,  3.94466005,\n",
       "         4.66658885,  5.43351825],\n",
       "       [ 0.20803391, -0.32212804,  0.4010645 , ..., -0.40718871,\n",
       "        -0.4182915 , -0.42218738],\n",
       "       [ 1.18907802, -0.55192639,  0.57472129, ..., -0.42786919,\n",
       "        -0.42751251, -0.42400803]])"
      ]
     },
     "execution_count": 47,
     "metadata": {},
     "output_type": "execute_result"
    }
   ],
   "source": [
    "### 정규화(표준화) : 스케일 표준화\n",
    "# - 변수 : train_scaled, test_scaled\n",
    "### 라이브러리 생성\n",
    "from sklearn.preprocessing import StandardScaler\n",
    "\n",
    "### 클래스(모델) 생성\n",
    "scaler = StandardScaler()\n",
    "\n",
    "### 스스로 표준점수 생성\n",
    "scaler.fit(train_poly,train_target)\n",
    "\n",
    "### 훈련데이터를 표준점수로 변환하기\n",
    "train_scaled = scaler.transform(train_poly)\n",
    "### 테스트데이터를 표준점수로 변환하기\n",
    "test_scaled = scaler.transform(test_poly)\n",
    "\n",
    "### 샘플 5개 행 출력해보기\n",
    "test_scaled[:5]"
   ]
  },
  {
   "cell_type": "code",
   "execution_count": 48,
   "id": "65a58950-8084-4bdc-ba2f-a37e277024fc",
   "metadata": {},
   "outputs": [
    {
     "name": "stdout",
     "output_type": "stream",
     "text": [
      "훈련 =  0.9821428571428571\n",
      "실험 =  1.0\n"
     ]
    }
   ],
   "source": [
    "lr = LogisticRegression(C = 20, max_iter = 1000)\n",
    "lr.fit(train_scaled,train_target)\n",
    "print('훈련 = ', lr.score(train_scaled,train_target))\n",
    "print('실험 = ', lr.score(test_scaled,test_target))"
   ]
  }
 ],
 "metadata": {
  "kernelspec": {
   "display_name": "django_kernel",
   "language": "python",
   "name": "django"
  },
  "language_info": {
   "codemirror_mode": {
    "name": "ipython",
    "version": 3
   },
   "file_extension": ".py",
   "mimetype": "text/x-python",
   "name": "python",
   "nbconvert_exporter": "python",
   "pygments_lexer": "ipython3",
   "version": "3.10.5"
  }
 },
 "nbformat": 4,
 "nbformat_minor": 5
}
