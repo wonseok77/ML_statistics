{
 "cells": [
  {
   "cell_type": "markdown",
   "id": "5c2d29db-cccd-4b9f-8355-66dbaa756b64",
   "metadata": {},
   "source": [
    "## 로지스틱 회귀분류 모델"
   ]
  },
  {
   "cell_type": "code",
   "execution_count": 1,
   "id": "a638ce8d-c56f-4812-98a0-4ea8289de022",
   "metadata": {},
   "outputs": [],
   "source": [
    "## 데이터 준비하기\n",
    "# - 구글드라이브 > Dataset > 머신러닝 > data > 05_생선_분류_데이터셋.csv"
   ]
  },
  {
   "cell_type": "code",
   "execution_count": 2,
   "id": "5c6c16dd-008c-4ff7-8e7e-8ad9963e425d",
   "metadata": {},
   "outputs": [],
   "source": [
    "import pandas as pd\n",
    "import numpy as np"
   ]
  },
  {
   "cell_type": "code",
   "execution_count": 3,
   "id": "7ab61d60-1441-453d-a418-35fb10a6fcfa",
   "metadata": {},
   "outputs": [
    {
     "data": {
      "text/html": [
       "<div>\n",
       "<style scoped>\n",
       "    .dataframe tbody tr th:only-of-type {\n",
       "        vertical-align: middle;\n",
       "    }\n",
       "\n",
       "    .dataframe tbody tr th {\n",
       "        vertical-align: top;\n",
       "    }\n",
       "\n",
       "    .dataframe thead th {\n",
       "        text-align: right;\n",
       "    }\n",
       "</style>\n",
       "<table border=\"1\" class=\"dataframe\">\n",
       "  <thead>\n",
       "    <tr style=\"text-align: right;\">\n",
       "      <th></th>\n",
       "      <th>Species</th>\n",
       "      <th>Weight</th>\n",
       "      <th>Length</th>\n",
       "      <th>Diagonal</th>\n",
       "      <th>Height</th>\n",
       "      <th>Width</th>\n",
       "    </tr>\n",
       "  </thead>\n",
       "  <tbody>\n",
       "    <tr>\n",
       "      <th>0</th>\n",
       "      <td>Bream</td>\n",
       "      <td>242.0</td>\n",
       "      <td>25.4</td>\n",
       "      <td>30.0</td>\n",
       "      <td>11.5200</td>\n",
       "      <td>4.0200</td>\n",
       "    </tr>\n",
       "    <tr>\n",
       "      <th>1</th>\n",
       "      <td>Bream</td>\n",
       "      <td>290.0</td>\n",
       "      <td>26.3</td>\n",
       "      <td>31.2</td>\n",
       "      <td>12.4800</td>\n",
       "      <td>4.3056</td>\n",
       "    </tr>\n",
       "    <tr>\n",
       "      <th>2</th>\n",
       "      <td>Bream</td>\n",
       "      <td>340.0</td>\n",
       "      <td>26.5</td>\n",
       "      <td>31.1</td>\n",
       "      <td>12.3778</td>\n",
       "      <td>4.6961</td>\n",
       "    </tr>\n",
       "    <tr>\n",
       "      <th>3</th>\n",
       "      <td>Bream</td>\n",
       "      <td>363.0</td>\n",
       "      <td>29.0</td>\n",
       "      <td>33.5</td>\n",
       "      <td>12.7300</td>\n",
       "      <td>4.4555</td>\n",
       "    </tr>\n",
       "    <tr>\n",
       "      <th>4</th>\n",
       "      <td>Bream</td>\n",
       "      <td>430.0</td>\n",
       "      <td>29.0</td>\n",
       "      <td>34.0</td>\n",
       "      <td>12.4440</td>\n",
       "      <td>5.1340</td>\n",
       "    </tr>\n",
       "    <tr>\n",
       "      <th>...</th>\n",
       "      <td>...</td>\n",
       "      <td>...</td>\n",
       "      <td>...</td>\n",
       "      <td>...</td>\n",
       "      <td>...</td>\n",
       "      <td>...</td>\n",
       "    </tr>\n",
       "    <tr>\n",
       "      <th>154</th>\n",
       "      <td>Smelt</td>\n",
       "      <td>12.2</td>\n",
       "      <td>12.2</td>\n",
       "      <td>13.4</td>\n",
       "      <td>2.0904</td>\n",
       "      <td>1.3936</td>\n",
       "    </tr>\n",
       "    <tr>\n",
       "      <th>155</th>\n",
       "      <td>Smelt</td>\n",
       "      <td>13.4</td>\n",
       "      <td>12.4</td>\n",
       "      <td>13.5</td>\n",
       "      <td>2.4300</td>\n",
       "      <td>1.2690</td>\n",
       "    </tr>\n",
       "    <tr>\n",
       "      <th>156</th>\n",
       "      <td>Smelt</td>\n",
       "      <td>12.2</td>\n",
       "      <td>13.0</td>\n",
       "      <td>13.8</td>\n",
       "      <td>2.2770</td>\n",
       "      <td>1.2558</td>\n",
       "    </tr>\n",
       "    <tr>\n",
       "      <th>157</th>\n",
       "      <td>Smelt</td>\n",
       "      <td>19.7</td>\n",
       "      <td>14.3</td>\n",
       "      <td>15.2</td>\n",
       "      <td>2.8728</td>\n",
       "      <td>2.0672</td>\n",
       "    </tr>\n",
       "    <tr>\n",
       "      <th>158</th>\n",
       "      <td>Smelt</td>\n",
       "      <td>19.9</td>\n",
       "      <td>15.0</td>\n",
       "      <td>16.2</td>\n",
       "      <td>2.9322</td>\n",
       "      <td>1.8792</td>\n",
       "    </tr>\n",
       "  </tbody>\n",
       "</table>\n",
       "<p>159 rows × 6 columns</p>\n",
       "</div>"
      ],
      "text/plain": [
       "    Species  Weight  Length  Diagonal   Height   Width\n",
       "0     Bream   242.0    25.4      30.0  11.5200  4.0200\n",
       "1     Bream   290.0    26.3      31.2  12.4800  4.3056\n",
       "2     Bream   340.0    26.5      31.1  12.3778  4.6961\n",
       "3     Bream   363.0    29.0      33.5  12.7300  4.4555\n",
       "4     Bream   430.0    29.0      34.0  12.4440  5.1340\n",
       "..      ...     ...     ...       ...      ...     ...\n",
       "154   Smelt    12.2    12.2      13.4   2.0904  1.3936\n",
       "155   Smelt    13.4    12.4      13.5   2.4300  1.2690\n",
       "156   Smelt    12.2    13.0      13.8   2.2770  1.2558\n",
       "157   Smelt    19.7    14.3      15.2   2.8728  2.0672\n",
       "158   Smelt    19.9    15.0      16.2   2.9322  1.8792\n",
       "\n",
       "[159 rows x 6 columns]"
      ]
     },
     "execution_count": 3,
     "metadata": {},
     "output_type": "execute_result"
    }
   ],
   "source": [
    "fish = pd.read_csv('./data/05_생선_분류_데이터셋.csv',encoding='utf-8-sig')\n",
    "fish"
   ]
  },
  {
   "cell_type": "code",
   "execution_count": 4,
   "id": "7efebaad-030f-4775-959f-b3e43d5f7557",
   "metadata": {},
   "outputs": [],
   "source": [
    "# Species -> Weight -> Length -> Diagonal -> Height -> Width\n",
    "# 종류       무게      길이       대각선     높이       두께"
   ]
  },
  {
   "cell_type": "code",
   "execution_count": 5,
   "id": "c7bf3c0c-7dc2-4fae-8f6d-79396aa4db1f",
   "metadata": {},
   "outputs": [
    {
     "name": "stdout",
     "output_type": "stream",
     "text": [
      "['Bream' 'Roach' 'Whitefish' 'Parkki' 'Perch' 'Pike' 'Smelt']\n"
     ]
    }
   ],
   "source": [
    "### 종류 특성의 고유한 값 조회하기\n",
    "# fish['Species'].unique()\n",
    "print(pd.unique(fish['Species']))"
   ]
  },
  {
   "cell_type": "code",
   "execution_count": 6,
   "id": "4f769062-772a-4feb-93e0-5efebd01db7c",
   "metadata": {},
   "outputs": [
    {
     "data": {
      "text/plain": [
       "array([[242.    ,  25.4   ,  30.    ,  11.52  ,   4.02  ],\n",
       "       [290.    ,  26.3   ,  31.2   ,  12.48  ,   4.3056],\n",
       "       [340.    ,  26.5   ,  31.1   ,  12.3778,   4.6961],\n",
       "       [363.    ,  29.    ,  33.5   ,  12.73  ,   4.4555],\n",
       "       [430.    ,  29.    ,  34.    ,  12.444 ,   5.134 ]])"
      ]
     },
     "execution_count": 6,
     "metadata": {},
     "output_type": "execute_result"
    }
   ],
   "source": [
    "### 독립변수 추출하기\n",
    "# - 변수명은 fish_input\n",
    "# - 사이킷런 훈련에 사용하는 형태로 만들어주세요.. 출력까지..\n",
    "fish_input = fish[['Weight','Length','Diagonal','Height','Width']].to_numpy()\n",
    "fish_input[:5]"
   ]
  },
  {
   "cell_type": "code",
   "execution_count": 7,
   "id": "2cd672c8-06b0-4057-8cd8-5b1bbfaaa639",
   "metadata": {},
   "outputs": [
    {
     "data": {
      "text/plain": [
       "array(['Bream', 'Bream', 'Bream', 'Bream', 'Bream', 'Bream', 'Bream',\n",
       "       'Bream', 'Bream', 'Bream', 'Bream', 'Bream', 'Bream', 'Bream',\n",
       "       'Bream', 'Bream', 'Bream', 'Bream', 'Bream', 'Bream', 'Bream',\n",
       "       'Bream', 'Bream', 'Bream', 'Bream', 'Bream', 'Bream', 'Bream',\n",
       "       'Bream', 'Bream', 'Bream', 'Bream', 'Bream', 'Bream', 'Bream',\n",
       "       'Roach', 'Roach', 'Roach', 'Roach', 'Roach', 'Roach', 'Roach',\n",
       "       'Roach', 'Roach', 'Roach', 'Roach', 'Roach', 'Roach', 'Roach',\n",
       "       'Roach', 'Roach', 'Roach', 'Roach', 'Roach', 'Roach', 'Whitefish',\n",
       "       'Whitefish', 'Whitefish', 'Whitefish', 'Whitefish', 'Whitefish',\n",
       "       'Parkki', 'Parkki', 'Parkki', 'Parkki', 'Parkki', 'Parkki',\n",
       "       'Parkki', 'Parkki', 'Parkki', 'Parkki', 'Parkki', 'Perch', 'Perch',\n",
       "       'Perch', 'Perch', 'Perch', 'Perch', 'Perch', 'Perch', 'Perch',\n",
       "       'Perch', 'Perch', 'Perch', 'Perch', 'Perch', 'Perch', 'Perch',\n",
       "       'Perch', 'Perch', 'Perch', 'Perch', 'Perch', 'Perch', 'Perch',\n",
       "       'Perch', 'Perch', 'Perch', 'Perch', 'Perch', 'Perch', 'Perch',\n",
       "       'Perch', 'Perch', 'Perch', 'Perch', 'Perch', 'Perch', 'Perch',\n",
       "       'Perch', 'Perch', 'Perch', 'Perch', 'Perch', 'Perch', 'Perch',\n",
       "       'Perch', 'Perch', 'Perch', 'Perch', 'Perch', 'Perch', 'Perch',\n",
       "       'Perch', 'Perch', 'Perch', 'Perch', 'Perch', 'Pike', 'Pike',\n",
       "       'Pike', 'Pike', 'Pike', 'Pike', 'Pike', 'Pike', 'Pike', 'Pike',\n",
       "       'Pike', 'Pike', 'Pike', 'Pike', 'Pike', 'Pike', 'Pike', 'Smelt',\n",
       "       'Smelt', 'Smelt', 'Smelt', 'Smelt', 'Smelt', 'Smelt', 'Smelt',\n",
       "       'Smelt', 'Smelt', 'Smelt', 'Smelt', 'Smelt', 'Smelt'], dtype=object)"
      ]
     },
     "execution_count": 7,
     "metadata": {},
     "output_type": "execute_result"
    }
   ],
   "source": [
    "### 종속변수 만들기\n",
    "# - 변수명 : fish_target\n",
    "fish_target = fish['Species'].to_numpy()\n",
    "fish_target"
   ]
  },
  {
   "cell_type": "code",
   "execution_count": 8,
   "id": "b23b37cf-bc45-4748-86da-1686a2c38829",
   "metadata": {},
   "outputs": [
    {
     "name": "stdout",
     "output_type": "stream",
     "text": [
      "(119, 5)\n",
      "(119,)\n",
      "(40, 5)\n",
      "(40,)\n"
     ]
    }
   ],
   "source": [
    "### 훈련데이터와 테스트데이터로 나누기\n",
    "# - 변수명 어제와 동일\n",
    "# - seed = 42\n",
    "\n",
    "### 사용 패키지 불러들이기\n",
    "from sklearn.model_selection import train_test_split\n",
    "\n",
    "### 데이터 나누기\n",
    "train_input , test_input, train_target, test_target = \\\n",
    "train_test_split(fish_input,fish_target,test_size = 0.25, random_state = 42)\n",
    "\n",
    "### 차원 확인하기\n",
    "print(train_input.shape)\n",
    "print(train_target.shape)\n",
    "print(test_input.shape)\n",
    "print(test_target.shape)"
   ]
  },
  {
   "cell_type": "code",
   "execution_count": 9,
   "id": "73807bea-270a-49dd-89a6-5efcc0629492",
   "metadata": {},
   "outputs": [
    {
     "data": {
      "text/plain": [
       "array([[-0.88741352, -0.91804565, -1.03098914, -0.90464451, -0.80762518],\n",
       "       [-1.06924656, -1.50842035, -1.54345461, -1.58849582, -1.93803151],\n",
       "       [-0.54401367,  0.35641402,  0.30663259, -0.8135697 , -0.65388895],\n",
       "       [-0.34698097, -0.23396068, -0.22320459, -0.11905019, -0.12233464],\n",
       "       [-0.68475132, -0.51509149, -0.58801052, -0.8998784 , -0.50124996]])"
      ]
     },
     "execution_count": 9,
     "metadata": {},
     "output_type": "execute_result"
    }
   ],
   "source": [
    "### 정규화(표준화) : 스케일 표준화\n",
    "# - 변수 : train_scaled, test_scaled\n",
    "### 라이브러리 생성\n",
    "from sklearn.preprocessing import StandardScaler\n",
    "\n",
    "### 클래스(모델) 생성\n",
    "scaler = StandardScaler()\n",
    "\n",
    "### 스스로 표준점수 생성\n",
    "scaler.fit(train_input,train_target)\n",
    "\n",
    "### 훈련데이터를 표준점수로 변환하기\n",
    "train_scaled = scaler.transform(train_input)\n",
    "### 테스트데이터를 표준점수로 변환하기\n",
    "test_scaled = scaler.transform(test_input)\n",
    "\n",
    "### 샘플 5개 행 출력해보기\n",
    "test_scaled[:5]"
   ]
  },
  {
   "cell_type": "code",
   "execution_count": 10,
   "id": "6f66b197-e02e-419c-b909-b5e4e3709280",
   "metadata": {},
   "outputs": [
    {
     "name": "stdout",
     "output_type": "stream",
     "text": [
      "0.8907563025210085\n",
      "0.85\n"
     ]
    }
   ],
   "source": [
    "### k-최근접이웃분류 모델로 테스트\n",
    "#\n",
    "from sklearn.neighbors import KNeighborsClassifier\n",
    "kn = KNeighborsClassifier(n_neighbors = 3)\n",
    "kn.fit(train_scaled,train_target)\n",
    "pred = kn.predict(test_scaled[:5])\n",
    "### 훈련데이터 정확도\n",
    "print(kn.score(train_scaled,train_target))\n",
    "### 테스트데이터 정확도\n",
    "print(kn.score(test_scaled,test_target))"
   ]
  },
  {
   "cell_type": "code",
   "execution_count": 11,
   "id": "d40cdc4f-e04a-4539-b1de-776393ade3ff",
   "metadata": {},
   "outputs": [
    {
     "data": {
      "text/plain": [
       "array(['Perch', 'Smelt', 'Pike', 'Perch', 'Perch'], dtype=object)"
      ]
     },
     "execution_count": 11,
     "metadata": {},
     "output_type": "execute_result"
    }
   ],
   "source": [
    "pred"
   ]
  },
  {
   "cell_type": "code",
   "execution_count": 12,
   "id": "5eedc464-860a-4bcc-904b-40777c72ea71",
   "metadata": {},
   "outputs": [
    {
     "data": {
      "text/plain": [
       "array(['Perch', 'Smelt', 'Pike', 'Whitefish', 'Perch'], dtype=object)"
      ]
     },
     "execution_count": 12,
     "metadata": {},
     "output_type": "execute_result"
    }
   ],
   "source": [
    "test_target[:5]"
   ]
  },
  {
   "cell_type": "code",
   "execution_count": 13,
   "id": "d45d6dcb-adfd-4646-9509-943b2f88c6d0",
   "metadata": {
    "tags": []
   },
   "outputs": [
    {
     "name": "stdout",
     "output_type": "stream",
     "text": [
      "['Perch' 'Smelt' 'Pike' 'Perch' 'Perch']\n",
      "['Perch' 'Smelt' 'Pike' 'Whitefish' 'Perch']\n",
      "[('Perch', 'Perch'), ('Smelt', 'Smelt'), ('Pike', 'Pike'), ('Perch', 'Whitefish'), ('Perch', 'Perch')]\n",
      "[['Perch' 'Perch']\n",
      " ['Smelt' 'Smelt']\n",
      " ['Pike' 'Pike']\n",
      " ['Whitefish' 'Perch']\n",
      " ['Perch' 'Perch']]\n"
     ]
    }
   ],
   "source": [
    "### 상위 5개 예측하기\n",
    "print(kn.predict(test_scaled[:5]))\n",
    "print(test_target[:5])\n",
    "\n",
    "# [[실제값, 예측값] , [실제값, 예측값]....]\n",
    "print([a for a in zip(pred,test_target[:5])])\n",
    "print(np.column_stack((test_target[:5], kn.predict(test_scaled[:5]))))"
   ]
  },
  {
   "cell_type": "code",
   "execution_count": 14,
   "id": "01041c25-62d9-47fc-b0cb-f769dad9857a",
   "metadata": {},
   "outputs": [
    {
     "data": {
      "text/plain": [
       "array([[0.    , 0.    , 1.    , 0.    , 0.    , 0.    , 0.    ],\n",
       "       [0.    , 0.    , 0.    , 0.    , 0.    , 1.    , 0.    ],\n",
       "       [0.    , 0.    , 0.    , 1.    , 0.    , 0.    , 0.    ],\n",
       "       [0.    , 0.    , 0.6667, 0.    , 0.3333, 0.    , 0.    ],\n",
       "       [0.    , 0.    , 0.6667, 0.    , 0.3333, 0.    , 0.    ]])"
      ]
     },
     "execution_count": 14,
     "metadata": {},
     "output_type": "execute_result"
    }
   ],
   "source": [
    "### 각 행의 범주들의 확률값 확인\n",
    "# - 확률값의 범위 : 0 ~ 1 (0% ~ 100 %)\n",
    "# - 확률값 조회 함수 : predict_proba(테스트데이터)\n",
    "# - 사이킷런 분류 모델 공통으로 사용됨...\n",
    "# - 거리적인 확률이지 범주적인 확률이 아니라서 다중분류확률은 크게 의미가없다\n",
    "proba = kn.predict_proba(test_scaled[:5])\n",
    "np.round(proba, decimals=4)"
   ]
  },
  {
   "cell_type": "code",
   "execution_count": 15,
   "id": "c4f1c181-dcb3-46b7-83ec-3a57bed14b67",
   "metadata": {},
   "outputs": [
    {
     "name": "stdout",
     "output_type": "stream",
     "text": [
      "['Bream' 'Roach' 'Whitefish' 'Parkki' 'Perch' 'Pike' 'Smelt']\n",
      "['Bream' 'Parkki' 'Perch' 'Pike' 'Roach' 'Smelt' 'Whitefish']\n"
     ]
    }
   ],
   "source": [
    "# 순수한 데이터프레임 값\n",
    "print(pd.unique(fish['Species']))\n",
    "\n",
    "# 훈련모델이 가지고 있는 범주의 리스트 값 확인\n",
    "# 해석할때 꼭 알아야 한다\n",
    "# 알파벳 순서로 오름차순 정렬이다\n",
    "# classes모르면 unique한다음에 오름차순 정렬하면 된다\n",
    "\n",
    "print(kn.classes_)"
   ]
  },
  {
   "cell_type": "code",
   "execution_count": 16,
   "id": "4409c333-f2a6-4b8a-b460-87dc1ddd3c6d",
   "metadata": {},
   "outputs": [
    {
     "name": "stdout",
     "output_type": "stream",
     "text": [
      "[['Perch' 'Perch' 'Perch']\n",
      " ['Smelt' 'Smelt' 'Smelt']\n",
      " ['Pike' 'Pike' 'Pike']\n",
      " ['Roach' 'Perch' 'Perch']\n",
      " ['Perch' 'Perch' 'Roach']]\n"
     ]
    }
   ],
   "source": [
    "## 5개의 데이터의 이웃들 확인하기..\n",
    "# - 각 행마다 이웃이 3개씩\n",
    "distances, indexes = kn.kneighbors(test_scaled[:5])\n",
    "# print(distances)\n",
    "# print(indexes)\n",
    "print(train_target[indexes])"
   ]
  },
  {
   "cell_type": "code",
   "execution_count": 17,
   "id": "d7ad174d-eb27-4d86-90e8-1dd69dc15c8a",
   "metadata": {},
   "outputs": [
    {
     "name": "stdout",
     "output_type": "stream",
     "text": [
      "[[ 39  64  63]\n",
      " [ 93  99  43]\n",
      " [100 105  27]\n",
      " [104 115 106]\n",
      " [ 72  26  68]]\n",
      "[['Perch' 'Perch' 'Perch']]\n",
      "[['Smelt' 'Smelt' 'Smelt']]\n",
      "[['Pike' 'Pike' 'Pike']]\n",
      "[['Roach' 'Perch' 'Perch']]\n",
      "[['Perch' 'Perch' 'Roach']]\n"
     ]
    }
   ],
   "source": [
    "# 강사님풀이\n",
    "distances, indexes = kn.kneighbors(test_scaled[:5])\n",
    "print(indexes)\n",
    "for test_data in test_scaled[:5] :\n",
    "    distances, indexes = kn.kneighbors([test_data])\n",
    "    print(train_target[indexes])"
   ]
  },
  {
   "cell_type": "markdown",
   "id": "aa7c403d-3c2c-450f-b878-e860d16ae321",
   "metadata": {},
   "source": [
    "## 로지스틱 회귀분류(Logistic Regression)\n",
    "##### 분류에서 많이쓰고있고 선형쪽에는 많이 안쓴다"
   ]
  },
  {
   "cell_type": "code",
   "execution_count": 18,
   "id": "a52b5be2-c1ce-4da0-8167-8c252cc9cd22",
   "metadata": {},
   "outputs": [],
   "source": [
    "### 선형방정식 사용 : 다중회귀 방정식과 동일\n",
    "# - z = a * x1 + b * x2 ... + y절편\n",
    "# - z값 구하는 함수 : decision_function(훈련데이터)\n",
    "# - Z값의 범위 : 0보다 작거나 크거나 ...\n",
    "### 확률 : 0~1 사이의 값을 사용 (0% ~ 100%)\n",
    "# - 따라서, Z값은 확률의 0~1사이의 값으로 변환하는 작업이 필요...\n",
    "### 이때 사용하는 방법\n",
    "# - 시그모이드 방식(이진분류방식 사용),\n",
    "# - 소포트맥스 방식(다중분류방식 사용)\n",
    "# (모두 함수 지원됨)"
   ]
  },
  {
   "cell_type": "markdown",
   "id": "74eb97ce-6baa-4ca0-b957-a70b569b0c23",
   "metadata": {},
   "source": [
    "## 로지스틱 회귀로 이진분류하기\n",
    "##### - 시그모이드 함수 사용"
   ]
  },
  {
   "cell_type": "code",
   "execution_count": 19,
   "id": "aa71b209-04c6-4da1-87c6-9c85bc89253c",
   "metadata": {},
   "outputs": [
    {
     "data": {
      "text/plain": [
       "array(['Bream', 'Pike', 'Smelt', 'Perch', 'Parkki', 'Roach', 'Perch',\n",
       "       'Bream', 'Perch', 'Perch', 'Perch', 'Bream', 'Perch', 'Parkki',\n",
       "       'Perch', 'Bream', 'Smelt', 'Perch', 'Roach', 'Bream', 'Pike',\n",
       "       'Bream', 'Pike', 'Perch', 'Parkki', 'Bream', 'Perch', 'Pike',\n",
       "       'Bream', 'Perch', 'Parkki', 'Roach', 'Perch', 'Bream', 'Roach',\n",
       "       'Perch', 'Bream', 'Bream', 'Perch', 'Perch', 'Roach', 'Pike',\n",
       "       'Perch', 'Smelt', 'Pike', 'Roach', 'Perch', 'Parkki', 'Perch',\n",
       "       'Bream', 'Perch', 'Smelt', 'Perch', 'Parkki', 'Smelt', 'Perch',\n",
       "       'Perch', 'Roach', 'Bream', 'Perch', 'Perch', 'Roach', 'Roach',\n",
       "       'Perch', 'Perch', 'Bream', 'Roach', 'Bream', 'Roach', 'Parkki',\n",
       "       'Perch', 'Perch', 'Perch', 'Perch', 'Pike', 'Pike', 'Perch',\n",
       "       'Bream', 'Perch', 'Bream', 'Whitefish', 'Pike', 'Bream', 'Bream',\n",
       "       'Roach', 'Perch', 'Pike', 'Bream', 'Pike', 'Parkki', 'Roach',\n",
       "       'Perch', 'Roach', 'Smelt', 'Whitefish', 'Roach', 'Perch', 'Bream',\n",
       "       'Whitefish', 'Smelt', 'Pike', 'Roach', 'Smelt', 'Bream', 'Roach',\n",
       "       'Pike', 'Perch', 'Perch', 'Perch', 'Perch', 'Perch', 'Perch',\n",
       "       'Smelt', 'Bream', 'Parkki', 'Perch', 'Bream', 'Perch', 'Perch'],\n",
       "      dtype=object)"
      ]
     },
     "execution_count": 19,
     "metadata": {},
     "output_type": "execute_result"
    }
   ],
   "source": [
    "train_scaled\n",
    "train_target"
   ]
  },
  {
   "cell_type": "code",
   "execution_count": 20,
   "id": "3ac3ff6d-1f0e-4de0-9c2a-4631c4fb736d",
   "metadata": {},
   "outputs": [
    {
     "name": "stdout",
     "output_type": "stream",
     "text": [
      "Index(['Species', 'Weight', 'Length', 'Diagonal', 'Height', 'Width'], dtype='object')\n"
     ]
    }
   ],
   "source": [
    "### 이진분류 방식은 2개의 범주만 사용가능합니다.\n",
    "# - 기존 데이터에서 2개(Bream과 Smelt) 범주만 추출하여 사용\n",
    "# 독립변수명 - train_bream_smelt\n",
    "# 종속변수명 - target_bream_smelt\n",
    "ffish = fish[(fish['Species'] == 'Bream') | (fish['Species'] == 'Smelt')]\n",
    "print(ffish.columns)\n",
    "train_bream_smelt = ffish[['Weight', 'Length', 'Diagonal', 'Height', 'Width']].to_numpy()\n",
    "target_bream_smelt = ffish['Species'].to_numpy()"
   ]
  },
  {
   "cell_type": "code",
   "execution_count": 21,
   "id": "02dd1e02-91f0-408e-bb69-f6e90e507eeb",
   "metadata": {},
   "outputs": [],
   "source": [
    "# 인덱스 뽑기 방식\n",
    "indexes = []\n",
    "for i in range(len(train_target)):\n",
    "    if (train_target[i] == 'Bream') | (train_target[i] == 'Smelt'):\n",
    "        indexes.append(i)"
   ]
  },
  {
   "cell_type": "code",
   "execution_count": 22,
   "id": "0db392cb-6900-4809-a291-3fabdd57d5d5",
   "metadata": {
    "tags": []
   },
   "outputs": [
    {
     "data": {
      "text/plain": [
       "[0,\n",
       " 2,\n",
       " 7,\n",
       " 11,\n",
       " 15,\n",
       " 16,\n",
       " 19,\n",
       " 21,\n",
       " 25,\n",
       " 28,\n",
       " 33,\n",
       " 36,\n",
       " 37,\n",
       " 43,\n",
       " 49,\n",
       " 51,\n",
       " 54,\n",
       " 58,\n",
       " 65,\n",
       " 67,\n",
       " 77,\n",
       " 79,\n",
       " 82,\n",
       " 83,\n",
       " 87,\n",
       " 93,\n",
       " 97,\n",
       " 99,\n",
       " 102,\n",
       " 103,\n",
       " 112,\n",
       " 113,\n",
       " 116]"
      ]
     },
     "execution_count": 22,
     "metadata": {},
     "output_type": "execute_result"
    }
   ],
   "source": [
    "indexes"
   ]
  },
  {
   "cell_type": "code",
   "execution_count": 23,
   "id": "0b71c9c1-3dac-4a35-8766-46406893e3c8",
   "metadata": {},
   "outputs": [],
   "source": [
    "train_bream_smelt = train_scaled[indexes]"
   ]
  },
  {
   "cell_type": "code",
   "execution_count": 24,
   "id": "96795ce9-6963-4128-ae0e-e35337c1bc7d",
   "metadata": {
    "tags": []
   },
   "outputs": [
    {
     "data": {
      "text/plain": [
       "array(['Bream', 'Smelt', 'Bream', 'Bream', 'Bream', 'Smelt', 'Bream',\n",
       "       'Bream', 'Bream', 'Bream', 'Bream', 'Bream', 'Bream', 'Smelt',\n",
       "       'Bream', 'Smelt', 'Smelt', 'Bream', 'Bream', 'Bream', 'Bream',\n",
       "       'Bream', 'Bream', 'Bream', 'Bream', 'Smelt', 'Bream', 'Smelt',\n",
       "       'Smelt', 'Bream', 'Smelt', 'Bream', 'Bream'], dtype=object)"
      ]
     },
     "execution_count": 24,
     "metadata": {},
     "output_type": "execute_result"
    }
   ],
   "source": [
    "target_bream_smelt = train_target[indexes]\n",
    "target_bream_smelt"
   ]
  },
  {
   "cell_type": "code",
   "execution_count": 25,
   "id": "5db82b2d-6325-4c7e-a1de-429b4b2701e1",
   "metadata": {},
   "outputs": [
    {
     "data": {
      "text/plain": [
       "33"
      ]
     },
     "execution_count": 25,
     "metadata": {},
     "output_type": "execute_result"
    }
   ],
   "source": [
    "# 리스트에서 바로 뽑는 방식\n",
    "target_bream_smelt = train_target[(train_target == 'Bream') | (train_target == 'Smelt')]\n",
    "len(target_bream_smelt)"
   ]
  },
  {
   "cell_type": "code",
   "execution_count": 26,
   "id": "dd5f98ea-abfa-418a-8269-6e9914b472b3",
   "metadata": {},
   "outputs": [
    {
     "data": {
      "text/plain": [
       "33"
      ]
     },
     "execution_count": 26,
     "metadata": {},
     "output_type": "execute_result"
    }
   ],
   "source": [
    "train_bream_smelt = train_scaled[(train_target == 'Bream') | (train_target == 'Smelt')]\n",
    "len(train_bream_smelt)"
   ]
  },
  {
   "cell_type": "code",
   "execution_count": 27,
   "id": "3978ea82-0fce-41f3-b904-9e58d09bc285",
   "metadata": {},
   "outputs": [],
   "source": [
    "# 강사님 풀이\n",
    "target_bream_smelt = train_target[(train_target == 'Bream') | \\\n",
    "                                  (train_target == 'Smelt')]\n",
    "train_bream_smelt = train_scaled[(train_target == 'Bream') | \\\n",
    "                                 (train_target == 'Smelt')]"
   ]
  },
  {
   "cell_type": "code",
   "execution_count": 28,
   "id": "69ce679d-6eb8-48f1-8584-817edfde4fcd",
   "metadata": {},
   "outputs": [
    {
     "data": {
      "text/plain": [
       "1.0"
      ]
     },
     "execution_count": 28,
     "metadata": {},
     "output_type": "execute_result"
    }
   ],
   "source": [
    "### 이진분류 하기\n",
    "### 사용할 패키지 불러들이기\n",
    "from sklearn.linear_model import LogisticRegression\n",
    "lr = LogisticRegression()\n",
    "lr.fit(train_bream_smelt,target_bream_smelt)\n",
    "lr.score(train_bream_smelt,target_bream_smelt)\n",
    "# lg.score(train_bream_smelt,target_bream_smelt)"
   ]
  },
  {
   "cell_type": "code",
   "execution_count": 29,
   "id": "3e226126-2bde-4253-822f-bbc8e91b921e",
   "metadata": {},
   "outputs": [
    {
     "data": {
      "text/plain": [
       "array(['Bream', 'Smelt', 'Bream', 'Bream', 'Bream'], dtype=object)"
      ]
     },
     "execution_count": 29,
     "metadata": {},
     "output_type": "execute_result"
    }
   ],
   "source": [
    "## 예측 상위 5개\n",
    "lr.predict(train_bream_smelt[:5])"
   ]
  },
  {
   "cell_type": "code",
   "execution_count": 30,
   "id": "9a8b7591-6ecb-485d-b607-51baf6ffc053",
   "metadata": {},
   "outputs": [
    {
     "data": {
      "text/plain": [
       "array(['Bream', 'Smelt', 'Bream', 'Bream', 'Bream'], dtype=object)"
      ]
     },
     "execution_count": 30,
     "metadata": {},
     "output_type": "execute_result"
    }
   ],
   "source": [
    "target_bream_smelt[:5]"
   ]
  },
  {
   "cell_type": "code",
   "execution_count": 31,
   "id": "5074ef52-291c-467c-bc95-701f1d47ad3d",
   "metadata": {},
   "outputs": [
    {
     "name": "stdout",
     "output_type": "stream",
     "text": [
      "[[0.99759855 0.00240145]\n",
      " [0.02735183 0.97264817]\n",
      " [0.99486072 0.00513928]\n",
      " [0.98584202 0.01415798]\n",
      " [0.99767269 0.00232731]]\n"
     ]
    }
   ],
   "source": [
    "### 5개 행에 대한 범주별 확률 조회\n",
    "print(lr.predict_proba(train_bream_smelt[:5]))"
   ]
  },
  {
   "cell_type": "code",
   "execution_count": 32,
   "id": "2a131462-8868-4628-8b2f-30ce1f71ba4a",
   "metadata": {},
   "outputs": [
    {
     "name": "stdout",
     "output_type": "stream",
     "text": [
      "['Bream' 'Smelt']\n",
      "['Bream' 'Smelt']\n"
     ]
    }
   ],
   "source": [
    "# 순수한 데이터프레임 값\n",
    "print(pd.unique(target_bream_smelt[:5]))\n",
    "print(lr.classes_)"
   ]
  },
  {
   "cell_type": "code",
   "execution_count": 33,
   "id": "b9ee00c4-6419-4420-99b2-da5791624373",
   "metadata": {},
   "outputs": [
    {
     "name": "stdout",
     "output_type": "stream",
     "text": [
      "[[-0.4037798  -0.57620209 -0.66280298 -1.01290277 -0.73168947]] [-2.16155132]\n"
     ]
    }
   ],
   "source": [
    "print(lr.coef_, lr.intercept_)"
   ]
  },
  {
   "cell_type": "code",
   "execution_count": 34,
   "id": "ae73f456-8000-48a1-8ca8-b84b02d41efb",
   "metadata": {},
   "outputs": [],
   "source": [
    "# 컬럼명 알파벳순 오름차순 정렬한걸로 고려해야한다\n",
    "# -0.4037798*Diagonal + -0.57620209*Height, Length, Weight, Width + -2.16155132"
   ]
  },
  {
   "cell_type": "code",
   "execution_count": 35,
   "id": "f8ea4436-52b3-4638-b2ea-570932f9f95e",
   "metadata": {},
   "outputs": [
    {
     "name": "stdout",
     "output_type": "stream",
     "text": [
      "[-6.02927744  3.57123907 -5.26568906 -4.24321775 -6.0607117 ]\n",
      "[0.00240145 0.97264817 0.00513928 0.01415798 0.00232731]\n"
     ]
    }
   ],
   "source": [
    "# 이진분류에서 z값 (선형방정식의 결과값들)을 0~1로 변환 ...\n",
    "# z값 조회하기\n",
    "decisions = lr.decision_function(train_bream_smelt[:5])\n",
    "print(decisions)\n",
    "### 시그모이드 함수 : 싸이파이 패키지의 expit()\n",
    "from scipy.special import expit\n",
    "print(expit(decisions))"
   ]
  },
  {
   "cell_type": "code",
   "execution_count": 36,
   "id": "ae31c030-3828-43d5-a98a-04a96074445d",
   "metadata": {},
   "outputs": [],
   "source": [
    "### <시그모이드 함수(sigmoid funcion) 또는 로지스틱 함수>.....\n",
    "# - 이진분류라고 합니다.\n",
    "# - 종속변수의 항목(특성, 컬럼)은 2개일 때 주로 사용됨\n",
    "# - 범주 2개일 때 주로 사용됨\n",
    "\n",
    "# - 사용 패키지 : from scipy.special\n",
    "# - 사용 모듈 : import expit\n",
    "# - 사용 함수 : expit(z값)\n",
    "\n",
    "# - 0/1, Y/N 처럼 둘중 하나로 분류 할 때\n",
    "#  (기존에 KNN에서 사용 했었습니다.)\n",
    "# - 시그모이드 값의 범위 : 0과 1 사잇값 (0% ~ 100%)\n",
    "# - 범주들의 z 값을 기준으로 0과 1의 사잇값으로 변환하여 반환한다.\n",
    "\n",
    "# - 변환 공식 : 1 / (1 + np.exp(-z))\n",
    "#  : np.exp() : 지수값으로 변환하는 함수 (0~1)\n",
    "#  : -z : z값은 음수 사용\n",
    "#  : z = 0 일때, 확률은 0.5(50%)\n",
    "#  : z > 0 일때, 확률은 > 0.5 (51% 이상 ) --> 예측 확률이 높음\n",
    "#  : z < 0 일때, 확률은 < 0.5 (49% 미만)\n",
    "# - 여러 개 범주들 중에 확률이 가장 높은 범주 선택"
   ]
  },
  {
   "cell_type": "code",
   "execution_count": 37,
   "id": "e3363064-3af0-4f5f-a102-79920f0e0070",
   "metadata": {},
   "outputs": [
    {
     "data": {
      "image/png": "[encoded data removed]",
      "text/plain": [
       "<Figure size 432x288 with 1 Axes>"
      ]
     },
     "metadata": {
      "needs_background": "light"
     },
     "output_type": "display_data"
    }
   ],
   "source": [
    "### 시그모이드 함수 예시\n",
    "\n",
    "import numpy as np\n",
    "import matplotlib.pyplot as plt\n",
    "\n",
    "### 임의의 z값\n",
    "z = np.arange(-5, 5, 0.1)\n",
    "\n",
    "### 시그모이드 공식 사용\n",
    "# -np.exp() : 0~1의 지수로 변환하기\n",
    "#           : z값의 스케일을 통일 시키기 위해서\n",
    "#           : z값은 음수로 처리(제곱승 시에 분모로 계산)\n",
    "#           : 2^(-2) = 1/(2^2), 2^0 = 1\n",
    "phi = 1 / (1 + np.exp(-z))\n",
    "\n",
    "plt.plot(z, phi)\n",
    "plt.show()\n",
    "\n",
    "## x축은 z \n",
    "## y축은 시그모이드 산출값"
   ]
  },
  {
   "cell_type": "markdown",
   "id": "9bd8feaa-3d85-40a5-ae84-de9e38a9f2c3",
   "metadata": {},
   "source": [
    "## 다중분류"
   ]
  },
  {
   "cell_type": "code",
   "execution_count": 57,
   "id": "b1847049-041c-47f3-972d-b35b1feb2968",
   "metadata": {},
   "outputs": [],
   "source": [
    "### 다중분류는 모든 범주를 사용합니다.\n",
    "# - 독립변수도 모든 특성을 사용합니다.\n",
    "# - 모든 특성을 사용하다 보니 복잡도에 대한 부분을 고려해야 합니다.\n",
    "# - (너무 복잡해도 안되고, 느슨해도 안되고, 적당히 ... )\n",
    "# - 사용하는 클래스 : 이진분류와 동일\n",
    "# - 복잡도를 강약으로 조절하기 위해 규제강도 조절값 사용\n",
    "\n",
    "# - 규제강도 조절값 속성명 : C (대문자), 기존의 alpha와 같음\n",
    "# : alpha 값은 클수록 강도가 커졌다면,\n",
    "# : C값은 작을수록 강도가 커집니다.\n",
    "# : 기본값은 1. 보통 20정도로 완화 시킨 후 진행\n",
    "\n",
    "# - 훈련반복횟수 사용\n",
    "# : 훈련모델은 정확도를 높이기 위해 일반적으로 반복 수행을 합니다.\n",
    "# : 기본 반복횟수 : 100회\n",
    "# : 훈련 중에 100회보다 더 해야하는 경우 경고 창이 뜨는 경우 있음\n",
    "\n",
    "# : 독립변수의 특성이 많을 수록 훈련 반복횟수가 늘어나는 경우 발생\n",
    "# : 반복횟수 속성값 : max_iter\n",
    "# : 보통 반복횟수를 1000으로 놓고 진행하는 경우가 많음\n",
    "# - 이외 모든 훈련 함수는 기존과 동일"
   ]
  },
  {
   "cell_type": "code",
   "execution_count": 58,
   "id": "fda180d8-3bd8-435e-8991-7122fa1787bf",
   "metadata": {},
   "outputs": [
    {
     "name": "stdout",
     "output_type": "stream",
     "text": [
      "훈련 =  0.9327731092436975\n",
      "테스트 =  0.925\n"
     ]
    }
   ],
   "source": [
    "### 규제강도 = 20\n",
    "### 반복횟수 = 1000회\n",
    "# 훈련데이터와 테스트데이터에 대한 정확도 확인해 주세요..\n",
    "lr = LogisticRegression(C = 20, max_iter = 1000)\n",
    "lr.fit(train_scaled,train_target)\n",
    "print('훈련 = ', lr.score(train_scaled,train_target))\n",
    "print('테스트 = ', lr.score(test_scaled,test_target))"
   ]
  },
  {
   "cell_type": "code",
   "execution_count": 64,
   "id": "54c789ba-88ee-4e12-9458-d01b42fdd084",
   "metadata": {},
   "outputs": [
    {
     "name": "stdout",
     "output_type": "stream",
     "text": [
      "['Bream' 'Parkki' 'Perch' 'Pike' 'Roach' 'Smelt' 'Whitefish']\n",
      "[[0.    0.014 0.841 0.    0.136 0.007 0.003]\n",
      " [0.    0.003 0.044 0.    0.007 0.946 0.   ]\n",
      " [0.    0.    0.034 0.935 0.015 0.016 0.   ]\n",
      " [0.011 0.034 0.306 0.007 0.567 0.    0.076]\n",
      " [0.    0.    0.904 0.002 0.089 0.002 0.001]]\n"
     ]
    }
   ],
   "source": [
    "### 상위 5건으로 예측 진행\n",
    "pred = lr.predict(test_scaled[:5])\n",
    "\n",
    "### 전체 범주별 확률 확인\n",
    "print(lr.classes_)\n",
    "proba = lr.predict_proba(test_scaled[:5])\n",
    "print(np.round(proba, decimals=3))"
   ]
  },
  {
   "cell_type": "code",
   "execution_count": 71,
   "id": "8ec5902e-09a8-433d-b74a-faa583db23b2",
   "metadata": {},
   "outputs": [
    {
     "name": "stdout",
     "output_type": "stream",
     "text": [
      "[[-0.88741352 -0.91804565 -1.03098914 -0.90464451 -0.80762518]\n",
      " [-1.06924656 -1.50842035 -1.54345461 -1.58849582 -1.93803151]\n",
      " [-0.54401367  0.35641402  0.30663259 -0.8135697  -0.65388895]\n",
      " [-0.34698097 -0.23396068 -0.22320459 -0.11905019 -0.12233464]\n",
      " [-0.68475132 -0.51509149 -0.58801052 -0.8998784  -0.50124996]]\n",
      "[[-1.49001669 -1.02911188  2.59344182  7.70358216 -1.20070535]\n",
      " [ 0.19618154 -2.01070049 -3.77975316  6.50491991 -1.99481795]\n",
      " [ 3.56280088  6.34356158 -8.48970479 -5.75757495  3.79306719]\n",
      " [-0.10458248  3.60320123  3.93067908 -3.61738454 -1.75069682]\n",
      " [-1.40061602 -6.07502954  5.2596964  -0.87219392  1.86043801]\n",
      " [-1.38526513  1.49213827  1.39225555 -5.67734539 -4.40097836]\n",
      " [ 0.62149789 -2.32405917 -0.90661489  1.71599673  3.69369327]] [-0.09205102 -0.26290669  3.25101219 -0.14742096  2.65498547 -6.78784574\n",
      "  1.38422676]\n"
     ]
    }
   ],
   "source": [
    "## 계수 확인\n",
    "print(test_scaled[:5])\n",
    "print(lr.coef_, lr.intercept_)"
   ]
  },
  {
   "cell_type": "code",
   "execution_count": 67,
   "id": "ab59e168-18f5-4bfa-af61-4618e4fee75a",
   "metadata": {},
   "outputs": [
    {
     "name": "stdout",
     "output_type": "stream",
     "text": [
      "[[ -6.498   1.032   5.164  -2.729   3.339   0.327  -0.634]\n",
      " [-10.859   1.927   4.771  -2.398   2.978   7.841  -4.26 ]\n",
      " [ -4.335  -6.233   3.174   6.487   2.358   2.421  -3.872]\n",
      " [ -0.683   0.453   2.647  -1.187   3.265  -5.753   1.259]\n",
      " [ -6.397  -1.993   5.816  -0.11    3.503  -0.112  -0.707]]\n"
     ]
    }
   ],
   "source": [
    "### Z 산술연산 결과 확인하기\n",
    "decision = lr.decision_function(test_scaled[:5])\n",
    "print(np.round(decision, decimals = 3))"
   ]
  },
  {
   "cell_type": "code",
   "execution_count": 70,
   "id": "3ee44a70-198f-4332-b8ba-d60d20d9610b",
   "metadata": {},
   "outputs": [
    {
     "name": "stdout",
     "output_type": "stream",
     "text": [
      "[[0.    0.014 0.841 0.    0.136 0.007 0.003]\n",
      " [0.    0.003 0.044 0.    0.007 0.946 0.   ]\n",
      " [0.    0.    0.034 0.935 0.015 0.016 0.   ]\n",
      " [0.011 0.034 0.306 0.007 0.567 0.    0.076]\n",
      " [0.    0.    0.904 0.002 0.089 0.002 0.001]]\n"
     ]
    }
   ],
   "source": [
    "### 소프트맥스(softmax)\n",
    "# 사용하는 패키지 : scipy.special\n",
    "# 사용하는 모듈 : softmax\n",
    "\n",
    "from scipy.special import softmax\n",
    "\n",
    "proba = softmax(decision, axis=1)\n",
    "print(np.round(proba, decimals=3))"
   ]
  },
  {
   "cell_type": "markdown",
   "id": "89fc5d38-dd26-4c8f-a301-11eae0d8075c",
   "metadata": {},
   "source": [
    "##### 질문\n",
    "##### 이진분류에서 C랑 max_iter 파라미터 쓰면 그냥 다중분류로 바뀌는지\n",
    "##### 이진분류에서 종속변수 2가지로 추출 안하고 그냥 돌리면 어떻게 되는지\n",
    "##### 로지스틱 이외 분류알고리즘도 다중분류 되는지?"
   ]
  },
  {
   "cell_type": "code",
   "execution_count": null,
   "id": "2754e167-9a48-4156-9553-4d02876dc47c",
   "metadata": {},
   "outputs": [],
   "source": []
  },
  {
   "cell_type": "code",
   "execution_count": null,
   "id": "85c18857-9ea0-4b5d-a09d-d9c71c5e4ada",
   "metadata": {},
   "outputs": [],
   "source": []
  }
 ],
 "metadata": {
  "kernelspec": {
   "display_name": "django_kernel",
   "language": "python",
   "name": "django"
  },
  "language_info": {
   "codemirror_mode": {
    "name": "ipython",
    "version": 3
   },
   "file_extension": ".py",
   "mimetype": "text/x-python",
   "name": "python",
   "nbconvert_exporter": "python",
   "pygments_lexer": "ipython3",
   "version": "3.10.5"
  }
 },
 "nbformat": 4,
 "nbformat_minor": 5
}
