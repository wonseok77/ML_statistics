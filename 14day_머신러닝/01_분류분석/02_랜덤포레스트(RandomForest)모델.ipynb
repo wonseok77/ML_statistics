{
 "cells": [
  {
   "cell_type": "code",
   "execution_count": 2,
   "id": "ec818ace-2708-4a07-bb6e-091e9952a375",
   "metadata": {},
   "outputs": [
    {
     "data": {
      "text/plain": [
       "'\\n- 여러개의 Decision Tree(의사결정나무)를 묶어서 하나의 모델로 사용\\n- 학습 및 테스트 순서\\n  1. 데이터 생성\\n  2. 전처리\\n  3. 학습 및 테스트 데이터 생성\\n  4. 학습모델 생성\\n  5. 모델 예측(테스트)\\n  6. 정확도 산출(평가)\\n  \\n- 사용 데이터 : 타이타닉 생존율 분석\\n- 독립변수 : 연속형 데이터 (Pclass , age_sex(성별))\\n- 종속변수 : 범주형 데이터 (Survived(생존여부))\\n'"
      ]
     },
     "execution_count": 2,
     "metadata": {},
     "output_type": "execute_result"
    }
   ],
   "source": [
    "'''\n",
    "- 여러개의 Decision Tree(의사결정나무)를 묶어서 하나의 모델로 사용\n",
    "- 학습 및 테스트 순서\n",
    "  1. 데이터 생성\n",
    "  2. 전처리\n",
    "  3. 학습 및 테스트 데이터 생성\n",
    "  4. 학습모델 생성\n",
    "  5. 모델 예측(테스트)\n",
    "  6. 정확도 산출(평가)\n",
    "  \n",
    "- 사용 데이터 : 타이타닉 생존율 분석\n",
    "- 독립변수 : 연속형 데이터 (Pclass , age_sex(성별))\n",
    "- 종속변수 : 범주형 데이터 (Survived(생존여부))\n",
    "'''"
   ]
  },
  {
   "cell_type": "code",
   "execution_count": 5,
   "id": "f10e71cd-46f0-4f72-a9a6-735342e482ae",
   "metadata": {},
   "outputs": [],
   "source": [
    "### 라이브러리 불러들이기\n",
    "# 모델 라이브러리\n",
    "from sklearn.ensemble import RandomForestClassifier\n",
    "# 학습 및 테스트 데이터 추출을 위한 라이브러리\n",
    "from sklearn.model_selection import train_test_split\n",
    "\n",
    "import pandas as pd\n",
    "#모델 선택 알고리즘\n",
    "from sklearn import model_selection\n",
    "#평가 라이브러리\n",
    "from sklearn.metrics._scorer import accuracy_scorer"
   ]
  },
  {
   "cell_type": "code",
   "execution_count": 9,
   "id": "614e672a-c1f0-42bb-90c9-448d7bef1b8d",
   "metadata": {},
   "outputs": [
    {
     "data": {
      "text/plain": [
       "PassengerId    False\n",
       "Survived       False\n",
       "Pclass         False\n",
       "Name           False\n",
       "Sex            False\n",
       "Age             True\n",
       "SibSp          False\n",
       "Parch          False\n",
       "Ticket         False\n",
       "Fare           False\n",
       "Cabin           True\n",
       "Embarked        True\n",
       "dtype: bool"
      ]
     },
     "execution_count": 9,
     "metadata": {},
     "output_type": "execute_result"
    }
   ],
   "source": [
    "### 데이터 생성하기\n",
    "file = \"https://raw.githubusercontent.com/pykwon/python/master/testdata_utf8/titanic_data.csv\"\n",
    "df = pd.read_csv(file)\n",
    "df\n",
    "### 결측치 확인하기\n",
    "# 전체 행의 갯수 대비 결측치가 있는 컬럼 확인\n",
    "df.isnull().any()"
   ]
  },
  {
   "cell_type": "code",
   "execution_count": 10,
   "id": "ab3d5242-5b24-400c-9b84-8730fa160f64",
   "metadata": {},
   "outputs": [
    {
     "name": "stdout",
     "output_type": "stream",
     "text": [
      "(714, 12)\n"
     ]
    }
   ],
   "source": [
    "### 결측치 처리하기\n",
    "# 사용할 독립변수를 기준으로 결측치가 있는 모든 행들 삭제하기\n",
    "df = df.dropna(subset=['Pclass','Age','Sex'])\n",
    "# 행렬의 차원으로 데이터 형태 조회\n",
    "print(df.shape)"
   ]
  },
  {
   "cell_type": "code",
   "execution_count": 13,
   "id": "21883001-6248-485b-8f6c-59e0c1e18d3a",
   "metadata": {},
   "outputs": [
    {
     "data": {
      "text/html": [
       "<div>\n",
       "<style scoped>\n",
       "    .dataframe tbody tr th:only-of-type {\n",
       "        vertical-align: middle;\n",
       "    }\n",
       "\n",
       "    .dataframe tbody tr th {\n",
       "        vertical-align: top;\n",
       "    }\n",
       "\n",
       "    .dataframe thead th {\n",
       "        text-align: right;\n",
       "    }\n",
       "</style>\n",
       "<table border=\"1\" class=\"dataframe\">\n",
       "  <thead>\n",
       "    <tr style=\"text-align: right;\">\n",
       "      <th></th>\n",
       "      <th>Pclass</th>\n",
       "      <th>Age</th>\n",
       "      <th>Sex</th>\n",
       "    </tr>\n",
       "  </thead>\n",
       "  <tbody>\n",
       "    <tr>\n",
       "      <th>0</th>\n",
       "      <td>3</td>\n",
       "      <td>22.0</td>\n",
       "      <td>male</td>\n",
       "    </tr>\n",
       "    <tr>\n",
       "      <th>1</th>\n",
       "      <td>1</td>\n",
       "      <td>38.0</td>\n",
       "      <td>female</td>\n",
       "    </tr>\n",
       "    <tr>\n",
       "      <th>2</th>\n",
       "      <td>3</td>\n",
       "      <td>26.0</td>\n",
       "      <td>female</td>\n",
       "    </tr>\n",
       "  </tbody>\n",
       "</table>\n",
       "</div>"
      ],
      "text/plain": [
       "   Pclass   Age     Sex\n",
       "0       3  22.0    male\n",
       "1       1  38.0  female\n",
       "2       3  26.0  female"
      ]
     },
     "execution_count": 13,
     "metadata": {},
     "output_type": "execute_result"
    }
   ],
   "source": [
    "# 사용할 독립변수 추출하기\n",
    "# 보통 분석 시에는 숫자값으로 바꿔줍니다\n",
    "# 남/여 = > 0/1로\n",
    "# pclass : 등급별로 완핫인코딩\n",
    "df_x = df[['Pclass','Age','Sex']]\n",
    "df_x.head(3)"
   ]
  },
  {
   "cell_type": "code",
   "execution_count": 14,
   "id": "bcd37070-a464-470b-9bf1-a50e77605a6e",
   "metadata": {},
   "outputs": [],
   "source": [
    "from sklearn.preprocessing import OneHotEncoder\n",
    "from sklearn.preprocessing import LabelEncoder"
   ]
  },
  {
   "cell_type": "code",
   "execution_count": 15,
   "id": "44f3ddb9-25eb-4a6d-8cc8-0e70fb7a236e",
   "metadata": {},
   "outputs": [
    {
     "name": "stdout",
     "output_type": "stream",
     "text": [
      "     Pclass   Age  Sex\n",
      "0         3  22.0    1\n",
      "1         1  38.0    0\n",
      "2         3  26.0    0\n",
      "3         1  35.0    0\n",
      "4         3  35.0    1\n",
      "..      ...   ...  ...\n",
      "885       3  39.0    0\n",
      "886       2  27.0    1\n",
      "887       1  19.0    0\n",
      "889       1  26.0    1\n",
      "890       3  32.0    1\n",
      "\n",
      "[714 rows x 3 columns]\n"
     ]
    },
    {
     "name": "stderr",
     "output_type": "stream",
     "text": [
      "C:\\Users\\admin\\AppData\\Local\\Temp\\ipykernel_8148\\1682854390.py:2: SettingWithCopyWarning: \n",
      "A value is trying to be set on a copy of a slice from a DataFrame.\n",
      "Try using .loc[row_indexer,col_indexer] = value instead\n",
      "\n",
      "See the caveats in the documentation: https://pandas.pydata.org/pandas-docs/stable/user_guide/indexing.html#returning-a-view-versus-a-copy\n",
      "  df_x.loc[: ,\"Sex\"] = LabelEncoder().fit_transform(df_x[\"Sex\"])\n"
     ]
    }
   ],
   "source": [
    "### 성별 데이터를 정수값 0과 1로 변환하기\n",
    "df_x.loc[: ,\"Sex\"] = LabelEncoder().fit_transform(df_x[\"Sex\"])\n",
    "print(df_x)"
   ]
  },
  {
   "cell_type": "code",
   "execution_count": 16,
   "id": "bff9b21c-93a5-47dd-b4d4-f9513338d665",
   "metadata": {},
   "outputs": [
    {
     "data": {
      "text/html": [
       "<div>\n",
       "<style scoped>\n",
       "    .dataframe tbody tr th:only-of-type {\n",
       "        vertical-align: middle;\n",
       "    }\n",
       "\n",
       "    .dataframe tbody tr th {\n",
       "        vertical-align: top;\n",
       "    }\n",
       "\n",
       "    .dataframe thead th {\n",
       "        text-align: right;\n",
       "    }\n",
       "</style>\n",
       "<table border=\"1\" class=\"dataframe\">\n",
       "  <thead>\n",
       "    <tr style=\"text-align: right;\">\n",
       "      <th></th>\n",
       "      <th>Pclass</th>\n",
       "      <th>Age</th>\n",
       "      <th>Sex</th>\n",
       "    </tr>\n",
       "  </thead>\n",
       "  <tbody>\n",
       "    <tr>\n",
       "      <th>0</th>\n",
       "      <td>3</td>\n",
       "      <td>22.0</td>\n",
       "      <td>1</td>\n",
       "    </tr>\n",
       "    <tr>\n",
       "      <th>1</th>\n",
       "      <td>1</td>\n",
       "      <td>38.0</td>\n",
       "      <td>0</td>\n",
       "    </tr>\n",
       "    <tr>\n",
       "      <th>2</th>\n",
       "      <td>3</td>\n",
       "      <td>26.0</td>\n",
       "      <td>0</td>\n",
       "    </tr>\n",
       "    <tr>\n",
       "      <th>3</th>\n",
       "      <td>1</td>\n",
       "      <td>35.0</td>\n",
       "      <td>0</td>\n",
       "    </tr>\n",
       "    <tr>\n",
       "      <th>4</th>\n",
       "      <td>3</td>\n",
       "      <td>35.0</td>\n",
       "      <td>1</td>\n",
       "    </tr>\n",
       "    <tr>\n",
       "      <th>...</th>\n",
       "      <td>...</td>\n",
       "      <td>...</td>\n",
       "      <td>...</td>\n",
       "    </tr>\n",
       "    <tr>\n",
       "      <th>885</th>\n",
       "      <td>3</td>\n",
       "      <td>39.0</td>\n",
       "      <td>0</td>\n",
       "    </tr>\n",
       "    <tr>\n",
       "      <th>886</th>\n",
       "      <td>2</td>\n",
       "      <td>27.0</td>\n",
       "      <td>1</td>\n",
       "    </tr>\n",
       "    <tr>\n",
       "      <th>887</th>\n",
       "      <td>1</td>\n",
       "      <td>19.0</td>\n",
       "      <td>0</td>\n",
       "    </tr>\n",
       "    <tr>\n",
       "      <th>889</th>\n",
       "      <td>1</td>\n",
       "      <td>26.0</td>\n",
       "      <td>1</td>\n",
       "    </tr>\n",
       "    <tr>\n",
       "      <th>890</th>\n",
       "      <td>3</td>\n",
       "      <td>32.0</td>\n",
       "      <td>1</td>\n",
       "    </tr>\n",
       "  </tbody>\n",
       "</table>\n",
       "<p>714 rows × 3 columns</p>\n",
       "</div>"
      ],
      "text/plain": [
       "     Pclass   Age  Sex\n",
       "0         3  22.0    1\n",
       "1         1  38.0    0\n",
       "2         3  26.0    0\n",
       "3         1  35.0    0\n",
       "4         3  35.0    1\n",
       "..      ...   ...  ...\n",
       "885       3  39.0    0\n",
       "886       2  27.0    1\n",
       "887       1  19.0    0\n",
       "889       1  26.0    1\n",
       "890       3  32.0    1\n",
       "\n",
       "[714 rows x 3 columns]"
      ]
     },
     "execution_count": 16,
     "metadata": {},
     "output_type": "execute_result"
    }
   ],
   "source": [
    "df_x"
   ]
  },
  {
   "cell_type": "code",
   "execution_count": 22,
   "id": "f9811d0f-ae94-47d7-bfc9-a025edf6e371",
   "metadata": {},
   "outputs": [
    {
     "data": {
      "text/html": [
       "<div>\n",
       "<style scoped>\n",
       "    .dataframe tbody tr th:only-of-type {\n",
       "        vertical-align: middle;\n",
       "    }\n",
       "\n",
       "    .dataframe tbody tr th {\n",
       "        vertical-align: top;\n",
       "    }\n",
       "\n",
       "    .dataframe thead th {\n",
       "        text-align: right;\n",
       "    }\n",
       "</style>\n",
       "<table border=\"1\" class=\"dataframe\">\n",
       "  <thead>\n",
       "    <tr style=\"text-align: right;\">\n",
       "      <th></th>\n",
       "      <th>f_class</th>\n",
       "      <th>s_class</th>\n",
       "      <th>t_class</th>\n",
       "    </tr>\n",
       "  </thead>\n",
       "  <tbody>\n",
       "    <tr>\n",
       "      <th>0</th>\n",
       "      <td>0.0</td>\n",
       "      <td>0.0</td>\n",
       "      <td>1.0</td>\n",
       "    </tr>\n",
       "    <tr>\n",
       "      <th>1</th>\n",
       "      <td>1.0</td>\n",
       "      <td>0.0</td>\n",
       "      <td>0.0</td>\n",
       "    </tr>\n",
       "    <tr>\n",
       "      <th>2</th>\n",
       "      <td>0.0</td>\n",
       "      <td>0.0</td>\n",
       "      <td>1.0</td>\n",
       "    </tr>\n",
       "    <tr>\n",
       "      <th>3</th>\n",
       "      <td>1.0</td>\n",
       "      <td>0.0</td>\n",
       "      <td>0.0</td>\n",
       "    </tr>\n",
       "    <tr>\n",
       "      <th>4</th>\n",
       "      <td>0.0</td>\n",
       "      <td>0.0</td>\n",
       "      <td>1.0</td>\n",
       "    </tr>\n",
       "    <tr>\n",
       "      <th>...</th>\n",
       "      <td>...</td>\n",
       "      <td>...</td>\n",
       "      <td>...</td>\n",
       "    </tr>\n",
       "    <tr>\n",
       "      <th>885</th>\n",
       "      <td>0.0</td>\n",
       "      <td>0.0</td>\n",
       "      <td>1.0</td>\n",
       "    </tr>\n",
       "    <tr>\n",
       "      <th>886</th>\n",
       "      <td>0.0</td>\n",
       "      <td>1.0</td>\n",
       "      <td>0.0</td>\n",
       "    </tr>\n",
       "    <tr>\n",
       "      <th>887</th>\n",
       "      <td>1.0</td>\n",
       "      <td>0.0</td>\n",
       "      <td>0.0</td>\n",
       "    </tr>\n",
       "    <tr>\n",
       "      <th>889</th>\n",
       "      <td>1.0</td>\n",
       "      <td>0.0</td>\n",
       "      <td>0.0</td>\n",
       "    </tr>\n",
       "    <tr>\n",
       "      <th>890</th>\n",
       "      <td>0.0</td>\n",
       "      <td>0.0</td>\n",
       "      <td>1.0</td>\n",
       "    </tr>\n",
       "  </tbody>\n",
       "</table>\n",
       "<p>714 rows × 3 columns</p>\n",
       "</div>"
      ],
      "text/plain": [
       "     f_class  s_class  t_class\n",
       "0        0.0      0.0      1.0\n",
       "1        1.0      0.0      0.0\n",
       "2        0.0      0.0      1.0\n",
       "3        1.0      0.0      0.0\n",
       "4        0.0      0.0      1.0\n",
       "..       ...      ...      ...\n",
       "885      0.0      0.0      1.0\n",
       "886      0.0      1.0      0.0\n",
       "887      1.0      0.0      0.0\n",
       "889      1.0      0.0      0.0\n",
       "890      0.0      0.0      1.0\n",
       "\n",
       "[714 rows x 3 columns]"
      ]
     },
     "execution_count": 22,
     "metadata": {},
     "output_type": "execute_result"
    }
   ],
   "source": [
    "# 원핫인코딩하는이유 정확도가 높아진다 ?\n",
    "import numpy as np\n",
    "df_x2 = pd.DataFrame(OneHotEncoder().fit_transform(df_x['Pclass'].values[:,np.newaxis]).toarray(),\n",
    "                    columns = [\"f_class\",\"s_class\",\"t_class\"],\n",
    "                    index = df_x.index)\n",
    "df_x2"
   ]
  },
  {
   "cell_type": "code",
   "execution_count": 24,
   "id": "c00f8c54-1006-48f9-8645-b5c85f209603",
   "metadata": {},
   "outputs": [
    {
     "data": {
      "text/html": [
       "<div>\n",
       "<style scoped>\n",
       "    .dataframe tbody tr th:only-of-type {\n",
       "        vertical-align: middle;\n",
       "    }\n",
       "\n",
       "    .dataframe tbody tr th {\n",
       "        vertical-align: top;\n",
       "    }\n",
       "\n",
       "    .dataframe thead th {\n",
       "        text-align: right;\n",
       "    }\n",
       "</style>\n",
       "<table border=\"1\" class=\"dataframe\">\n",
       "  <thead>\n",
       "    <tr style=\"text-align: right;\">\n",
       "      <th></th>\n",
       "      <th>Pclass</th>\n",
       "      <th>Age</th>\n",
       "      <th>Sex</th>\n",
       "      <th>f_class</th>\n",
       "      <th>s_class</th>\n",
       "      <th>t_class</th>\n",
       "    </tr>\n",
       "  </thead>\n",
       "  <tbody>\n",
       "    <tr>\n",
       "      <th>0</th>\n",
       "      <td>3</td>\n",
       "      <td>22.0</td>\n",
       "      <td>1</td>\n",
       "      <td>0.0</td>\n",
       "      <td>0.0</td>\n",
       "      <td>1.0</td>\n",
       "    </tr>\n",
       "    <tr>\n",
       "      <th>1</th>\n",
       "      <td>1</td>\n",
       "      <td>38.0</td>\n",
       "      <td>0</td>\n",
       "      <td>1.0</td>\n",
       "      <td>0.0</td>\n",
       "      <td>0.0</td>\n",
       "    </tr>\n",
       "    <tr>\n",
       "      <th>2</th>\n",
       "      <td>3</td>\n",
       "      <td>26.0</td>\n",
       "      <td>0</td>\n",
       "      <td>0.0</td>\n",
       "      <td>0.0</td>\n",
       "      <td>1.0</td>\n",
       "    </tr>\n",
       "    <tr>\n",
       "      <th>3</th>\n",
       "      <td>1</td>\n",
       "      <td>35.0</td>\n",
       "      <td>0</td>\n",
       "      <td>1.0</td>\n",
       "      <td>0.0</td>\n",
       "      <td>0.0</td>\n",
       "    </tr>\n",
       "    <tr>\n",
       "      <th>4</th>\n",
       "      <td>3</td>\n",
       "      <td>35.0</td>\n",
       "      <td>1</td>\n",
       "      <td>0.0</td>\n",
       "      <td>0.0</td>\n",
       "      <td>1.0</td>\n",
       "    </tr>\n",
       "    <tr>\n",
       "      <th>...</th>\n",
       "      <td>...</td>\n",
       "      <td>...</td>\n",
       "      <td>...</td>\n",
       "      <td>...</td>\n",
       "      <td>...</td>\n",
       "      <td>...</td>\n",
       "    </tr>\n",
       "    <tr>\n",
       "      <th>885</th>\n",
       "      <td>3</td>\n",
       "      <td>39.0</td>\n",
       "      <td>0</td>\n",
       "      <td>0.0</td>\n",
       "      <td>0.0</td>\n",
       "      <td>1.0</td>\n",
       "    </tr>\n",
       "    <tr>\n",
       "      <th>886</th>\n",
       "      <td>2</td>\n",
       "      <td>27.0</td>\n",
       "      <td>1</td>\n",
       "      <td>0.0</td>\n",
       "      <td>1.0</td>\n",
       "      <td>0.0</td>\n",
       "    </tr>\n",
       "    <tr>\n",
       "      <th>887</th>\n",
       "      <td>1</td>\n",
       "      <td>19.0</td>\n",
       "      <td>0</td>\n",
       "      <td>1.0</td>\n",
       "      <td>0.0</td>\n",
       "      <td>0.0</td>\n",
       "    </tr>\n",
       "    <tr>\n",
       "      <th>889</th>\n",
       "      <td>1</td>\n",
       "      <td>26.0</td>\n",
       "      <td>1</td>\n",
       "      <td>1.0</td>\n",
       "      <td>0.0</td>\n",
       "      <td>0.0</td>\n",
       "    </tr>\n",
       "    <tr>\n",
       "      <th>890</th>\n",
       "      <td>3</td>\n",
       "      <td>32.0</td>\n",
       "      <td>1</td>\n",
       "      <td>0.0</td>\n",
       "      <td>0.0</td>\n",
       "      <td>1.0</td>\n",
       "    </tr>\n",
       "  </tbody>\n",
       "</table>\n",
       "<p>714 rows × 6 columns</p>\n",
       "</div>"
      ],
      "text/plain": [
       "     Pclass   Age  Sex  f_class  s_class  t_class\n",
       "0         3  22.0    1      0.0      0.0      1.0\n",
       "1         1  38.0    0      1.0      0.0      0.0\n",
       "2         3  26.0    0      0.0      0.0      1.0\n",
       "3         1  35.0    0      1.0      0.0      0.0\n",
       "4         3  35.0    1      0.0      0.0      1.0\n",
       "..      ...   ...  ...      ...      ...      ...\n",
       "885       3  39.0    0      0.0      0.0      1.0\n",
       "886       2  27.0    1      0.0      1.0      0.0\n",
       "887       1  19.0    0      1.0      0.0      0.0\n",
       "889       1  26.0    1      1.0      0.0      0.0\n",
       "890       3  32.0    1      0.0      0.0      1.0\n",
       "\n",
       "[714 rows x 6 columns]"
      ]
     },
     "execution_count": 24,
     "metadata": {},
     "output_type": "execute_result"
    }
   ],
   "source": [
    "### 기존 df_x 데이터프레임에 위에 pclass 데이터프레임을 옆으로 붙이기\n",
    "df_x = pd.concat([df_x, df_x2], axis=1)\n",
    "df_x"
   ]
  },
  {
   "cell_type": "code",
   "execution_count": 25,
   "id": "604d98f9-c85a-4085-b624-666b8e0437c2",
   "metadata": {},
   "outputs": [
    {
     "data": {
      "text/plain": [
       "0      0\n",
       "1      1\n",
       "2      1\n",
       "3      1\n",
       "4      0\n",
       "      ..\n",
       "885    0\n",
       "886    0\n",
       "887    1\n",
       "889    1\n",
       "890    0\n",
       "Name: Survived, Length: 714, dtype: int64"
      ]
     },
     "execution_count": 25,
     "metadata": {},
     "output_type": "execute_result"
    }
   ],
   "source": [
    "### 종속변수 추출하기\n",
    "df_y = df[\"Survived\"]\n",
    "df_y"
   ]
  },
  {
   "cell_type": "code",
   "execution_count": 26,
   "id": "77fcf3ab-108a-41e8-b311-50f445da61bc",
   "metadata": {},
   "outputs": [
    {
     "name": "stdout",
     "output_type": "stream",
     "text": [
      "train_x =  499\n",
      "test_x =  215\n",
      "train_y =  499\n",
      "test_y =  215\n"
     ]
    }
   ],
   "source": [
    "### train 데이터와 test 데이터 만들기\n",
    "# 추출 기준 : 테스트(test) 데이터 30%, 학습(train) 데이터 70%\n",
    "# 디폴트 추출 기준 : 0.25\n",
    "\n",
    "train_x, test_x, train_y, test_y = train_test_split(df_x,df_y, test_size = 0.3)\n",
    "print('train_x = ', len(train_x))\n",
    "print('test_x = ', len(test_x))\n",
    "print('train_y = ', len(train_y))\n",
    "print('test_y = ', len(test_y))"
   ]
  },
  {
   "cell_type": "code",
   "execution_count": 30,
   "id": "12d457ed-456a-4e96-8161-25feb3398051",
   "metadata": {},
   "outputs": [
    {
     "name": "stdout",
     "output_type": "stream",
     "text": [
      "RandomForestClassifier(criterion='entropy', n_estimators=500)\n"
     ]
    }
   ],
   "source": [
    "## 학습모델 생성하기\n",
    "# 모델 객체 생성하기\n",
    "# n_estimators : 사용할 트리의 갯수 지정\n",
    "# criterion : 균형잡힌 트리로 분리하기\n",
    "model = RandomForestClassifier(n_estimators = 500, criterion = \"entropy\")\n",
    "\n",
    "# 학습모델 생성하기 ..\n",
    "fit_model = model.fit(train_x, train_y)\n",
    "\n",
    "# 한번에 객체생성과 학습모델 생성은 아래와 같이 ... 붙여서 ... 둠\n",
    "# RandomForestClassifier(n_estimators = 500, criterion = \"entropy\").model.fit(train_x, train_y)\n",
    "print(fit_model)"
   ]
  },
  {
   "cell_type": "code",
   "execution_count": 31,
   "id": "51efd033-5014-488f-b054-1fcc0cdb259d",
   "metadata": {},
   "outputs": [
    {
     "name": "stdout",
     "output_type": "stream",
     "text": [
      "예측값 = \n",
      " [1 1 1 0 0 1 0 1 0 0 1 0 0 1 0 0 0 0 1 0 0 0 0 0 0 0 1 0 1 0 0 0 0 1 1 0 0\n",
      " 0 0 0 0 0 0 0 1 1 0 0 1 0 0 0 1 1 0 1 0 0 0 0 1 0 1 0 0 1 0 1 1 1 0 0 1 1\n",
      " 1 0 1 1 0 1 1 0 1 1 1 0 0 0 0 0 1 0 0 1 0 0 0 0 0 0 1 0 0 0 1 0 0 0 0 0 0\n",
      " 0 0 0 0 0 1 0 0 0 0 1 0 1 1 1 0 1 1 0 0 1 1 0 1 0 0 1 0 0 1 0 0 0 0 1 1 1\n",
      " 0 0 1 0 0 0 0 0 0 1 0 0 0 1 0 0 0 0 0 0 0 0 0 1 0 0 0 0 0 0 1 0 0 0 0 0 0\n",
      " 0 0 1 1 0 0 0 0 1 1 1 0 0 1 0 0 0 1 0 1 1 0 0 0 1 1 0 0 0 1]\n",
      "---------------------------\n",
      "실제값 = \n",
      " [0 1 1 0 0 1 0 1 1 0 1 0 0 1 0 0 0 1 1 1 1 0 0 0 0 0 0 1 1 1 1 0 0 1 1 0 0\n",
      " 0 0 0 0 0 0 0 1 1 0 0 1 0 0 0 1 1 1 1 0 0 1 0 1 0 0 0 0 1 0 1 1 1 0 0 1 1\n",
      " 1 1 1 1 0 1 1 0 1 1 0 0 0 0 0 0 0 1 0 1 0 0 0 1 1 0 1 0 0 0 1 0 1 0 1 1 0\n",
      " 0 1 0 1 0 1 1 0 0 1 1 0 0 0 1 0 1 1 1 0 1 0 0 1 0 1 1 0 0 1 0 1 0 0 1 1 1\n",
      " 0 0 1 1 0 0 0 1 0 1 1 0 0 1 0 0 0 0 1 0 0 1 0 1 1 0 0 0 0 0 1 0 0 0 1 0 0\n",
      " 1 0 0 1 0 0 0 0 1 1 1 0 0 1 0 0 0 1 1 1 0 1 0 0 0 1 0 0 0 1]\n"
     ]
    }
   ],
   "source": [
    "### 모델 테스트(예측)하기...\n",
    "pred = fit_model.predict(test_x)\n",
    "print('예측값 = \\n', pred)\n",
    "print('---------------------------')\n",
    "print('실제값 = \\n', test_y.ravel())"
   ]
  },
  {
   "cell_type": "code",
   "execution_count": 32,
   "id": "97c04e09-3459-4580-a9e8-9ec3168427c3",
   "metadata": {},
   "outputs": [],
   "source": [
    "### 모델 평가하기 : 정확도 확인하기\n",
    "from sklearn.metrics import accuracy_score"
   ]
  },
  {
   "cell_type": "code",
   "execution_count": 33,
   "id": "91d1b3b6-1121-4e4f-acb2-139d91f1ca42",
   "metadata": {},
   "outputs": [
    {
     "name": "stdout",
     "output_type": "stream",
     "text": [
      "정확도(accuracy_score) =  0.7953488372093023\n",
      "lib 정확도(accuracy_score) =  0.7953488372093023\n"
     ]
    }
   ],
   "source": [
    "### 계산에 의한 정확도 확인\n",
    "print('정확도(accuracy_score) = ', sum(test_y == pred) / len(test_y))\n",
    "\n",
    "### 라이브러리를 이용한 정확도 확인\n",
    "print('lib 정확도(accuracy_score) = ' , accuracy_score(test_y, pred))"
   ]
  },
  {
   "cell_type": "markdown",
   "id": "417de204-73b3-473d-82c2-9263d39cff97",
   "metadata": {},
   "source": [
    "### 병렬처리 vs 직렬처리\n",
    "##### - 병렬처리(RandomForest 모델) vs 직렬처리(Boosting 방식)"
   ]
  },
  {
   "cell_type": "code",
   "execution_count": 34,
   "id": "b775d244-819b-4573-beb9-91e5a57c64a7",
   "metadata": {},
   "outputs": [],
   "source": [
    "### 사용할 라이브러리\n",
    "import pandas as pd\n",
    "from sklearn import datasets\n",
    "from sklearn.model_selection import train_test_split\n",
    "\n",
    "from sklearn.ensemble import RandomForestClassifier\n",
    "from sklearn import metrics\n",
    "import numpy as np\n",
    "# pip install xgboost\n",
    "# 직렬처리 라이브러리\n",
    "import xgboost as xgb\n"
   ]
  },
  {
   "cell_type": "code",
   "execution_count": 42,
   "id": "6b91292e-7416-4113-ae4a-20c137ea6fa2",
   "metadata": {
    "tags": []
   },
   "outputs": [],
   "source": [
    "### 데이터 생성\n",
    "iris = datasets.load_iris()\n",
    "\n",
    "\n",
    "### 데이터 프레임 생성\n",
    "data = pd.DataFrame({\n",
    "'sepal length' : iris.data[:,0],\n",
    "'sepal width' : iris.data[:,1],\n",
    "'petal length' : iris.data[:,2],\n",
    "'petal width' : iris.data[:,3],\n",
    "'species' : iris.target\n",
    "})\n",
    "data\n",
    "\n",
    "\n",
    "\n",
    "## 독립변수(x)\n",
    "x = data[['sepal length','sepal width','petal length','petal width']]\n",
    "\n",
    "## 종속변수(y)\n",
    "y = data['species']"
   ]
  },
  {
   "cell_type": "code",
   "execution_count": 48,
   "id": "4a82f0d7-fe24-4a96-b6cf-838c4b518dd0",
   "metadata": {},
   "outputs": [],
   "source": [
    "### 테스트 데이터 3개, 학습 데이터 70% 분류하기\n",
    "x_train, x_test, y_train , y_test = train_test_split(x,y,test_size = 0.3, random_state = 123)"
   ]
  },
  {
   "cell_type": "code",
   "execution_count": 52,
   "id": "7577b077-b2d2-4993-8034-963c5c4fd1cd",
   "metadata": {},
   "outputs": [
    {
     "name": "stdout",
     "output_type": "stream",
     "text": [
      "RandomForestClassifier()\n",
      "예측결과 = \n",
      " [1 2 2 1 0 1 1 0 0 1 2 0 1 2 2 2 0 0 1 0 0 1 0 2 0 0 0 2 2 0 2 1 0 0 1 1 2\n",
      " 0 0 1 1 0 2 2 2]\n",
      "정확도 =  0.9333333333333333\n"
     ]
    }
   ],
   "source": [
    "### 학습모델 생성하기\n",
    "# 객체 생성\n",
    "model = RandomForestClassifier(n_estimators = 100)\n",
    "\n",
    "# 학습모델 생성하기\n",
    "fit_model = model.fit(x_train, y_train)\n",
    "\n",
    "print(fit_model)\n",
    "\n",
    "## 예측하기\n",
    "y_pred = fit_model.predict(x_test)\n",
    "print(\"예측결과 = \\n\", y_pred)\n",
    "\n",
    "### 정확도 확인하기\n",
    "print('정확도 = ' , metrics.accuracy_score(y_test, y_pred))"
   ]
  },
  {
   "cell_type": "code",
   "execution_count": 58,
   "id": "ad07ab8e-7b22-4e80-947c-143ab0c28dc0",
   "metadata": {},
   "outputs": [
    {
     "name": "stdout",
     "output_type": "stream",
     "text": [
      "XGBClassifier(base_score=0.5, booster='gbtree', callbacks=None,\n",
      "              colsample_bylevel=1, colsample_bynode=1, colsample_bytree=1,\n",
      "              early_stopping_rounds=None, enable_categorical=False,\n",
      "              eval_metric=None, gamma=0, gpu_id=-1, grow_policy='depthwise',\n",
      "              importance_type=None, interaction_constraints='',\n",
      "              learning_rate=0.300000012, max_bin=256, max_cat_to_onehot=4,\n",
      "              max_delta_step=0, max_depth=4, max_leaves=0, min_child_weight=1,\n",
      "              missing=nan, monotone_constraints='()', n_estimators=101,\n",
      "              n_jobs=0, num_parallel_tree=1, objective='multi:softprob',\n",
      "              predictor='auto', random_state=0, reg_alpha=0, ...)\n",
      "예측결과 = \n",
      " [1 2 2 1 0 1 1 0 0 1 2 0 1 2 2 2 0 0 1 0 0 1 0 2 0 0 0 2 2 0 2 1 0 0 1 1 2\n",
      " 0 0 1 1 0 2 2 2]\n",
      "정확도 =  0.9333333333333333\n"
     ]
    }
   ],
   "source": [
    "### 학습모델 생성하기\n",
    "# 객체 생성\n",
    "#model = RandomForestClassifier(n_estimators = 100)\n",
    "\n",
    "\n",
    "# 직렬처리 방식\n",
    "# - booster : 의사결정 기반 모형(gbtree), 선형모델(linear) 둘중 한가지 사용\n",
    "# - max_depth : 과적합 방지를 위해 사용(default : 6, 보통 3~10 사이 값 사용)\n",
    "model = xgb.XGBClassifier(booster = 'gbtree', max_depth = 4, n_estimators=101)\n",
    "\n",
    "# 학습모델 생성하기\n",
    "fit_model = model.fit(x_train, y_train)\n",
    "\n",
    "print(fit_model)\n",
    "\n",
    "## 예측하기\n",
    "y_pred = fit_model.predict(x_test)\n",
    "print(\"예측결과 = \\n\", y_pred)\n",
    "\n",
    "### 정확도 확인하기\n",
    "print('정확도 = ' , metrics.accuracy_score(y_test, y_pred))"
   ]
  },
  {
   "cell_type": "code",
   "execution_count": 59,
   "id": "3b5a3318-5bca-441d-84c4-cd4252e73c46",
   "metadata": {},
   "outputs": [],
   "source": [
    "import pandas as pd\n",
    "import matplotlib.pyplot as plt\n",
    "import seaborn as sns"
   ]
  },
  {
   "cell_type": "code",
   "execution_count": 62,
   "id": "e4712853-1e4c-4b35-96c1-05794e53f2c1",
   "metadata": {},
   "outputs": [
    {
     "data": {
      "image/png": "[encoded data removed]",
      "text/plain": [
       "<Figure size 432x288 with 2 Axes>"
      ]
     },
     "metadata": {
      "needs_background": "light"
     },
     "output_type": "display_data"
    }
   ],
   "source": [
    "### 상관관계도\n",
    "data2 = data[['sepal length','sepal width','petal length','petal width']]\n",
    "### corr() : 상관계수\n",
    "sns.heatmap(data2.corr(), annot = True, cmap = 'YlGnBu', linewidth = 0.1)\n",
    "plt.show()"
   ]
  },
  {
   "cell_type": "code",
   "execution_count": 68,
   "id": "58e61923-a218-41c0-beef-34cd8c505391",
   "metadata": {},
   "outputs": [
    {
     "data": {
      "image/png": "[encoded data removed]",
      "text/plain": [
       "<Figure size 720x648 with 2 Axes>"
      ]
     },
     "metadata": {
      "needs_background": "light"
     },
     "output_type": "display_data"
    }
   ],
   "source": [
    "fig, ax = plt.subplots(1, 1, figsize=(10, 9))\n",
    "\n",
    "mask = np.zeros_like(data2.corr())\n",
    "mask[np.triu_indices_from(mask)] = True\n",
    "\n",
    "sns.heatmap(data2.corr(), annot=True, cmap='YlGnBu', linewidth=0.1, mask=mask)\n",
    "plt.show()"
   ]
  },
  {
   "cell_type": "code",
   "execution_count": null,
   "id": "83233518-fc6e-4a2b-996b-3b5345722868",
   "metadata": {},
   "outputs": [],
   "source": []
  }
 ],
 "metadata": {
  "kernelspec": {
   "display_name": "Python 3 (ipykernel)",
   "language": "python",
   "name": "python3"
  },
  "language_info": {
   "codemirror_mode": {
    "name": "ipython",
    "version": 3
   },
   "file_extension": ".py",
   "mimetype": "text/x-python",
   "name": "python",
   "nbconvert_exporter": "python",
   "pygments_lexer": "ipython3",
   "version": "3.9.12"
  }
 },
 "nbformat": 4,
 "nbformat_minor": 5
}
